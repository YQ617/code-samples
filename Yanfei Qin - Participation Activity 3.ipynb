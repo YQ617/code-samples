{
 "cells": [
  {
   "cell_type": "markdown",
   "id": "439d78ca",
   "metadata": {},
   "source": [
    "(Post-class) Problem-1: Collatz sequence"
   ]
  },
  {
   "cell_type": "code",
   "execution_count": 66,
   "id": "18394cd5",
   "metadata": {},
   "outputs": [],
   "source": [
    "# Write a function named collatz() that has one parameter named number.\n",
    "# If number is even, then collatz() should print number // 2 and return this value. \n",
    "# If number is odd, then collatz() should print and return 3 * number + 1.\n",
    "def collatz(number):\n",
    "    if number%2==0:\n",
    "        return number//2\n",
    "    elif number%2==1:\n",
    "        return 3*number+1\n",
    "# Then write a program that lets the user type in an integer and \n",
    "# that keeps calling collatz() on that number until the function returns the value 1.\n",
    "# Remember to convert the return value from input() to an integer with the int() function; otherwise, it will be a string value.\n",
    "# Hint: An integer number is even if number%2==0, and it’s odd if number%2==1."
   ]
  },
  {
   "cell_type": "code",
   "execution_count": 71,
   "id": "d77e6160",
   "metadata": {},
   "outputs": [
    {
     "name": "stdout",
     "output_type": "stream",
     "text": [
      "Enter the Number: 3\n",
      "3\n",
      "10\n",
      "5\n",
      "16\n",
      "8\n",
      "4\n",
      "2\n",
      "1\n"
     ]
    }
   ],
   "source": [
    "def a():\n",
    "    number = int(input(\"Enter the Number: \"))\n",
    "    if number != 1:\n",
    "        print(number)\n",
    "        print(collatz(number))\n",
    "        global number2\n",
    "        number2 = collatz(number)\n",
    "        b()\n",
    "    else:\n",
    "        return number\n",
    "    \n",
    "def b():\n",
    "    if number2 != 1:\n",
    "        print(collatz(number2))\n",
    "        global number3\n",
    "        number3 = collatz(number2)\n",
    "        c()\n",
    "    else:\n",
    "        return number2\n",
    "\n",
    "def c():\n",
    "    if number3 != 1:\n",
    "        print(collatz(number3))\n",
    "        global number4 \n",
    "        number4 = collatz(number3)\n",
    "        d()\n",
    "    else:\n",
    "        return number3\n",
    "    \n",
    "def d():\n",
    "    if number4 != 1:\n",
    "        print(collatz(number4))\n",
    "        global number2\n",
    "        number2 = collatz(number4)\n",
    "        b()\n",
    "    else:\n",
    "        return number4\n",
    "\n",
    "    \n",
    "a()"
   ]
  },
  {
   "cell_type": "markdown",
   "id": "4c38fef8",
   "metadata": {},
   "source": [
    "(Post-class) Problem-3: Fibonacci decomposition"
   ]
  },
  {
   "cell_type": "code",
   "execution_count": 106,
   "id": "ba0c9f11",
   "metadata": {},
   "outputs": [
    {
     "data": {
      "text/plain": [
       "21"
      ]
     },
     "execution_count": 106,
     "metadata": {},
     "output_type": "execute_result"
    }
   ],
   "source": [
    "# You will write code to generate decomposition of any integer as a sum of Fibonacci numbers. You will use a greedy algorithm to achieve this.\n",
    "# Greedy algorithm:\n",
    "# 1. Give an input integer, say n, first find the largest Fibonacci number less than or equal to n.\n",
    "# For example, if n=31 then largest Fibonacci number less than or equal 31 is r=21. Store this\n",
    "# number in a list. You should write a function to do this. The function should take as input n\n",
    "# integer and returns the largest Fibonacci number less than or equal to this integer.\n",
    "\n",
    "def FibGreedy(n):\n",
    "    fib = [0, 1]\n",
    "    next_position = 2\n",
    "    next_fib = 1\n",
    "    while next_fib <=n :\n",
    "        fib.append(next_fib)\n",
    "        next_position += 1\n",
    "        next_fib = fib[next_position-1] + fib[next_position-2]\n",
    "        r = fib[-1]\n",
    "    return r\n",
    "        \n",
    "FibGreedy(31)"
   ]
  },
  {
   "cell_type": "code",
   "execution_count": 117,
   "id": "55d44a7c",
   "metadata": {},
   "outputs": [
    {
     "name": "stdout",
     "output_type": "stream",
     "text": [
      "What number? 31\n",
      "The Fibonacci Decomposition of 31 is 21+8+2\n"
     ]
    }
   ],
   "source": [
    "# 2. Next take the difference n-r. For the example you will get 31-21 = 10. If this difference is 0,\n",
    "# STOP and go to step 4, else go to step 3.\n",
    "# 3. Repeat step-1 with n=n-r.  Basically, you need to call the function defined in step-1 but with\n",
    "# new value of n. You will also put all the numbers returned from your function in a list.\n",
    "# 4. The numbers in the list constitute the decomposition of input integer. Print the output like\n",
    "# (if the input is 31): “ The Fibonacci decomposition of 31 is 21+8+2”\n",
    "# This is just an example output and your code should work for any integer value as input.\n",
    "  \n",
    "alist=[]\n",
    "\n",
    "def FibDecom(number):\n",
    "    alist.append(str(FibGreedy(number)))\n",
    "    if number-FibGreedy(number) > 0:\n",
    "        FibDecom(number-FibGreedy(number))\n",
    "\n",
    "number=int(input('What number? '))\n",
    "FibDecom(number)\n",
    "\n",
    "print('The Fibonacci Decomposition of '+str(number)+' is '+'+'.join(alist))"
   ]
  },
  {
   "cell_type": "markdown",
   "id": "08b771be",
   "metadata": {},
   "source": [
    "(In-class) Problem-4: Local and global scope of variables"
   ]
  },
  {
   "cell_type": "code",
   "execution_count": 75,
   "id": "2cf056f8",
   "metadata": {},
   "outputs": [
    {
     "name": "stdout",
     "output_type": "stream",
     "text": [
      "specify a language: choices are English, French, or German\n",
      "German\n",
      "Hallo Welt!\n"
     ]
    }
   ],
   "source": [
    "# Look at the code in the notebook under Problem-4. The variable greeting is assigned  “Hello” and language is assigned “English”.\n",
    "# We want to have this program take as input a language (English, French or German) and print out the greetings as:\n",
    "# • Hello World!    (if language specified is English) \n",
    "# • Bonjour Le Monde! (if language specified is French) \n",
    "# • Hallo Welt! (if language specified is German)\n",
    "# I assign the input language to variable new_language. \n",
    "# I have functions change_greeting() and greeting_world() which should\n",
    "# take as argument the language specified through input() and change the greeting accordingly. \n",
    "# However, when I run this code I always get the same greeting “Hello World!”, no matter what language I specify as input.\n",
    "# Your task is to correct the code so that we get the expected output for each language input. \n",
    "# You cannot add any new function, remove any existing function, or change any variables. You only need to correct this code by calling the\n",
    "# functions with right arguments and by changing the variables in the right scope.\n",
    "\n",
    "greeting = \"Hello\"\n",
    "language = \"English\"\n",
    "\n",
    "def change_greeting(new_language):\n",
    "    global language\n",
    "    language = new_language\n",
    "    global greeting\n",
    "    if (language == 'French'):\n",
    "        greeting = 'Bonjour'\n",
    "    elif (language == 'German'):\n",
    "        greeting = 'Hallo'\n",
    "    else: \n",
    "        greeting = \"Hi\"\n",
    "    \n",
    "def greeting_world(language):\n",
    "    if(language=='French'):\n",
    "        world = \"Le Monde!\"\n",
    "    elif (language==\"German\"):  \n",
    "        world = \"Welt!\"\n",
    "    else: \n",
    "        world = \"World\"\n",
    "    print(greeting, world)\n",
    "\n",
    "print(\"specify a language: choices are English, French, or German\")\n",
    "new_language = input()\n",
    "change_greeting(new_language)\n",
    "greeting_world(language)"
   ]
  },
  {
   "cell_type": "markdown",
   "id": "790abd6e",
   "metadata": {},
   "source": [
    "(In-class) Problem-5: Zig-zag pattern generation"
   ]
  },
  {
   "cell_type": "code",
   "execution_count": 110,
   "id": "a9b622cd",
   "metadata": {},
   "outputs": [
    {
     "name": "stdout",
     "output_type": "stream",
     "text": [
      "******\n",
      " ******\n",
      "  ******\n",
      "   ******\n",
      "    ******\n",
      "     ******\n",
      "      ******\n",
      "       ******\n",
      "        ******\n",
      "         ******\n",
      "          ******\n",
      "           ******\n",
      "            ******\n",
      "             ******\n",
      "              ******\n",
      "               ******\n",
      "                ******\n",
      "                 ******\n",
      "                  ******\n",
      "                   ******\n",
      "                    ******\n",
      "                   ******\n",
      "                  ******\n",
      "                 ******\n",
      "                ******\n",
      "               ******\n",
      "              ******\n",
      "             ******\n",
      "            ******\n",
      "           ******\n",
      "          ******\n",
      "         ******\n",
      "        ******\n",
      "       ******\n",
      "      ******\n",
      "     ******\n",
      "    ******\n",
      "   ******\n",
      "  ******\n",
      " ******\n",
      "******\n",
      " ******\n",
      "  ******\n",
      "   ******\n",
      "    ******\n"
     ]
    },
    {
     "ename": "KeyboardInterrupt",
     "evalue": "",
     "output_type": "error",
     "traceback": [
      "\u001b[0;31m---------------------------------------------------------------------------\u001b[0m",
      "\u001b[0;31mKeyboardInterrupt\u001b[0m                         Traceback (most recent call last)",
      "\u001b[0;32m/var/folders/jn/p_8dd6_s3clgb3c261hvcmvc0000gn/T/ipykernel_1324/2956956660.py\u001b[0m in \u001b[0;36m<module>\u001b[0;34m\u001b[0m\n\u001b[1;32m     23\u001b[0m                 \u001b[0mindentIncreasing\u001b[0m \u001b[0;34m=\u001b[0m \u001b[0;32mTrue\u001b[0m\u001b[0;34m\u001b[0m\u001b[0;34m\u001b[0m\u001b[0m\n\u001b[1;32m     24\u001b[0m \u001b[0;34m\u001b[0m\u001b[0m\n\u001b[0;32m---> 25\u001b[0;31m \u001b[0mgenerate\u001b[0m\u001b[0;34m(\u001b[0m\u001b[0mindentIncreasing\u001b[0m\u001b[0;34m)\u001b[0m\u001b[0;34m\u001b[0m\u001b[0;34m\u001b[0m\u001b[0m\n\u001b[0m",
      "\u001b[0;32m/var/folders/jn/p_8dd6_s3clgb3c261hvcmvc0000gn/T/ipykernel_1324/2956956660.py\u001b[0m in \u001b[0;36mgenerate\u001b[0;34m(indentIncreasing)\u001b[0m\n\u001b[1;32m     12\u001b[0m         \u001b[0mprint\u001b[0m\u001b[0;34m(\u001b[0m\u001b[0;34m' '\u001b[0m \u001b[0;34m*\u001b[0m \u001b[0mindent\u001b[0m\u001b[0;34m,\u001b[0m \u001b[0mend\u001b[0m\u001b[0;34m=\u001b[0m\u001b[0;34m''\u001b[0m\u001b[0;34m)\u001b[0m\u001b[0;34m\u001b[0m\u001b[0;34m\u001b[0m\u001b[0m\n\u001b[1;32m     13\u001b[0m         \u001b[0mprint\u001b[0m\u001b[0;34m(\u001b[0m\u001b[0;34m'******'\u001b[0m\u001b[0;34m)\u001b[0m\u001b[0;34m\u001b[0m\u001b[0;34m\u001b[0m\u001b[0m\n\u001b[0;32m---> 14\u001b[0;31m         \u001b[0mtime\u001b[0m\u001b[0;34m.\u001b[0m\u001b[0msleep\u001b[0m\u001b[0;34m(\u001b[0m\u001b[0;36m0.5\u001b[0m\u001b[0;34m)\u001b[0m\u001b[0;34m\u001b[0m\u001b[0;34m\u001b[0m\u001b[0m\n\u001b[0m\u001b[1;32m     15\u001b[0m \u001b[0;34m\u001b[0m\u001b[0m\n\u001b[1;32m     16\u001b[0m         \u001b[0;32mif\u001b[0m \u001b[0mindentIncreasing\u001b[0m\u001b[0;34m:\u001b[0m\u001b[0;34m\u001b[0m\u001b[0;34m\u001b[0m\u001b[0m\n",
      "\u001b[0;31mKeyboardInterrupt\u001b[0m: "
     ]
    }
   ],
   "source": [
    "# Look at the zig-zag pattern generation code in the colab. The code is also explained in Sweigart book on Page 72-74.\n",
    "# Rewrite the code in a modular manner by defining a function generate() that \n",
    "# takes as input the Boolean variable indentIncreasing and prints the pattern. \n",
    "\n",
    "import time\n",
    "indent = 0\n",
    "indentIncreasing = True\n",
    "\n",
    "def generate(indentIncreasing):\n",
    "    while True:\n",
    "        global indent\n",
    "        print(' ' * indent, end='')\n",
    "        print('******')\n",
    "        time.sleep(0.5)\n",
    "        \n",
    "        if indentIncreasing:\n",
    "            indent = indent + 1\n",
    "            if indent == 20:\n",
    "                indentIncreasing = False\n",
    "        else:\n",
    "            indent = indent - 1\n",
    "            if indent == 0:\n",
    "                indentIncreasing = True\n",
    "\n",
    "generate(indentIncreasing)"
   ]
  },
  {
   "cell_type": "code",
   "execution_count": 289,
   "id": "1ecc0bd1",
   "metadata": {},
   "outputs": [
    {
     "name": "stdout",
     "output_type": "stream",
     "text": [
      "    ******\n",
      "            $$$$$$\n",
      "                 $$$$$$\n",
      " $$$$$$\n",
      "         $$$$$$\n",
      "         $$$$$$\n",
      "                             $$$$$$\n",
      "                               $$$$$$\n",
      "                 $$$$$$\n",
      "                        $$$$$$\n",
      "                                   $$$$$$\n",
      "                                         $$$$$$\n",
      "                                        $$$$$$\n",
      "                       $$$$$$\n",
      "                 $$$$$$\n",
      "       $$$$$$\n",
      "      ******\n",
      "                       ******\n",
      "        ******\n",
      "               ******\n",
      "      ******\n",
      "            $$$$$$\n",
      "                            $$$$$$\n",
      "               $$$$$$\n",
      "                                 $$$$$$\n",
      "                             $$$$$$\n",
      "                        $$$$$$\n",
      "           $$$$$$\n",
      "        ******\n",
      "                    ******\n",
      "                               ******\n",
      "                         ******\n",
      "                                   ******\n",
      "                                            ******\n",
      "                                             ******\n",
      "                             ******\n",
      "                              ******\n",
      "                                             ******\n",
      "                              ******\n"
     ]
    },
    {
     "ename": "KeyboardInterrupt",
     "evalue": "",
     "output_type": "error",
     "traceback": [
      "\u001b[0;31m---------------------------------------------------------------------------\u001b[0m",
      "\u001b[0;31mKeyboardInterrupt\u001b[0m                         Traceback (most recent call last)",
      "\u001b[0;32m/var/folders/jn/p_8dd6_s3clgb3c261hvcmvc0000gn/T/ipykernel_1324/593301820.py\u001b[0m in \u001b[0;36m<module>\u001b[0;34m\u001b[0m\n\u001b[1;32m     32\u001b[0m             \u001b[0mtime\u001b[0m\u001b[0;34m.\u001b[0m\u001b[0msleep\u001b[0m\u001b[0;34m(\u001b[0m\u001b[0;36m0.5\u001b[0m\u001b[0;34m)\u001b[0m\u001b[0;34m\u001b[0m\u001b[0;34m\u001b[0m\u001b[0m\n\u001b[1;32m     33\u001b[0m \u001b[0;34m\u001b[0m\u001b[0m\n\u001b[0;32m---> 34\u001b[0;31m \u001b[0mgenerate_new\u001b[0m\u001b[0;34m(\u001b[0m\u001b[0mindentIncreasing\u001b[0m\u001b[0;34m)\u001b[0m\u001b[0;34m\u001b[0m\u001b[0;34m\u001b[0m\u001b[0m\n\u001b[0m",
      "\u001b[0;32m/var/folders/jn/p_8dd6_s3clgb3c261hvcmvc0000gn/T/ipykernel_1324/593301820.py\u001b[0m in \u001b[0;36mgenerate_new\u001b[0;34m(indentIncreasing)\u001b[0m\n\u001b[1;32m     25\u001b[0m             \u001b[0mprint\u001b[0m\u001b[0;34m(\u001b[0m\u001b[0;34m' '\u001b[0m \u001b[0;34m*\u001b[0m \u001b[0mindent\u001b[0m\u001b[0;34m,\u001b[0m \u001b[0mend\u001b[0m\u001b[0;34m=\u001b[0m\u001b[0;34m''\u001b[0m\u001b[0;34m)\u001b[0m\u001b[0;34m\u001b[0m\u001b[0;34m\u001b[0m\u001b[0m\n\u001b[1;32m     26\u001b[0m             \u001b[0mprint\u001b[0m\u001b[0;34m(\u001b[0m\u001b[0;34m'******'\u001b[0m\u001b[0;34m)\u001b[0m\u001b[0;34m\u001b[0m\u001b[0;34m\u001b[0m\u001b[0m\n\u001b[0;32m---> 27\u001b[0;31m             \u001b[0mtime\u001b[0m\u001b[0;34m.\u001b[0m\u001b[0msleep\u001b[0m\u001b[0;34m(\u001b[0m\u001b[0;36m0.5\u001b[0m\u001b[0;34m)\u001b[0m\u001b[0;34m\u001b[0m\u001b[0;34m\u001b[0m\u001b[0m\n\u001b[0m\u001b[1;32m     28\u001b[0m         \u001b[0;32melif\u001b[0m \u001b[0msum\u001b[0m \u001b[0;34m<\u001b[0m \u001b[0;36m0\u001b[0m\u001b[0;34m:\u001b[0m\u001b[0;34m\u001b[0m\u001b[0;34m\u001b[0m\u001b[0m\n\u001b[1;32m     29\u001b[0m             \u001b[0mindent\u001b[0m \u001b[0;34m=\u001b[0m \u001b[0;34m-\u001b[0m\u001b[0msum\u001b[0m\u001b[0;34m\u001b[0m\u001b[0;34m\u001b[0m\u001b[0m\n",
      "\u001b[0;31mKeyboardInterrupt\u001b[0m: "
     ]
    }
   ],
   "source": [
    "# Next we will change the logic to generate the pattern. \n",
    "# At each step we will generate a random number between -20 and 20\n",
    "# and maintain a sum of all random numbers generated from the beginning.\n",
    "# If the sum is positive we want to print the same pattern as in the original code \n",
    "# but with indent equal to the sum.\n",
    "# If the sum is negative we want to print a different pattern \n",
    "# (you can choose any pattern you want to print, e.g., ‘$$$$$$’ or ‘@@@@@’) \n",
    "# with indent equal to the negative of the sum. You need to again write this code using a function. \n",
    "# You will define a function generate_new() that takes as input the sum (of random numbers)\n",
    "# and prints the appropriate pattern at each step. The logic for printing should be coded in this function.\n",
    "\n",
    "import random\n",
    "number_list=list(range(-20,20))\n",
    "sum = 0\n",
    "indent = 0\n",
    "indentIncreasing = True\n",
    "\n",
    "def generate_new(indentIncreasing):\n",
    "    while True:\n",
    "        n = random.choice(number_list)\n",
    "        global sum\n",
    "        sum = sum + n\n",
    "        if sum >= 0:\n",
    "            indent = sum\n",
    "            print(' ' * indent, end='')\n",
    "            print('******')\n",
    "            time.sleep(0.5)\n",
    "        elif sum < 0:\n",
    "            indent = -sum\n",
    "            print(' ' * indent, end='')\n",
    "            print('$$$$$$')\n",
    "            time.sleep(0.5)\n",
    "\n",
    "generate_new(indentIncreasing)"
   ]
  }
 ],
 "metadata": {
  "kernelspec": {
   "display_name": "Python 3 (ipykernel)",
   "language": "python",
   "name": "python3"
  },
  "language_info": {
   "codemirror_mode": {
    "name": "ipython",
    "version": 3
   },
   "file_extension": ".py",
   "mimetype": "text/x-python",
   "name": "python",
   "nbconvert_exporter": "python",
   "pygments_lexer": "ipython3",
   "version": "3.9.7"
  }
 },
 "nbformat": 4,
 "nbformat_minor": 5
}
