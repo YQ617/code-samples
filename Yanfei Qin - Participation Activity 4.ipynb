{
 "cells": [
  {
   "cell_type": "markdown",
   "id": "f602bc57",
   "metadata": {},
   "source": [
    "# Participation Activity 4"
   ]
  },
  {
   "cell_type": "markdown",
   "id": "8fd289b1",
   "metadata": {},
   "source": [
    "### PennKey: yfqin\n",
    "### Penn ID Number: 51386260"
   ]
  },
  {
   "cell_type": "markdown",
   "id": "525618d2",
   "metadata": {},
   "source": [
    "## Activity 1: Review of Dictionary"
   ]
  },
  {
   "cell_type": "markdown",
   "id": "0f5c605d",
   "metadata": {},
   "source": [
    "#### Q: What is the main difference between a dictionary and a list?\n",
    "A: A dictionary is unordered, while a list has its order."
   ]
  },
  {
   "cell_type": "markdown",
   "id": "23fd2fba",
   "metadata": {},
   "source": [
    "#### Q: What happens if you try to access spam[‘foo’] if spam is {‘bar’:100}?\n",
    "A: There will be a Key Error. (KeyError:'foo')"
   ]
  },
  {
   "cell_type": "markdown",
   "id": "1300ccd4",
   "metadata": {},
   "source": [
    "#### Q: If a dictionary is stored in spam, what is the difference between the expression ‘cat’ in spam and ‘cat’ in spam.keys()?\n",
    "A: There is no difference, they both check if 'cat' exists as a key in the dictionary."
   ]
  },
  {
   "cell_type": "markdown",
   "id": "3cb2b9ee",
   "metadata": {},
   "source": [
    "#### Q: If a dictionary is stored in spam, what is the difference between the expression ‘cat’ in spam and ‘cat’ in spam.values()?\n",
    "A: 'cat' in spam checks if 'cat' is a key in this dictionary, but 'cat' in spam.values() checks if there is 'cat' stored as the value for one of the keys in spam."
   ]
  },
  {
   "cell_type": "markdown",
   "id": "d7419ed6",
   "metadata": {},
   "source": [
    "#### Q: What is a shortcut for the following code?"
   ]
  },
  {
   "cell_type": "code",
   "execution_count": 2,
   "id": "00c48061",
   "metadata": {},
   "outputs": [
    {
     "data": {
      "text/plain": [
       "{'color': 'black'}"
      ]
     },
     "execution_count": 2,
     "metadata": {},
     "output_type": "execute_result"
    }
   ],
   "source": [
    "spam = {}\n",
    "if 'color' not in spam:\n",
    "    spam['color'] = 'black'\n",
    "spam"
   ]
  },
  {
   "cell_type": "code",
   "execution_count": 3,
   "id": "b89c8f7f",
   "metadata": {},
   "outputs": [
    {
     "data": {
      "text/plain": [
       "{'color': 'black'}"
      ]
     },
     "execution_count": 3,
     "metadata": {},
     "output_type": "execute_result"
    }
   ],
   "source": [
    "# A:\n",
    "spam = {}\n",
    "spam.setdefault('color','black')\n",
    "spam"
   ]
  },
  {
   "cell_type": "markdown",
   "id": "81436007",
   "metadata": {},
   "source": [
    "## Activity 2: Tic-tac-toe tournament\n",
    "The tic-tac-toe code discussed in the class is incomplete. It just takes the user input (‘X’ or ‘O’) and updates the board. We need to also check when the game is over and declare if there is winner or the game is a draw. Let player-1 inputs ‘X’ at their turn and player-2 inputs ‘O’.\n",
    "1. Add a new function checkboard() that takes as input the current state of the board and checks if the game is over and returns an outcome. There are three possible outcomes returned by this function: ‘player-1’, ‘player-2’, ‘draw’. The return value is ‘player-1’ if player-1 wins, ‘player-2’ if player-2 wins, ‘draw’ if none of them wins and the board is full.\n"
   ]
  },
  {
   "cell_type": "code",
   "execution_count": 4,
   "id": "f780d68b",
   "metadata": {},
   "outputs": [
    {
     "name": "stdout",
     "output_type": "stream",
     "text": [
      " | | \n",
      "-+-+-\n",
      " | | \n",
      "-+-+-\n",
      " | | \n",
      "Turn for X. Move on which space?\n",
      "top-L\n",
      "X| | \n",
      "-+-+-\n",
      " | | \n",
      "-+-+-\n",
      " | | \n",
      "Turn for O. Move on which space?\n",
      "mid-L\n",
      "X| | \n",
      "-+-+-\n",
      "O| | \n",
      "-+-+-\n",
      " | | \n",
      "Turn for X. Move on which space?\n",
      "top-M\n",
      "X|X| \n",
      "-+-+-\n",
      "O| | \n",
      "-+-+-\n",
      " | | \n",
      "Turn for O. Move on which space?\n",
      "mid-M\n",
      "X|X| \n",
      "-+-+-\n",
      "O|O| \n",
      "-+-+-\n",
      " | | \n",
      "Turn for X. Move on which space?\n",
      "top-R\n",
      "Player-1\n",
      "X|X|X\n",
      "-+-+-\n",
      "O|O| \n",
      "-+-+-\n",
      " | | \n"
     ]
    },
    {
     "ename": "SystemExit",
     "evalue": "",
     "output_type": "error",
     "traceback": [
      "An exception has occurred, use %tb to see the full traceback.\n",
      "\u001b[0;31mSystemExit\u001b[0m\n"
     ]
    },
    {
     "name": "stderr",
     "output_type": "stream",
     "text": [
      "/Library/Frameworks/Python.framework/Versions/3.9/lib/python3.9/site-packages/IPython/core/interactiveshell.py:3449: UserWarning: To exit: use 'exit', 'quit', or Ctrl-D.\n",
      "  warn(\"To exit: use 'exit', 'quit', or Ctrl-D.\", stacklevel=1)\n"
     ]
    }
   ],
   "source": [
    "theBoard = {'top-L': ' ', 'top-M': ' ', 'top-R': ' ', 'mid-L': ' ', 'mid-M':\n",
    "' ', 'mid-R': ' ', 'low-L': ' ', 'low-M': ' ', 'low-R': ' '}\n",
    "\n",
    "import sys\n",
    "\n",
    "def checkboard(theBoard):\n",
    "    if theBoard['top-L'] == 'X' and theBoard['top-M'] == 'X' and theBoard['top-R'] == 'X':\n",
    "        print('Player-1')\n",
    "        printBoard(theBoard)\n",
    "        sys.exit()\n",
    "    elif theBoard['top-L'] == 'O' and theBoard['top-M'] == 'O' and theBoard['top-R'] == 'O':\n",
    "        print('Player-2')\n",
    "        printBoard(theBoard)\n",
    "        sys.exit()\n",
    "    elif theBoard['mid-L'] == 'X' and theBoard['mid-M'] == 'X' and theBoard['mid-R'] == 'X':\n",
    "        print('Player-1')\n",
    "        printBoard(theBoard)\n",
    "        sys.exit()\n",
    "    elif theBoard['mid-L'] == 'O' and theBoard['mid-M'] == 'O' and theBoard['mid-R'] == 'O':\n",
    "        print('Player-2')\n",
    "        printBoard(theBoard)\n",
    "        sys.exit()\n",
    "    elif theBoard['low-L'] == 'X' and theBoard['low-M'] == 'X' and theBoard['low-R'] == 'X':\n",
    "        print('Player-1')\n",
    "        printBoard(theBoard)\n",
    "        sys.exit()\n",
    "    elif theBoard['low-L'] == 'O' and theBoard['low-M'] == 'O' and theBoard['low-R'] == 'O':\n",
    "        print('Player-2')\n",
    "        printBoard(theBoard)\n",
    "        sys.exit()\n",
    "    elif theBoard['top-L'] == 'X' and theBoard['mid-L'] == 'X' and theBoard['low-L'] == 'X':\n",
    "        print('Player-1')\n",
    "        printBoard(theBoard)\n",
    "        sys.exit()\n",
    "    elif theBoard['top-L'] == 'O' and theBoard['mid-L'] == 'O' and theBoard['low-L'] == 'O':\n",
    "        print('Player-2')\n",
    "        printBoard(theBoard)\n",
    "        sys.exit()\n",
    "    elif theBoard['top-M'] == 'X' and theBoard['mid-M'] == 'X' and theBoard['low-M'] == 'X':\n",
    "        print('Player-1')\n",
    "        printBoard(theBoard)\n",
    "        sys.exit()\n",
    "    elif theBoard['top-M'] == 'O' and theBoard['mid-M'] == 'O' and theBoard['low-M'] == 'O':\n",
    "        print('Player-2') \n",
    "        printBoard(theBoard)\n",
    "        sys.exit()\n",
    "    elif theBoard['top-R'] == 'X' and theBoard['mid-R'] == 'X' and theBoard['low-R'] == 'X':\n",
    "        print('Player-1')\n",
    "        printBoard(theBoard)\n",
    "        sys.exit()\n",
    "    elif theBoard['top-R'] == 'O' and theBoard['mid-R'] == 'O' and theBoard['low-R'] == 'O':\n",
    "        print('Player-2')\n",
    "        printBoard(theBoard)\n",
    "        sys.exit()\n",
    "    elif theBoard['top-L'] == 'X' and theBoard['mid-M'] == 'X' and theBoard['low-R'] == 'X':\n",
    "        print('Player-1')\n",
    "        printBoard(theBoard)\n",
    "        sys.exit()\n",
    "    elif theBoard['top-L'] == 'O' and theBoard['mid-M'] == 'O' and theBoard['low-R'] == 'O':\n",
    "        print('Player-2')\n",
    "        printBoard(theBoard)\n",
    "        sys.exit()\n",
    "    elif theBoard['top-R'] == 'X' and theBoard['mid-M'] == 'X' and theBoard['low-L'] == 'X':\n",
    "        print('Player-1') \n",
    "        printBoard(theBoard)\n",
    "        sys.exit()\n",
    "    elif theBoard['top-R'] == 'O' and theBoard['mid-M'] == 'O' and theBoard['low-L'] == 'O':\n",
    "        print('Player-2')  \n",
    "        printBoard(theBoard)\n",
    "        sys.exit()\n",
    "    elif (((theBoard['top-L'] == 'X') or (theBoard['top-L'] == 'O')) \n",
    "          and ((theBoard['mid-L'] == 'X') or (theBoard['mid-L'] == 'O'))\n",
    "          and ((theBoard['low-L'] == 'X') or (theBoard['low-L'] == 'O')) \n",
    "          and ((theBoard['top-M'] == 'X') or (theBoard['top-M'] == 'O')) \n",
    "          and ((theBoard['mid-M'] == 'X') or (theBoard['mid-M'] == 'O'))\n",
    "          and ((theBoard['low-M'] == 'X') or (theBoard['low-M'] == 'O')) \n",
    "          and ((theBoard['top-R'] == 'X') or (theBoard['top-R'] == 'O')) \n",
    "          and ((theBoard['mid-R'] == 'X') or (theBoard['mid-R'] == 'O'))\n",
    "          and ((theBoard['low-R'] == 'X') or (theBoard['low-R'] == 'O'))):\n",
    "        print('draw')\n",
    "\n",
    "def printBoard(board):\n",
    "    print(board['top-L'] + '|' + board['top-M'] + '|' + board['top-R'])\n",
    "    print('-+-+-')\n",
    "    print(board['mid-L'] + '|' + board['mid-M'] + '|' + board['mid-R'])\n",
    "    print('-+-+-')\n",
    "    print(board['low-L'] + '|' + board['low-M'] + '|' + board['low-R'])\n",
    "    \n",
    "turn = 'X'\n",
    "\n",
    "for i in range(9):\n",
    "    printBoard(theBoard)\n",
    "    print('Turn for ' + turn + '. Move on which space?')\n",
    "    move = input()\n",
    "    theBoard[move] = turn\n",
    "    if turn == 'X':\n",
    "        turn = 'O'   \n",
    "    else:\n",
    "        turn = 'X'\n",
    "    checkboard(theBoard)\n",
    "        \n",
    "printBoard(theBoard)"
   ]
  },
  {
   "cell_type": "markdown",
   "id": "930db963",
   "metadata": {},
   "source": [
    "## Activity 4: Text processing using list comprehension\n",
    "For all the problems below, your code should take a sentence as an input (using input() function) and make use of list comprehension.\n",
    "\n",
    "• Given a sentence, calculate the mean length of the words in a sentence."
   ]
  },
  {
   "cell_type": "code",
   "execution_count": 14,
   "id": "4f62f01d",
   "metadata": {},
   "outputs": [
    {
     "name": "stdout",
     "output_type": "stream",
     "text": [
      "Input a sentence: Hello my name is Yanfei\n",
      "The mean length of the words in the sentence is 3.8\n"
     ]
    }
   ],
   "source": [
    "sentence = input('Input a sentence: ')\n",
    "def average(num):\n",
    "    return sum(num)/len(num)\n",
    "avg = average([len(word) for word in sentence.split(' ')]) \n",
    "print('The mean length of the words in the sentence is '+str(avg))"
   ]
  },
  {
   "cell_type": "markdown",
   "id": "a45cb51d",
   "metadata": {},
   "source": [
    "• Given a sentence, create another sentence by removing all the words that are of length 3 or less."
   ]
  },
  {
   "cell_type": "code",
   "execution_count": 19,
   "id": "f9cfc2c7",
   "metadata": {},
   "outputs": [
    {
     "name": "stdout",
     "output_type": "stream",
     "text": [
      "Input a sentence: Hello my name is Yanfei\n",
      "The new sentence is Hello name Yanfei\n"
     ]
    }
   ],
   "source": [
    "sentence = input('Input a sentence: ')\n",
    "new_sentence = [word for word in sentence.split(' ') if len(word) > 3]\n",
    "print('The new sentence is '+ ' '.join(new_sentence))"
   ]
  },
  {
   "cell_type": "markdown",
   "id": "c71dd36f",
   "metadata": {},
   "source": [
    "• Given a sentence, create another sentence by removing all vowels from words in the sentence."
   ]
  },
  {
   "cell_type": "code",
   "execution_count": 31,
   "id": "5847c54e",
   "metadata": {},
   "outputs": [
    {
     "name": "stdout",
     "output_type": "stream",
     "text": [
      "Input a sentence: Hello my name is Yanfei\n",
      "The new sentence is Hll my nm s Ynf\n"
     ]
    }
   ],
   "source": [
    "vowels = ['A', 'a', 'E', 'e', 'I', 'i', 'O', 'o', 'U', 'u']\n",
    "sentence = input('Input a sentence: ')\n",
    "new_sentence = [character for character in sentence if character not in vowels]\n",
    "print('The new sentence is '+ ''.join(new_sentence))"
   ]
  },
  {
   "cell_type": "markdown",
   "id": "e1578dc5",
   "metadata": {},
   "source": [
    "## Activity 5: Class record using dictionary comprehension\n",
    "For a given class let the student record is maintained as a dictionary. Each record has student id as the key and value is a list containing name, age, grade, marks. An example of such dictionary is:"
   ]
  },
  {
   "cell_type": "code",
   "execution_count": 32,
   "id": "7d31cc72",
   "metadata": {},
   "outputs": [],
   "source": [
    "student_record = {2314:['John',23,'B',75],2315:['Michael',24,'A',95],\n",
    "                 3456:['Eva',30,'A',90],2978:['Ali',26,'C',65],4435:['Zhen',35,'B',77]}"
   ]
  },
  {
   "cell_type": "markdown",
   "id": "f6ff85ac",
   "metadata": {},
   "source": [
    "• Using dictionary comprehension create another dictionary where key is student name and value is marks."
   ]
  },
  {
   "cell_type": "code",
   "execution_count": 33,
   "id": "43ef58c5",
   "metadata": {},
   "outputs": [
    {
     "data": {
      "text/plain": [
       "{2314: ['John', 23, 'B', 75],\n",
       " 2315: ['Michael', 24, 'A', 95],\n",
       " 3456: ['Eva', 30, 'A', 90],\n",
       " 2978: ['Ali', 26, 'C', 65],\n",
       " 4435: ['Zhen', 35, 'B', 77]}"
      ]
     },
     "execution_count": 33,
     "metadata": {},
     "output_type": "execute_result"
    }
   ],
   "source": [
    "student_record"
   ]
  },
  {
   "cell_type": "code",
   "execution_count": 41,
   "id": "b79f5df6",
   "metadata": {},
   "outputs": [
    {
     "data": {
      "text/plain": [
       "dict_items([(2314, ['John', 23, 'B', 75]), (2315, ['Michael', 24, 'A', 95]), (3456, ['Eva', 30, 'A', 90]), (2978, ['Ali', 26, 'C', 65]), (4435, ['Zhen', 35, 'B', 77])])"
      ]
     },
     "execution_count": 41,
     "metadata": {},
     "output_type": "execute_result"
    }
   ],
   "source": [
    "student_record.items()"
   ]
  },
  {
   "cell_type": "code",
   "execution_count": 46,
   "id": "49f96259",
   "metadata": {},
   "outputs": [
    {
     "data": {
      "text/plain": [
       "{'John': 75, 'Michael': 95, 'Eva': 90, 'Ali': 65, 'Zhen': 77}"
      ]
     },
     "execution_count": 46,
     "metadata": {},
     "output_type": "execute_result"
    }
   ],
   "source": [
    "new_student_record = {value[0]:value[3] for key,value in student_record.items()}\n",
    "new_student_record"
   ]
  },
  {
   "cell_type": "markdown",
   "id": "cac4007c",
   "metadata": {},
   "source": [
    "• Print the highest, lowest, and average marks in the class."
   ]
  },
  {
   "cell_type": "code",
   "execution_count": 61,
   "id": "65577a35",
   "metadata": {},
   "outputs": [
    {
     "name": "stdout",
     "output_type": "stream",
     "text": [
      "The highest mark in the class is 95\n",
      "The lowest mark in the class is 65\n",
      "The average mark in the class is 80.4\n"
     ]
    }
   ],
   "source": [
    "print('The highest mark in the class is ' + str(max(new_student_record.values())))\n",
    "print('The lowest mark in the class is ' + str(min(new_student_record.values())))\n",
    "print('The average mark in the class is ' + str(sum(new_student_record.values())/len(new_student_record.values())))"
   ]
  },
  {
   "cell_type": "markdown",
   "id": "074eed67",
   "metadata": {},
   "source": [
    "• Print the names of all the students who achieved greater than or equal to the average marks."
   ]
  },
  {
   "cell_type": "code",
   "execution_count": 115,
   "id": "a5874014",
   "metadata": {},
   "outputs": [
    {
     "name": "stdout",
     "output_type": "stream",
     "text": [
      "The names of all the students who achieved greater than or equal to the average marks are Michael and Eva\n"
     ]
    }
   ],
   "source": [
    "ave_mark = sum(new_student_record.values())/len(new_student_record.values())\n",
    "name = [k for (k,v) in new_student_record.items() if v >= ave_mark]\n",
    "print('The names of all the students who achieved greater than or equal to the average marks are ' \n",
    "      + str(name[0]+' and '+ str(name[1])))\n",
    "#I tried to use name = {...} here but since there is no key:value it just becomes a set instead of a dictionary,\n",
    "#so I use [] instead, it works.\n",
    "#But please do tell me if there is another way of doing that."
   ]
  },
  {
   "cell_type": "markdown",
   "id": "93a8b283",
   "metadata": {},
   "source": [
    "• Print the names of all the students who achieved less than or equal to 20% of the average marks."
   ]
  },
  {
   "cell_type": "code",
   "execution_count": 125,
   "id": "4fd81a00",
   "metadata": {},
   "outputs": [
    {
     "name": "stdout",
     "output_type": "stream",
     "text": [
      "80.4\n",
      "16.080000000000002\n",
      "[]\n",
      "There is no student who achieved less than or equal to 20% of the average marks.\n"
     ]
    }
   ],
   "source": [
    "ave_mark = sum(new_student_record.values())/len(new_student_record.values())\n",
    "print(ave_mark)\n",
    "print(0.2*ave_mark)\n",
    "name = [k for (k,v) in new_student_record.items() if v <= 0.2*ave_mark]\n",
    "print(name) # the question is odd since 20% of the average marks is 0.2*80.4=16.08.\n",
    "            # there is no such low value for any student.\n",
    "print('There is no student who achieved less than or equal to 20% of the average marks.' )"
   ]
  },
  {
   "cell_type": "markdown",
   "id": "3a537cc8",
   "metadata": {},
   "source": [
    "• Using dictionary comprehension create another dictionary where key is student name and value is the grade. Using this dictionary create the distribution of all grades in the class (i.e., number of students receiving different grades)"
   ]
  },
  {
   "cell_type": "code",
   "execution_count": 135,
   "id": "5dd00f39",
   "metadata": {},
   "outputs": [
    {
     "data": {
      "text/plain": [
       "{'John': 'B', 'Michael': 'A', 'Eva': 'A', 'Ali': 'C', 'Zhen': 'B'}"
      ]
     },
     "execution_count": 135,
     "metadata": {},
     "output_type": "execute_result"
    }
   ],
   "source": [
    "another_student_record = {value[0]:value[2] for key,value in student_record.items()}\n",
    "another_student_record"
   ]
  },
  {
   "cell_type": "code",
   "execution_count": 179,
   "id": "4a4ade18",
   "metadata": {},
   "outputs": [
    {
     "name": "stdout",
     "output_type": "stream",
     "text": [
      "{'A': 2, 'B': 2, 'C': 1}\n",
      "The number of students receiving a grade of A is 2\n",
      "The number of students receiving a grade of B is 2\n",
      "The number of students receiving a grade of C is 1\n"
     ]
    }
   ],
   "source": [
    "distribution_grade = {'A': list(another_student_record.values()).count('A'),\n",
    "                      'B': list(another_student_record.values()).count('B'),\n",
    "                      'C': list(another_student_record.values()).count('C')}\n",
    "print(distribution_grade)\n",
    "for k, v in distribution_grade.items():\n",
    "    print('The number of students receiving a grade of '+ str(k) + ' is '+ str(v))"
   ]
  },
  {
   "cell_type": "markdown",
   "id": "d8c13806",
   "metadata": {},
   "source": [
    "## Activity 6: Temperature scale conversion using dictionary comprehension\n",
    "• Given a dictionary with temperature in Fahrenheit create a new dictionary with keys being the temperature in Celsius and value being ‘warm’ or ‘cold’ if the Fahrenheit temperature value is greater than 65 or lesser than 65. For the Celsius temperature take only the integer value after conversion from Fahrenheit. If the temperature is 65 it is ‘warm’.\n",
    "\n",
    "For example, given\n",
    "fahrenheit = {'t1': 70,'t2': 50,'t3': 20,'t4': 85}\n",
    "your code output should be:\n",
    "celsius = {21: 'warm', 10: 'cold', -6: 'cold', 29: 'warm’}\n",
    "The formula to covert a temperature in Fahrenheit to Celsius is: celsius_temp = (5/9)*(fahrenheit_temp-32)"
   ]
  },
  {
   "cell_type": "code",
   "execution_count": 183,
   "id": "bc7c7d1a",
   "metadata": {},
   "outputs": [
    {
     "data": {
      "text/plain": [
       "{21: 'Warm', 10: 'Cold', -6: 'Cold', 29: 'Warm'}"
      ]
     },
     "execution_count": 183,
     "metadata": {},
     "output_type": "execute_result"
    }
   ],
   "source": [
    "fahrenheit = {'t1': 70,'t2': 50,'t3': 20,'t4': 85}\n",
    "celsius = {int((5/9)*(v-32)):('Warm' if v > 65 else 'Cold') for (k,v) in fahrenheit.items()}\n",
    "celsius"
   ]
  }
 ],
 "metadata": {
  "kernelspec": {
   "display_name": "Python 3 (ipykernel)",
   "language": "python",
   "name": "python3"
  },
  "language_info": {
   "codemirror_mode": {
    "name": "ipython",
    "version": 3
   },
   "file_extension": ".py",
   "mimetype": "text/x-python",
   "name": "python",
   "nbconvert_exporter": "python",
   "pygments_lexer": "ipython3",
   "version": "3.9.7"
  }
 },
 "nbformat": 4,
 "nbformat_minor": 5
}
