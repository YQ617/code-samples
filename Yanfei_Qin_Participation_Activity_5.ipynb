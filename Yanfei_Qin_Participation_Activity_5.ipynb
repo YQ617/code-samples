{
  "nbformat": 4,
  "nbformat_minor": 0,
  "metadata": {
    "colab": {
      "name": "Yanfei Qin - Participation Activity 5.ipynb",
      "provenance": [],
      "collapsed_sections": [],
      "authorship_tag": "ABX9TyOLBL9qPHCw7IMRoUGURqz+",
      "include_colab_link": true
    },
    "kernelspec": {
      "name": "python3",
      "display_name": "Python 3"
    },
    "language_info": {
      "name": "python"
    }
  },
  "cells": [
    {
      "cell_type": "markdown",
      "metadata": {
        "id": "view-in-github",
        "colab_type": "text"
      },
      "source": [
        "<a href=\"https://colab.research.google.com/github/YQ617/code-samples/blob/Data-Analysis-and-Visualization/Yanfei_Qin_Participation_Activity_5.ipynb\" target=\"_parent\"><img src=\"https://colab.research.google.com/assets/colab-badge.svg\" alt=\"Open In Colab\"/></a>"
      ]
    },
    {
      "cell_type": "markdown",
      "metadata": {
        "id": "gklRjH0qHJPG"
      },
      "source": [
        "# Participation Activity 5\n",
        "### Name: Yanfei Qin\n",
        "### PennKey: yfqin\n",
        "### PennID: 51386260"
      ]
    },
    {
      "cell_type": "code",
      "metadata": {
        "id": "xfOR2Tj2ZnpG"
      },
      "source": [
        "numbers = [1, 2, 3]"
      ],
      "execution_count": null,
      "outputs": []
    },
    {
      "cell_type": "code",
      "metadata": {
        "colab": {
          "base_uri": "https://localhost:8080/"
        },
        "id": "rqXZrHfcZvUv",
        "outputId": "06304509-825a-4dd7-d80d-5177dfbbb899"
      },
      "source": [
        "list(filter(lambda x: x > 1, numbers))"
      ],
      "execution_count": null,
      "outputs": [
        {
          "output_type": "execute_result",
          "data": {
            "text/plain": [
              "[2, 3]"
            ]
          },
          "metadata": {},
          "execution_count": 7
        }
      ]
    },
    {
      "cell_type": "markdown",
      "metadata": {
        "id": "6V2WjJX1HcQJ"
      },
      "source": [
        "## Activity 4: Calculate number of lines in a file\n",
        "described on slide 23 of Lecture 4. You need to implement 3 functions which all achieve the same purpose of counting the number of lines in a file but each uses a different method to read contents of the file. (6 points)."
      ]
    },
    {
      "cell_type": "code",
      "metadata": {
        "id": "1vN0onLoHBBp"
      },
      "source": [
        "from google.colab import files"
      ],
      "execution_count": null,
      "outputs": []
    },
    {
      "cell_type": "code",
      "metadata": {
        "colab": {
          "resources": {
            "http://localhost:8080/nbextensions/google.colab/files.js": {
              "data": "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",
              "ok": true,
              "headers": [
                [
                  "content-type",
                  "application/javascript"
                ]
              ],
              "status": 200,
              "status_text": ""
            }
          },
          "base_uri": "https://localhost:8080/",
          "height": 72
        },
        "id": "KmpUVQ-zH9Ze",
        "outputId": "6a3be931-315b-4ba3-be43-aebe6cf362fa"
      },
      "source": [
        "uploaded = files.upload()"
      ],
      "execution_count": null,
      "outputs": [
        {
          "output_type": "display_data",
          "data": {
            "text/html": [
              "\n",
              "     <input type=\"file\" id=\"files-f8c66fd1-1781-4812-9196-1a2dd2f4a4ca\" name=\"files[]\" multiple disabled\n",
              "        style=\"border:none\" />\n",
              "     <output id=\"result-f8c66fd1-1781-4812-9196-1a2dd2f4a4ca\">\n",
              "      Upload widget is only available when the cell has been executed in the\n",
              "      current browser session. Please rerun this cell to enable.\n",
              "      </output>\n",
              "      <script src=\"/nbextensions/google.colab/files.js\"></script> "
            ],
            "text/plain": [
              "<IPython.core.display.HTML object>"
            ]
          },
          "metadata": {}
        },
        {
          "output_type": "stream",
          "name": "stdout",
          "text": [
            "Saving sonnet29.txt to sonnet29.txt\n"
          ]
        }
      ]
    },
    {
      "cell_type": "code",
      "metadata": {
        "id": "oaRzLxqeIAXh"
      },
      "source": [
        "test_file = open('sonnet29.txt')"
      ],
      "execution_count": null,
      "outputs": []
    },
    {
      "cell_type": "markdown",
      "metadata": {
        "id": "r5KoQu3AQE9X"
      },
      "source": [
        "Function 1: count_read()"
      ]
    },
    {
      "cell_type": "code",
      "metadata": {
        "id": "hAiNXfeTMq2s"
      },
      "source": [
        "def count_read(file_path):\n",
        "    numb_line = 0\n",
        "    test_file = open(file_path)\n",
        "    test_file.seek(0)\n",
        "\n",
        "    content = test_file.read()\n",
        "    \n",
        "    numb_line += content.count('\\n') \n",
        "        \n",
        "    print('The number of lines in the file is ' + str(numb_line))"
      ],
      "execution_count": null,
      "outputs": []
    },
    {
      "cell_type": "code",
      "metadata": {
        "colab": {
          "base_uri": "https://localhost:8080/"
        },
        "id": "uMWHOXqMP2gL",
        "outputId": "6a9e9eeb-433a-43f9-dcaa-f54087508305"
      },
      "source": [
        "file_path = input(\"Enter the file path: \")\n",
        "count_read(file_path)"
      ],
      "execution_count": null,
      "outputs": [
        {
          "output_type": "stream",
          "name": "stdout",
          "text": [
            "Enter the file path: /content/sonnet29.txt\n",
            "The number of lines in the file is 4\n"
          ]
        }
      ]
    },
    {
      "cell_type": "markdown",
      "metadata": {
        "id": "LeyR2O0mQglk"
      },
      "source": [
        "Function 2: count_readline()"
      ]
    },
    {
      "cell_type": "code",
      "metadata": {
        "id": "3izN1kIiR55r"
      },
      "source": [
        "def count_readline(file_path):\n",
        "    content_line = []\n",
        "    test_file = open(file_path)\n",
        "    test_file.seek(0)\n",
        "\n",
        "    while True:\n",
        "        line = test_file.readline()\n",
        "        if line not in content_line and len(line)>0:\n",
        "            content_line.append(line)\n",
        "        else:\n",
        "            break\n",
        "\n",
        "    print('The number of lines in the file is ' + str(len(content_line)))"
      ],
      "execution_count": null,
      "outputs": []
    },
    {
      "cell_type": "code",
      "metadata": {
        "colab": {
          "base_uri": "https://localhost:8080/"
        },
        "id": "2ICJCe1AWf91",
        "outputId": "0f3d0a07-30fd-43c4-87da-c0d7196314c3"
      },
      "source": [
        "file_path = input(\"Enter the file path: \")\n",
        "count_readline(file_path)"
      ],
      "execution_count": null,
      "outputs": [
        {
          "output_type": "stream",
          "name": "stdout",
          "text": [
            "Enter the file path: /content/sonnet29.txt\n",
            "The number of lines in the file is 4\n"
          ]
        }
      ]
    },
    {
      "cell_type": "markdown",
      "metadata": {
        "id": "9Qw201mJZSdZ"
      },
      "source": [
        "Function 3: count_readlines()"
      ]
    },
    {
      "cell_type": "code",
      "metadata": {
        "id": "oqvYw7bnXVMq"
      },
      "source": [
        "def count_readlines(file_path):\n",
        "    test_file = open(file_path)\n",
        "    test_file.seek(0)\n",
        "    len_line = len(test_file.readlines())\n",
        "    print('The number of lines in the file is ' + str(len_line))"
      ],
      "execution_count": null,
      "outputs": []
    },
    {
      "cell_type": "code",
      "metadata": {
        "colab": {
          "base_uri": "https://localhost:8080/"
        },
        "id": "HNdVw_T3bIZk",
        "outputId": "a00d615b-8774-4874-d2ea-84a95888c74e"
      },
      "source": [
        "file_path = input(\"Enter the file path: \")\n",
        "count_readlines(file_path)"
      ],
      "execution_count": null,
      "outputs": [
        {
          "output_type": "stream",
          "name": "stdout",
          "text": [
            "Enter the file path: /content/sonnet29.txt\n",
            "The number of lines in the file is 4\n"
          ]
        }
      ]
    },
    {
      "cell_type": "markdown",
      "metadata": {
        "id": "-mshtr3kbT2B"
      },
      "source": [
        "## Activity 5: Modifying contents of a file\n",
        "described on slide 25 of Lecture 4. (4 points)"
      ]
    },
    {
      "cell_type": "code",
      "metadata": {
        "id": "1wPa2OVzcUQ8"
      },
      "source": [
        "def modify_line(file, num_of_line, new_line):\n",
        "    content = open(file, 'r').readlines()\n",
        "    content[num_of_line] = new_line\n",
        "    new_file = open(file, 'w')\n",
        "    new_file.writelines(content)\n",
        "    new_file.close()"
      ],
      "execution_count": null,
      "outputs": []
    },
    {
      "cell_type": "code",
      "metadata": {
        "id": "lFvWABn_c8oV"
      },
      "source": [
        "modify_line('sonnet29.txt', 1, 'I along with my spirit enjoy my outcast state,\\n')"
      ],
      "execution_count": null,
      "outputs": []
    },
    {
      "cell_type": "code",
      "metadata": {
        "id": "f0xbbYWOh7ST"
      },
      "source": [
        "modify_line('sonnet29.txt', 3, 'And look upon myself and bless my fate,\\n')"
      ],
      "execution_count": null,
      "outputs": []
    },
    {
      "cell_type": "code",
      "metadata": {
        "colab": {
          "base_uri": "https://localhost:8080/"
        },
        "id": "LjoBE_9BiZlU",
        "outputId": "1f41d1c2-d8d1-4fbd-8d7b-81fef90ee60f"
      },
      "source": [
        "new_test_file = open('sonnet29.txt')\n",
        "new_test_file.readlines()"
      ],
      "execution_count": null,
      "outputs": [
        {
          "output_type": "execute_result",
          "data": {
            "text/plain": [
              "[\"When, in disgrace with fortune and men's eyes,\\n\",\n",
              " 'I along with my spirit enjoy my outcast state,\\n',\n",
              " 'And trouble deaf heaven with bootless cries,\\n',\n",
              " 'And look upon myself and bless my fate,\\n']"
            ]
          },
          "metadata": {},
          "execution_count": 121
        }
      ]
    },
    {
      "cell_type": "markdown",
      "metadata": {
        "id": "eqgEzx6WkY3K"
      },
      "source": [
        "### Activity 1: Read and write employee data from a csv using csv reader and writer\n",
        " described on slide 6 of Lecture 5.  (8 points)"
      ]
    },
    {
      "cell_type": "code",
      "metadata": {
        "colab": {
          "resources": {
            "http://localhost:8080/nbextensions/google.colab/files.js": {
              "data": "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",
              "ok": true,
              "headers": [
                [
                  "content-type",
                  "application/javascript"
                ]
              ],
              "status": 200,
              "status_text": ""
            }
          },
          "base_uri": "https://localhost:8080/",
          "height": 109
        },
        "id": "o79RgqjgowrM",
        "outputId": "02357781-216e-45c0-955f-bc3a7a629f2e"
      },
      "source": [
        "import csv\n",
        "files.upload()"
      ],
      "execution_count": null,
      "outputs": [
        {
          "output_type": "display_data",
          "data": {
            "text/html": [
              "\n",
              "     <input type=\"file\" id=\"files-d8cb8db5-e17a-4d15-b5c2-9a85c1ed9664\" name=\"files[]\" multiple disabled\n",
              "        style=\"border:none\" />\n",
              "     <output id=\"result-d8cb8db5-e17a-4d15-b5c2-9a85c1ed9664\">\n",
              "      Upload widget is only available when the cell has been executed in the\n",
              "      current browser session. Please rerun this cell to enable.\n",
              "      </output>\n",
              "      <script src=\"/nbextensions/google.colab/files.js\"></script> "
            ],
            "text/plain": [
              "<IPython.core.display.HTML object>"
            ]
          },
          "metadata": {}
        },
        {
          "output_type": "stream",
          "name": "stdout",
          "text": [
            "Saving employee.csv to employee.csv\n"
          ]
        },
        {
          "output_type": "execute_result",
          "data": {
            "text/plain": [
              "{'employee.csv': b'EMPLOYEE_ID,FIRST_NAME,LAST_NAME,EMAIL,PHONE_NUMBER,HIRE_DATE,JOB_ID,SALARY,BONUS_PAY,MANAGER_ID,DEPARTMENT_ID\\n198,Donald,OConnell,DOCONNEL,650.507.9833,21-JUN-07,SH_CLERK,2600, - ,124,50\\n199,Douglas,Grant,DGRANT,650.507.9844,13-JAN-08,SH_CLERK,2600, - ,124,50\\n200,Jennifer,Whalen,JWHALEN,515.123.4444,17-SEP-03,AD_ASST,4400, - ,101,10\\n201,Michael,Hartstein,MHARTSTE,515.123.5555,17-FEB-04,MK_MAN,13000, - ,100,20\\n202,Pat,Fay,PFAY,603.123.6666,17-AUG-05,MK_REP,6000, - ,201,20\\n203,Susan,Mavris,SMAVRIS,515.123.7777,07-JUN-02,HR_REP,6500, - ,101,40\\n204,Hermann,Baer,HBAER,515.123.8888,07-JUN-02,PR_REP,10000, - ,101,70\\n205,Shelley,Higgins,SHIGGINS,515.123.8080,07-JUN-02,AC_MGR,12008, - ,101,110\\n206,William,Gietz,WGIETZ,515.123.8181,07-JUN-02,AC_ACCOUNT,8300, - ,205,110\\n100,Steven,King,SKING,515.123.4567,17-JUN-03,AD_PRES,24000, - , - ,90\\n101,Neena,Kochhar,NKOCHHAR,515.123.4568,21-SEP-05,AD_VP,17000, - ,100,90\\n102,Lex,De Haan,LDEHAAN,515.123.4569,13-JAN-01,AD_VP,17000, - ,100,90\\n103,Alexander,Hunold,AHUNOLD,590.423.4567,03-JAN-06,IT_PROG,9000, - ,102,60\\n104,Bruce,Ernst,BERNST,590.423.4568,21-MAY-07,IT_PROG,6000, - ,103,60\\n105,David,Austin,DAUSTIN,590.423.4569,25-JUN-05,IT_PROG,4800, - ,103,60\\n106,Valli,Pataballa,VPATABAL,590.423.4560,05-FEB-06,IT_PROG,4800, - ,103,60\\n107,Diana,Lorentz,DLORENTZ,590.423.5567,07-FEB-07,IT_PROG,4200, - ,103,60\\n108,Nancy,Greenberg,NGREENBE,515.124.4569,17-AUG-02,FI_MGR,12008, - ,101,100\\n109,Daniel,Faviet,DFAVIET,515.124.4169,16-AUG-02,FI_ACCOUNT,9000, - ,108,100\\n110,John,Chen,JCHEN,515.124.4269,28-SEP-05,FI_ACCOUNT,8200, - ,108,100\\n111,Ismael,Sciarra,ISCIARRA,515.124.4369,30-SEP-05,FI_ACCOUNT,7700, - ,108,100\\n112,Jose Manuel,Urman,JMURMAN,515.124.4469,07-MAR-06,FI_ACCOUNT,7800, - ,108,100\\n113,Luis,Popp,LPOPP,515.124.4567,07-DEC-07,FI_ACCOUNT,6900, - ,108,100\\n114,Den,Raphaely,DRAPHEAL,515.127.4561,07-DEC-02,PU_MAN,11000, - ,100,30\\n115,Alexander,Khoo,AKHOO,515.127.4562,18-MAY-03,PU_CLERK,3100, - ,114,30\\n116,Shelli,Baida,SBAIDA,515.127.4563,24-DEC-05,PU_CLERK,2900, - ,114,30\\n117,Sigal,Tobias,STOBIAS,515.127.4564,24-JUL-05,PU_CLERK,2800, - ,114,30\\n118,Guy,Himuro,GHIMURO,515.127.4565,15-NOV-06,PU_CLERK,2600, - ,114,30\\n119,Karen,Colmenares,KCOLMENA,515.127.4566,10-AUG-07,PU_CLERK,2500, - ,114,30\\n120,Matthew,Weiss,MWEISS,650.123.1234,18-JUL-04,ST_MAN,8000, - ,100,50\\n121,Adam,Fripp,AFRIPP,650.123.2234,10-APR-05,ST_MAN,8200, - ,100,50\\n122,Payam,Kaufling,PKAUFLIN,650.123.3234,01-MAY-03,ST_MAN,7900, - ,100,50\\n123,Shanta,Vollman,SVOLLMAN,650.123.4234,10-OCT-05,ST_MAN,6500, - ,100,50\\n124,Kevin,Mourgos,KMOURGOS,650.123.5234,16-NOV-07,ST_MAN,5800, - ,100,50\\n125,Julia,Nayer,JNAYER,650.124.1214,16-JUL-05,ST_CLERK,3200, - ,120,50\\n126,Irene,Mikkilineni,IMIKKILI,650.124.1224,28-SEP-06,ST_CLERK,2700, - ,120,50\\n127,James,Landry,JLANDRY,650.124.1334,14-JAN-07,ST_CLERK,2400, - ,120,50\\n128,Steven,Markle,SMARKLE,650.124.1434,08-MAR-08,ST_CLERK,2200, - ,120,50\\n129,Laura,Bissot,LBISSOT,650.124.5234,20-AUG-05,ST_CLERK,3300, - ,121,50\\n130,Mozhe,Atkinson,MATKINSO,650.124.6234,30-OCT-05,ST_CLERK,2800, - ,121,50\\n131,James,Marlow,JAMRLOW,650.124.7234,16-FEB-05,ST_CLERK,2500, - ,121,50\\n132,TJ,Olson,TJOLSON,650.124.8234,10-APR-07,ST_CLERK,2100, - ,121,50\\n133,Jason,Mallin,JMALLIN,650.127.1934,14-JUN-04,ST_CLERK,3300, - ,122,50\\n134,Michael,Rogers,MROGERS,650.127.1834,26-AUG-06,ST_CLERK,2900, - ,122,50\\n135,Ki,Gee,KGEE,650.127.1734,12-DEC-07,ST_CLERK,2400, - ,122,50\\n136,Hazel,Philtanker,HPHILTAN,650.127.1634,06-FEB-08,ST_CLERK,2200, - ,122,50\\n137,Renske,Ladwig,RLADWIG,650.121.1234,14-JUL-03,ST_CLERK,3600, - ,123,50\\n138,Stephen,Stiles,SSTILES,650.121.2034,26-OCT-05,ST_CLERK,3200, - ,123,50\\n139,John,Seo,JSEO,650.121.2019,12-FEB-06,ST_CLERK,2700, - ,123,50\\n140,Joshua,Patel,JPATEL,650.121.1834,06-APR-06,ST_CLERK,2500, - ,123,50\\n'}"
            ]
          },
          "metadata": {},
          "execution_count": 123
        }
      ]
    },
    {
      "cell_type": "code",
      "metadata": {
        "id": "gh3NffWYidgf"
      },
      "source": [
        "EmployeeFile = open('employee.csv')\n",
        "EmployeeReader = csv.reader(EmployeeFile)"
      ],
      "execution_count": null,
      "outputs": []
    },
    {
      "cell_type": "code",
      "metadata": {
        "colab": {
          "base_uri": "https://localhost:8080/"
        },
        "id": "oApzef2msRCq",
        "outputId": "0b011a89-1387-4a09-97e7-b8684bc70220"
      },
      "source": [
        "for row in EmployeeReader:\n",
        "  print('Row #'+ str(EmployeeReader.line_num)+' '+str(row))"
      ],
      "execution_count": null,
      "outputs": [
        {
          "output_type": "stream",
          "name": "stdout",
          "text": [
            "Row #1 ['EMPLOYEE_ID', 'FIRST_NAME', 'LAST_NAME', 'EMAIL', 'PHONE_NUMBER', 'HIRE_DATE', 'JOB_ID', 'SALARY', 'BONUS_PAY', 'MANAGER_ID', 'DEPARTMENT_ID']\n",
            "Row #2 ['198', 'Donald', 'OConnell', 'DOCONNEL', '650.507.9833', '21-JUN-07', 'SH_CLERK', '2600', ' - ', '124', '50']\n",
            "Row #3 ['199', 'Douglas', 'Grant', 'DGRANT', '650.507.9844', '13-JAN-08', 'SH_CLERK', '2600', ' - ', '124', '50']\n",
            "Row #4 ['200', 'Jennifer', 'Whalen', 'JWHALEN', '515.123.4444', '17-SEP-03', 'AD_ASST', '4400', ' - ', '101', '10']\n",
            "Row #5 ['201', 'Michael', 'Hartstein', 'MHARTSTE', '515.123.5555', '17-FEB-04', 'MK_MAN', '13000', ' - ', '100', '20']\n",
            "Row #6 ['202', 'Pat', 'Fay', 'PFAY', '603.123.6666', '17-AUG-05', 'MK_REP', '6000', ' - ', '201', '20']\n",
            "Row #7 ['203', 'Susan', 'Mavris', 'SMAVRIS', '515.123.7777', '07-JUN-02', 'HR_REP', '6500', ' - ', '101', '40']\n",
            "Row #8 ['204', 'Hermann', 'Baer', 'HBAER', '515.123.8888', '07-JUN-02', 'PR_REP', '10000', ' - ', '101', '70']\n",
            "Row #9 ['205', 'Shelley', 'Higgins', 'SHIGGINS', '515.123.8080', '07-JUN-02', 'AC_MGR', '12008', ' - ', '101', '110']\n",
            "Row #10 ['206', 'William', 'Gietz', 'WGIETZ', '515.123.8181', '07-JUN-02', 'AC_ACCOUNT', '8300', ' - ', '205', '110']\n",
            "Row #11 ['100', 'Steven', 'King', 'SKING', '515.123.4567', '17-JUN-03', 'AD_PRES', '24000', ' - ', ' - ', '90']\n",
            "Row #12 ['101', 'Neena', 'Kochhar', 'NKOCHHAR', '515.123.4568', '21-SEP-05', 'AD_VP', '17000', ' - ', '100', '90']\n",
            "Row #13 ['102', 'Lex', 'De Haan', 'LDEHAAN', '515.123.4569', '13-JAN-01', 'AD_VP', '17000', ' - ', '100', '90']\n",
            "Row #14 ['103', 'Alexander', 'Hunold', 'AHUNOLD', '590.423.4567', '03-JAN-06', 'IT_PROG', '9000', ' - ', '102', '60']\n",
            "Row #15 ['104', 'Bruce', 'Ernst', 'BERNST', '590.423.4568', '21-MAY-07', 'IT_PROG', '6000', ' - ', '103', '60']\n",
            "Row #16 ['105', 'David', 'Austin', 'DAUSTIN', '590.423.4569', '25-JUN-05', 'IT_PROG', '4800', ' - ', '103', '60']\n",
            "Row #17 ['106', 'Valli', 'Pataballa', 'VPATABAL', '590.423.4560', '05-FEB-06', 'IT_PROG', '4800', ' - ', '103', '60']\n",
            "Row #18 ['107', 'Diana', 'Lorentz', 'DLORENTZ', '590.423.5567', '07-FEB-07', 'IT_PROG', '4200', ' - ', '103', '60']\n",
            "Row #19 ['108', 'Nancy', 'Greenberg', 'NGREENBE', '515.124.4569', '17-AUG-02', 'FI_MGR', '12008', ' - ', '101', '100']\n",
            "Row #20 ['109', 'Daniel', 'Faviet', 'DFAVIET', '515.124.4169', '16-AUG-02', 'FI_ACCOUNT', '9000', ' - ', '108', '100']\n",
            "Row #21 ['110', 'John', 'Chen', 'JCHEN', '515.124.4269', '28-SEP-05', 'FI_ACCOUNT', '8200', ' - ', '108', '100']\n",
            "Row #22 ['111', 'Ismael', 'Sciarra', 'ISCIARRA', '515.124.4369', '30-SEP-05', 'FI_ACCOUNT', '7700', ' - ', '108', '100']\n",
            "Row #23 ['112', 'Jose Manuel', 'Urman', 'JMURMAN', '515.124.4469', '07-MAR-06', 'FI_ACCOUNT', '7800', ' - ', '108', '100']\n",
            "Row #24 ['113', 'Luis', 'Popp', 'LPOPP', '515.124.4567', '07-DEC-07', 'FI_ACCOUNT', '6900', ' - ', '108', '100']\n",
            "Row #25 ['114', 'Den', 'Raphaely', 'DRAPHEAL', '515.127.4561', '07-DEC-02', 'PU_MAN', '11000', ' - ', '100', '30']\n",
            "Row #26 ['115', 'Alexander', 'Khoo', 'AKHOO', '515.127.4562', '18-MAY-03', 'PU_CLERK', '3100', ' - ', '114', '30']\n",
            "Row #27 ['116', 'Shelli', 'Baida', 'SBAIDA', '515.127.4563', '24-DEC-05', 'PU_CLERK', '2900', ' - ', '114', '30']\n",
            "Row #28 ['117', 'Sigal', 'Tobias', 'STOBIAS', '515.127.4564', '24-JUL-05', 'PU_CLERK', '2800', ' - ', '114', '30']\n",
            "Row #29 ['118', 'Guy', 'Himuro', 'GHIMURO', '515.127.4565', '15-NOV-06', 'PU_CLERK', '2600', ' - ', '114', '30']\n",
            "Row #30 ['119', 'Karen', 'Colmenares', 'KCOLMENA', '515.127.4566', '10-AUG-07', 'PU_CLERK', '2500', ' - ', '114', '30']\n",
            "Row #31 ['120', 'Matthew', 'Weiss', 'MWEISS', '650.123.1234', '18-JUL-04', 'ST_MAN', '8000', ' - ', '100', '50']\n",
            "Row #32 ['121', 'Adam', 'Fripp', 'AFRIPP', '650.123.2234', '10-APR-05', 'ST_MAN', '8200', ' - ', '100', '50']\n",
            "Row #33 ['122', 'Payam', 'Kaufling', 'PKAUFLIN', '650.123.3234', '01-MAY-03', 'ST_MAN', '7900', ' - ', '100', '50']\n",
            "Row #34 ['123', 'Shanta', 'Vollman', 'SVOLLMAN', '650.123.4234', '10-OCT-05', 'ST_MAN', '6500', ' - ', '100', '50']\n",
            "Row #35 ['124', 'Kevin', 'Mourgos', 'KMOURGOS', '650.123.5234', '16-NOV-07', 'ST_MAN', '5800', ' - ', '100', '50']\n",
            "Row #36 ['125', 'Julia', 'Nayer', 'JNAYER', '650.124.1214', '16-JUL-05', 'ST_CLERK', '3200', ' - ', '120', '50']\n",
            "Row #37 ['126', 'Irene', 'Mikkilineni', 'IMIKKILI', '650.124.1224', '28-SEP-06', 'ST_CLERK', '2700', ' - ', '120', '50']\n",
            "Row #38 ['127', 'James', 'Landry', 'JLANDRY', '650.124.1334', '14-JAN-07', 'ST_CLERK', '2400', ' - ', '120', '50']\n",
            "Row #39 ['128', 'Steven', 'Markle', 'SMARKLE', '650.124.1434', '08-MAR-08', 'ST_CLERK', '2200', ' - ', '120', '50']\n",
            "Row #40 ['129', 'Laura', 'Bissot', 'LBISSOT', '650.124.5234', '20-AUG-05', 'ST_CLERK', '3300', ' - ', '121', '50']\n",
            "Row #41 ['130', 'Mozhe', 'Atkinson', 'MATKINSO', '650.124.6234', '30-OCT-05', 'ST_CLERK', '2800', ' - ', '121', '50']\n",
            "Row #42 ['131', 'James', 'Marlow', 'JAMRLOW', '650.124.7234', '16-FEB-05', 'ST_CLERK', '2500', ' - ', '121', '50']\n",
            "Row #43 ['132', 'TJ', 'Olson', 'TJOLSON', '650.124.8234', '10-APR-07', 'ST_CLERK', '2100', ' - ', '121', '50']\n",
            "Row #44 ['133', 'Jason', 'Mallin', 'JMALLIN', '650.127.1934', '14-JUN-04', 'ST_CLERK', '3300', ' - ', '122', '50']\n",
            "Row #45 ['134', 'Michael', 'Rogers', 'MROGERS', '650.127.1834', '26-AUG-06', 'ST_CLERK', '2900', ' - ', '122', '50']\n",
            "Row #46 ['135', 'Ki', 'Gee', 'KGEE', '650.127.1734', '12-DEC-07', 'ST_CLERK', '2400', ' - ', '122', '50']\n",
            "Row #47 ['136', 'Hazel', 'Philtanker', 'HPHILTAN', '650.127.1634', '06-FEB-08', 'ST_CLERK', '2200', ' - ', '122', '50']\n",
            "Row #48 ['137', 'Renske', 'Ladwig', 'RLADWIG', '650.121.1234', '14-JUL-03', 'ST_CLERK', '3600', ' - ', '123', '50']\n",
            "Row #49 ['138', 'Stephen', 'Stiles', 'SSTILES', '650.121.2034', '26-OCT-05', 'ST_CLERK', '3200', ' - ', '123', '50']\n",
            "Row #50 ['139', 'John', 'Seo', 'JSEO', '650.121.2019', '12-FEB-06', 'ST_CLERK', '2700', ' - ', '123', '50']\n",
            "Row #51 ['140', 'Joshua', 'Patel', 'JPATEL', '650.121.1834', '06-APR-06', 'ST_CLERK', '2500', ' - ', '123', '50']\n"
          ]
        }
      ]
    },
    {
      "cell_type": "code",
      "metadata": {
        "colab": {
          "base_uri": "https://localhost:8080/"
        },
        "id": "uPKB37ceO1o-",
        "outputId": "9f7b49ab-36b1-4b86-8aed-2e4fc24c26a9"
      },
      "source": [
        "EmployeeFile = open('employee.csv')\n",
        "EmployeeReader = csv.reader(EmployeeFile)\n",
        "next(EmployeeReader)\n",
        "for row in EmployeeReader:\n",
        "  print(str(row[5]))"
      ],
      "execution_count": null,
      "outputs": [
        {
          "output_type": "stream",
          "name": "stdout",
          "text": [
            "21-JUN-07\n",
            "13-JAN-08\n",
            "17-SEP-03\n",
            "17-FEB-04\n",
            "17-AUG-05\n",
            "07-JUN-02\n",
            "07-JUN-02\n",
            "07-JUN-02\n",
            "07-JUN-02\n",
            "17-JUN-03\n",
            "21-SEP-05\n",
            "13-JAN-01\n",
            "03-JAN-06\n",
            "21-MAY-07\n",
            "25-JUN-05\n",
            "05-FEB-06\n",
            "07-FEB-07\n",
            "17-AUG-02\n",
            "16-AUG-02\n",
            "28-SEP-05\n",
            "30-SEP-05\n",
            "07-MAR-06\n",
            "07-DEC-07\n",
            "07-DEC-02\n",
            "18-MAY-03\n",
            "24-DEC-05\n",
            "24-JUL-05\n",
            "15-NOV-06\n",
            "10-AUG-07\n",
            "18-JUL-04\n",
            "10-APR-05\n",
            "01-MAY-03\n",
            "10-OCT-05\n",
            "16-NOV-07\n",
            "16-JUL-05\n",
            "28-SEP-06\n",
            "14-JAN-07\n",
            "08-MAR-08\n",
            "20-AUG-05\n",
            "30-OCT-05\n",
            "16-FEB-05\n",
            "10-APR-07\n",
            "14-JUN-04\n",
            "26-AUG-06\n",
            "12-DEC-07\n",
            "06-FEB-08\n",
            "14-JUL-03\n",
            "26-OCT-05\n",
            "12-FEB-06\n",
            "06-APR-06\n"
          ]
        }
      ]
    },
    {
      "cell_type": "code",
      "metadata": {
        "id": "-xoMP2YLRQrM"
      },
      "source": [
        "EmployeeFile = open('employee.csv')\n",
        "EmployeeReader = csv.reader(EmployeeFile)\n",
        "next(EmployeeReader)\n",
        "year_service = []\n",
        "for row in EmployeeReader:\n",
        "  year_service.append(str(21 - int((row[5][7] + row[5][8]))))"
      ],
      "execution_count": null,
      "outputs": []
    },
    {
      "cell_type": "code",
      "metadata": {
        "colab": {
          "base_uri": "https://localhost:8080/"
        },
        "id": "tDILbl6QbjTx",
        "outputId": "2c6584bd-ba26-4c7c-aa34-57b6e8769373"
      },
      "source": [
        "year_service.insert(0,'YEARS_OF_SERVICE')\n",
        "year_service"
      ],
      "execution_count": null,
      "outputs": [
        {
          "output_type": "execute_result",
          "data": {
            "text/plain": [
              "['YEARS_OF_SERVICE',\n",
              " '14',\n",
              " '13',\n",
              " '18',\n",
              " '17',\n",
              " '16',\n",
              " '19',\n",
              " '19',\n",
              " '19',\n",
              " '19',\n",
              " '18',\n",
              " '16',\n",
              " '20',\n",
              " '15',\n",
              " '14',\n",
              " '16',\n",
              " '15',\n",
              " '14',\n",
              " '19',\n",
              " '19',\n",
              " '16',\n",
              " '16',\n",
              " '15',\n",
              " '14',\n",
              " '19',\n",
              " '18',\n",
              " '16',\n",
              " '16',\n",
              " '15',\n",
              " '14',\n",
              " '17',\n",
              " '16',\n",
              " '18',\n",
              " '16',\n",
              " '14',\n",
              " '16',\n",
              " '15',\n",
              " '14',\n",
              " '13',\n",
              " '16',\n",
              " '16',\n",
              " '16',\n",
              " '14',\n",
              " '17',\n",
              " '15',\n",
              " '14',\n",
              " '13',\n",
              " '18',\n",
              " '16',\n",
              " '15',\n",
              " '15']"
            ]
          },
          "metadata": {},
          "execution_count": 287
        }
      ]
    },
    {
      "cell_type": "markdown",
      "metadata": {
        "id": "2Q5GtNT8eK7R"
      },
      "source": [
        "Here above I calculate the years of service for every employees and store these values into a list called year_service"
      ]
    },
    {
      "cell_type": "code",
      "metadata": {
        "id": "WFoOln0g6D5C"
      },
      "source": [
        "EmployeeFile = open('employee.csv')\n",
        "EmployeeReader = csv.reader(EmployeeFile)\n",
        "EmployeeData = list(EmployeeReader)"
      ],
      "execution_count": null,
      "outputs": []
    },
    {
      "cell_type": "code",
      "metadata": {
        "id": "EkJFuhQw97xQ"
      },
      "source": [
        "for x, y in zip(EmployeeData, year_service):\n",
        "    x.append(y)"
      ],
      "execution_count": null,
      "outputs": []
    },
    {
      "cell_type": "markdown",
      "metadata": {
        "id": "s4eZA79v-bEF"
      },
      "source": [
        "Here above I have successfully append the years of service for each employee into the list of lists \"EmployeeData\" created from the original csv file. And I will store this list of lists into a new csv file in the following code cells."
      ]
    },
    {
      "cell_type": "code",
      "metadata": {
        "id": "m9I2HNi7-5ne"
      },
      "source": [
        "import csv\n",
        "with open('new_employee.csv', 'w', newline='') as f:\n",
        "    writer = csv.writer(f)\n",
        "    writer.writerows(EmployeeData)"
      ],
      "execution_count": null,
      "outputs": []
    },
    {
      "cell_type": "code",
      "metadata": {
        "id": "I4aXUCIhByne"
      },
      "source": [
        "import csv\n",
        "NewEmployeeFile = open('new_employee.csv')\n",
        "NewEmployeeReader = csv.reader(NewEmployeeFile)\n",
        "next(NewEmployeeReader)\n",
        "bonus_data = []\n",
        "for row in NewEmployeeReader:\n",
        "  if int(row[11]) < 5:\n",
        "    row[8] = 12*0.25*int(row[7])\n",
        "  elif int(row[11]) >= 5 and int(row[11]) < 10:\n",
        "    row[8] = 12*0.35*int(row[7])\n",
        "  elif int(row[11]) >= 10 and int(row[11]) < 15:\n",
        "    row[8] = 12*0.45*int(row[7])\n",
        "  elif int(row[11]) >= 15 and int(row[11]) < 20:\n",
        "    row[8] = 12*0.75*int(row[7])\n",
        "  elif int(row[11]) >= 20 and int(row[11]) <= 25:\n",
        "    row[8] = 12*1*int(row[7])\n",
        "  bonus_data.append(row[8])"
      ],
      "execution_count": null,
      "outputs": []
    },
    {
      "cell_type": "code",
      "metadata": {
        "colab": {
          "base_uri": "https://localhost:8080/"
        },
        "id": "ZW0zTNw-G54j",
        "outputId": "bdbf512c-a9b0-4ab1-fa90-7155e3498c10"
      },
      "source": [
        "sum(bonus_data)"
      ],
      "execution_count": null,
      "outputs": [
        {
          "output_type": "execute_result",
          "data": {
            "text/plain": [
              "2682204.0"
            ]
          },
          "metadata": {},
          "execution_count": 398
        }
      ]
    },
    {
      "cell_type": "markdown",
      "metadata": {
        "id": "Kr4oo9KkM19z"
      },
      "source": [
        "The above number 2682204.0 is the total amount of bonus salaries would given out if executing the HR's bonus plan. The amount is over $2 million budget that is offered by the finance department, so we do need a new bonus plan."
      ]
    },
    {
      "cell_type": "code",
      "metadata": {
        "id": "hk4MMSqwUx-c"
      },
      "source": [
        "import csv\n",
        "NewEmployeeFile = open('new_employee.csv')\n",
        "NewEmployeeReader = csv.reader(NewEmployeeFile)\n",
        "row1 = next(NewEmployeeReader)"
      ],
      "execution_count": null,
      "outputs": []
    },
    {
      "cell_type": "code",
      "metadata": {
        "colab": {
          "base_uri": "https://localhost:8080/"
        },
        "id": "FqAmgQG6NyOJ",
        "outputId": "3fe97891-de49-4f7d-ce78-07bb55418610"
      },
      "source": [
        "import csv\n",
        "NewEmployeeFile = open('new_employee.csv')\n",
        "NewEmployeeReader = csv.reader(NewEmployeeFile)\n",
        "print('Row #1'+str(row1))\n",
        "next(NewEmployeeReader)\n",
        "new_bonus_data = []\n",
        "for row in NewEmployeeReader:\n",
        "  if int(row[11]) < 5:\n",
        "    row[8] = 12*(0.25-0.184)*int(row[7]) \n",
        "  elif int(row[11]) >= 5 and int(row[11]) < 10:\n",
        "    row[8] = 12*(0.35-0.184)*int(row[7])\n",
        "  elif int(row[11]) >= 10 and int(row[11]) < 15:\n",
        "    row[8] = 12*(0.45-0.184)*int(row[7])\n",
        "  elif int(row[11]) >= 15 and int(row[11]) < 20:\n",
        "    row[8] = 12*(0.75-0.184)*int(row[7])\n",
        "  elif int(row[11]) >= 20 and int(row[11]) <= 25:\n",
        "    row[8] = 12*(1-0.184)*int(row[7])\n",
        "  new_bonus_data.append(row[8])\n",
        "  print('Row #'+ str(NewEmployeeReader.line_num)+' '+str(row))"
      ],
      "execution_count": null,
      "outputs": [
        {
          "output_type": "stream",
          "name": "stdout",
          "text": [
            "Row #1['EMPLOYEE_ID', 'FIRST_NAME', 'LAST_NAME', 'EMAIL', 'PHONE_NUMBER', 'HIRE_DATE', 'JOB_ID', 'SALARY', 'BONUS_PAY', 'MANAGER_ID', 'DEPARTMENT_ID', 'YEARS_OF_SERVICE']\n",
            "Row #2 ['198', 'Donald', 'OConnell', 'DOCONNEL', '650.507.9833', '21-JUN-07', 'SH_CLERK', '2600', 8299.2, '124', '50', '14']\n",
            "Row #3 ['199', 'Douglas', 'Grant', 'DGRANT', '650.507.9844', '13-JAN-08', 'SH_CLERK', '2600', 8299.2, '124', '50', '13']\n",
            "Row #4 ['200', 'Jennifer', 'Whalen', 'JWHALEN', '515.123.4444', '17-SEP-03', 'AD_ASST', '4400', 29884.800000000003, '101', '10', '18']\n",
            "Row #5 ['201', 'Michael', 'Hartstein', 'MHARTSTE', '515.123.5555', '17-FEB-04', 'MK_MAN', '13000', 88296.00000000001, '100', '20', '17']\n",
            "Row #6 ['202', 'Pat', 'Fay', 'PFAY', '603.123.6666', '17-AUG-05', 'MK_REP', '6000', 40752.00000000001, '201', '20', '16']\n",
            "Row #7 ['203', 'Susan', 'Mavris', 'SMAVRIS', '515.123.7777', '07-JUN-02', 'HR_REP', '6500', 44148.00000000001, '101', '40', '19']\n",
            "Row #8 ['204', 'Hermann', 'Baer', 'HBAER', '515.123.8888', '07-JUN-02', 'PR_REP', '10000', 67920.0, '101', '70', '19']\n",
            "Row #9 ['205', 'Shelley', 'Higgins', 'SHIGGINS', '515.123.8080', '07-JUN-02', 'AC_MGR', '12008', 81558.33600000001, '101', '110', '19']\n",
            "Row #10 ['206', 'William', 'Gietz', 'WGIETZ', '515.123.8181', '07-JUN-02', 'AC_ACCOUNT', '8300', 56373.600000000006, '205', '110', '19']\n",
            "Row #11 ['100', 'Steven', 'King', 'SKING', '515.123.4567', '17-JUN-03', 'AD_PRES', '24000', 163008.00000000003, ' - ', '90', '18']\n",
            "Row #12 ['101', 'Neena', 'Kochhar', 'NKOCHHAR', '515.123.4568', '21-SEP-05', 'AD_VP', '17000', 115464.00000000001, '100', '90', '16']\n",
            "Row #13 ['102', 'Lex', 'De Haan', 'LDEHAAN', '515.123.4569', '13-JAN-01', 'AD_VP', '17000', 166464.00000000003, '100', '90', '20']\n",
            "Row #14 ['103', 'Alexander', 'Hunold', 'AHUNOLD', '590.423.4567', '03-JAN-06', 'IT_PROG', '9000', 61128.00000000001, '102', '60', '15']\n",
            "Row #15 ['104', 'Bruce', 'Ernst', 'BERNST', '590.423.4568', '21-MAY-07', 'IT_PROG', '6000', 19152.0, '103', '60', '14']\n",
            "Row #16 ['105', 'David', 'Austin', 'DAUSTIN', '590.423.4569', '25-JUN-05', 'IT_PROG', '4800', 32601.600000000002, '103', '60', '16']\n",
            "Row #17 ['106', 'Valli', 'Pataballa', 'VPATABAL', '590.423.4560', '05-FEB-06', 'IT_PROG', '4800', 32601.600000000002, '103', '60', '15']\n",
            "Row #18 ['107', 'Diana', 'Lorentz', 'DLORENTZ', '590.423.5567', '07-FEB-07', 'IT_PROG', '4200', 13406.400000000001, '103', '60', '14']\n",
            "Row #19 ['108', 'Nancy', 'Greenberg', 'NGREENBE', '515.124.4569', '17-AUG-02', 'FI_MGR', '12008', 81558.33600000001, '101', '100', '19']\n",
            "Row #20 ['109', 'Daniel', 'Faviet', 'DFAVIET', '515.124.4169', '16-AUG-02', 'FI_ACCOUNT', '9000', 61128.00000000001, '108', '100', '19']\n",
            "Row #21 ['110', 'John', 'Chen', 'JCHEN', '515.124.4269', '28-SEP-05', 'FI_ACCOUNT', '8200', 55694.40000000001, '108', '100', '16']\n",
            "Row #22 ['111', 'Ismael', 'Sciarra', 'ISCIARRA', '515.124.4369', '30-SEP-05', 'FI_ACCOUNT', '7700', 52298.40000000001, '108', '100', '16']\n",
            "Row #23 ['112', 'Jose Manuel', 'Urman', 'JMURMAN', '515.124.4469', '07-MAR-06', 'FI_ACCOUNT', '7800', 52977.600000000006, '108', '100', '15']\n",
            "Row #24 ['113', 'Luis', 'Popp', 'LPOPP', '515.124.4567', '07-DEC-07', 'FI_ACCOUNT', '6900', 22024.800000000003, '108', '100', '14']\n",
            "Row #25 ['114', 'Den', 'Raphaely', 'DRAPHEAL', '515.127.4561', '07-DEC-02', 'PU_MAN', '11000', 74712.00000000001, '100', '30', '19']\n",
            "Row #26 ['115', 'Alexander', 'Khoo', 'AKHOO', '515.127.4562', '18-MAY-03', 'PU_CLERK', '3100', 21055.2, '114', '30', '18']\n",
            "Row #27 ['116', 'Shelli', 'Baida', 'SBAIDA', '515.127.4563', '24-DEC-05', 'PU_CLERK', '2900', 19696.800000000003, '114', '30', '16']\n",
            "Row #28 ['117', 'Sigal', 'Tobias', 'STOBIAS', '515.127.4564', '24-JUL-05', 'PU_CLERK', '2800', 19017.600000000002, '114', '30', '16']\n",
            "Row #29 ['118', 'Guy', 'Himuro', 'GHIMURO', '515.127.4565', '15-NOV-06', 'PU_CLERK', '2600', 17659.2, '114', '30', '15']\n",
            "Row #30 ['119', 'Karen', 'Colmenares', 'KCOLMENA', '515.127.4566', '10-AUG-07', 'PU_CLERK', '2500', 7980.0, '114', '30', '14']\n",
            "Row #31 ['120', 'Matthew', 'Weiss', 'MWEISS', '650.123.1234', '18-JUL-04', 'ST_MAN', '8000', 54336.00000000001, '100', '50', '17']\n",
            "Row #32 ['121', 'Adam', 'Fripp', 'AFRIPP', '650.123.2234', '10-APR-05', 'ST_MAN', '8200', 55694.40000000001, '100', '50', '16']\n",
            "Row #33 ['122', 'Payam', 'Kaufling', 'PKAUFLIN', '650.123.3234', '01-MAY-03', 'ST_MAN', '7900', 53656.8, '100', '50', '18']\n",
            "Row #34 ['123', 'Shanta', 'Vollman', 'SVOLLMAN', '650.123.4234', '10-OCT-05', 'ST_MAN', '6500', 44148.00000000001, '100', '50', '16']\n",
            "Row #35 ['124', 'Kevin', 'Mourgos', 'KMOURGOS', '650.123.5234', '16-NOV-07', 'ST_MAN', '5800', 18513.600000000002, '100', '50', '14']\n",
            "Row #36 ['125', 'Julia', 'Nayer', 'JNAYER', '650.124.1214', '16-JUL-05', 'ST_CLERK', '3200', 21734.4, '120', '50', '16']\n",
            "Row #37 ['126', 'Irene', 'Mikkilineni', 'IMIKKILI', '650.124.1224', '28-SEP-06', 'ST_CLERK', '2700', 18338.4, '120', '50', '15']\n",
            "Row #38 ['127', 'James', 'Landry', 'JLANDRY', '650.124.1334', '14-JAN-07', 'ST_CLERK', '2400', 7660.8, '120', '50', '14']\n",
            "Row #39 ['128', 'Steven', 'Markle', 'SMARKLE', '650.124.1434', '08-MAR-08', 'ST_CLERK', '2200', 7022.400000000001, '120', '50', '13']\n",
            "Row #40 ['129', 'Laura', 'Bissot', 'LBISSOT', '650.124.5234', '20-AUG-05', 'ST_CLERK', '3300', 22413.600000000002, '121', '50', '16']\n",
            "Row #41 ['130', 'Mozhe', 'Atkinson', 'MATKINSO', '650.124.6234', '30-OCT-05', 'ST_CLERK', '2800', 19017.600000000002, '121', '50', '16']\n",
            "Row #42 ['131', 'James', 'Marlow', 'JAMRLOW', '650.124.7234', '16-FEB-05', 'ST_CLERK', '2500', 16980.0, '121', '50', '16']\n",
            "Row #43 ['132', 'TJ', 'Olson', 'TJOLSON', '650.124.8234', '10-APR-07', 'ST_CLERK', '2100', 6703.200000000001, '121', '50', '14']\n",
            "Row #44 ['133', 'Jason', 'Mallin', 'JMALLIN', '650.127.1934', '14-JUN-04', 'ST_CLERK', '3300', 22413.600000000002, '122', '50', '17']\n",
            "Row #45 ['134', 'Michael', 'Rogers', 'MROGERS', '650.127.1834', '26-AUG-06', 'ST_CLERK', '2900', 19696.800000000003, '122', '50', '15']\n",
            "Row #46 ['135', 'Ki', 'Gee', 'KGEE', '650.127.1734', '12-DEC-07', 'ST_CLERK', '2400', 7660.8, '122', '50', '14']\n",
            "Row #47 ['136', 'Hazel', 'Philtanker', 'HPHILTAN', '650.127.1634', '06-FEB-08', 'ST_CLERK', '2200', 7022.400000000001, '122', '50', '13']\n",
            "Row #48 ['137', 'Renske', 'Ladwig', 'RLADWIG', '650.121.1234', '14-JUL-03', 'ST_CLERK', '3600', 24451.2, '123', '50', '18']\n",
            "Row #49 ['138', 'Stephen', 'Stiles', 'SSTILES', '650.121.2034', '26-OCT-05', 'ST_CLERK', '3200', 21734.4, '123', '50', '16']\n",
            "Row #50 ['139', 'John', 'Seo', 'JSEO', '650.121.2019', '12-FEB-06', 'ST_CLERK', '2700', 18338.4, '123', '50', '15']\n",
            "Row #51 ['140', 'Joshua', 'Patel', 'JPATEL', '650.121.1834', '06-APR-06', 'ST_CLERK', '2500', 16980.0, '123', '50', '15']\n"
          ]
        }
      ]
    },
    {
      "cell_type": "markdown",
      "metadata": {
        "id": "P6NzqZzDaPuw"
      },
      "source": [
        "By extract the same constant 0.183 from all bonus %, we will get a total amount of 2003385, which is slightly above our budget. \n",
        "\n",
        "By extract the same constant 0.184 from all bonus %, we will get the closest total amount of 1999675.872 (rounded) to our 2M budget (if only consider a constant number that has a 3 decimal places).\n",
        "\n",
        "I have already add the amount under “BONUS_PAY” column in employee.csv. Next, we simply need to create the new bonus scale and save it in a file called bonus_scale.csv."
      ]
    },
    {
      "cell_type": "code",
      "metadata": {
        "colab": {
          "base_uri": "https://localhost:8080/"
        },
        "id": "FWdIgcxZV5xn",
        "outputId": "ac472409-58ee-4cde-d8cb-48996269bd75"
      },
      "source": [
        "import csv\n",
        "with open('bonus_scale.csv', 'w', newline='') as BonusFile:\n",
        "    writer = csv.writer(BonusFile)\n",
        "    writer.writerow([\"Employee’s years of service\",'Bonus as % of base annual salary'])\n",
        "    writer.writerow(['0-5','6.6'])\n",
        "    writer.writerow(['5-10','16.6'])\n",
        "    writer.writerow(['10-15','26.6'])\n",
        "    writer.writerow(['15-20','56.6'])\n",
        "    writer.writerow(['20-25','81.6'])\n",
        "    BonusFile.close()\n",
        "file_bonus = open('bonus_scale.csv')\n",
        "BonusReader = csv.reader(file_bonus)\n",
        "for row in BonusReader:\n",
        "  print(row)\n",
        "#I do not know how to print out a exact same table as it shown in the question, but I indeed have created it:)"
      ],
      "execution_count": null,
      "outputs": [
        {
          "output_type": "stream",
          "name": "stdout",
          "text": [
            "['Employee’s years of service', 'Bonus as % of base annual salary']\n",
            "['0-5', '6.6']\n",
            "['5-10', '16.6']\n",
            "['10-15', '26.6']\n",
            "['15-20', '56.6']\n",
            "['20-25', '81.6']\n"
          ]
        }
      ]
    },
    {
      "cell_type": "markdown",
      "metadata": {
        "id": "91Wng2TVeveX"
      },
      "source": [
        "## Activity 2: Using csv reader and writer\n",
        "described on slide 8 of Lecture 5. (5 points)"
      ]
    },
    {
      "cell_type": "code",
      "metadata": {
        "colab": {
          "resources": {
            "http://localhost:8080/nbextensions/google.colab/files.js": {
              "data": "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",
              "ok": true,
              "headers": [
                [
                  "content-type",
                  "application/javascript"
                ]
              ],
              "status": 200,
              "status_text": ""
            }
          },
          "base_uri": "https://localhost:8080/",
          "height": 109
        },
        "id": "ekhSG72gcDpv",
        "outputId": "0222c131-6efa-4334-98da-e39b49ebdcc5"
      },
      "source": [
        "import csv\n",
        "files.upload()"
      ],
      "execution_count": null,
      "outputs": [
        {
          "output_type": "display_data",
          "data": {
            "text/html": [
              "\n",
              "     <input type=\"file\" id=\"files-ae742884-6418-4a48-9dec-fa43ebee14a5\" name=\"files[]\" multiple disabled\n",
              "        style=\"border:none\" />\n",
              "     <output id=\"result-ae742884-6418-4a48-9dec-fa43ebee14a5\">\n",
              "      Upload widget is only available when the cell has been executed in the\n",
              "      current browser session. Please rerun this cell to enable.\n",
              "      </output>\n",
              "      <script src=\"/nbextensions/google.colab/files.js\"></script> "
            ],
            "text/plain": [
              "<IPython.core.display.HTML object>"
            ]
          },
          "metadata": {}
        },
        {
          "output_type": "stream",
          "name": "stdout",
          "text": [
            "Saving student_grades.csv to student_grades.csv\n"
          ]
        },
        {
          "output_type": "execute_result",
          "data": {
            "text/plain": [
              "{'student_grades.csv': b'student-id,ELA,Algebra,Chemistry,Economics,Physics,World History\\n1234,B,A-,B+,A,B,A-\\n3456,A-,A,B+,A,A-,C\\n3971,B,B+,C,C+,B,A-\\n4020,B-,A-,A,A-,B+,B\\n5091,A,C+,B-,A,B+,A\\n'}"
            ]
          },
          "metadata": {},
          "execution_count": 197
        }
      ]
    },
    {
      "cell_type": "code",
      "metadata": {
        "id": "98T7_kQ7fXM1"
      },
      "source": [
        "StudentGradesFile = open('student_grades.csv')\n",
        "StudentGradesReader = csv.reader(StudentGradesFile)\n",
        "GPA_LetterGrade_scale = {'A' : 4.0, 'A-': 3.75, 'B+': 3.5, 'B': 3.25, 'B-': 3, 'C+': 2.75, 'C': 2.5, 'C-': 2.25, 'F': 0}\n",
        "name_list = []\n",
        "GPA_list = []\n",
        "for row in list(StudentGradesReader)[1:]:\n",
        "  name_list.append(str(row[0]))\n",
        "  Student_Avg_GPA = (GPA_LetterGrade_scale[row[1]]+GPA_LetterGrade_scale[row[2]]+GPA_LetterGrade_scale[row[3]]+GPA_LetterGrade_scale[row[4]]+GPA_LetterGrade_scale[row[5]]+GPA_LetterGrade_scale[row[6]])/6\n",
        "  GPA_list.append(Student_Avg_GPA)"
      ],
      "execution_count": null,
      "outputs": []
    },
    {
      "cell_type": "code",
      "metadata": {
        "colab": {
          "base_uri": "https://localhost:8080/"
        },
        "id": "LItt2FpvgBQI",
        "outputId": "25177b24-9c99-4852-8264-7120c052c700"
      },
      "source": [
        "name_list"
      ],
      "execution_count": null,
      "outputs": [
        {
          "output_type": "execute_result",
          "data": {
            "text/plain": [
              "['1234', '3456', '3971', '4020', '5091']"
            ]
          },
          "metadata": {},
          "execution_count": 209
        }
      ]
    },
    {
      "cell_type": "code",
      "metadata": {
        "colab": {
          "base_uri": "https://localhost:8080/"
        },
        "id": "qPeWfqLdglv_",
        "outputId": "76360a2a-035e-4a28-f10c-ecba78f49312"
      },
      "source": [
        "GPA_list"
      ],
      "execution_count": null,
      "outputs": [
        {
          "output_type": "execute_result",
          "data": {
            "text/plain": [
              "[3.5833333333333335,\n",
              " 3.5833333333333335,\n",
              " 3.1666666666666665,\n",
              " 3.5416666666666665,\n",
              " 3.5416666666666665]"
            ]
          },
          "metadata": {},
          "execution_count": 210
        }
      ]
    },
    {
      "cell_type": "code",
      "metadata": {
        "colab": {
          "base_uri": "https://localhost:8080/"
        },
        "id": "9wEVcvaNjNas",
        "outputId": "e250ddbf-ee32-4869-d0bf-a07f7343248d"
      },
      "source": [
        "name_GPA = dict(zip(name_list,GPA_list))\n",
        "name_GPA"
      ],
      "execution_count": null,
      "outputs": [
        {
          "output_type": "execute_result",
          "data": {
            "text/plain": [
              "{'1234': 3.5833333333333335,\n",
              " '3456': 3.5833333333333335,\n",
              " '3971': 3.1666666666666665,\n",
              " '4020': 3.5416666666666665,\n",
              " '5091': 3.5416666666666665}"
            ]
          },
          "metadata": {},
          "execution_count": 248
        }
      ]
    },
    {
      "cell_type": "code",
      "metadata": {
        "id": "GNnKkslfmMNN"
      },
      "source": [
        "import csv\n",
        "GPA_file = open('Student_GPA_new_file.tsv','w')\n",
        "csvWriter = csv.writer(GPA_file,delimiter='\\t',lineterminator='\\n\\n\\n')\n",
        "csvWriter.writerow(['student_name','student_GPA'])\n",
        "csvWriter.writerow(['1234','3.5833333333333335'])\n",
        "csvWriter.writerow(['3456','3.5833333333333335'])\n",
        "csvWriter.writerow(['4020','3.5416666666666665'])\n",
        "csvWriter.writerow(['5091','3.5416666666666665'])\n",
        "csvWriter.writerow(['3971','3.1666666666666665'])\n",
        "GPA_file.close()"
      ],
      "execution_count": null,
      "outputs": []
    },
    {
      "cell_type": "code",
      "metadata": {
        "colab": {
          "base_uri": "https://localhost:8080/"
        },
        "id": "Z6-wzXLPo2AE",
        "outputId": "1c5182a4-f411-4d8c-8668-f92b7d6618bd"
      },
      "source": [
        "file1 = open('Student_GPA_new_file.tsv')\n",
        "outputReader = csv.reader(file1)\n",
        "for row in outputReader:\n",
        "    print(row)"
      ],
      "execution_count": null,
      "outputs": [
        {
          "output_type": "stream",
          "name": "stdout",
          "text": [
            "['student_name\\tstudent_GPA']\n",
            "[]\n",
            "[]\n",
            "['1234\\t3.5833333333333335']\n",
            "[]\n",
            "[]\n",
            "['3456\\t3.5833333333333335']\n",
            "[]\n",
            "[]\n",
            "['4020\\t3.5416666666666665']\n",
            "[]\n",
            "[]\n",
            "['5091\\t3.5416666666666665']\n",
            "[]\n",
            "[]\n",
            "['3971\\t3.1666666666666665']\n",
            "[]\n",
            "[]\n"
          ]
        }
      ]
    },
    {
      "cell_type": "markdown",
      "metadata": {
        "id": "e_E_IosUpCiF"
      },
      "source": [
        "## Activity 3: Read and write employee data from a csv using DictReader and DictWriter\n",
        " described on slide 11 of Lecture 5. (7 points)\n"
      ]
    },
    {
      "cell_type": "code",
      "metadata": {
        "colab": {
          "base_uri": "https://localhost:8080/"
        },
        "id": "r056lW6xesKo",
        "outputId": "582f2fb5-07a6-49d3-9785-c77357f04195"
      },
      "source": [
        "import csv\n",
        "NewEmployeeFile = open('new_employee.csv')\n",
        "NewEmployeeReader = csv.DictReader(NewEmployeeFile)\n",
        "new_bonus_data = []\n",
        "for row in NewEmployeeReader:\n",
        "  if int(row['YEARS_OF_SERVICE']) < 5:\n",
        "    row['BONUS_PAY'] = 12*0.25*int(row['SALARY']) \n",
        "  elif int(row['YEARS_OF_SERVICE']) >= 5 and int(row['YEARS_OF_SERVICE']) < 10:\n",
        "    row['BONUS_PAY'] = 12*0.35*int(row['SALARY'])\n",
        "  elif int(row['YEARS_OF_SERVICE']) >= 10 and int(row['YEARS_OF_SERVICE']) < 15:\n",
        "    row['BONUS_PAY'] = 12*0.45*int(row['SALARY'])\n",
        "  elif int(row['YEARS_OF_SERVICE']) >= 15 and int(row['YEARS_OF_SERVICE']) < 20:\n",
        "    row['BONUS_PAY'] = 12*0.75*int(row['SALARY'])\n",
        "  elif int(row['YEARS_OF_SERVICE']) >= 20 and int(row['YEARS_OF_SERVICE']) <= 25:\n",
        "    row['BONUS_PAY'] = 12*1*int(row['SALARY'])\n",
        "  new_bonus_data.append(row['BONUS_PAY'])\n",
        "  print('Row #'+ str(NewEmployeeReader.line_num)+' '+str(row))"
      ],
      "execution_count": null,
      "outputs": [
        {
          "output_type": "stream",
          "name": "stdout",
          "text": [
            "Row #2 OrderedDict([('EMPLOYEE_ID', '198'), ('FIRST_NAME', 'Donald'), ('LAST_NAME', 'OConnell'), ('EMAIL', 'DOCONNEL'), ('PHONE_NUMBER', '650.507.9833'), ('HIRE_DATE', '21-JUN-07'), ('JOB_ID', 'SH_CLERK'), ('SALARY', '2600'), ('BONUS_PAY', 14040.000000000002), ('MANAGER_ID', '124'), ('DEPARTMENT_ID', '50'), ('YEARS_OF_SERVICE', '14')])\n",
            "Row #3 OrderedDict([('EMPLOYEE_ID', '199'), ('FIRST_NAME', 'Douglas'), ('LAST_NAME', 'Grant'), ('EMAIL', 'DGRANT'), ('PHONE_NUMBER', '650.507.9844'), ('HIRE_DATE', '13-JAN-08'), ('JOB_ID', 'SH_CLERK'), ('SALARY', '2600'), ('BONUS_PAY', 14040.000000000002), ('MANAGER_ID', '124'), ('DEPARTMENT_ID', '50'), ('YEARS_OF_SERVICE', '13')])\n",
            "Row #4 OrderedDict([('EMPLOYEE_ID', '200'), ('FIRST_NAME', 'Jennifer'), ('LAST_NAME', 'Whalen'), ('EMAIL', 'JWHALEN'), ('PHONE_NUMBER', '515.123.4444'), ('HIRE_DATE', '17-SEP-03'), ('JOB_ID', 'AD_ASST'), ('SALARY', '4400'), ('BONUS_PAY', 39600.0), ('MANAGER_ID', '101'), ('DEPARTMENT_ID', '10'), ('YEARS_OF_SERVICE', '18')])\n",
            "Row #5 OrderedDict([('EMPLOYEE_ID', '201'), ('FIRST_NAME', 'Michael'), ('LAST_NAME', 'Hartstein'), ('EMAIL', 'MHARTSTE'), ('PHONE_NUMBER', '515.123.5555'), ('HIRE_DATE', '17-FEB-04'), ('JOB_ID', 'MK_MAN'), ('SALARY', '13000'), ('BONUS_PAY', 117000.0), ('MANAGER_ID', '100'), ('DEPARTMENT_ID', '20'), ('YEARS_OF_SERVICE', '17')])\n",
            "Row #6 OrderedDict([('EMPLOYEE_ID', '202'), ('FIRST_NAME', 'Pat'), ('LAST_NAME', 'Fay'), ('EMAIL', 'PFAY'), ('PHONE_NUMBER', '603.123.6666'), ('HIRE_DATE', '17-AUG-05'), ('JOB_ID', 'MK_REP'), ('SALARY', '6000'), ('BONUS_PAY', 54000.0), ('MANAGER_ID', '201'), ('DEPARTMENT_ID', '20'), ('YEARS_OF_SERVICE', '16')])\n",
            "Row #7 OrderedDict([('EMPLOYEE_ID', '203'), ('FIRST_NAME', 'Susan'), ('LAST_NAME', 'Mavris'), ('EMAIL', 'SMAVRIS'), ('PHONE_NUMBER', '515.123.7777'), ('HIRE_DATE', '07-JUN-02'), ('JOB_ID', 'HR_REP'), ('SALARY', '6500'), ('BONUS_PAY', 58500.0), ('MANAGER_ID', '101'), ('DEPARTMENT_ID', '40'), ('YEARS_OF_SERVICE', '19')])\n",
            "Row #8 OrderedDict([('EMPLOYEE_ID', '204'), ('FIRST_NAME', 'Hermann'), ('LAST_NAME', 'Baer'), ('EMAIL', 'HBAER'), ('PHONE_NUMBER', '515.123.8888'), ('HIRE_DATE', '07-JUN-02'), ('JOB_ID', 'PR_REP'), ('SALARY', '10000'), ('BONUS_PAY', 90000.0), ('MANAGER_ID', '101'), ('DEPARTMENT_ID', '70'), ('YEARS_OF_SERVICE', '19')])\n",
            "Row #9 OrderedDict([('EMPLOYEE_ID', '205'), ('FIRST_NAME', 'Shelley'), ('LAST_NAME', 'Higgins'), ('EMAIL', 'SHIGGINS'), ('PHONE_NUMBER', '515.123.8080'), ('HIRE_DATE', '07-JUN-02'), ('JOB_ID', 'AC_MGR'), ('SALARY', '12008'), ('BONUS_PAY', 108072.0), ('MANAGER_ID', '101'), ('DEPARTMENT_ID', '110'), ('YEARS_OF_SERVICE', '19')])\n",
            "Row #10 OrderedDict([('EMPLOYEE_ID', '206'), ('FIRST_NAME', 'William'), ('LAST_NAME', 'Gietz'), ('EMAIL', 'WGIETZ'), ('PHONE_NUMBER', '515.123.8181'), ('HIRE_DATE', '07-JUN-02'), ('JOB_ID', 'AC_ACCOUNT'), ('SALARY', '8300'), ('BONUS_PAY', 74700.0), ('MANAGER_ID', '205'), ('DEPARTMENT_ID', '110'), ('YEARS_OF_SERVICE', '19')])\n",
            "Row #11 OrderedDict([('EMPLOYEE_ID', '100'), ('FIRST_NAME', 'Steven'), ('LAST_NAME', 'King'), ('EMAIL', 'SKING'), ('PHONE_NUMBER', '515.123.4567'), ('HIRE_DATE', '17-JUN-03'), ('JOB_ID', 'AD_PRES'), ('SALARY', '24000'), ('BONUS_PAY', 216000.0), ('MANAGER_ID', ' - '), ('DEPARTMENT_ID', '90'), ('YEARS_OF_SERVICE', '18')])\n",
            "Row #12 OrderedDict([('EMPLOYEE_ID', '101'), ('FIRST_NAME', 'Neena'), ('LAST_NAME', 'Kochhar'), ('EMAIL', 'NKOCHHAR'), ('PHONE_NUMBER', '515.123.4568'), ('HIRE_DATE', '21-SEP-05'), ('JOB_ID', 'AD_VP'), ('SALARY', '17000'), ('BONUS_PAY', 153000.0), ('MANAGER_ID', '100'), ('DEPARTMENT_ID', '90'), ('YEARS_OF_SERVICE', '16')])\n",
            "Row #13 OrderedDict([('EMPLOYEE_ID', '102'), ('FIRST_NAME', 'Lex'), ('LAST_NAME', 'De Haan'), ('EMAIL', 'LDEHAAN'), ('PHONE_NUMBER', '515.123.4569'), ('HIRE_DATE', '13-JAN-01'), ('JOB_ID', 'AD_VP'), ('SALARY', '17000'), ('BONUS_PAY', 204000), ('MANAGER_ID', '100'), ('DEPARTMENT_ID', '90'), ('YEARS_OF_SERVICE', '20')])\n",
            "Row #14 OrderedDict([('EMPLOYEE_ID', '103'), ('FIRST_NAME', 'Alexander'), ('LAST_NAME', 'Hunold'), ('EMAIL', 'AHUNOLD'), ('PHONE_NUMBER', '590.423.4567'), ('HIRE_DATE', '03-JAN-06'), ('JOB_ID', 'IT_PROG'), ('SALARY', '9000'), ('BONUS_PAY', 81000.0), ('MANAGER_ID', '102'), ('DEPARTMENT_ID', '60'), ('YEARS_OF_SERVICE', '15')])\n",
            "Row #15 OrderedDict([('EMPLOYEE_ID', '104'), ('FIRST_NAME', 'Bruce'), ('LAST_NAME', 'Ernst'), ('EMAIL', 'BERNST'), ('PHONE_NUMBER', '590.423.4568'), ('HIRE_DATE', '21-MAY-07'), ('JOB_ID', 'IT_PROG'), ('SALARY', '6000'), ('BONUS_PAY', 32400.000000000004), ('MANAGER_ID', '103'), ('DEPARTMENT_ID', '60'), ('YEARS_OF_SERVICE', '14')])\n",
            "Row #16 OrderedDict([('EMPLOYEE_ID', '105'), ('FIRST_NAME', 'David'), ('LAST_NAME', 'Austin'), ('EMAIL', 'DAUSTIN'), ('PHONE_NUMBER', '590.423.4569'), ('HIRE_DATE', '25-JUN-05'), ('JOB_ID', 'IT_PROG'), ('SALARY', '4800'), ('BONUS_PAY', 43200.0), ('MANAGER_ID', '103'), ('DEPARTMENT_ID', '60'), ('YEARS_OF_SERVICE', '16')])\n",
            "Row #17 OrderedDict([('EMPLOYEE_ID', '106'), ('FIRST_NAME', 'Valli'), ('LAST_NAME', 'Pataballa'), ('EMAIL', 'VPATABAL'), ('PHONE_NUMBER', '590.423.4560'), ('HIRE_DATE', '05-FEB-06'), ('JOB_ID', 'IT_PROG'), ('SALARY', '4800'), ('BONUS_PAY', 43200.0), ('MANAGER_ID', '103'), ('DEPARTMENT_ID', '60'), ('YEARS_OF_SERVICE', '15')])\n",
            "Row #18 OrderedDict([('EMPLOYEE_ID', '107'), ('FIRST_NAME', 'Diana'), ('LAST_NAME', 'Lorentz'), ('EMAIL', 'DLORENTZ'), ('PHONE_NUMBER', '590.423.5567'), ('HIRE_DATE', '07-FEB-07'), ('JOB_ID', 'IT_PROG'), ('SALARY', '4200'), ('BONUS_PAY', 22680.0), ('MANAGER_ID', '103'), ('DEPARTMENT_ID', '60'), ('YEARS_OF_SERVICE', '14')])\n",
            "Row #19 OrderedDict([('EMPLOYEE_ID', '108'), ('FIRST_NAME', 'Nancy'), ('LAST_NAME', 'Greenberg'), ('EMAIL', 'NGREENBE'), ('PHONE_NUMBER', '515.124.4569'), ('HIRE_DATE', '17-AUG-02'), ('JOB_ID', 'FI_MGR'), ('SALARY', '12008'), ('BONUS_PAY', 108072.0), ('MANAGER_ID', '101'), ('DEPARTMENT_ID', '100'), ('YEARS_OF_SERVICE', '19')])\n",
            "Row #20 OrderedDict([('EMPLOYEE_ID', '109'), ('FIRST_NAME', 'Daniel'), ('LAST_NAME', 'Faviet'), ('EMAIL', 'DFAVIET'), ('PHONE_NUMBER', '515.124.4169'), ('HIRE_DATE', '16-AUG-02'), ('JOB_ID', 'FI_ACCOUNT'), ('SALARY', '9000'), ('BONUS_PAY', 81000.0), ('MANAGER_ID', '108'), ('DEPARTMENT_ID', '100'), ('YEARS_OF_SERVICE', '19')])\n",
            "Row #21 OrderedDict([('EMPLOYEE_ID', '110'), ('FIRST_NAME', 'John'), ('LAST_NAME', 'Chen'), ('EMAIL', 'JCHEN'), ('PHONE_NUMBER', '515.124.4269'), ('HIRE_DATE', '28-SEP-05'), ('JOB_ID', 'FI_ACCOUNT'), ('SALARY', '8200'), ('BONUS_PAY', 73800.0), ('MANAGER_ID', '108'), ('DEPARTMENT_ID', '100'), ('YEARS_OF_SERVICE', '16')])\n",
            "Row #22 OrderedDict([('EMPLOYEE_ID', '111'), ('FIRST_NAME', 'Ismael'), ('LAST_NAME', 'Sciarra'), ('EMAIL', 'ISCIARRA'), ('PHONE_NUMBER', '515.124.4369'), ('HIRE_DATE', '30-SEP-05'), ('JOB_ID', 'FI_ACCOUNT'), ('SALARY', '7700'), ('BONUS_PAY', 69300.0), ('MANAGER_ID', '108'), ('DEPARTMENT_ID', '100'), ('YEARS_OF_SERVICE', '16')])\n",
            "Row #23 OrderedDict([('EMPLOYEE_ID', '112'), ('FIRST_NAME', 'Jose Manuel'), ('LAST_NAME', 'Urman'), ('EMAIL', 'JMURMAN'), ('PHONE_NUMBER', '515.124.4469'), ('HIRE_DATE', '07-MAR-06'), ('JOB_ID', 'FI_ACCOUNT'), ('SALARY', '7800'), ('BONUS_PAY', 70200.0), ('MANAGER_ID', '108'), ('DEPARTMENT_ID', '100'), ('YEARS_OF_SERVICE', '15')])\n",
            "Row #24 OrderedDict([('EMPLOYEE_ID', '113'), ('FIRST_NAME', 'Luis'), ('LAST_NAME', 'Popp'), ('EMAIL', 'LPOPP'), ('PHONE_NUMBER', '515.124.4567'), ('HIRE_DATE', '07-DEC-07'), ('JOB_ID', 'FI_ACCOUNT'), ('SALARY', '6900'), ('BONUS_PAY', 37260.0), ('MANAGER_ID', '108'), ('DEPARTMENT_ID', '100'), ('YEARS_OF_SERVICE', '14')])\n",
            "Row #25 OrderedDict([('EMPLOYEE_ID', '114'), ('FIRST_NAME', 'Den'), ('LAST_NAME', 'Raphaely'), ('EMAIL', 'DRAPHEAL'), ('PHONE_NUMBER', '515.127.4561'), ('HIRE_DATE', '07-DEC-02'), ('JOB_ID', 'PU_MAN'), ('SALARY', '11000'), ('BONUS_PAY', 99000.0), ('MANAGER_ID', '100'), ('DEPARTMENT_ID', '30'), ('YEARS_OF_SERVICE', '19')])\n",
            "Row #26 OrderedDict([('EMPLOYEE_ID', '115'), ('FIRST_NAME', 'Alexander'), ('LAST_NAME', 'Khoo'), ('EMAIL', 'AKHOO'), ('PHONE_NUMBER', '515.127.4562'), ('HIRE_DATE', '18-MAY-03'), ('JOB_ID', 'PU_CLERK'), ('SALARY', '3100'), ('BONUS_PAY', 27900.0), ('MANAGER_ID', '114'), ('DEPARTMENT_ID', '30'), ('YEARS_OF_SERVICE', '18')])\n",
            "Row #27 OrderedDict([('EMPLOYEE_ID', '116'), ('FIRST_NAME', 'Shelli'), ('LAST_NAME', 'Baida'), ('EMAIL', 'SBAIDA'), ('PHONE_NUMBER', '515.127.4563'), ('HIRE_DATE', '24-DEC-05'), ('JOB_ID', 'PU_CLERK'), ('SALARY', '2900'), ('BONUS_PAY', 26100.0), ('MANAGER_ID', '114'), ('DEPARTMENT_ID', '30'), ('YEARS_OF_SERVICE', '16')])\n",
            "Row #28 OrderedDict([('EMPLOYEE_ID', '117'), ('FIRST_NAME', 'Sigal'), ('LAST_NAME', 'Tobias'), ('EMAIL', 'STOBIAS'), ('PHONE_NUMBER', '515.127.4564'), ('HIRE_DATE', '24-JUL-05'), ('JOB_ID', 'PU_CLERK'), ('SALARY', '2800'), ('BONUS_PAY', 25200.0), ('MANAGER_ID', '114'), ('DEPARTMENT_ID', '30'), ('YEARS_OF_SERVICE', '16')])\n",
            "Row #29 OrderedDict([('EMPLOYEE_ID', '118'), ('FIRST_NAME', 'Guy'), ('LAST_NAME', 'Himuro'), ('EMAIL', 'GHIMURO'), ('PHONE_NUMBER', '515.127.4565'), ('HIRE_DATE', '15-NOV-06'), ('JOB_ID', 'PU_CLERK'), ('SALARY', '2600'), ('BONUS_PAY', 23400.0), ('MANAGER_ID', '114'), ('DEPARTMENT_ID', '30'), ('YEARS_OF_SERVICE', '15')])\n",
            "Row #30 OrderedDict([('EMPLOYEE_ID', '119'), ('FIRST_NAME', 'Karen'), ('LAST_NAME', 'Colmenares'), ('EMAIL', 'KCOLMENA'), ('PHONE_NUMBER', '515.127.4566'), ('HIRE_DATE', '10-AUG-07'), ('JOB_ID', 'PU_CLERK'), ('SALARY', '2500'), ('BONUS_PAY', 13500.0), ('MANAGER_ID', '114'), ('DEPARTMENT_ID', '30'), ('YEARS_OF_SERVICE', '14')])\n",
            "Row #31 OrderedDict([('EMPLOYEE_ID', '120'), ('FIRST_NAME', 'Matthew'), ('LAST_NAME', 'Weiss'), ('EMAIL', 'MWEISS'), ('PHONE_NUMBER', '650.123.1234'), ('HIRE_DATE', '18-JUL-04'), ('JOB_ID', 'ST_MAN'), ('SALARY', '8000'), ('BONUS_PAY', 72000.0), ('MANAGER_ID', '100'), ('DEPARTMENT_ID', '50'), ('YEARS_OF_SERVICE', '17')])\n",
            "Row #32 OrderedDict([('EMPLOYEE_ID', '121'), ('FIRST_NAME', 'Adam'), ('LAST_NAME', 'Fripp'), ('EMAIL', 'AFRIPP'), ('PHONE_NUMBER', '650.123.2234'), ('HIRE_DATE', '10-APR-05'), ('JOB_ID', 'ST_MAN'), ('SALARY', '8200'), ('BONUS_PAY', 73800.0), ('MANAGER_ID', '100'), ('DEPARTMENT_ID', '50'), ('YEARS_OF_SERVICE', '16')])\n",
            "Row #33 OrderedDict([('EMPLOYEE_ID', '122'), ('FIRST_NAME', 'Payam'), ('LAST_NAME', 'Kaufling'), ('EMAIL', 'PKAUFLIN'), ('PHONE_NUMBER', '650.123.3234'), ('HIRE_DATE', '01-MAY-03'), ('JOB_ID', 'ST_MAN'), ('SALARY', '7900'), ('BONUS_PAY', 71100.0), ('MANAGER_ID', '100'), ('DEPARTMENT_ID', '50'), ('YEARS_OF_SERVICE', '18')])\n",
            "Row #34 OrderedDict([('EMPLOYEE_ID', '123'), ('FIRST_NAME', 'Shanta'), ('LAST_NAME', 'Vollman'), ('EMAIL', 'SVOLLMAN'), ('PHONE_NUMBER', '650.123.4234'), ('HIRE_DATE', '10-OCT-05'), ('JOB_ID', 'ST_MAN'), ('SALARY', '6500'), ('BONUS_PAY', 58500.0), ('MANAGER_ID', '100'), ('DEPARTMENT_ID', '50'), ('YEARS_OF_SERVICE', '16')])\n",
            "Row #35 OrderedDict([('EMPLOYEE_ID', '124'), ('FIRST_NAME', 'Kevin'), ('LAST_NAME', 'Mourgos'), ('EMAIL', 'KMOURGOS'), ('PHONE_NUMBER', '650.123.5234'), ('HIRE_DATE', '16-NOV-07'), ('JOB_ID', 'ST_MAN'), ('SALARY', '5800'), ('BONUS_PAY', 31320.000000000004), ('MANAGER_ID', '100'), ('DEPARTMENT_ID', '50'), ('YEARS_OF_SERVICE', '14')])\n",
            "Row #36 OrderedDict([('EMPLOYEE_ID', '125'), ('FIRST_NAME', 'Julia'), ('LAST_NAME', 'Nayer'), ('EMAIL', 'JNAYER'), ('PHONE_NUMBER', '650.124.1214'), ('HIRE_DATE', '16-JUL-05'), ('JOB_ID', 'ST_CLERK'), ('SALARY', '3200'), ('BONUS_PAY', 28800.0), ('MANAGER_ID', '120'), ('DEPARTMENT_ID', '50'), ('YEARS_OF_SERVICE', '16')])\n",
            "Row #37 OrderedDict([('EMPLOYEE_ID', '126'), ('FIRST_NAME', 'Irene'), ('LAST_NAME', 'Mikkilineni'), ('EMAIL', 'IMIKKILI'), ('PHONE_NUMBER', '650.124.1224'), ('HIRE_DATE', '28-SEP-06'), ('JOB_ID', 'ST_CLERK'), ('SALARY', '2700'), ('BONUS_PAY', 24300.0), ('MANAGER_ID', '120'), ('DEPARTMENT_ID', '50'), ('YEARS_OF_SERVICE', '15')])\n",
            "Row #38 OrderedDict([('EMPLOYEE_ID', '127'), ('FIRST_NAME', 'James'), ('LAST_NAME', 'Landry'), ('EMAIL', 'JLANDRY'), ('PHONE_NUMBER', '650.124.1334'), ('HIRE_DATE', '14-JAN-07'), ('JOB_ID', 'ST_CLERK'), ('SALARY', '2400'), ('BONUS_PAY', 12960.0), ('MANAGER_ID', '120'), ('DEPARTMENT_ID', '50'), ('YEARS_OF_SERVICE', '14')])\n",
            "Row #39 OrderedDict([('EMPLOYEE_ID', '128'), ('FIRST_NAME', 'Steven'), ('LAST_NAME', 'Markle'), ('EMAIL', 'SMARKLE'), ('PHONE_NUMBER', '650.124.1434'), ('HIRE_DATE', '08-MAR-08'), ('JOB_ID', 'ST_CLERK'), ('SALARY', '2200'), ('BONUS_PAY', 11880.0), ('MANAGER_ID', '120'), ('DEPARTMENT_ID', '50'), ('YEARS_OF_SERVICE', '13')])\n",
            "Row #40 OrderedDict([('EMPLOYEE_ID', '129'), ('FIRST_NAME', 'Laura'), ('LAST_NAME', 'Bissot'), ('EMAIL', 'LBISSOT'), ('PHONE_NUMBER', '650.124.5234'), ('HIRE_DATE', '20-AUG-05'), ('JOB_ID', 'ST_CLERK'), ('SALARY', '3300'), ('BONUS_PAY', 29700.0), ('MANAGER_ID', '121'), ('DEPARTMENT_ID', '50'), ('YEARS_OF_SERVICE', '16')])\n",
            "Row #41 OrderedDict([('EMPLOYEE_ID', '130'), ('FIRST_NAME', 'Mozhe'), ('LAST_NAME', 'Atkinson'), ('EMAIL', 'MATKINSO'), ('PHONE_NUMBER', '650.124.6234'), ('HIRE_DATE', '30-OCT-05'), ('JOB_ID', 'ST_CLERK'), ('SALARY', '2800'), ('BONUS_PAY', 25200.0), ('MANAGER_ID', '121'), ('DEPARTMENT_ID', '50'), ('YEARS_OF_SERVICE', '16')])\n",
            "Row #42 OrderedDict([('EMPLOYEE_ID', '131'), ('FIRST_NAME', 'James'), ('LAST_NAME', 'Marlow'), ('EMAIL', 'JAMRLOW'), ('PHONE_NUMBER', '650.124.7234'), ('HIRE_DATE', '16-FEB-05'), ('JOB_ID', 'ST_CLERK'), ('SALARY', '2500'), ('BONUS_PAY', 22500.0), ('MANAGER_ID', '121'), ('DEPARTMENT_ID', '50'), ('YEARS_OF_SERVICE', '16')])\n",
            "Row #43 OrderedDict([('EMPLOYEE_ID', '132'), ('FIRST_NAME', 'TJ'), ('LAST_NAME', 'Olson'), ('EMAIL', 'TJOLSON'), ('PHONE_NUMBER', '650.124.8234'), ('HIRE_DATE', '10-APR-07'), ('JOB_ID', 'ST_CLERK'), ('SALARY', '2100'), ('BONUS_PAY', 11340.0), ('MANAGER_ID', '121'), ('DEPARTMENT_ID', '50'), ('YEARS_OF_SERVICE', '14')])\n",
            "Row #44 OrderedDict([('EMPLOYEE_ID', '133'), ('FIRST_NAME', 'Jason'), ('LAST_NAME', 'Mallin'), ('EMAIL', 'JMALLIN'), ('PHONE_NUMBER', '650.127.1934'), ('HIRE_DATE', '14-JUN-04'), ('JOB_ID', 'ST_CLERK'), ('SALARY', '3300'), ('BONUS_PAY', 29700.0), ('MANAGER_ID', '122'), ('DEPARTMENT_ID', '50'), ('YEARS_OF_SERVICE', '17')])\n",
            "Row #45 OrderedDict([('EMPLOYEE_ID', '134'), ('FIRST_NAME', 'Michael'), ('LAST_NAME', 'Rogers'), ('EMAIL', 'MROGERS'), ('PHONE_NUMBER', '650.127.1834'), ('HIRE_DATE', '26-AUG-06'), ('JOB_ID', 'ST_CLERK'), ('SALARY', '2900'), ('BONUS_PAY', 26100.0), ('MANAGER_ID', '122'), ('DEPARTMENT_ID', '50'), ('YEARS_OF_SERVICE', '15')])\n",
            "Row #46 OrderedDict([('EMPLOYEE_ID', '135'), ('FIRST_NAME', 'Ki'), ('LAST_NAME', 'Gee'), ('EMAIL', 'KGEE'), ('PHONE_NUMBER', '650.127.1734'), ('HIRE_DATE', '12-DEC-07'), ('JOB_ID', 'ST_CLERK'), ('SALARY', '2400'), ('BONUS_PAY', 12960.0), ('MANAGER_ID', '122'), ('DEPARTMENT_ID', '50'), ('YEARS_OF_SERVICE', '14')])\n",
            "Row #47 OrderedDict([('EMPLOYEE_ID', '136'), ('FIRST_NAME', 'Hazel'), ('LAST_NAME', 'Philtanker'), ('EMAIL', 'HPHILTAN'), ('PHONE_NUMBER', '650.127.1634'), ('HIRE_DATE', '06-FEB-08'), ('JOB_ID', 'ST_CLERK'), ('SALARY', '2200'), ('BONUS_PAY', 11880.0), ('MANAGER_ID', '122'), ('DEPARTMENT_ID', '50'), ('YEARS_OF_SERVICE', '13')])\n",
            "Row #48 OrderedDict([('EMPLOYEE_ID', '137'), ('FIRST_NAME', 'Renske'), ('LAST_NAME', 'Ladwig'), ('EMAIL', 'RLADWIG'), ('PHONE_NUMBER', '650.121.1234'), ('HIRE_DATE', '14-JUL-03'), ('JOB_ID', 'ST_CLERK'), ('SALARY', '3600'), ('BONUS_PAY', 32400.0), ('MANAGER_ID', '123'), ('DEPARTMENT_ID', '50'), ('YEARS_OF_SERVICE', '18')])\n",
            "Row #49 OrderedDict([('EMPLOYEE_ID', '138'), ('FIRST_NAME', 'Stephen'), ('LAST_NAME', 'Stiles'), ('EMAIL', 'SSTILES'), ('PHONE_NUMBER', '650.121.2034'), ('HIRE_DATE', '26-OCT-05'), ('JOB_ID', 'ST_CLERK'), ('SALARY', '3200'), ('BONUS_PAY', 28800.0), ('MANAGER_ID', '123'), ('DEPARTMENT_ID', '50'), ('YEARS_OF_SERVICE', '16')])\n",
            "Row #50 OrderedDict([('EMPLOYEE_ID', '139'), ('FIRST_NAME', 'John'), ('LAST_NAME', 'Seo'), ('EMAIL', 'JSEO'), ('PHONE_NUMBER', '650.121.2019'), ('HIRE_DATE', '12-FEB-06'), ('JOB_ID', 'ST_CLERK'), ('SALARY', '2700'), ('BONUS_PAY', 24300.0), ('MANAGER_ID', '123'), ('DEPARTMENT_ID', '50'), ('YEARS_OF_SERVICE', '15')])\n",
            "Row #51 OrderedDict([('EMPLOYEE_ID', '140'), ('FIRST_NAME', 'Joshua'), ('LAST_NAME', 'Patel'), ('EMAIL', 'JPATEL'), ('PHONE_NUMBER', '650.121.1834'), ('HIRE_DATE', '06-APR-06'), ('JOB_ID', 'ST_CLERK'), ('SALARY', '2500'), ('BONUS_PAY', 22500.0), ('MANAGER_ID', '123'), ('DEPARTMENT_ID', '50'), ('YEARS_OF_SERVICE', '15')])\n"
          ]
        }
      ]
    },
    {
      "cell_type": "code",
      "metadata": {
        "colab": {
          "base_uri": "https://localhost:8080/"
        },
        "id": "4c43YqxYe0Pj",
        "outputId": "bbfda3fa-8b7e-4ac2-be6d-34dbdd22f26f"
      },
      "source": [
        "sum(new_bonus_data)"
      ],
      "execution_count": null,
      "outputs": [
        {
          "output_type": "execute_result",
          "data": {
            "text/plain": [
              "2682204.0"
            ]
          },
          "metadata": {},
          "execution_count": 439
        }
      ]
    },
    {
      "cell_type": "markdown",
      "metadata": {
        "id": "Hw9W_n3fe2-x"
      },
      "source": [
        "So by using the csv.DictReader we stil find the total amount of bonus is over our budget, being 2,682,204.00 USD. So we need to again design a new bonus plan."
      ]
    },
    {
      "cell_type": "code",
      "metadata": {
        "colab": {
          "base_uri": "https://localhost:8080/"
        },
        "id": "IckxBhtz10Qi",
        "outputId": "f6e14163-ac5f-4c23-d76d-1f5d1a938f65"
      },
      "source": [
        "import csv\n",
        "NewEmployeeFile = open('new_employee.csv')\n",
        "NewEmployeeReader = csv.DictReader(NewEmployeeFile)\n",
        "new_bonus_data = []\n",
        "for row in NewEmployeeReader:\n",
        "  if int(row['YEARS_OF_SERVICE']) < 5:\n",
        "    row['BONUS_PAY'] = 12*(0.25-0.184)*int(row['SALARY']) \n",
        "  elif int(row['YEARS_OF_SERVICE']) >= 5 and int(row['YEARS_OF_SERVICE']) < 10:\n",
        "    row['BONUS_PAY'] = 12*(0.35-0.184)*int(row['SALARY'])\n",
        "  elif int(row['YEARS_OF_SERVICE']) >= 10 and int(row['YEARS_OF_SERVICE']) < 15:\n",
        "    row['BONUS_PAY'] = 12*(0.45-0.184)*int(row['SALARY'])\n",
        "  elif int(row['YEARS_OF_SERVICE']) >= 15 and int(row['YEARS_OF_SERVICE']) < 20:\n",
        "    row['BONUS_PAY'] = 12*(0.75-0.184)*int(row['SALARY'])\n",
        "  elif int(row['YEARS_OF_SERVICE']) >= 20 and int(row['YEARS_OF_SERVICE']) <= 25:\n",
        "    row['BONUS_PAY'] = 12*(1-0.184)*int(row['SALARY'])\n",
        "  new_bonus_data.append(row['BONUS_PAY'])\n",
        "  print('Row #'+ str(NewEmployeeReader.line_num)+' '+str(row))"
      ],
      "execution_count": null,
      "outputs": [
        {
          "output_type": "stream",
          "name": "stdout",
          "text": [
            "Row #2 OrderedDict([('EMPLOYEE_ID', '198'), ('FIRST_NAME', 'Donald'), ('LAST_NAME', 'OConnell'), ('EMAIL', 'DOCONNEL'), ('PHONE_NUMBER', '650.507.9833'), ('HIRE_DATE', '21-JUN-07'), ('JOB_ID', 'SH_CLERK'), ('SALARY', '2600'), ('BONUS_PAY', 8299.2), ('MANAGER_ID', '124'), ('DEPARTMENT_ID', '50'), ('YEARS_OF_SERVICE', '14')])\n",
            "Row #3 OrderedDict([('EMPLOYEE_ID', '199'), ('FIRST_NAME', 'Douglas'), ('LAST_NAME', 'Grant'), ('EMAIL', 'DGRANT'), ('PHONE_NUMBER', '650.507.9844'), ('HIRE_DATE', '13-JAN-08'), ('JOB_ID', 'SH_CLERK'), ('SALARY', '2600'), ('BONUS_PAY', 8299.2), ('MANAGER_ID', '124'), ('DEPARTMENT_ID', '50'), ('YEARS_OF_SERVICE', '13')])\n",
            "Row #4 OrderedDict([('EMPLOYEE_ID', '200'), ('FIRST_NAME', 'Jennifer'), ('LAST_NAME', 'Whalen'), ('EMAIL', 'JWHALEN'), ('PHONE_NUMBER', '515.123.4444'), ('HIRE_DATE', '17-SEP-03'), ('JOB_ID', 'AD_ASST'), ('SALARY', '4400'), ('BONUS_PAY', 29884.800000000003), ('MANAGER_ID', '101'), ('DEPARTMENT_ID', '10'), ('YEARS_OF_SERVICE', '18')])\n",
            "Row #5 OrderedDict([('EMPLOYEE_ID', '201'), ('FIRST_NAME', 'Michael'), ('LAST_NAME', 'Hartstein'), ('EMAIL', 'MHARTSTE'), ('PHONE_NUMBER', '515.123.5555'), ('HIRE_DATE', '17-FEB-04'), ('JOB_ID', 'MK_MAN'), ('SALARY', '13000'), ('BONUS_PAY', 88296.00000000001), ('MANAGER_ID', '100'), ('DEPARTMENT_ID', '20'), ('YEARS_OF_SERVICE', '17')])\n",
            "Row #6 OrderedDict([('EMPLOYEE_ID', '202'), ('FIRST_NAME', 'Pat'), ('LAST_NAME', 'Fay'), ('EMAIL', 'PFAY'), ('PHONE_NUMBER', '603.123.6666'), ('HIRE_DATE', '17-AUG-05'), ('JOB_ID', 'MK_REP'), ('SALARY', '6000'), ('BONUS_PAY', 40752.00000000001), ('MANAGER_ID', '201'), ('DEPARTMENT_ID', '20'), ('YEARS_OF_SERVICE', '16')])\n",
            "Row #7 OrderedDict([('EMPLOYEE_ID', '203'), ('FIRST_NAME', 'Susan'), ('LAST_NAME', 'Mavris'), ('EMAIL', 'SMAVRIS'), ('PHONE_NUMBER', '515.123.7777'), ('HIRE_DATE', '07-JUN-02'), ('JOB_ID', 'HR_REP'), ('SALARY', '6500'), ('BONUS_PAY', 44148.00000000001), ('MANAGER_ID', '101'), ('DEPARTMENT_ID', '40'), ('YEARS_OF_SERVICE', '19')])\n",
            "Row #8 OrderedDict([('EMPLOYEE_ID', '204'), ('FIRST_NAME', 'Hermann'), ('LAST_NAME', 'Baer'), ('EMAIL', 'HBAER'), ('PHONE_NUMBER', '515.123.8888'), ('HIRE_DATE', '07-JUN-02'), ('JOB_ID', 'PR_REP'), ('SALARY', '10000'), ('BONUS_PAY', 67920.0), ('MANAGER_ID', '101'), ('DEPARTMENT_ID', '70'), ('YEARS_OF_SERVICE', '19')])\n",
            "Row #9 OrderedDict([('EMPLOYEE_ID', '205'), ('FIRST_NAME', 'Shelley'), ('LAST_NAME', 'Higgins'), ('EMAIL', 'SHIGGINS'), ('PHONE_NUMBER', '515.123.8080'), ('HIRE_DATE', '07-JUN-02'), ('JOB_ID', 'AC_MGR'), ('SALARY', '12008'), ('BONUS_PAY', 81558.33600000001), ('MANAGER_ID', '101'), ('DEPARTMENT_ID', '110'), ('YEARS_OF_SERVICE', '19')])\n",
            "Row #10 OrderedDict([('EMPLOYEE_ID', '206'), ('FIRST_NAME', 'William'), ('LAST_NAME', 'Gietz'), ('EMAIL', 'WGIETZ'), ('PHONE_NUMBER', '515.123.8181'), ('HIRE_DATE', '07-JUN-02'), ('JOB_ID', 'AC_ACCOUNT'), ('SALARY', '8300'), ('BONUS_PAY', 56373.600000000006), ('MANAGER_ID', '205'), ('DEPARTMENT_ID', '110'), ('YEARS_OF_SERVICE', '19')])\n",
            "Row #11 OrderedDict([('EMPLOYEE_ID', '100'), ('FIRST_NAME', 'Steven'), ('LAST_NAME', 'King'), ('EMAIL', 'SKING'), ('PHONE_NUMBER', '515.123.4567'), ('HIRE_DATE', '17-JUN-03'), ('JOB_ID', 'AD_PRES'), ('SALARY', '24000'), ('BONUS_PAY', 163008.00000000003), ('MANAGER_ID', ' - '), ('DEPARTMENT_ID', '90'), ('YEARS_OF_SERVICE', '18')])\n",
            "Row #12 OrderedDict([('EMPLOYEE_ID', '101'), ('FIRST_NAME', 'Neena'), ('LAST_NAME', 'Kochhar'), ('EMAIL', 'NKOCHHAR'), ('PHONE_NUMBER', '515.123.4568'), ('HIRE_DATE', '21-SEP-05'), ('JOB_ID', 'AD_VP'), ('SALARY', '17000'), ('BONUS_PAY', 115464.00000000001), ('MANAGER_ID', '100'), ('DEPARTMENT_ID', '90'), ('YEARS_OF_SERVICE', '16')])\n",
            "Row #13 OrderedDict([('EMPLOYEE_ID', '102'), ('FIRST_NAME', 'Lex'), ('LAST_NAME', 'De Haan'), ('EMAIL', 'LDEHAAN'), ('PHONE_NUMBER', '515.123.4569'), ('HIRE_DATE', '13-JAN-01'), ('JOB_ID', 'AD_VP'), ('SALARY', '17000'), ('BONUS_PAY', 166464.00000000003), ('MANAGER_ID', '100'), ('DEPARTMENT_ID', '90'), ('YEARS_OF_SERVICE', '20')])\n",
            "Row #14 OrderedDict([('EMPLOYEE_ID', '103'), ('FIRST_NAME', 'Alexander'), ('LAST_NAME', 'Hunold'), ('EMAIL', 'AHUNOLD'), ('PHONE_NUMBER', '590.423.4567'), ('HIRE_DATE', '03-JAN-06'), ('JOB_ID', 'IT_PROG'), ('SALARY', '9000'), ('BONUS_PAY', 61128.00000000001), ('MANAGER_ID', '102'), ('DEPARTMENT_ID', '60'), ('YEARS_OF_SERVICE', '15')])\n",
            "Row #15 OrderedDict([('EMPLOYEE_ID', '104'), ('FIRST_NAME', 'Bruce'), ('LAST_NAME', 'Ernst'), ('EMAIL', 'BERNST'), ('PHONE_NUMBER', '590.423.4568'), ('HIRE_DATE', '21-MAY-07'), ('JOB_ID', 'IT_PROG'), ('SALARY', '6000'), ('BONUS_PAY', 19152.0), ('MANAGER_ID', '103'), ('DEPARTMENT_ID', '60'), ('YEARS_OF_SERVICE', '14')])\n",
            "Row #16 OrderedDict([('EMPLOYEE_ID', '105'), ('FIRST_NAME', 'David'), ('LAST_NAME', 'Austin'), ('EMAIL', 'DAUSTIN'), ('PHONE_NUMBER', '590.423.4569'), ('HIRE_DATE', '25-JUN-05'), ('JOB_ID', 'IT_PROG'), ('SALARY', '4800'), ('BONUS_PAY', 32601.600000000002), ('MANAGER_ID', '103'), ('DEPARTMENT_ID', '60'), ('YEARS_OF_SERVICE', '16')])\n",
            "Row #17 OrderedDict([('EMPLOYEE_ID', '106'), ('FIRST_NAME', 'Valli'), ('LAST_NAME', 'Pataballa'), ('EMAIL', 'VPATABAL'), ('PHONE_NUMBER', '590.423.4560'), ('HIRE_DATE', '05-FEB-06'), ('JOB_ID', 'IT_PROG'), ('SALARY', '4800'), ('BONUS_PAY', 32601.600000000002), ('MANAGER_ID', '103'), ('DEPARTMENT_ID', '60'), ('YEARS_OF_SERVICE', '15')])\n",
            "Row #18 OrderedDict([('EMPLOYEE_ID', '107'), ('FIRST_NAME', 'Diana'), ('LAST_NAME', 'Lorentz'), ('EMAIL', 'DLORENTZ'), ('PHONE_NUMBER', '590.423.5567'), ('HIRE_DATE', '07-FEB-07'), ('JOB_ID', 'IT_PROG'), ('SALARY', '4200'), ('BONUS_PAY', 13406.400000000001), ('MANAGER_ID', '103'), ('DEPARTMENT_ID', '60'), ('YEARS_OF_SERVICE', '14')])\n",
            "Row #19 OrderedDict([('EMPLOYEE_ID', '108'), ('FIRST_NAME', 'Nancy'), ('LAST_NAME', 'Greenberg'), ('EMAIL', 'NGREENBE'), ('PHONE_NUMBER', '515.124.4569'), ('HIRE_DATE', '17-AUG-02'), ('JOB_ID', 'FI_MGR'), ('SALARY', '12008'), ('BONUS_PAY', 81558.33600000001), ('MANAGER_ID', '101'), ('DEPARTMENT_ID', '100'), ('YEARS_OF_SERVICE', '19')])\n",
            "Row #20 OrderedDict([('EMPLOYEE_ID', '109'), ('FIRST_NAME', 'Daniel'), ('LAST_NAME', 'Faviet'), ('EMAIL', 'DFAVIET'), ('PHONE_NUMBER', '515.124.4169'), ('HIRE_DATE', '16-AUG-02'), ('JOB_ID', 'FI_ACCOUNT'), ('SALARY', '9000'), ('BONUS_PAY', 61128.00000000001), ('MANAGER_ID', '108'), ('DEPARTMENT_ID', '100'), ('YEARS_OF_SERVICE', '19')])\n",
            "Row #21 OrderedDict([('EMPLOYEE_ID', '110'), ('FIRST_NAME', 'John'), ('LAST_NAME', 'Chen'), ('EMAIL', 'JCHEN'), ('PHONE_NUMBER', '515.124.4269'), ('HIRE_DATE', '28-SEP-05'), ('JOB_ID', 'FI_ACCOUNT'), ('SALARY', '8200'), ('BONUS_PAY', 55694.40000000001), ('MANAGER_ID', '108'), ('DEPARTMENT_ID', '100'), ('YEARS_OF_SERVICE', '16')])\n",
            "Row #22 OrderedDict([('EMPLOYEE_ID', '111'), ('FIRST_NAME', 'Ismael'), ('LAST_NAME', 'Sciarra'), ('EMAIL', 'ISCIARRA'), ('PHONE_NUMBER', '515.124.4369'), ('HIRE_DATE', '30-SEP-05'), ('JOB_ID', 'FI_ACCOUNT'), ('SALARY', '7700'), ('BONUS_PAY', 52298.40000000001), ('MANAGER_ID', '108'), ('DEPARTMENT_ID', '100'), ('YEARS_OF_SERVICE', '16')])\n",
            "Row #23 OrderedDict([('EMPLOYEE_ID', '112'), ('FIRST_NAME', 'Jose Manuel'), ('LAST_NAME', 'Urman'), ('EMAIL', 'JMURMAN'), ('PHONE_NUMBER', '515.124.4469'), ('HIRE_DATE', '07-MAR-06'), ('JOB_ID', 'FI_ACCOUNT'), ('SALARY', '7800'), ('BONUS_PAY', 52977.600000000006), ('MANAGER_ID', '108'), ('DEPARTMENT_ID', '100'), ('YEARS_OF_SERVICE', '15')])\n",
            "Row #24 OrderedDict([('EMPLOYEE_ID', '113'), ('FIRST_NAME', 'Luis'), ('LAST_NAME', 'Popp'), ('EMAIL', 'LPOPP'), ('PHONE_NUMBER', '515.124.4567'), ('HIRE_DATE', '07-DEC-07'), ('JOB_ID', 'FI_ACCOUNT'), ('SALARY', '6900'), ('BONUS_PAY', 22024.800000000003), ('MANAGER_ID', '108'), ('DEPARTMENT_ID', '100'), ('YEARS_OF_SERVICE', '14')])\n",
            "Row #25 OrderedDict([('EMPLOYEE_ID', '114'), ('FIRST_NAME', 'Den'), ('LAST_NAME', 'Raphaely'), ('EMAIL', 'DRAPHEAL'), ('PHONE_NUMBER', '515.127.4561'), ('HIRE_DATE', '07-DEC-02'), ('JOB_ID', 'PU_MAN'), ('SALARY', '11000'), ('BONUS_PAY', 74712.00000000001), ('MANAGER_ID', '100'), ('DEPARTMENT_ID', '30'), ('YEARS_OF_SERVICE', '19')])\n",
            "Row #26 OrderedDict([('EMPLOYEE_ID', '115'), ('FIRST_NAME', 'Alexander'), ('LAST_NAME', 'Khoo'), ('EMAIL', 'AKHOO'), ('PHONE_NUMBER', '515.127.4562'), ('HIRE_DATE', '18-MAY-03'), ('JOB_ID', 'PU_CLERK'), ('SALARY', '3100'), ('BONUS_PAY', 21055.2), ('MANAGER_ID', '114'), ('DEPARTMENT_ID', '30'), ('YEARS_OF_SERVICE', '18')])\n",
            "Row #27 OrderedDict([('EMPLOYEE_ID', '116'), ('FIRST_NAME', 'Shelli'), ('LAST_NAME', 'Baida'), ('EMAIL', 'SBAIDA'), ('PHONE_NUMBER', '515.127.4563'), ('HIRE_DATE', '24-DEC-05'), ('JOB_ID', 'PU_CLERK'), ('SALARY', '2900'), ('BONUS_PAY', 19696.800000000003), ('MANAGER_ID', '114'), ('DEPARTMENT_ID', '30'), ('YEARS_OF_SERVICE', '16')])\n",
            "Row #28 OrderedDict([('EMPLOYEE_ID', '117'), ('FIRST_NAME', 'Sigal'), ('LAST_NAME', 'Tobias'), ('EMAIL', 'STOBIAS'), ('PHONE_NUMBER', '515.127.4564'), ('HIRE_DATE', '24-JUL-05'), ('JOB_ID', 'PU_CLERK'), ('SALARY', '2800'), ('BONUS_PAY', 19017.600000000002), ('MANAGER_ID', '114'), ('DEPARTMENT_ID', '30'), ('YEARS_OF_SERVICE', '16')])\n",
            "Row #29 OrderedDict([('EMPLOYEE_ID', '118'), ('FIRST_NAME', 'Guy'), ('LAST_NAME', 'Himuro'), ('EMAIL', 'GHIMURO'), ('PHONE_NUMBER', '515.127.4565'), ('HIRE_DATE', '15-NOV-06'), ('JOB_ID', 'PU_CLERK'), ('SALARY', '2600'), ('BONUS_PAY', 17659.2), ('MANAGER_ID', '114'), ('DEPARTMENT_ID', '30'), ('YEARS_OF_SERVICE', '15')])\n",
            "Row #30 OrderedDict([('EMPLOYEE_ID', '119'), ('FIRST_NAME', 'Karen'), ('LAST_NAME', 'Colmenares'), ('EMAIL', 'KCOLMENA'), ('PHONE_NUMBER', '515.127.4566'), ('HIRE_DATE', '10-AUG-07'), ('JOB_ID', 'PU_CLERK'), ('SALARY', '2500'), ('BONUS_PAY', 7980.0), ('MANAGER_ID', '114'), ('DEPARTMENT_ID', '30'), ('YEARS_OF_SERVICE', '14')])\n",
            "Row #31 OrderedDict([('EMPLOYEE_ID', '120'), ('FIRST_NAME', 'Matthew'), ('LAST_NAME', 'Weiss'), ('EMAIL', 'MWEISS'), ('PHONE_NUMBER', '650.123.1234'), ('HIRE_DATE', '18-JUL-04'), ('JOB_ID', 'ST_MAN'), ('SALARY', '8000'), ('BONUS_PAY', 54336.00000000001), ('MANAGER_ID', '100'), ('DEPARTMENT_ID', '50'), ('YEARS_OF_SERVICE', '17')])\n",
            "Row #32 OrderedDict([('EMPLOYEE_ID', '121'), ('FIRST_NAME', 'Adam'), ('LAST_NAME', 'Fripp'), ('EMAIL', 'AFRIPP'), ('PHONE_NUMBER', '650.123.2234'), ('HIRE_DATE', '10-APR-05'), ('JOB_ID', 'ST_MAN'), ('SALARY', '8200'), ('BONUS_PAY', 55694.40000000001), ('MANAGER_ID', '100'), ('DEPARTMENT_ID', '50'), ('YEARS_OF_SERVICE', '16')])\n",
            "Row #33 OrderedDict([('EMPLOYEE_ID', '122'), ('FIRST_NAME', 'Payam'), ('LAST_NAME', 'Kaufling'), ('EMAIL', 'PKAUFLIN'), ('PHONE_NUMBER', '650.123.3234'), ('HIRE_DATE', '01-MAY-03'), ('JOB_ID', 'ST_MAN'), ('SALARY', '7900'), ('BONUS_PAY', 53656.8), ('MANAGER_ID', '100'), ('DEPARTMENT_ID', '50'), ('YEARS_OF_SERVICE', '18')])\n",
            "Row #34 OrderedDict([('EMPLOYEE_ID', '123'), ('FIRST_NAME', 'Shanta'), ('LAST_NAME', 'Vollman'), ('EMAIL', 'SVOLLMAN'), ('PHONE_NUMBER', '650.123.4234'), ('HIRE_DATE', '10-OCT-05'), ('JOB_ID', 'ST_MAN'), ('SALARY', '6500'), ('BONUS_PAY', 44148.00000000001), ('MANAGER_ID', '100'), ('DEPARTMENT_ID', '50'), ('YEARS_OF_SERVICE', '16')])\n",
            "Row #35 OrderedDict([('EMPLOYEE_ID', '124'), ('FIRST_NAME', 'Kevin'), ('LAST_NAME', 'Mourgos'), ('EMAIL', 'KMOURGOS'), ('PHONE_NUMBER', '650.123.5234'), ('HIRE_DATE', '16-NOV-07'), ('JOB_ID', 'ST_MAN'), ('SALARY', '5800'), ('BONUS_PAY', 18513.600000000002), ('MANAGER_ID', '100'), ('DEPARTMENT_ID', '50'), ('YEARS_OF_SERVICE', '14')])\n",
            "Row #36 OrderedDict([('EMPLOYEE_ID', '125'), ('FIRST_NAME', 'Julia'), ('LAST_NAME', 'Nayer'), ('EMAIL', 'JNAYER'), ('PHONE_NUMBER', '650.124.1214'), ('HIRE_DATE', '16-JUL-05'), ('JOB_ID', 'ST_CLERK'), ('SALARY', '3200'), ('BONUS_PAY', 21734.4), ('MANAGER_ID', '120'), ('DEPARTMENT_ID', '50'), ('YEARS_OF_SERVICE', '16')])\n",
            "Row #37 OrderedDict([('EMPLOYEE_ID', '126'), ('FIRST_NAME', 'Irene'), ('LAST_NAME', 'Mikkilineni'), ('EMAIL', 'IMIKKILI'), ('PHONE_NUMBER', '650.124.1224'), ('HIRE_DATE', '28-SEP-06'), ('JOB_ID', 'ST_CLERK'), ('SALARY', '2700'), ('BONUS_PAY', 18338.4), ('MANAGER_ID', '120'), ('DEPARTMENT_ID', '50'), ('YEARS_OF_SERVICE', '15')])\n",
            "Row #38 OrderedDict([('EMPLOYEE_ID', '127'), ('FIRST_NAME', 'James'), ('LAST_NAME', 'Landry'), ('EMAIL', 'JLANDRY'), ('PHONE_NUMBER', '650.124.1334'), ('HIRE_DATE', '14-JAN-07'), ('JOB_ID', 'ST_CLERK'), ('SALARY', '2400'), ('BONUS_PAY', 7660.8), ('MANAGER_ID', '120'), ('DEPARTMENT_ID', '50'), ('YEARS_OF_SERVICE', '14')])\n",
            "Row #39 OrderedDict([('EMPLOYEE_ID', '128'), ('FIRST_NAME', 'Steven'), ('LAST_NAME', 'Markle'), ('EMAIL', 'SMARKLE'), ('PHONE_NUMBER', '650.124.1434'), ('HIRE_DATE', '08-MAR-08'), ('JOB_ID', 'ST_CLERK'), ('SALARY', '2200'), ('BONUS_PAY', 7022.400000000001), ('MANAGER_ID', '120'), ('DEPARTMENT_ID', '50'), ('YEARS_OF_SERVICE', '13')])\n",
            "Row #40 OrderedDict([('EMPLOYEE_ID', '129'), ('FIRST_NAME', 'Laura'), ('LAST_NAME', 'Bissot'), ('EMAIL', 'LBISSOT'), ('PHONE_NUMBER', '650.124.5234'), ('HIRE_DATE', '20-AUG-05'), ('JOB_ID', 'ST_CLERK'), ('SALARY', '3300'), ('BONUS_PAY', 22413.600000000002), ('MANAGER_ID', '121'), ('DEPARTMENT_ID', '50'), ('YEARS_OF_SERVICE', '16')])\n",
            "Row #41 OrderedDict([('EMPLOYEE_ID', '130'), ('FIRST_NAME', 'Mozhe'), ('LAST_NAME', 'Atkinson'), ('EMAIL', 'MATKINSO'), ('PHONE_NUMBER', '650.124.6234'), ('HIRE_DATE', '30-OCT-05'), ('JOB_ID', 'ST_CLERK'), ('SALARY', '2800'), ('BONUS_PAY', 19017.600000000002), ('MANAGER_ID', '121'), ('DEPARTMENT_ID', '50'), ('YEARS_OF_SERVICE', '16')])\n",
            "Row #42 OrderedDict([('EMPLOYEE_ID', '131'), ('FIRST_NAME', 'James'), ('LAST_NAME', 'Marlow'), ('EMAIL', 'JAMRLOW'), ('PHONE_NUMBER', '650.124.7234'), ('HIRE_DATE', '16-FEB-05'), ('JOB_ID', 'ST_CLERK'), ('SALARY', '2500'), ('BONUS_PAY', 16980.0), ('MANAGER_ID', '121'), ('DEPARTMENT_ID', '50'), ('YEARS_OF_SERVICE', '16')])\n",
            "Row #43 OrderedDict([('EMPLOYEE_ID', '132'), ('FIRST_NAME', 'TJ'), ('LAST_NAME', 'Olson'), ('EMAIL', 'TJOLSON'), ('PHONE_NUMBER', '650.124.8234'), ('HIRE_DATE', '10-APR-07'), ('JOB_ID', 'ST_CLERK'), ('SALARY', '2100'), ('BONUS_PAY', 6703.200000000001), ('MANAGER_ID', '121'), ('DEPARTMENT_ID', '50'), ('YEARS_OF_SERVICE', '14')])\n",
            "Row #44 OrderedDict([('EMPLOYEE_ID', '133'), ('FIRST_NAME', 'Jason'), ('LAST_NAME', 'Mallin'), ('EMAIL', 'JMALLIN'), ('PHONE_NUMBER', '650.127.1934'), ('HIRE_DATE', '14-JUN-04'), ('JOB_ID', 'ST_CLERK'), ('SALARY', '3300'), ('BONUS_PAY', 22413.600000000002), ('MANAGER_ID', '122'), ('DEPARTMENT_ID', '50'), ('YEARS_OF_SERVICE', '17')])\n",
            "Row #45 OrderedDict([('EMPLOYEE_ID', '134'), ('FIRST_NAME', 'Michael'), ('LAST_NAME', 'Rogers'), ('EMAIL', 'MROGERS'), ('PHONE_NUMBER', '650.127.1834'), ('HIRE_DATE', '26-AUG-06'), ('JOB_ID', 'ST_CLERK'), ('SALARY', '2900'), ('BONUS_PAY', 19696.800000000003), ('MANAGER_ID', '122'), ('DEPARTMENT_ID', '50'), ('YEARS_OF_SERVICE', '15')])\n",
            "Row #46 OrderedDict([('EMPLOYEE_ID', '135'), ('FIRST_NAME', 'Ki'), ('LAST_NAME', 'Gee'), ('EMAIL', 'KGEE'), ('PHONE_NUMBER', '650.127.1734'), ('HIRE_DATE', '12-DEC-07'), ('JOB_ID', 'ST_CLERK'), ('SALARY', '2400'), ('BONUS_PAY', 7660.8), ('MANAGER_ID', '122'), ('DEPARTMENT_ID', '50'), ('YEARS_OF_SERVICE', '14')])\n",
            "Row #47 OrderedDict([('EMPLOYEE_ID', '136'), ('FIRST_NAME', 'Hazel'), ('LAST_NAME', 'Philtanker'), ('EMAIL', 'HPHILTAN'), ('PHONE_NUMBER', '650.127.1634'), ('HIRE_DATE', '06-FEB-08'), ('JOB_ID', 'ST_CLERK'), ('SALARY', '2200'), ('BONUS_PAY', 7022.400000000001), ('MANAGER_ID', '122'), ('DEPARTMENT_ID', '50'), ('YEARS_OF_SERVICE', '13')])\n",
            "Row #48 OrderedDict([('EMPLOYEE_ID', '137'), ('FIRST_NAME', 'Renske'), ('LAST_NAME', 'Ladwig'), ('EMAIL', 'RLADWIG'), ('PHONE_NUMBER', '650.121.1234'), ('HIRE_DATE', '14-JUL-03'), ('JOB_ID', 'ST_CLERK'), ('SALARY', '3600'), ('BONUS_PAY', 24451.2), ('MANAGER_ID', '123'), ('DEPARTMENT_ID', '50'), ('YEARS_OF_SERVICE', '18')])\n",
            "Row #49 OrderedDict([('EMPLOYEE_ID', '138'), ('FIRST_NAME', 'Stephen'), ('LAST_NAME', 'Stiles'), ('EMAIL', 'SSTILES'), ('PHONE_NUMBER', '650.121.2034'), ('HIRE_DATE', '26-OCT-05'), ('JOB_ID', 'ST_CLERK'), ('SALARY', '3200'), ('BONUS_PAY', 21734.4), ('MANAGER_ID', '123'), ('DEPARTMENT_ID', '50'), ('YEARS_OF_SERVICE', '16')])\n",
            "Row #50 OrderedDict([('EMPLOYEE_ID', '139'), ('FIRST_NAME', 'John'), ('LAST_NAME', 'Seo'), ('EMAIL', 'JSEO'), ('PHONE_NUMBER', '650.121.2019'), ('HIRE_DATE', '12-FEB-06'), ('JOB_ID', 'ST_CLERK'), ('SALARY', '2700'), ('BONUS_PAY', 18338.4), ('MANAGER_ID', '123'), ('DEPARTMENT_ID', '50'), ('YEARS_OF_SERVICE', '15')])\n",
            "Row #51 OrderedDict([('EMPLOYEE_ID', '140'), ('FIRST_NAME', 'Joshua'), ('LAST_NAME', 'Patel'), ('EMAIL', 'JPATEL'), ('PHONE_NUMBER', '650.121.1834'), ('HIRE_DATE', '06-APR-06'), ('JOB_ID', 'ST_CLERK'), ('SALARY', '2500'), ('BONUS_PAY', 16980.0), ('MANAGER_ID', '123'), ('DEPARTMENT_ID', '50'), ('YEARS_OF_SERVICE', '15')])\n"
          ]
        }
      ]
    },
    {
      "cell_type": "code",
      "metadata": {
        "colab": {
          "base_uri": "https://localhost:8080/"
        },
        "id": "-ZX23aFbc3ZN",
        "outputId": "847bd5ab-ea64-4a35-e73e-d5df1ff96290"
      },
      "source": [
        "sum(new_bonus_data)"
      ],
      "execution_count": null,
      "outputs": [
        {
          "output_type": "execute_result",
          "data": {
            "text/plain": [
              "1999675.872"
            ]
          },
          "metadata": {},
          "execution_count": 443
        }
      ]
    },
    {
      "cell_type": "markdown",
      "metadata": {
        "id": "aWF6cbjtgnUR"
      },
      "source": [
        "So here we again find out the new bonus plan, by extracting 18.4% from all bonus percentages. Since I already shown the updated csv with new BONUS_PAY above, the only thing left is to create a new csv called \"bonus_scale\"."
      ]
    },
    {
      "cell_type": "code",
      "metadata": {
        "colab": {
          "base_uri": "https://localhost:8080/"
        },
        "id": "MK-_SIJKfg_3",
        "outputId": "bc00b0b0-be71-425f-fe74-7954682c5abe"
      },
      "source": [
        "import csv\n",
        "BonusFile = open('bonus_scale.csv', 'w', newline='')\n",
        "BonusDictWriter = csv.DictWriter(BonusFile, [\"Employee’s years of service\", 'Bonus as % of base annual salary'])\n",
        "BonusDictWriter.writeheader()\n",
        "BonusDictWriter.writerow({\"Employee’s years of service\": '0-5', 'Bonus as % of base annual salary': '6.6'})\n",
        "BonusDictWriter.writerow({\"Employee’s years of service\": '5-10', 'Bonus as % of base annual salary': '16.6'})\n",
        "BonusDictWriter.writerow({\"Employee’s years of service\": '10-15', 'Bonus as % of base annual salary': '26.6'})\n",
        "BonusDictWriter.writerow({\"Employee’s years of service\": '15-20', 'Bonus as % of base annual salary': '56.6'})\n",
        "BonusDictWriter.writerow({\"Employee’s years of service\": '20-25', 'Bonus as % of base annual salary': '81.6'})\n",
        "BonusFile.close()\n",
        "file_bonus = open('bonus_scale.csv')\n",
        "BonusReader = csv.reader(file_bonus)\n",
        "for row in BonusReader:\n",
        "  print(row)"
      ],
      "execution_count": null,
      "outputs": [
        {
          "output_type": "stream",
          "name": "stdout",
          "text": [
            "['Employee’s years of service', 'Bonus as % of base annual salary']\n",
            "['0-5', '6.6']\n",
            "['5-10', '16.6']\n",
            "['10-15', '26.6']\n",
            "['15-20', '56.6']\n",
            "['20-25', '81.6']\n"
          ]
        }
      ]
    },
    {
      "cell_type": "markdown",
      "metadata": {
        "id": "UH5eTGWbqjrj"
      },
      "source": [
        "## Activity 4: Review csv reader and writer\n",
        " described on slide 12. You need to answer 5 questions on that slide of Lecture 5. (5 points). \n"
      ]
    },
    {
      "cell_type": "markdown",
      "metadata": {
        "id": "Jl7CnNwAqrTB"
      },
      "source": [
        "\n",
        "Q1: What do you pass to csv.reader() and csv.writer() to create reader and writer objects?\n",
        "\n",
        "A1: A csv file, or a tsv file if delimiter=\"\\t\" is written. Csv/tsv files are supposed to be opened using the open() function before passing to csv.reader() and csv.writer()."
      ]
    },
    {
      "cell_type": "markdown",
      "metadata": {
        "id": "VufhZZH0qy8R"
      },
      "source": [
        "Q2: What modes do File objects for reader and writer objects need to be opened in?\n",
        "\n",
        "A2: We need to open the file object in the following function: File_object = open(“NameofFile”, “Mode”)\n",
        "\n",
        "For reader object, we do not need to enter any mode since it is reader object by default. If we really want to put it explicitly, it is 'r' to the place of \"Mode\" in the above function.\n",
        "\n",
        "For writer object, we need to write 'w' to the place of \"Mode\" in the above function."
      ]
    },
    {
      "cell_type": "markdown",
      "metadata": {
        "id": "YeD5DPm-sBpt"
      },
      "source": [
        "Q3: What method takes a list argument and writes it to a CSV file?\n",
        "\n",
        "A3: write = csv.writer(); write.writerow()"
      ]
    },
    {
      "cell_type": "markdown",
      "metadata": {
        "id": "HVL1AgthsEsp"
      },
      "source": [
        "Q4: What do the delimiter and lineterminator keyword arguments do?\n",
        "\n",
        "A4: The delimiter, which is a comma by default for any CSV file, is the character that appears between cells on a row. The line terminator, which is a new line by default for any CSV file, is the character that comes at the end of a row. \n",
        "\n",
        "We can change the delimiter and line terminator characters to different values by using the delimiter and lineterminator keyword arguments with csv.writer()."
      ]
    },
    {
      "cell_type": "markdown",
      "metadata": {
        "id": "swOAFlbOsIAc"
      },
      "source": [
        "Q5: What is the difference between reading a csv file using csv.reader() vs. reading it using csv.DictReader()?\n",
        "\n",
        "A5: csv.reader() returns an iterable reader object of the csv file while csv.DictReader() reads a csv file as a dictionary and returns a dictionary for each row in the input file."
      ]
    }
  ]
}