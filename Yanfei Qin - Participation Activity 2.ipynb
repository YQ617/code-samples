{
 "cells": [
  {
   "cell_type": "markdown",
   "id": "0a624e2c",
   "metadata": {},
   "source": [
    "1. (In-class) \"In-class activity: Using for loop\"  on slide 13 of Lecture 2. (2+2 points)"
   ]
  },
  {
   "cell_type": "code",
   "execution_count": 1,
   "id": "a9910ff4",
   "metadata": {
    "scrolled": true
   },
   "outputs": [
    {
     "name": "stdout",
     "output_type": "stream",
     "text": [
      "ABC album is number one for 1 weeks with total sales 15000\n",
      "ABC album is number one for 2 weeks with total sales 25000\n",
      "ABC album is number one for 3 weeks with total sales 35000\n",
      "ABC album is number one for 4 weeks with total sales 45000\n",
      "ABC album is number one for 5 weeks with total sales 55000\n",
      "ABC album is number one for 6 weeks with total sales 65000\n",
      "ABC album is number one for 7 weeks with total sales 75000\n",
      "ABC album is number one for 8 weeks with total sales 85000\n",
      "ABC album is number one for 9 weeks with total sales 95000\n",
      "ABC album is number one for 10 weeks with total sales 105000\n"
     ]
    }
   ],
   "source": [
    "# A music album ABC tops 10 straight weeks in the music chart, with weekly sales increasing by 10000 records every week. At the start of week 1 the sales were 5000 records. Using for loop write a program to print the following:\n",
    "sales = 5000\n",
    "for i in range(1,11):\n",
    "  sales = 10000+sales\n",
    "  print('ABC album is number one for',i,'weeks with total sales',sales)"
   ]
  },
  {
   "cell_type": "code",
   "execution_count": 2,
   "id": "acbf9597",
   "metadata": {},
   "outputs": [
    {
     "name": "stdout",
     "output_type": "stream",
     "text": [
      "556808\n"
     ]
    }
   ],
   "source": [
    "# Using for loop and if statement calculate the sum of all even numbers between and including 9888 and 9999\n",
    "sum=0\n",
    "for x in range(9888,10000):\n",
    "    if(x%2==0):\n",
    "        sum=sum+x\n",
    "print(sum)"
   ]
  },
  {
   "cell_type": "markdown",
   "id": "71af661d",
   "metadata": {},
   "source": [
    "2. (In-class) \"In-class activity: Practice with list indexing\" on slide 17 of Lecture 2 (2+2+2 points)"
   ]
  },
  {
   "cell_type": "code",
   "execution_count": 13,
   "id": "fbbe8d38",
   "metadata": {},
   "outputs": [
    {
     "name": "stdout",
     "output_type": "stream",
     "text": [
      "[3, 6, 9, 12, 15, 18, 21, 24, 27, 30, 33, 36, 39, 42, 45, 48]\n",
      "[6, 12, 18, 24, 30, 36, 42, 48]\n"
     ]
    }
   ],
   "source": [
    "# Create a list of all integers which are multiples of 3 between 1 and 50\n",
    "Multiples = []\n",
    "for x in range (1,51):\n",
    "    if x%3==0:\n",
    "        Multiples = Multiples+[x]\n",
    "print(Multiples)\n",
    "\n",
    "# From the list find all the integers which are also multiples of 2\n",
    "Multiples2 = []\n",
    "for x in Multiples:\n",
    "    if x%2==0:\n",
    "        Multiples2 = Multiples2+[x]\n",
    "print(Multiples2)"
   ]
  },
  {
   "cell_type": "code",
   "execution_count": 14,
   "id": "a6bd4ae0",
   "metadata": {},
   "outputs": [
    {
     "name": "stdout",
     "output_type": "stream",
     "text": [
      "Integer value in index 0 in Multiples2 is 6\n",
      "Integer value in index 1 in Multiples2 is 12\n",
      "Integer value in index 2 in Multiples2 is 18\n",
      "Integer value in index 3 in Multiples2 is 24\n",
      "Integer value in index 4 in Multiples2 is 30\n",
      "Integer value in index 5 in Multiples2 is 36\n",
      "Integer value in index 6 in Multiples2 is 42\n",
      "Integer value in index 7 in Multiples2 is 48\n"
     ]
    },
    {
     "data": {
      "text/plain": [
       "216"
      ]
     },
     "execution_count": 14,
     "metadata": {},
     "output_type": "execute_result"
    }
   ],
   "source": [
    "# Print the index of those integers along with the integer value\n",
    "for index,item in enumerate(Multiples2):\n",
    "    print('Integer value in index '+str(index)+' in Multiples2 is '+str(item))\n",
    "# Calculate the sum of such integers\n",
    "sum(Multiples2)"
   ]
  },
  {
   "cell_type": "code",
   "execution_count": 1,
   "id": "cf6bfb0b",
   "metadata": {},
   "outputs": [
    {
     "name": "stdout",
     "output_type": "stream",
     "text": [
      "[[1, 4, 9, 25], ['cat', 'tiger', 'lion', 'panther', 'leopard']]\n",
      "The total number of numbers in number_cats is 4\n",
      "The total number of strings in number_cats is 5\n",
      "The total number of items in number_cats is 9\n"
     ]
    }
   ],
   "source": [
    "# Consider the list of lists number_cats as defined in the previous slide. Write code to calculate and print\n",
    "squares = [1, 4, 9, 25]\n",
    "cat_family = ['cat','tiger','lion','panther','leopard']\n",
    "number_cats = [squares,cat_family]\n",
    "print(number_cats)\n",
    "\n",
    "# the total number of numbers in number_cats: output should be 4 \n",
    "# the total number of stings in number_cats: output should be 5 \n",
    "#(I think there is a typo in the Powerpoint, so I replace 'strings' instead of 'stings' in the following answer)\n",
    "# the total number of items in number_cats: output should be 9\n",
    "numbers = 0\n",
    "strings = 0\n",
    "for i in number_cats:\n",
    "    for x in i:\n",
    "        if type(x) == int:\n",
    "            numbers = numbers + 1\n",
    "        else:\n",
    "            strings = strings + 1\n",
    "\n",
    "print('The total number of numbers in number_cats is '+ str(numbers))\n",
    "print('The total number of strings in number_cats is '+str(strings))\n",
    "print('The total number of items in number_cats is '+str(numbers+strings))"
   ]
  },
  {
   "cell_type": "code",
   "execution_count": 2,
   "id": "c3eb6dcd",
   "metadata": {},
   "outputs": [],
   "source": [
    "# Change the values stored (if possible) at following indexes in number_cats \n",
    "# number_cats[-1][-5]=‘hyena’\n",
    "number_cats[-1][-5]='hyena'\n",
    "# number_cats[0][-3]=‘jaguar’\n",
    "number_cats[0][-3]='jaguar'"
   ]
  },
  {
   "cell_type": "code",
   "execution_count": null,
   "id": "cce9710f",
   "metadata": {},
   "outputs": [],
   "source": [
    "# number_cats[1][6]=‘200’\n",
    "number_cats[1][6]='200'\n",
    "# This is not possible because there is only 5 items in number_cats[1]. It is out of the range to search for the 6th."
   ]
  },
  {
   "cell_type": "code",
   "execution_count": 4,
   "id": "4b5fb246",
   "metadata": {},
   "outputs": [
    {
     "data": {
      "text/plain": [
       "[[1, 'jaguar', 9, 25], ['hyena', 'tiger', 'lion', 'panther', 'leopard']]"
      ]
     },
     "execution_count": 4,
     "metadata": {},
     "output_type": "execute_result"
    }
   ],
   "source": [
    "# Delete all items from number_cats which are smaller than 10\n",
    "number_cats"
   ]
  },
  {
   "cell_type": "code",
   "execution_count": 6,
   "id": "43b3971f",
   "metadata": {
    "scrolled": true
   },
   "outputs": [],
   "source": [
    "for i in range(len(number_cats)):\n",
    "    for x in range(len(number_cats[i])):\n",
    "        if type(number_cats[i][x]) == int and number_cats[i][x] < 10:\n",
    "            del(number_cats[i][x])"
   ]
  },
  {
   "cell_type": "code",
   "execution_count": 7,
   "id": "77710ba5",
   "metadata": {},
   "outputs": [
    {
     "name": "stdout",
     "output_type": "stream",
     "text": [
      "[['jaguar', 25], ['hyena', 'tiger', 'lion', 'panther', 'leopard']]\n"
     ]
    }
   ],
   "source": [
    "# and print the modified list number_cats \n",
    "print(number_cats)"
   ]
  },
  {
   "cell_type": "code",
   "execution_count": 66,
   "id": "9d50d2be",
   "metadata": {},
   "outputs": [
    {
     "name": "stdout",
     "output_type": "stream",
     "text": [
      "Please input a student name John Adams\n",
      "['John Adams']\n",
      "Please input a student name James Bond\n",
      "['John Adams', 'James Bond']\n",
      "Please input a student name Ray Caldwell\n",
      "['John Adams', 'James Bond', 'Ray Caldwell']\n",
      "Please input a student name Thomas David\n",
      "['John Adams', 'James Bond', 'Ray Caldwell', 'Thomas David']\n",
      "Please input a student name Mary Jo\n",
      "['John Adams', 'James Bond', 'Ray Caldwell', 'Thomas David', 'Mary Jo']\n",
      "Please input a student name Stacy Johnson\n",
      "['John Adams', 'James Bond', 'Ray Caldwell', 'Thomas David', 'Mary Jo', 'Stacy Johnson']\n",
      "Please input a student name Deborah Logan\n",
      "['John Adams', 'James Bond', 'Ray Caldwell', 'Thomas David', 'Mary Jo', 'Stacy Johnson', 'Deborah Logan']\n",
      "Please input a student name no more\n"
     ]
    }
   ],
   "source": [
    "# 3.(Post-class)  \"In-class activity: Practice with common list methods\" on slide 22 of Lecture 2 (10 points).\n",
    "# Maintaining class roster: We will solve the problem of maintaining a class roster using list and common list methods.\n",
    "# Create a class roster (a list of strings) having the following 7 student names:\n",
    "# John Adams, James Bond, Ray Caldwell, Thomas David, Mary Jo, Stacy Johnson, Deborah Logan\n",
    "# The names should be entered in your program using the input() function one name at a time in the form of firstname followed by last name. You do not know beforehand how many students are there in the class. You can have the input() in a loop but then you need to have a condition to exit from the loop after the last student name is entered by the user.\n",
    "roster = []\n",
    "while True: \n",
    "    name = input('Please input a student name ')\n",
    "    if name == 'no more':\n",
    "        break\n",
    "    roster.append(name)\n",
    "    print(roster)"
   ]
  },
  {
   "cell_type": "code",
   "execution_count": 67,
   "id": "406c00dc",
   "metadata": {},
   "outputs": [
    {
     "name": "stdout",
     "output_type": "stream",
     "text": [
      "['John Adams', 'James Bond', 'Ray Caldwell', 'Thomas David', 'Mary Jo', 'Stacy Johnson', 'Deborah Logan']\n"
     ]
    }
   ],
   "source": [
    "print(roster)"
   ]
  },
  {
   "cell_type": "code",
   "execution_count": 68,
   "id": "30c93148",
   "metadata": {},
   "outputs": [
    {
     "name": "stdout",
     "output_type": "stream",
     "text": [
      "sorted by their first name \n",
      "1.Deborah Logan\n",
      "2.James Bond\n",
      "3.John Adams\n",
      "4.Mary Jo\n",
      "5.Ray Caldwell\n",
      "6.Stacy Johnson\n",
      "7.Thomas David\n"
     ]
    }
   ],
   "source": [
    "# Print the class roster by sorting the student names by their first name.\n",
    "roster.sort()\n",
    "roster1=('sorted by their first name \\n'+'1.'+roster[0]+'\\n2.'+roster[1]+'\\n3.'+roster[2]+'\\n4.'+roster[3]+'\\n5.'+roster[4]+'\\n6.'+roster[5]+'\\n7.'+roster[6])\n",
    "print(roster1)"
   ]
  },
  {
   "cell_type": "code",
   "execution_count": 69,
   "id": "e68abd1b",
   "metadata": {},
   "outputs": [
    {
     "name": "stdout",
     "output_type": "stream",
     "text": [
      "sorted by their last name \n",
      "1.Adams, John\n",
      "2.Bond, James\n",
      "3.Caldwell, Ray\n",
      "4.David, Thomas\n",
      "5.Jo, Mary\n",
      "6.Johnson, Stacy\n",
      "7.Logan, Deborah\n"
     ]
    }
   ],
   "source": [
    "# Print the class roster by sorting the student names by their last name.\n",
    "(roster[0].split(' '))\n",
    "\n",
    "x0 = roster[0].split(' ')\n",
    "x0.reverse()\n",
    "separator = ', '\n",
    "separator.join(x0)\n",
    "\n",
    "x1 = roster[1].split(' ')\n",
    "x1.reverse()\n",
    "separator = ', '\n",
    "separator.join(x1)\n",
    "\n",
    "x2 = roster[2].split(' ')\n",
    "x2.reverse()\n",
    "separator = ', '\n",
    "separator.join(x2)\n",
    "\n",
    "x3 = roster[3].split(' ')\n",
    "x3.reverse()\n",
    "separator = ', '\n",
    "separator.join(x3)\n",
    "\n",
    "x4 = roster[4].split(' ')\n",
    "x4.reverse()\n",
    "separator = ', '\n",
    "separator.join(x4)\n",
    "\n",
    "x5 = roster[5].split(' ')\n",
    "x5.reverse()\n",
    "separator = ', '\n",
    "separator.join(x5)\n",
    "\n",
    "x6 = roster[6].split(' ')\n",
    "x6.reverse()\n",
    "separator = ', '\n",
    "separator.join(x6)\n",
    "\n",
    "roster2=[x0,x1,x2,x3,x4,x5,x6]\n",
    "roster2.sort()\n",
    "\n",
    "print('sorted by their last name \\n'+'1.'+str(roster2[0][0])+', '+str(roster2[0][1])+'\\n2.'+str(roster2[1][0])+', '+str(roster2[1][1])+'\\n3.'+str(roster2[2][0])+', '+str(roster2[2][1])+'\\n4.'+str(roster2[3][0])+', '+str(roster2[3][1])+'\\n5.'+str(roster2[4][0])+', '+str(roster2[4][1])+'\\n6.'+str(roster2[5][0])+', '+str(roster2[5][1])+'\\n7.'+str(roster2[6][0])+', '+str(roster2[6][1]))"
   ]
  },
  {
   "cell_type": "code",
   "execution_count": 70,
   "id": "a5c6d40f",
   "metadata": {},
   "outputs": [
    {
     "name": "stdout",
     "output_type": "stream",
     "text": [
      "['Deborah Logan', 'James Bond', 'John Adams', 'Stacy Johnson', 'Thomas David']\n"
     ]
    }
   ],
   "source": [
    "# Two students Mary Jo and Ray Caldwell leave the class. Update the roster by removing these two students and again print the two rosters, one sorted by first name and other sorted by last name.\n",
    "roster.remove('Mary Jo')\n",
    "roster.remove('Ray Caldwell')\n",
    "print(roster)"
   ]
  },
  {
   "cell_type": "code",
   "execution_count": 71,
   "id": "f9981edc",
   "metadata": {},
   "outputs": [
    {
     "name": "stdout",
     "output_type": "stream",
     "text": [
      "sorted by their first name \n",
      "1.Deborah Logan\n",
      "2.James Bond\n",
      "3.John Adams\n",
      "4.Stacy Johnson\n",
      "5.Thomas David\n"
     ]
    }
   ],
   "source": [
    "roster.sort()\n",
    "print('sorted by their first name \\n'+'1.'+roster[0]+'\\n2.'+roster[1]+'\\n3.'+roster[2]+'\\n4.'+roster[3]+'\\n5.'+roster[4])"
   ]
  },
  {
   "cell_type": "code",
   "execution_count": 73,
   "id": "1f087328",
   "metadata": {},
   "outputs": [],
   "source": [
    "roster2.remove(['Jo', 'Mary'])\n",
    "roster2.remove(['Caldwell', 'Ray'])"
   ]
  },
  {
   "cell_type": "code",
   "execution_count": 76,
   "id": "1cfe85ab",
   "metadata": {},
   "outputs": [
    {
     "name": "stdout",
     "output_type": "stream",
     "text": [
      "sorted by their last name \n",
      "1.Adams, John\n",
      "2.Bond, James\n",
      "3.David, Thomas\n",
      "4.Johnson, Stacy\n",
      "5.Logan, Deborah\n"
     ]
    }
   ],
   "source": [
    "print('sorted by their last name \\n'+'1.'+str(roster2[0][0])+', '+str(roster2[0][1])+'\\n2.'+str(roster2[1][0])+', '+str(roster2[1][1])+'\\n3.'+str(roster2[2][0])+', '+str(roster2[2][1])+'\\n4.'+str(roster2[3][0])+', '+str(roster2[3][1])+'\\n5.'+str(roster2[4][0])+', '+str(roster2[4][1]))"
   ]
  },
  {
   "cell_type": "code",
   "execution_count": 81,
   "id": "0ee17826",
   "metadata": {},
   "outputs": [
    {
     "name": "stdout",
     "output_type": "stream",
     "text": [
      "['Deborah Logan', 'James Bond', 'John Adams', 'Stacy Johnson', 'Thomas David', 'Yanfei Qin']\n"
     ]
    }
   ],
   "source": [
    "# You are a new student joining this class. Add your name to the class and again print the updated two rosters, one sorted by first name and other sorted by last name.\n",
    "roster.append('Yanfei Qin')\n",
    "roster.sort()\n",
    "print(roster)"
   ]
  },
  {
   "cell_type": "code",
   "execution_count": 82,
   "id": "a536f231",
   "metadata": {},
   "outputs": [
    {
     "name": "stdout",
     "output_type": "stream",
     "text": [
      "sorted by their first name \n",
      "1.Deborah Logan\n",
      "2.James Bond\n",
      "3.John Adams\n",
      "4.Stacy Johnson\n",
      "5.Thomas David\n",
      "6.Yanfei Qin\n"
     ]
    }
   ],
   "source": [
    "print('sorted by their first name \\n'+'1.'+roster[0]+'\\n2.'+roster[1]+'\\n3.'+roster[2]+'\\n4.'+roster[3]+'\\n5.'+roster[4]+'\\n6.'+roster[5])"
   ]
  },
  {
   "cell_type": "code",
   "execution_count": 84,
   "id": "165d6e99",
   "metadata": {},
   "outputs": [
    {
     "name": "stdout",
     "output_type": "stream",
     "text": [
      "[['Adams', 'John'], ['Bond', 'James'], ['David', 'Thomas'], ['Johnson', 'Stacy'], ['Logan', 'Deborah'], ['Qin', 'Yanfei']]\n"
     ]
    }
   ],
   "source": [
    "roster2.append(['Qin', 'Yanfei'])\n",
    "roster2.sort()\n",
    "print(roster2)"
   ]
  },
  {
   "cell_type": "code",
   "execution_count": 85,
   "id": "bc04c1db",
   "metadata": {},
   "outputs": [
    {
     "name": "stdout",
     "output_type": "stream",
     "text": [
      "sorted by their last name \n",
      "1.Adams, John\n",
      "2.Bond, James\n",
      "3.David, Thomas\n",
      "4.Johnson, Stacy\n",
      "5.Logan, Deborah\n",
      "6.Qin, Yanfei\n"
     ]
    }
   ],
   "source": [
    "print('sorted by their last name \\n'+'1.'+str(roster2[0][0])+', '+str(roster2[0][1])+'\\n2.'+str(roster2[1][0])+', '+str(roster2[1][1])+'\\n3.'+str(roster2[2][0])+', '+str(roster2[2][1])+'\\n4.'+str(roster2[3][0])+', '+str(roster2[3][1])+'\\n5.'+str(roster2[4][0])+', '+str(roster2[4][1])+'\\n6.'+str(roster2[5][0])+', '+str(roster2[5][1]))"
   ]
  },
  {
   "cell_type": "code",
   "execution_count": 88,
   "id": "7a75eddb",
   "metadata": {},
   "outputs": [],
   "source": [
    "# 4.(Post-class) \"In-class activity: Practice with common string methods\" on slide 32 of Lecture 2 (5 points).\n",
    "Names = ['John','Mary','Emily','Ida','Dan','Fanzeng','Michael']"
   ]
  },
  {
   "cell_type": "code",
   "execution_count": 90,
   "id": "a3603860",
   "metadata": {},
   "outputs": [],
   "source": [
    "Letter = 'John and Mary both like to listen to channel 24 but Ida prefers channel 28. Emily likes sushi and flavor 5A at the ice-cream shop. Fanzeng and Michael like course 607 but do not like 608. Dan told them to try sitting in a 2 hr long class taught by Emily.'"
   ]
  },
  {
   "cell_type": "code",
   "execution_count": 91,
   "id": "d47d43cf",
   "metadata": {},
   "outputs": [
    {
     "name": "stdout",
     "output_type": "stream",
     "text": [
      "John and Mary both like to listen to channel 24 but Ida prefers channel 28. Emily likes sushi and flavor 5A at the ice-cream shop. Fanzeng and Michael like course 607 but do not like 608. Dan told them to try sitting in a 2 hr long class taught by Emily.\n"
     ]
    }
   ],
   "source": [
    "print(Letter)"
   ]
  },
  {
   "cell_type": "code",
   "execution_count": 92,
   "id": "f0d13693",
   "metadata": {},
   "outputs": [],
   "source": [
    "for person in Names:\n",
    "    Letter=Letter.replace(person,person[0])"
   ]
  },
  {
   "cell_type": "code",
   "execution_count": 93,
   "id": "a600604f",
   "metadata": {},
   "outputs": [
    {
     "name": "stdout",
     "output_type": "stream",
     "text": [
      "J and M both like to listen to channel 24 but I prefers channel 28. E likes sushi and flavor 5A at the ice-cream shop. F and M like course 607 but do not like 608. D told them to try sitting in a 2 hr long class taught by E.\n"
     ]
    }
   ],
   "source": [
    "print(Letter)"
   ]
  },
  {
   "cell_type": "code",
   "execution_count": 95,
   "id": "9b33b584",
   "metadata": {},
   "outputs": [],
   "source": [
    "number_list1=[24,28,2]\n",
    "for number in number_list1:\n",
    "    Letter=Letter.replace(str(number),bin(number))"
   ]
  },
  {
   "cell_type": "code",
   "execution_count": 96,
   "id": "1a8abf76",
   "metadata": {},
   "outputs": [
    {
     "name": "stdout",
     "output_type": "stream",
     "text": [
      "J and M both like to listen to channel 0b11000 but I prefers channel 0b11100. E likes sushi and flavor 5A at the ice-cream shop. F and M like course 607 but do not like 608. D told them to try sitting in a 0b10 hr long class taught by E.\n"
     ]
    }
   ],
   "source": [
    "print(Letter)"
   ]
  },
  {
   "cell_type": "code",
   "execution_count": 97,
   "id": "a81a87f7",
   "metadata": {},
   "outputs": [],
   "source": [
    "number_list2=[607,608]\n",
    "for numbers in number_list2:\n",
    "    Letter=Letter.replace(str(numbers),hex(numbers))"
   ]
  },
  {
   "cell_type": "code",
   "execution_count": 98,
   "id": "f996a137",
   "metadata": {},
   "outputs": [
    {
     "name": "stdout",
     "output_type": "stream",
     "text": [
      "J and M both like to listen to channel 0b11000 but I prefers channel 0b11100. E likes sushi and flavor 5A at the ice-cream shop. F and M like course 0x25f but do not like 0x260. D told them to try sitting in a 0b10 hr long class taught by E.\n"
     ]
    }
   ],
   "source": [
    "print(Letter)"
   ]
  },
  {
   "cell_type": "code",
   "execution_count": 144,
   "id": "eb67a690",
   "metadata": {},
   "outputs": [],
   "source": [
    "list=['5A']\n",
    "for text in list:\n",
    "    Letter=Letter.replace(str(text),'xyz')"
   ]
  },
  {
   "cell_type": "code",
   "execution_count": 145,
   "id": "96623137",
   "metadata": {
    "scrolled": true
   },
   "outputs": [
    {
     "name": "stdout",
     "output_type": "stream",
     "text": [
      "J and M both like to listen to channel 0b11000 but I prefers channel 0b11100. E likes sushi and flavor xyz at the ice-cream shop. F and M like course 0x25f but do not like 0x260. D told them to try sitting in a 0b10 hr long class taught by E.\n"
     ]
    }
   ],
   "source": [
    "print(Letter)"
   ]
  },
  {
   "cell_type": "code",
   "execution_count": 146,
   "id": "113acb85",
   "metadata": {},
   "outputs": [
    {
     "name": "stdout",
     "output_type": "stream",
     "text": [
      "['J', 'and', 'M', 'both', 'like', 'to', 'listen', 'to', 'channel', '0b11000', 'but', 'I', 'prefers', 'channel', '0b11100.', 'E', 'likes', 'sushi', 'and', 'flavor', 'xyz', 'at', 'the', 'ice-cream', 'shop.', 'F', 'and', 'M', 'like', 'course', '0x25f', 'but', 'do', 'not', 'like', '0x260.', 'D', 'told', 'them', 'to', 'try', 'sitting', 'in', 'a', '0b10', 'hr', 'long', 'class', 'taught', 'by', 'E.']\n"
     ]
    }
   ],
   "source": [
    "print(Letter.split(' '))"
   ]
  },
  {
   "cell_type": "code",
   "execution_count": 147,
   "id": "e4ecccd9",
   "metadata": {},
   "outputs": [
    {
     "data": {
      "text/plain": [
       "'JABCandABCMABCbothABClikeABCtoABClistenABCtoABCchannelABC0b11000ABCbutABCIABCprefersABCchannelABC0b11100.ABCEABClikesABCsushiABCandABCflavorABCxyzABCatABCtheABCice-creamABCshop.ABCFABCandABCMABClikeABCcourseABC0x25fABCbutABCdoABCnotABClikeABC0x260.ABCDABCtoldABCthemABCtoABCtryABCsittingABCinABCaABC0b10ABChrABClongABCclassABCtaughtABCbyABCE.'"
      ]
     },
     "execution_count": 147,
     "metadata": {},
     "output_type": "execute_result"
    }
   ],
   "source": [
    "'ABC'.join(Letter.split(' '))"
   ]
  },
  {
   "cell_type": "code",
   "execution_count": 131,
   "id": "01c33602",
   "metadata": {},
   "outputs": [
    {
     "name": "stdout",
     "output_type": "stream",
     "text": [
      "The mean population of the top 5 citics is 10694801.8\n"
     ]
    }
   ],
   "source": [
    "#5.(Post-class): This activity is going to check your understanding of some fundamental concepts about variables and lists in Python. (5 points)\n",
    "\n",
    "#What is the average (mean) population of these five metropolitan areas?\n",
    "import statistics\n",
    "NYC_pop=18897109\n",
    "LA_pop=12828837\n",
    "Chicago_pop=9461105\n",
    "Dallas_pop=6366542\n",
    "Huston_pop=5920416\n",
    "cities_pop=[NYC_pop,LA_pop,Chicago_pop,Dallas_pop,Huston_pop]\n",
    "x=statistics.mean(cities_pop)\n",
    "print(\"The mean population of the top 5 citics is\", x )"
   ]
  },
  {
   "cell_type": "code",
   "execution_count": 140,
   "id": "1e70ab29",
   "metadata": {},
   "outputs": [
    {
     "name": "stdout",
     "output_type": "stream",
     "text": [
      "['New York City', 'Los Angeles', 'Chicago', 'Dallas', 'Houston']\n",
      "5\n",
      "The total number of characters in city names are 44\n"
     ]
    }
   ],
   "source": [
    "#How many characters total, including spaces, are in the names of these five metropolitan areas?\n",
    "sentence=\"New York City,Los Angeles,Chicago,Dallas,Houston\"\n",
    "sentence2=sentence.split(\",\")\n",
    "print(sentence2)\n",
    "print(len(sentence2))\n",
    "print(\"The total number of characters in city names are\",len(sentence2[0])+len(sentence2[1])+len(sentence2[2])+len(sentence2[3])+len(sentence2[4]))"
   ]
  },
  {
   "cell_type": "code",
   "execution_count": 143,
   "id": "c98f988b",
   "metadata": {},
   "outputs": [
    {
     "name": "stdout",
     "output_type": "stream",
     "text": [
      "['Chicago', 'Dallas', 'Houston', 'Los Angeles', 'New York City']\n",
      "The second name in the sorted list is Dallas\n"
     ]
    }
   ],
   "source": [
    "#Create a variable storing the list of all five city names. Sort that list using Python's .sort() method for lists. What is the second name in the sorted list?\n",
    "sentence2.sort()\n",
    "print(sentence2)\n",
    "print('The second name in the sorted list is '+ str(sentence2[1]))"
   ]
  }
 ],
 "metadata": {
  "kernelspec": {
   "display_name": "Python 3 (ipykernel)",
   "language": "python",
   "name": "python3"
  },
  "language_info": {
   "codemirror_mode": {
    "name": "ipython",
    "version": 3
   },
   "file_extension": ".py",
   "mimetype": "text/x-python",
   "name": "python",
   "nbconvert_exporter": "python",
   "pygments_lexer": "ipython3",
   "version": "3.9.7"
  }
 },
 "nbformat": 4,
 "nbformat_minor": 5
}
