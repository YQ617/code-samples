{
 "cells": [
  {
   "cell_type": "markdown",
   "id": "af45dbd6",
   "metadata": {},
   "source": [
    "**1**.(Pre-class) In one or two sentences, what is your prior experience with programming? Is this your first time working with Python, or even your first time programming at all? Have you had software development internships before? This answer is private and will only be shared with me and the course TAs. (1 point)\n",
    "\n",
    "A: I've only used SQL and R before this class and it would be my first time working with Python. I haven't had any software development internship before."
   ]
  },
  {
   "cell_type": "markdown",
   "id": "92869b16",
   "metadata": {},
   "source": [
    "**2**.(Pre-class) In one or two sentences, what topics or types of data are you interested in pursuing for the final project? This answer will be shared with the class in a cleaned-up form, so that you can seek out partners for later in the semester. (1 point)\n",
    "\n",
    "A: I am interested in exploring the topic of environment for my final project, specifically focusing on reducing carbon emission."
   ]
  },
  {
   "cell_type": "markdown",
   "id": "248faffb",
   "metadata": {},
   "source": [
    "**3**.(Pre-class) In your python environment in Jupyter notebook print the version of python and pip. This will make sure that you have Python and Jupyter installed correctly. (2 points)\n"
   ]
  },
  {
   "cell_type": "code",
   "execution_count": 1,
   "id": "827c1a06",
   "metadata": {},
   "outputs": [
    {
     "name": "stdout",
     "output_type": "stream",
     "text": [
      "Python 3.9.7\r\n"
     ]
    }
   ],
   "source": [
    "!python3 -V"
   ]
  },
  {
   "cell_type": "code",
   "execution_count": 2,
   "id": "224aaab6",
   "metadata": {},
   "outputs": [
    {
     "name": "stdout",
     "output_type": "stream",
     "text": [
      "pip 21.2.4 from /Library/Frameworks/Python.framework/Versions/3.9/lib/python3.9/site-packages/pip (python 3.9)\r\n"
     ]
    }
   ],
   "source": [
    "!pip3 -V"
   ]
  },
  {
   "cell_type": "markdown",
   "id": "d1c7f6ce",
   "metadata": {},
   "source": [
    "**4**.(In-class) In-class activity 1, 5 and 6 as discussed in the class. (2+3+3 points)"
   ]
  },
  {
   "cell_type": "markdown",
   "id": "d3a8b341",
   "metadata": {},
   "source": [
    "**In-Class Activity-1: Field of Data Science**\n",
    "\n",
    "•Goal: Understand the meaning of data science and how it is different than traditional statistics\n",
    "\n",
    "•Is data science just a new name for statistics?\n",
    "\n",
    "A: No. Statistics deals with pre-computer era data problems and is more involved with theory, while data science is more about computation and does analysis and visualization with large databases.\n",
    "\n",
    "•What features are specific to data science problems? \n",
    "\n",
    "A: Data science problems lie within the intersection of statistics, computation, and domain knowledge. Thus, data scientists are unique in a way that they need to master computational techniques and practical statistical analytic skills at the same time. It makes data scientists better at statistics than any software engineer and better at software engineering than any statistician."
   ]
  },
  {
   "cell_type": "markdown",
   "id": "d4833ca9",
   "metadata": {},
   "source": [
    "**In-Class Activity 5: First lesson involving variables**\n",
    "\n",
    "•Goal: Understand variable assignment and its usefulness "
   ]
  },
  {
   "cell_type": "code",
   "execution_count": 9,
   "id": "55e7889c",
   "metadata": {},
   "outputs": [],
   "source": [
    "#•Create a variable \"radius” and assign it some value \n",
    "radius = 6\n",
    "#•Create a variable “pi” and assign it 22/7 \n",
    "pi = 22/7\n",
    "#•Calculate area of the circle with radius “radius” and store it in variable “circle_area”\n",
    "circle_area = pi*radius**2"
   ]
  },
  {
   "cell_type": "code",
   "execution_count": 10,
   "id": "8c789fe9",
   "metadata": {},
   "outputs": [
    {
     "name": "stdout",
     "output_type": "stream",
     "text": [
      "radius= 6 pi= 3.142857142857143 circle_area= 113.14285714285714\n"
     ]
    }
   ],
   "source": [
    "#•Print the value of “pi”, “radius”, “circle_area”\n",
    "print(\"radius=\",radius,\"pi=\",pi,\"circle_area=\",circle_area)"
   ]
  },
  {
   "cell_type": "code",
   "execution_count": 11,
   "id": "a0df20d3",
   "metadata": {},
   "outputs": [
    {
     "name": "stdout",
     "output_type": "stream",
     "text": [
      "radius= 11 pi= 3.142857142857143 circle_area= 113.14285714285714\n"
     ]
    }
   ],
   "source": [
    "#•Increment the value of radius by 5 \n",
    "radius=radius+5\n",
    "#•Print the value of “pi”, “radius”, “circle_area”\n",
    "print(\"radius=\",radius,\"pi=\",pi,\"circle_area=\",circle_area)"
   ]
  },
  {
   "cell_type": "markdown",
   "id": "fb461e84",
   "metadata": {},
   "source": [
    "•What values are different from previous print ? \n",
    "\n",
    "A: Radius is now different from previous print since now it is increased by 5.\n",
    "\n",
    "•Why is “circle_area” not updated as ”radius” is updated ? \n",
    "\n",
    "A:Because \"circle_area\" is not recalculated after a new value is assigned to \"radius.\" So, it is still the exact previous value of \"circle_area,\" using the previous value of radius=6."
   ]
  },
  {
   "cell_type": "markdown",
   "id": "8542d676",
   "metadata": {},
   "source": [
    "**In-Class Activity 6: First lesson with input() and len()**\n",
    "\n",
    "•Goal: Understand how input() and len() work"
   ]
  },
  {
   "cell_type": "code",
   "execution_count": 15,
   "id": "8dbdcedf",
   "metadata": {},
   "outputs": [
    {
     "name": "stdout",
     "output_type": "stream",
     "text": [
      "First NameYanfei\n",
      "Last NameQin\n"
     ]
    }
   ],
   "source": [
    "#•Input your first and last name using input() and store them as variables “firstname” and ”lastname”\n",
    "firstname = input('First Name')\n",
    "lastname = input('Last Name')"
   ]
  },
  {
   "cell_type": "code",
   "execution_count": 16,
   "id": "21fa4f05",
   "metadata": {},
   "outputs": [
    {
     "name": "stdout",
     "output_type": "stream",
     "text": [
      "6\n"
     ]
    }
   ],
   "source": [
    "#•Calculate length (number of characters) of your first name using len() and store as a variable “firstname_len”\n",
    "firstname_len = len(firstname)\n",
    "print(firstname_len)"
   ]
  },
  {
   "cell_type": "code",
   "execution_count": 17,
   "id": "101e0c9b",
   "metadata": {},
   "outputs": [
    {
     "name": "stdout",
     "output_type": "stream",
     "text": [
      "3\n"
     ]
    }
   ],
   "source": [
    "#•Calculate length of your last name first using len() and store as a variable “lastname_len”\n",
    "lastname_len = len(lastname)\n",
    "print(lastname_len)"
   ]
  },
  {
   "cell_type": "code",
   "execution_count": 20,
   "id": "b6858659",
   "metadata": {},
   "outputs": [
    {
     "name": "stdout",
     "output_type": "stream",
     "text": [
      "Yan\n"
     ]
    }
   ],
   "source": [
    "#•Print first three characters of your first name\n",
    "print(firstname[:3])"
   ]
  },
  {
   "cell_type": "code",
   "execution_count": 21,
   "id": "eea90ae4",
   "metadata": {},
   "outputs": [
    {
     "name": "stdout",
     "output_type": "stream",
     "text": [
      "Qin\n"
     ]
    }
   ],
   "source": [
    "#•Print last three characters of your last name\n",
    "print(lastname[-3:])"
   ]
  },
  {
   "cell_type": "code",
   "execution_count": 22,
   "id": "7d1d1039",
   "metadata": {},
   "outputs": [
    {
     "name": "stdout",
     "output_type": "stream",
     "text": [
      "9\n"
     ]
    }
   ],
   "source": [
    "#•Get the total length of your full name (add firstname_lenand lastname_len)\n",
    "total_len=firstname_len+lastname_len\n",
    "\n",
    "#•Print the total length of your full name\n",
    "print(total_len)"
   ]
  },
  {
   "cell_type": "markdown",
   "id": "426414cd",
   "metadata": {},
   "source": [
    "**5**.(Post-class) Write a Python program to do the following:      (8 points)"
   ]
  },
  {
   "cell_type": "code",
   "execution_count": 66,
   "id": "6734146d",
   "metadata": {},
   "outputs": [
    {
     "name": "stdout",
     "output_type": "stream",
     "text": [
      "4\n"
     ]
    }
   ],
   "source": [
    "#Create a variable \"radius” and assign it some value using input()\n",
    "radius = int(input())"
   ]
  },
  {
   "cell_type": "code",
   "execution_count": 67,
   "id": "847857a1",
   "metadata": {},
   "outputs": [],
   "source": [
    "#Create a variable “pi” and assign it 22/7\n",
    "pi = 22/7"
   ]
  },
  {
   "cell_type": "code",
   "execution_count": 68,
   "id": "95a8c6a2",
   "metadata": {},
   "outputs": [],
   "source": [
    "#Calculate area of the sphere with radius “radius” and store it in a new variable “sphere_area”. Remember that area of a sphere with radius r is 4𝜋𝑟2\n",
    "sphere_area = 4*pi*radius**2"
   ]
  },
  {
   "cell_type": "code",
   "execution_count": 69,
   "id": "3f1a847c",
   "metadata": {},
   "outputs": [
    {
     "name": "stdout",
     "output_type": "stream",
     "text": [
      "4\n",
      "201.14285714285714\n"
     ]
    }
   ],
   "source": [
    "#Print the value of “radius” and “sphere_area”\n",
    "print(radius)\n",
    "print(sphere_area)"
   ]
  },
  {
   "cell_type": "code",
   "execution_count": 70,
   "id": "123203ff",
   "metadata": {},
   "outputs": [
    {
     "name": "stdout",
     "output_type": "stream",
     "text": [
      "4\n",
      "268.19047619047615\n"
     ]
    }
   ],
   "source": [
    "#Calculate volume of the sphere with radius “radius” and store it in a new variable “sphere_volume”. Remember that volume of a sphere with radius r is 43𝜋𝑟3\n",
    "sphere_volume = 4/3*pi*radius**3\n",
    "#Print the value of “radius” and “sphere_volume”\n",
    "print(radius)\n",
    "print(sphere_volume)"
   ]
  },
  {
   "cell_type": "code",
   "execution_count": 71,
   "id": "1aa386f6",
   "metadata": {},
   "outputs": [],
   "source": [
    "#Calculate the ratio sphere_volume/sphere_area and store it in a variable \"ratio\"\n",
    "ratio = sphere_volume/sphere_area"
   ]
  },
  {
   "cell_type": "code",
   "execution_count": 72,
   "id": "d1c25a6a",
   "metadata": {},
   "outputs": [
    {
     "name": "stdout",
     "output_type": "stream",
     "text": [
      "The ratio of volume of a sphere with radius 4 to its area is 1.333333333333333\n"
     ]
    }
   ],
   "source": [
    "#Print the value of ratio with a statement, e.g., if I pick a value 6 as radius I will print \"The ratio of volume of a sphere with radius 6 to its area is 2.0\"\n",
    "print(\"The ratio of volume of a sphere with radius \"+str(radius)+\" to its area is \"+str(ratio))"
   ]
  }
 ],
 "metadata": {
  "kernelspec": {
   "display_name": "Python 3 (ipykernel)",
   "language": "python",
   "name": "python3"
  },
  "language_info": {
   "codemirror_mode": {
    "name": "ipython",
    "version": 3
   },
   "file_extension": ".py",
   "mimetype": "text/x-python",
   "name": "python",
   "nbconvert_exporter": "python",
   "pygments_lexer": "ipython3",
   "version": "3.9.7"
  }
 },
 "nbformat": 4,
 "nbformat_minor": 5
}
