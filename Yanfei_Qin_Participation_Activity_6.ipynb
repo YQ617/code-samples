{
  "nbformat": 4,
  "nbformat_minor": 0,
  "metadata": {
    "colab": {
      "name": "Yanfei Qin - Participation Activity 6.ipynb",
      "provenance": [],
      "collapsed_sections": [],
      "authorship_tag": "ABX9TyNAz2BWNMF+ek4fZ8s889x9",
      "include_colab_link": true
    },
    "kernelspec": {
      "name": "python3",
      "display_name": "Python 3"
    },
    "language_info": {
      "name": "python"
    }
  },
  "cells": [
    {
      "cell_type": "markdown",
      "metadata": {
        "id": "view-in-github",
        "colab_type": "text"
      },
      "source": [
        "<a href=\"https://colab.research.google.com/github/YQ617/code-samples/blob/Data-Analysis-and-Visualization/Yanfei_Qin_Participation_Activity_6.ipynb\" target=\"_parent\"><img src=\"https://colab.research.google.com/assets/colab-badge.svg\" alt=\"Open In Colab\"/></a>"
      ]
    },
    {
      "cell_type": "markdown",
      "metadata": {
        "id": "ADXuo35wp9so"
      },
      "source": [
        "# Participation Activity 6\n",
        "### Name: Yanfei Qin\n",
        "### PennKey: yfqin\n",
        "### PennID: 51386260"
      ]
    },
    {
      "cell_type": "markdown",
      "metadata": {
        "id": "xsiUbypgrv0r"
      },
      "source": [
        "## Activity 1: First lessons with Numpy arrays\n",
        "described on slide 5 of Lecture-6.pdf (8 points)"
      ]
    },
    {
      "cell_type": "markdown",
      "metadata": {
        "id": "ORQDqfQRr26A"
      },
      "source": [
        "### Activity 1 Q1"
      ]
    },
    {
      "cell_type": "code",
      "metadata": {
        "colab": {
          "base_uri": "https://localhost:8080/"
        },
        "id": "pVXX_bECp58w",
        "outputId": "0f1a2038-4c1d-43eb-e2a3-edae63011189"
      },
      "source": [
        "import numpy as np\n",
        "\n",
        "np_array_1d = np.arange(10,22)\n",
        "np_array_2d = np_array_1d.reshape([3,4])\n",
        "print('A 3x4 matrix filled with values from 10 to 21 is created below:')\n",
        "print(np_array_2d)"
      ],
      "execution_count": null,
      "outputs": [
        {
          "output_type": "stream",
          "name": "stdout",
          "text": [
            "A 3x4 matrix filled with values from 10 to 21 is created below:\n",
            "[[10 11 12 13]\n",
            " [14 15 16 17]\n",
            " [18 19 20 21]]\n"
          ]
        }
      ]
    },
    {
      "cell_type": "markdown",
      "metadata": {
        "id": "_Gt8_i5ht9YL"
      },
      "source": [
        "### Activity 1 Q2"
      ]
    },
    {
      "cell_type": "code",
      "metadata": {
        "colab": {
          "base_uri": "https://localhost:8080/"
        },
        "id": "tU0NGRdirJB-",
        "outputId": "560b9984-1635-4de6-9e29-2822e31c4a03"
      },
      "source": [
        "print('A sequence of numbers in the form of a Numpy array from 0 to 100 with gaps of 2 numbers is shown below:')\n",
        "print(np.linspace(0,100,51))"
      ],
      "execution_count": null,
      "outputs": [
        {
          "output_type": "stream",
          "name": "stdout",
          "text": [
            "A sequence of numbers in the form of a Numpy array from 0 to 100 with gaps of 2 numbers is shown below:\n",
            "[  0.   2.   4.   6.   8.  10.  12.  14.  16.  18.  20.  22.  24.  26.\n",
            "  28.  30.  32.  34.  36.  38.  40.  42.  44.  46.  48.  50.  52.  54.\n",
            "  56.  58.  60.  62.  64.  66.  68.  70.  72.  74.  76.  78.  80.  82.\n",
            "  84.  86.  88.  90.  92.  94.  96.  98. 100.]\n"
          ]
        }
      ]
    },
    {
      "cell_type": "markdown",
      "metadata": {
        "id": "nLL6lRC6vjUQ"
      },
      "source": [
        "### Activity 1 Q3"
      ]
    },
    {
      "cell_type": "code",
      "metadata": {
        "colab": {
          "base_uri": "https://localhost:8080/"
        },
        "id": "FIdkJgp_sWRR",
        "outputId": "1d20c92f-5c77-44a4-8281-af1d67d593f0"
      },
      "source": [
        "z_array_1d = np.arange(0,20)\n",
        "z_array_1d #this is the 1-d array Z I chose"
      ],
      "execution_count": null,
      "outputs": [
        {
          "output_type": "execute_result",
          "data": {
            "text/plain": [
              "array([ 0,  1,  2,  3,  4,  5,  6,  7,  8,  9, 10, 11, 12, 13, 14, 15, 16,\n",
              "       17, 18, 19])"
            ]
          },
          "metadata": {},
          "execution_count": 60
        }
      ]
    },
    {
      "cell_type": "code",
      "metadata": {
        "colab": {
          "base_uri": "https://localhost:8080/"
        },
        "id": "eNGUyTXRzs6C",
        "outputId": "0dbdf5e4-fb43-4155-ca90-07caa3ea8292"
      },
      "source": [
        "print('A two-dimensional array whose first row is (Z[0],Z[1],Z[2]) and each subsequent row is shifted by 1 is shown below:')\n",
        "row=[]\n",
        "for i in range(len(z_array_1d)):\n",
        "  if len(z_array_1d[i:i+3]) == 3:\n",
        "    row.append(z_array_1d[i:i+3])\n",
        "  else:\n",
        "    break\n",
        "\n",
        "array_2d = np.concatenate(row[:], axis = 0).reshape((len(row), len(row[0])))\n",
        "print(array_2d)"
      ],
      "execution_count": null,
      "outputs": [
        {
          "output_type": "stream",
          "name": "stdout",
          "text": [
            "A two-dimensional array whose first row is (Z[0],Z[1],Z[2]) and each subsequent row is shifted by 1 is shown below:\n",
            "[[ 0  1  2]\n",
            " [ 1  2  3]\n",
            " [ 2  3  4]\n",
            " [ 3  4  5]\n",
            " [ 4  5  6]\n",
            " [ 5  6  7]\n",
            " [ 6  7  8]\n",
            " [ 7  8  9]\n",
            " [ 8  9 10]\n",
            " [ 9 10 11]\n",
            " [10 11 12]\n",
            " [11 12 13]\n",
            " [12 13 14]\n",
            " [13 14 15]\n",
            " [14 15 16]\n",
            " [15 16 17]\n",
            " [16 17 18]\n",
            " [17 18 19]]\n"
          ]
        }
      ]
    },
    {
      "cell_type": "markdown",
      "metadata": {
        "id": "Fu45_J8e2z_K"
      },
      "source": [
        "### Activity 1 Q4"
      ]
    },
    {
      "cell_type": "code",
      "metadata": {
        "colab": {
          "base_uri": "https://localhost:8080/"
        },
        "id": "yZ8RJzmG0E7O",
        "outputId": "d6264204-8491-4820-8fa0-9fa232fec416"
      },
      "source": [
        "np_array = np.arange(1,21).reshape([5, 4])\n",
        "np_array #this is the 5x4 array I choose to work on"
      ],
      "execution_count": null,
      "outputs": [
        {
          "output_type": "execute_result",
          "data": {
            "text/plain": [
              "array([[ 1,  2,  3,  4],\n",
              "       [ 5,  6,  7,  8],\n",
              "       [ 9, 10, 11, 12],\n",
              "       [13, 14, 15, 16],\n",
              "       [17, 18, 19, 20]])"
            ]
          },
          "metadata": {},
          "execution_count": 3
        }
      ]
    },
    {
      "cell_type": "code",
      "metadata": {
        "colab": {
          "base_uri": "https://localhost:8080/"
        },
        "id": "O8_KgplTjZ0q",
        "outputId": "37ceaf22-d93c-4bd9-8759-d5d55cc426e9"
      },
      "source": [
        "print ('To extract first and third elements of the second and third rows from a given (5x4) array:')\n",
        "print(np_array[1:3, ::4])"
      ],
      "execution_count": null,
      "outputs": [
        {
          "output_type": "stream",
          "name": "stdout",
          "text": [
            "To extract first and third elements of the second and third rows from a given (5x4) array:\n",
            "[[5]\n",
            " [9]]\n"
          ]
        }
      ]
    },
    {
      "cell_type": "markdown",
      "metadata": {
        "id": "qsvC0tp3l3cc"
      },
      "source": [
        "## Activity 6: First Exercise in Pandas Series \n",
        "described on slide 11 of Lecture-6.pdf (12 points)"
      ]
    },
    {
      "cell_type": "code",
      "metadata": {
        "colab": {
          "resources": {
            "http://localhost:8080/nbextensions/google.colab/files.js": {
              "data": "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",
              "ok": true,
              "headers": [
                [
                  "content-type",
                  "application/javascript"
                ]
              ],
              "status": 200,
              "status_text": ""
            }
          },
          "base_uri": "https://localhost:8080/",
          "height": 109
        },
        "id": "4NQDQp6ukY86",
        "outputId": "60ab4bc9-1e67-4074-8b83-a837147a29df"
      },
      "source": [
        "from google.colab import files\n",
        "files.upload()"
      ],
      "execution_count": null,
      "outputs": [
        {
          "output_type": "display_data",
          "data": {
            "text/html": [
              "\n",
              "     <input type=\"file\" id=\"files-67ffd462-d47a-4260-9b28-34b22fadb205\" name=\"files[]\" multiple disabled\n",
              "        style=\"border:none\" />\n",
              "     <output id=\"result-67ffd462-d47a-4260-9b28-34b22fadb205\">\n",
              "      Upload widget is only available when the cell has been executed in the\n",
              "      current browser session. Please rerun this cell to enable.\n",
              "      </output>\n",
              "      <script src=\"/nbextensions/google.colab/files.js\"></script> "
            ],
            "text/plain": [
              "<IPython.core.display.HTML object>"
            ]
          },
          "metadata": {}
        },
        {
          "output_type": "stream",
          "name": "stdout",
          "text": [
            "Saving example_data.csv to example_data.csv\n"
          ]
        },
        {
          "output_type": "execute_result",
          "data": {
            "text/plain": [
              "{'example_data.csv': b'time;place;magType;mag;alert;tsunami\\n2018-10-13 11:10:23.560;262km NW of Ozernovskiy, Russia;mww;6.7;green;1\\n2018-10-13 04:34:15.580;25km E of Bitung, Indonesia;mww;5.2;green;0\\n2018-10-13 00:13:46.220;42km WNW of Sola, Vanuatu;mww;5.7;green;0\\n2018-10-12 21:09:49.240;13km E of Nueva Concepcion, Guatemala;mww;5.7;green;0\\n2018-10-12 02:52:03.620;128km SE of Kimbe, Papua New Guinea;mww;5.6;green;1\\n'}"
            ]
          },
          "metadata": {},
          "execution_count": 22
        }
      ]
    },
    {
      "cell_type": "code",
      "metadata": {
        "colab": {
          "base_uri": "https://localhost:8080/"
        },
        "id": "FTYvP9cftoEf",
        "outputId": "cce11bd3-b621-4ef5-b7ca-d9239084bea6"
      },
      "source": [
        "import numpy as np\n",
        "\n",
        "data = np.genfromtxt('example_data.csv', delimiter=';', names=True, dtype=None, encoding='UTF')\n",
        "data"
      ],
      "execution_count": null,
      "outputs": [
        {
          "output_type": "execute_result",
          "data": {
            "text/plain": [
              "array([('2018-10-13 11:10:23.560', '262km NW of Ozernovskiy, Russia', 'mww', 6.7, 'green', 1),\n",
              "       ('2018-10-13 04:34:15.580', '25km E of Bitung, Indonesia', 'mww', 5.2, 'green', 0),\n",
              "       ('2018-10-13 00:13:46.220', '42km WNW of Sola, Vanuatu', 'mww', 5.7, 'green', 0),\n",
              "       ('2018-10-12 21:09:49.240', '13km E of Nueva Concepcion, Guatemala', 'mww', 5.7, 'green', 0),\n",
              "       ('2018-10-12 02:52:03.620', '128km SE of Kimbe, Papua New Guinea', 'mww', 5.6, 'green', 1)],\n",
              "      dtype=[('time', '<U23'), ('place', '<U37'), ('magType', '<U3'), ('mag', '<f8'), ('alert', '<U5'), ('tsunami', '<i8')])"
            ]
          },
          "metadata": {},
          "execution_count": 25
        }
      ]
    },
    {
      "cell_type": "code",
      "metadata": {
        "colab": {
          "base_uri": "https://localhost:8080/"
        },
        "id": "xSDyA7yWuOqT",
        "outputId": "de655625-0108-4f13-d41e-ca391ce28bf1"
      },
      "source": [
        "array_dict = {\n",
        "    col: np.array([row[i] for row in data])\n",
        "    for i, col in enumerate(data.dtype.names)\n",
        "}\n",
        "array_dict"
      ],
      "execution_count": null,
      "outputs": [
        {
          "output_type": "execute_result",
          "data": {
            "text/plain": [
              "{'alert': array(['green', 'green', 'green', 'green', 'green'], dtype='<U5'),\n",
              " 'mag': array([6.7, 5.2, 5.7, 5.7, 5.6]),\n",
              " 'magType': array(['mww', 'mww', 'mww', 'mww', 'mww'], dtype='<U3'),\n",
              " 'place': array(['262km NW of Ozernovskiy, Russia', '25km E of Bitung, Indonesia',\n",
              "        '42km WNW of Sola, Vanuatu',\n",
              "        '13km E of Nueva Concepcion, Guatemala',\n",
              "        '128km SE of Kimbe, Papua New Guinea'], dtype='<U37'),\n",
              " 'time': array(['2018-10-13 11:10:23.560', '2018-10-13 04:34:15.580',\n",
              "        '2018-10-13 00:13:46.220', '2018-10-12 21:09:49.240',\n",
              "        '2018-10-12 02:52:03.620'], dtype='<U23'),\n",
              " 'tsunami': array([1, 0, 0, 0, 1])}"
            ]
          },
          "metadata": {},
          "execution_count": 26
        }
      ]
    },
    {
      "cell_type": "code",
      "metadata": {
        "colab": {
          "base_uri": "https://localhost:8080/"
        },
        "id": "X0rgfuu3yf9w",
        "outputId": "13f787f7-d55c-454c-93fa-ed706bb2c7a2"
      },
      "source": [
        "import pandas as pd\n",
        "\n",
        "magnitude = pd.Series(array_dict['mag'], name='magnitude')\n",
        "magnitude"
      ],
      "execution_count": null,
      "outputs": [
        {
          "output_type": "execute_result",
          "data": {
            "text/plain": [
              "0    6.7\n",
              "1    5.2\n",
              "2    5.7\n",
              "3    5.7\n",
              "4    5.6\n",
              "Name: magnitude, dtype: float64"
            ]
          },
          "metadata": {},
          "execution_count": 30
        }
      ]
    },
    {
      "cell_type": "code",
      "metadata": {
        "colab": {
          "base_uri": "https://localhost:8080/"
        },
        "id": "C87db7ZP1h7V",
        "outputId": "4a313eb0-6997-444d-a4ee-b407d2e7d5b3"
      },
      "source": [
        "print('The series has a dttype attribute of: ', magnitude.dtype)\n",
        "print('The series has a shape attribute of: ', magnitude.shape) #a single column, so only a value for the rows dimension.\n",
        "print('The series has a values attribute of: ', magnitude.values)\n",
        "print('The series has an index attribute of: ', magnitude.index)"
      ],
      "execution_count": null,
      "outputs": [
        {
          "output_type": "stream",
          "name": "stdout",
          "text": [
            "The series has a dttype attribute of:  float64\n",
            "The series has a shape attribute of:  (5,)\n",
            "The series has a values attribute of:  [6.7 5.2 5.7 5.7 5.6]\n",
            "The series has an index attribute of:  RangeIndex(start=0, stop=5, step=1)\n"
          ]
        }
      ]
    },
    {
      "cell_type": "code",
      "metadata": {
        "colab": {
          "base_uri": "https://localhost:8080/"
        },
        "id": "6amhYhC02-LF",
        "outputId": "a4d1e1be-398d-4fe3-abc0-9b04fe1c6527"
      },
      "source": [
        "magnitude_new = pd.Series(array_dict['mag'], name='magnitude_new', index=pd.Index([2, 1, 3, 4, 0]))\n",
        "magnitude_new"
      ],
      "execution_count": null,
      "outputs": [
        {
          "output_type": "execute_result",
          "data": {
            "text/plain": [
              "2    6.7\n",
              "1    5.2\n",
              "3    5.7\n",
              "4    5.7\n",
              "0    5.6\n",
              "Name: magnitude_new, dtype: float64"
            ]
          },
          "metadata": {},
          "execution_count": 62
        }
      ]
    },
    {
      "cell_type": "code",
      "metadata": {
        "colab": {
          "base_uri": "https://localhost:8080/"
        },
        "id": "l9xbmKyX3ubQ",
        "outputId": "b5ec6d30-c172-41dc-9b10-c95e5249ea44"
      },
      "source": [
        "magnitude + magnitude_new"
      ],
      "execution_count": null,
      "outputs": [
        {
          "output_type": "execute_result",
          "data": {
            "text/plain": [
              "0    12.3\n",
              "1    10.4\n",
              "2    12.4\n",
              "3    11.4\n",
              "4    11.3\n",
              "dtype: float64"
            ]
          },
          "metadata": {},
          "execution_count": 61
        }
      ]
    },
    {
      "cell_type": "markdown",
      "metadata": {
        "id": "Cj2ZLfLt4Rtb"
      },
      "source": [
        "In the above cell, I add ‘magnitude’ and ‘magnitude_new’ series and print the result. I didn't get any NaN values because the two series all have the pd.Index range from 0 to 4, so all indices can be matched and then summed.\n"
      ]
    },
    {
      "cell_type": "markdown",
      "metadata": {
        "id": "Er4xpII77ybk"
      },
      "source": [
        "## Use NumPy to solve this problem "
      ]
    },
    {
      "cell_type": "code",
      "metadata": {
        "id": "GbmZXEZl39zD"
      },
      "source": [
        "import numpy as np\n",
        "\n",
        "def whether_magic_square(matrix):\n",
        "  if matrix.shape[0] != matrix.shape[1]:\n",
        "    return 'It is not even a square matrix'\n",
        "\n",
        "  if np.array_equal(np.sort(matrix.flatten()),np.sort(np.arange(1, matrix.size+1))) == False:\n",
        "    return 'The matrix is of size nxn, but it does not have all the numbers from 1 to n^2'\n",
        "  \n",
        "  # Method 1\n",
        "  for i in matrix.sum(axis=0):\n",
        "    if i == matrix.sum(axis=0)[0]:\n",
        "      continue\n",
        "    else:\n",
        "      print(\"The sums of the columns are not equal to each other\")\n",
        "      break\n",
        "  for L in matrix.sum(axis=1):\n",
        "    if L == matrix.sum(axis=1)[0]:\n",
        "      continue\n",
        "    else:\n",
        "      print(\"The sums of the rows are not equal to each other\")\n",
        "      break\n",
        "  if sum(np.diag(matrix)) == sum(np.diag(np.fliplr(matrix))) == matrix.sum(axis=1)[0] == matrix.sum(axis=0)[0]:\n",
        "    print('According to Method 1, the input matrix is a magic sqaure')\n",
        "  else:\n",
        "    print('According to Method 1, the input matrix is not a magic square')\n",
        "\n",
        "  # Method 2 for extra credit\n",
        "  if(max(matrix.sum(axis=0)) == min(matrix.sum(axis=0)) == max(matrix.sum(axis=1))\n",
        "     == min((matrix.sum(axis=1))) == sum(np.diag(matrix)) == sum(np.diag(np.fliplr(matrix)))):\n",
        "    print('According to Method 2, the input matrix is a magic sqaure')\n",
        "  else:\n",
        "    print('According to Method 2, the input matrix is not a magic square')"
      ],
      "execution_count": null,
      "outputs": []
    },
    {
      "cell_type": "code",
      "metadata": {
        "id": "X0NL5VIH_XoM"
      },
      "source": [
        "matrix1 = np.array([[17, 24, 1, 8, 15], \n",
        "\n",
        "                 [23, 5, 7, 14, 16],\n",
        "\n",
        "                [4, 6, 13, 20, 22],\n",
        "\n",
        "                [10, 12, 19, 21, 3],\n",
        "\n",
        "                [11, 18, 25, 2, 9]])"
      ],
      "execution_count": null,
      "outputs": []
    },
    {
      "cell_type": "code",
      "metadata": {
        "id": "3UpdNlTC_uYX"
      },
      "source": [
        "matrix2 = np.array([[6, 3, 10, 15],\n",
        "\n",
        "                  [9, 16, 5, 4],\n",
        "\n",
        "                  [7, 2, 11, 14], \n",
        "\n",
        "                  [12, 13, 8, 1]])"
      ],
      "execution_count": null,
      "outputs": []
    },
    {
      "cell_type": "code",
      "metadata": {
        "colab": {
          "base_uri": "https://localhost:8080/"
        },
        "id": "r_2w7TyI_dRJ",
        "outputId": "2c6aa6fb-933b-43f9-d9fb-84cfa001d542"
      },
      "source": [
        "whether_magic_square(matrix1)"
      ],
      "execution_count": null,
      "outputs": [
        {
          "output_type": "stream",
          "name": "stdout",
          "text": [
            "According to Method 1, the input matrix is a magic sqaure\n",
            "According to Method 2, the input matrix is a magic sqaure\n"
          ]
        }
      ]
    },
    {
      "cell_type": "code",
      "metadata": {
        "colab": {
          "base_uri": "https://localhost:8080/"
        },
        "id": "KkJWK16y_fGy",
        "outputId": "2a540645-eeb2-4893-97c7-dba54d243848"
      },
      "source": [
        "whether_magic_square(matrix2)"
      ],
      "execution_count": null,
      "outputs": [
        {
          "output_type": "stream",
          "name": "stdout",
          "text": [
            "According to Method 1, the input matrix is a magic sqaure\n",
            "According to Method 2, the input matrix is a magic sqaure\n"
          ]
        }
      ]
    },
    {
      "cell_type": "code",
      "metadata": {
        "id": "JSjO96ha_qai"
      },
      "source": [
        ""
      ],
      "execution_count": null,
      "outputs": []
    }
  ]
}