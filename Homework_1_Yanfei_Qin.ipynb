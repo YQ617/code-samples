{
  "nbformat": 4,
  "nbformat_minor": 0,
  "metadata": {
    "colab": {
      "name": "Homework 1 - Yanfei Qin.ipynb",
      "provenance": [],
      "collapsed_sections": [],
      "authorship_tag": "ABX9TyN9aM+iyRyjxn/5VgsV6G8k",
      "include_colab_link": true
    },
    "kernelspec": {
      "name": "python3",
      "display_name": "Python 3"
    },
    "language_info": {
      "name": "python"
    }
  },
  "cells": [
    {
      "cell_type": "markdown",
      "metadata": {
        "id": "view-in-github",
        "colab_type": "text"
      },
      "source": [
        "<a href=\"https://colab.research.google.com/github/YQ617/code-samples/blob/Machine-Learning/Homework_1_Yanfei_Qin.ipynb\" target=\"_parent\"><img src=\"https://colab.research.google.com/assets/colab-badge.svg\" alt=\"Open In Colab\"/></a>"
      ]
    },
    {
      "cell_type": "markdown",
      "source": [
        "# HOMEWORK 1: Classification\n",
        "### Name: Yanfei Qin\n",
        "### PennKey: yfqin\n",
        "### PennID: 51386260"
      ],
      "metadata": {
        "id": "MEjV9KQy_N8c"
      }
    },
    {
      "cell_type": "markdown",
      "source": [
        "##Section 1: Data Preprocessing"
      ],
      "metadata": {
        "id": "o8gV-Hz-_mSk"
      }
    },
    {
      "cell_type": "code",
      "execution_count": null,
      "metadata": {
        "colab": {
          "resources": {
            "http://localhost:8080/nbextensions/google.colab/files.js": {
              "data": "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",
              "ok": true,
              "headers": [
                [
                  "content-type",
                  "application/javascript"
                ]
              ],
              "status": 200,
              "status_text": ""
            }
          },
          "base_uri": "https://localhost:8080/",
          "height": 113
        },
        "id": "J0FqnXro_HiC",
        "outputId": "56651c85-a3ed-4216-c8b3-a11cac836074"
      },
      "outputs": [
        {
          "output_type": "display_data",
          "data": {
            "text/html": [
              "\n",
              "     <input type=\"file\" id=\"files-9302964e-c7b4-4dd4-bbdc-1e7a0b0c53ba\" name=\"files[]\" multiple disabled\n",
              "        style=\"border:none\" />\n",
              "     <output id=\"result-9302964e-c7b4-4dd4-bbdc-1e7a0b0c53ba\">\n",
              "      Upload widget is only available when the cell has been executed in the\n",
              "      current browser session. Please rerun this cell to enable.\n",
              "      </output>\n",
              "      <script src=\"/nbextensions/google.colab/files.js\"></script> "
            ],
            "text/plain": [
              "<IPython.core.display.HTML object>"
            ]
          },
          "metadata": {}
        },
        {
          "output_type": "stream",
          "name": "stdout",
          "text": [
            "Saving Student Performance.csv to Student Performance.csv\n"
          ]
        },
        {
          "output_type": "execute_result",
          "data": {
            "text/plain": [
              "{'Student Performance.csv': b\"gender,race/ethnicity,parental level of education,lunch,math score,reading score,writing score,total score,test preparation course,admission prospect\\r\\nfemale,group B,bachelor's degree,standard,72,72,74,218,none,medium\\r\\nfemale,group C,some college,standard,69,90,88,247,completed,high\\r\\nfemale,group B,master's degree,standard,90,95,93,278,none,high\\r\\nmale,group A,associate's degree,free/reduced,47,57,44,148,none,low\\r\\nmale,group C,some college,standard,76,78,75,229,none,high\\r\\nfemale,group B,associate's degree,standard,71,83,78,232,none,high\\r\\nfemale,group B,some college,standard,88,95,92,275,completed,high\\r\\nmale,group B,some college,free/reduced,40,43,39,122,none,low\\r\\nmale,group D,high school,free/reduced,64,64,67,195,completed,medium\\r\\nfemale,group B,high school,free/reduced,38,60,50,148,none,low\\r\\nmale,group C,associate's degree,standard,58,54,52,164,none,medium\\r\\nmale,group D,associate's degree,standard,40,52,43,135,none,low\\r\\nfemale,group B,high school,standard,65,81,73,219,none,medium\\r\\nmale,group A,some college,standard,78,72,70,220,completed,medium\\r\\nfemale,group A,master's degree,standard,50,53,58,161,none,medium\\r\\nfemale,group C,some high school,standard,69,75,78,222,none,high\\r\\nmale,group C,high school,standard,88,89,86,263,none,high\\r\\nfemale,group B,some high school,free/reduced,18,32,28,78,none,low\\r\\nmale,group C,master's degree,free/reduced,46,42,46,134,completed,low\\r\\nfemale,group C,associate's degree,free/reduced,54,58,61,173,none,medium\\r\\nmale,group D,high school,standard,66,69,63,198,none,medium\\r\\nfemale,group B,some college,free/reduced,65,75,70,210,completed,medium\\r\\nmale,group D,some college,standard,44,54,53,151,none,low\\r\\nfemale,group C,some high school,standard,69,73,73,215,none,medium\\r\\nmale,group D,bachelor's degree,free/reduced,74,71,80,225,completed,high\\r\\nmale,group A,master's degree,free/reduced,73,74,72,219,none,medium\\r\\nmale,group B,some college,standard,69,54,55,178,none,medium\\r\\nfemale,group C,bachelor's degree,standard,67,69,75,211,none,medium\\r\\nmale,group C,high school,standard,70,70,65,205,none,medium\\r\\nfemale,group D,master's degree,standard,62,70,75,207,none,medium\\r\\nfemale,group D,some college,standard,69,74,74,217,none,medium\\r\\nfemale,group B,some college,standard,63,65,61,189,none,medium\\r\\nfemale,group E,master's degree,free/reduced,56,72,65,193,none,medium\\r\\nmale,group D,some college,standard,40,42,38,120,none,low\\r\\nmale,group E,some college,standard,97,87,82,266,none,high\\r\\nmale,group E,associate's degree,standard,81,81,79,241,completed,high\\r\\nfemale,group D,associate's degree,standard,74,81,83,238,none,high\\r\\nfemale,group D,some high school,free/reduced,50,64,59,173,none,medium\\r\\nfemale,group D,associate's degree,free/reduced,75,90,88,253,completed,high\\r\\nmale,group B,associate's degree,free/reduced,57,56,57,170,none,medium\\r\\nmale,group C,associate's degree,free/reduced,55,61,54,170,none,medium\\r\\nfemale,group C,associate's degree,standard,58,73,68,199,none,medium\\r\\nfemale,group B,associate's degree,standard,53,58,65,176,none,medium\\r\\nmale,group B,some college,free/reduced,59,65,66,190,completed,medium\\r\\nfemale,group E,associate's degree,free/reduced,50,56,54,160,none,low\\r\\nmale,group B,associate's degree,standard,65,54,57,176,none,medium\\r\\nfemale,group A,associate's degree,standard,55,65,62,182,completed,medium\\r\\nfemale,group C,high school,standard,66,71,76,213,none,medium\\r\\nfemale,group D,associate's degree,free/reduced,57,74,76,207,completed,medium\\r\\nmale,group C,high school,standard,82,84,82,248,completed,high\\r\\nmale,group E,some college,standard,53,55,48,156,none,low\\r\\nmale,group E,associate's degree,free/reduced,77,69,68,214,completed,medium\\r\\nmale,group C,some college,standard,53,44,42,139,none,low\\r\\nmale,group D,high school,standard,88,78,75,241,none,high\\r\\nfemale,group C,some high school,free/reduced,71,84,87,242,completed,high\\r\\nfemale,group C,high school,free/reduced,33,41,43,117,none,low\\r\\nfemale,group E,associate's degree,standard,82,85,86,253,completed,high\\r\\nmale,group D,associate's degree,standard,52,55,49,156,none,low\\r\\nmale,group D,some college,standard,58,59,58,175,completed,medium\\r\\nfemale,group C,some high school,free/reduced,0,17,10,27,none,low\\r\\nmale,group E,bachelor's degree,free/reduced,79,74,72,225,completed,high\\r\\nmale,group A,some high school,free/reduced,39,39,34,112,none,low\\r\\nmale,group A,associate's degree,free/reduced,62,61,55,178,none,medium\\r\\nfemale,group C,associate's degree,standard,69,80,71,220,none,medium\\r\\nfemale,group D,some high school,standard,59,58,59,176,none,medium\\r\\nmale,group B,some high school,standard,67,64,61,192,none,medium\\r\\nmale,group D,some high school,free/reduced,45,37,37,119,none,low\\r\\nfemale,group C,some college,standard,60,72,74,206,none,medium\\r\\nmale,group B,associate's degree,free/reduced,61,58,56,175,none,medium\\r\\nfemale,group C,associate's degree,standard,39,64,57,160,none,low\\r\\nfemale,group D,some college,free/reduced,58,63,73,194,completed,medium\\r\\nmale,group D,some college,standard,63,55,63,181,completed,medium\\r\\nfemale,group A,associate's degree,free/reduced,41,51,48,140,none,low\\r\\nmale,group C,some high school,free/reduced,61,57,56,174,none,medium\\r\\nmale,group C,some high school,standard,49,49,41,139,none,low\\r\\nmale,group B,associate's degree,free/reduced,44,41,38,123,none,low\\r\\nmale,group E,some high school,standard,30,26,22,78,none,low\\r\\nmale,group A,bachelor's degree,standard,80,78,81,239,completed,high\\r\\nfemale,group D,some high school,standard,61,74,72,207,completed,medium\\r\\nfemale,group E,master's degree,standard,62,68,68,198,none,medium\\r\\nfemale,group B,associate's degree,standard,47,49,50,146,none,low\\r\\nmale,group B,high school,free/reduced,49,45,45,139,none,low\\r\\nmale,group A,some college,free/reduced,50,47,54,151,completed,low\\r\\nmale,group E,associate's degree,standard,72,64,63,199,none,medium\\r\\nmale,group D,high school,free/reduced,42,39,34,115,none,low\\r\\nfemale,group C,some college,standard,73,80,82,235,none,high\\r\\nfemale,group C,some college,free/reduced,76,83,88,247,none,high\\r\\nfemale,group D,associate's degree,standard,71,71,74,216,none,medium\\r\\nfemale,group A,some college,standard,58,70,67,195,none,medium\\r\\nfemale,group D,some high school,standard,73,86,82,241,none,high\\r\\nfemale,group C,bachelor's degree,standard,65,72,74,211,none,medium\\r\\nmale,group C,high school,free/reduced,27,34,36,97,none,low\\r\\nmale,group C,high school,standard,71,79,71,221,none,high\\r\\nmale,group C,associate's degree,free/reduced,43,45,50,138,completed,low\\r\\nfemale,group B,some college,standard,79,86,92,257,none,high\\r\\nmale,group C,associate's degree,free/reduced,78,81,82,241,completed,high\\r\\nmale,group B,some high school,standard,65,66,62,193,completed,medium\\r\\nfemale,group E,some college,standard,63,72,70,205,completed,medium\\r\\nfemale,group D,some college,free/reduced,58,67,62,187,none,medium\\r\\nfemale,group D,bachelor's degree,standard,65,67,62,194,none,medium\\r\\nmale,group B,some college,standard,79,67,67,213,none,medium\\r\\nmale,group D,bachelor's degree,standard,68,74,74,216,completed,medium\\r\\nfemale,group D,associate's degree,standard,85,91,89,265,none,high\\r\\nmale,group B,high school,standard,60,44,47,151,completed,low\\r\\nmale,group C,some college,standard,98,86,90,274,completed,high\\r\\nfemale,group C,some college,standard,58,67,72,197,none,medium\\r\\nfemale,group D,master's degree,standard,87,100,100,287,none,high\\r\\nmale,group E,associate's degree,standard,66,63,64,193,completed,medium\\r\\nfemale,group B,associate's degree,free/reduced,52,76,70,198,none,medium\\r\\nfemale,group B,some high school,standard,70,64,72,206,none,medium\\r\\nfemale,group D,associate's degree,free/reduced,77,89,98,264,completed,high\\r\\nmale,group C,high school,standard,62,55,49,166,none,medium\\r\\nmale,group A,associate's degree,standard,54,53,47,154,none,low\\r\\nfemale,group D,some college,standard,51,58,54,163,none,medium\\r\\nfemale,group E,bachelor's degree,standard,99,100,100,299,completed,high\\r\\nmale,group C,high school,standard,84,77,74,235,none,high\\r\\nfemale,group B,bachelor's degree,free/reduced,75,85,82,242,none,high\\r\\nfemale,group D,bachelor's degree,standard,78,82,79,239,none,high\\r\\nfemale,group D,some high school,standard,51,63,61,175,none,medium\\r\\nfemale,group C,some college,standard,55,69,65,189,none,medium\\r\\nfemale,group C,bachelor's degree,standard,79,92,89,260,completed,high\\r\\nmale,group B,associate's degree,standard,91,89,92,272,completed,high\\r\\nfemale,group C,some college,standard,88,93,93,274,completed,high\\r\\nmale,group D,high school,free/reduced,63,57,56,176,none,medium\\r\\nmale,group E,some college,standard,83,80,73,236,none,high\\r\\nfemale,group B,high school,standard,87,95,86,268,none,high\\r\\nmale,group B,some high school,standard,72,68,67,207,none,medium\\r\\nmale,group D,some college,standard,65,77,74,216,completed,medium\\r\\nmale,group D,master's degree,standard,82,82,74,238,none,high\\r\\nfemale,group A,bachelor's degree,standard,51,49,51,151,none,low\\r\\nmale,group D,master's degree,standard,89,84,82,255,none,high\\r\\nmale,group C,some high school,free/reduced,53,37,40,130,completed,low\\r\\nmale,group E,some college,free/reduced,87,74,70,231,completed,high\\r\\nfemale,group C,some college,standard,75,81,84,240,completed,high\\r\\nmale,group D,bachelor's degree,free/reduced,74,79,75,228,completed,high\\r\\nmale,group C,bachelor's degree,standard,58,55,48,161,none,medium\\r\\nmale,group B,some high school,standard,51,54,41,146,completed,low\\r\\nmale,group E,high school,standard,70,55,56,181,none,medium\\r\\nfemale,group C,associate's degree,standard,59,66,67,192,none,medium\\r\\nmale,group D,some college,standard,71,61,69,201,completed,medium\\r\\nfemale,group D,some high school,standard,76,72,71,219,none,medium\\r\\nfemale,group C,some college,free/reduced,59,62,64,185,none,medium\\r\\nfemale,group E,some college,free/reduced,42,55,54,151,completed,low\\r\\nmale,group A,high school,standard,57,43,47,147,none,low\\r\\nmale,group D,some college,standard,88,73,78,239,none,high\\r\\nfemale,group C,some college,free/reduced,22,39,33,94,none,low\\r\\nmale,group B,some high school,standard,88,84,75,247,none,high\\r\\nmale,group C,associate's degree,free/reduced,73,68,66,207,none,medium\\r\\nfemale,group D,bachelor's degree,standard,68,75,81,224,completed,high\\r\\nmale,group E,associate's degree,free/reduced,100,100,93,293,completed,high\\r\\nmale,group A,some high school,standard,62,67,69,198,completed,medium\\r\\nmale,group A,bachelor's degree,standard,77,67,68,212,none,medium\\r\\nfemale,group B,associate's degree,standard,59,70,66,195,completed,medium\\r\\nmale,group D,bachelor's degree,standard,54,49,47,150,none,low\\r\\nmale,group D,some high school,standard,62,67,61,190,none,medium\\r\\nfemale,group C,some college,standard,70,89,88,247,completed,high\\r\\nfemale,group E,high school,free/reduced,66,74,78,218,completed,medium\\r\\nmale,group B,some college,free/reduced,60,60,60,180,none,medium\\r\\nfemale,group B,associate's degree,standard,61,86,87,234,completed,high\\r\\nmale,group D,associate's degree,free/reduced,66,62,64,192,none,medium\\r\\nmale,group B,associate's degree,free/reduced,82,78,74,234,completed,high\\r\\nfemale,group E,some college,free/reduced,75,88,85,248,completed,high\\r\\nmale,group B,master's degree,free/reduced,49,53,52,154,none,low\\r\\nmale,group C,high school,standard,52,53,49,154,none,low\\r\\nfemale,group E,master's degree,standard,81,92,91,264,none,high\\r\\nfemale,group C,bachelor's degree,standard,96,100,100,296,completed,high\\r\\nmale,group C,high school,free/reduced,53,51,51,155,completed,low\\r\\nfemale,group B,master's degree,free/reduced,58,76,78,212,completed,medium\\r\\nfemale,group B,high school,standard,68,83,78,229,completed,high\\r\\nfemale,group C,some college,free/reduced,67,75,70,212,completed,medium\\r\\nmale,group A,high school,standard,72,73,74,219,completed,medium\\r\\nmale,group E,some high school,standard,94,88,78,260,none,high\\r\\nfemale,group D,some college,standard,79,86,81,246,none,high\\r\\nfemale,group C,associate's degree,standard,63,67,70,200,none,medium\\r\\nfemale,group C,bachelor's degree,free/reduced,43,51,54,148,completed,low\\r\\nfemale,group C,master's degree,standard,81,91,87,259,completed,high\\r\\nfemale,group B,high school,free/reduced,46,54,58,158,completed,low\\r\\nfemale,group C,associate's degree,standard,71,77,77,225,completed,high\\r\\nfemale,group B,master's degree,free/reduced,52,70,62,184,completed,medium\\r\\nfemale,group D,some high school,standard,97,100,100,297,completed,high\\r\\nmale,group C,master's degree,free/reduced,62,68,75,205,completed,medium\\r\\nfemale,group C,some college,free/reduced,46,64,66,176,none,medium\\r\\nfemale,group E,high school,standard,50,50,47,147,none,low\\r\\nfemale,group D,associate's degree,standard,65,69,70,204,none,medium\\r\\nmale,group C,some high school,free/reduced,45,52,49,146,completed,low\\r\\nmale,group C,associate's degree,free/reduced,65,67,65,197,completed,medium\\r\\nmale,group E,high school,standard,80,76,65,221,none,high\\r\\nmale,group D,some high school,standard,62,66,68,196,completed,medium\\r\\nmale,group B,some high school,free/reduced,48,52,45,145,none,low\\r\\nfemale,group C,bachelor's degree,standard,77,88,87,252,none,high\\r\\nfemale,group E,associate's degree,standard,66,65,69,200,none,medium\\r\\nmale,group D,some college,standard,76,83,79,238,completed,high\\r\\nfemale,group B,some high school,standard,62,64,66,192,none,medium\\r\\nmale,group D,some college,standard,77,62,62,201,completed,medium\\r\\nfemale,group C,master's degree,standard,69,84,85,238,completed,high\\r\\nmale,group D,associate's degree,standard,61,55,52,168,none,medium\\r\\nmale,group C,some high school,free/reduced,59,69,65,193,completed,medium\\r\\nmale,group E,high school,free/reduced,55,56,51,162,none,medium\\r\\nfemale,group B,some college,free/reduced,45,53,55,153,none,low\\r\\nfemale,group B,bachelor's degree,free/reduced,78,79,76,233,none,high\\r\\nfemale,group C,associate's degree,standard,67,84,86,237,completed,high\\r\\nfemale,group D,some college,free/reduced,65,81,77,223,none,high\\r\\nmale,group C,associate's degree,standard,69,77,69,215,none,medium\\r\\nfemale,group B,associate's degree,standard,57,69,68,194,none,medium\\r\\nmale,group C,some college,standard,59,41,42,142,none,low\\r\\nmale,group D,some high school,standard,74,71,78,223,completed,high\\r\\nmale,group E,bachelor's degree,standard,82,62,62,206,none,medium\\r\\nmale,group E,high school,standard,81,80,76,237,completed,high\\r\\nfemale,group B,some college,free/reduced,74,81,76,231,none,high\\r\\nfemale,group B,some college,free/reduced,58,61,66,185,none,medium\\r\\nmale,group D,some high school,free/reduced,80,79,79,238,completed,high\\r\\nmale,group C,some college,free/reduced,35,28,27,90,none,low\\r\\nfemale,group C,high school,free/reduced,42,62,60,164,none,medium\\r\\nmale,group C,associate's degree,free/reduced,60,51,56,167,completed,medium\\r\\nmale,group E,high school,standard,87,91,81,259,completed,high\\r\\nmale,group B,some high school,standard,84,83,75,242,completed,high\\r\\nfemale,group E,associate's degree,free/reduced,83,86,88,257,completed,high\\r\\nfemale,group C,high school,free/reduced,34,42,39,115,none,low\\r\\nmale,group B,high school,free/reduced,66,77,70,213,none,medium\\r\\nmale,group B,some high school,standard,61,56,56,173,completed,medium\\r\\nfemale,group D,high school,standard,56,68,74,198,completed,medium\\r\\nmale,group B,associate's degree,standard,87,85,73,245,none,high\\r\\nfemale,group C,some high school,free/reduced,55,65,62,182,none,medium\\r\\nmale,group D,some high school,standard,86,80,75,241,none,high\\r\\nfemale,group B,associate's degree,standard,52,66,73,191,completed,medium\\r\\nfemale,group E,master's degree,free/reduced,45,56,54,155,none,low\\r\\nfemale,group C,some college,standard,72,72,71,215,none,medium\\r\\nmale,group D,high school,standard,57,50,54,161,none,medium\\r\\nmale,group A,some high school,free/reduced,68,72,64,204,none,medium\\r\\nfemale,group C,some college,standard,88,95,94,277,completed,high\\r\\nmale,group D,some college,standard,76,64,66,206,none,medium\\r\\nmale,group C,associate's degree,standard,46,43,42,131,none,low\\r\\nfemale,group B,bachelor's degree,standard,67,86,83,236,none,high\\r\\nmale,group E,some high school,standard,92,87,78,257,none,high\\r\\nmale,group C,bachelor's degree,standard,83,82,84,249,completed,high\\r\\nmale,group D,associate's degree,standard,80,75,77,232,none,high\\r\\nmale,group D,bachelor's degree,free/reduced,63,66,67,196,none,medium\\r\\nfemale,group D,some high school,standard,64,60,74,198,completed,medium\\r\\nmale,group B,some college,standard,54,52,51,157,none,low\\r\\nmale,group C,associate's degree,standard,84,80,80,244,none,high\\r\\nmale,group D,high school,free/reduced,73,68,66,207,completed,medium\\r\\nfemale,group E,bachelor's degree,standard,80,83,83,246,none,high\\r\\nfemale,group D,high school,standard,56,52,55,163,none,medium\\r\\nmale,group E,some college,standard,59,51,43,153,none,low\\r\\nmale,group D,some high school,standard,75,74,69,218,none,medium\\r\\nmale,group C,associate's degree,standard,85,76,71,232,none,high\\r\\nmale,group E,associate's degree,standard,89,76,74,239,none,high\\r\\nfemale,group B,high school,standard,58,70,68,196,completed,medium\\r\\nfemale,group B,high school,standard,65,64,62,191,none,medium\\r\\nmale,group C,high school,standard,68,60,53,181,none,medium\\r\\nmale,group A,some high school,standard,47,49,49,145,completed,low\\r\\nfemale,group D,some college,free/reduced,71,83,83,237,none,high\\r\\nfemale,group B,some high school,standard,60,70,70,200,completed,medium\\r\\nmale,group D,master's degree,standard,80,80,72,232,none,high\\r\\nmale,group D,high school,standard,54,52,52,158,none,low\\r\\nfemale,group E,some college,standard,62,73,70,205,none,medium\\r\\nfemale,group C,associate's degree,free/reduced,64,73,68,205,none,medium\\r\\nmale,group C,associate's degree,standard,78,77,77,232,completed,high\\r\\nfemale,group B,some college,standard,70,75,78,223,none,high\\r\\nfemale,group C,master's degree,free/reduced,65,81,81,227,completed,high\\r\\nfemale,group C,some high school,free/reduced,64,79,77,220,completed,medium\\r\\nmale,group C,some college,standard,79,79,78,236,completed,high\\r\\nfemale,group C,some high school,free/reduced,44,50,51,145,none,low\\r\\nfemale,group E,high school,standard,99,93,90,282,none,high\\r\\nmale,group D,high school,standard,76,73,68,217,none,medium\\r\\nmale,group D,some high school,free/reduced,59,42,41,142,none,low\\r\\nfemale,group C,bachelor's degree,standard,63,75,81,219,none,medium\\r\\nfemale,group D,high school,standard,69,72,77,218,none,medium\\r\\nfemale,group D,associate's degree,standard,88,92,95,275,completed,high\\r\\nfemale,group E,some college,free/reduced,71,76,70,217,none,medium\\r\\nmale,group C,bachelor's degree,standard,69,63,61,193,none,medium\\r\\nmale,group C,some college,standard,58,49,42,149,none,low\\r\\nfemale,group D,associate's degree,free/reduced,47,53,58,158,none,low\\r\\nfemale,group D,some college,standard,65,70,71,206,none,medium\\r\\nmale,group B,some college,standard,88,85,76,249,completed,high\\r\\nmale,group C,bachelor's degree,standard,83,78,73,234,none,high\\r\\nfemale,group C,some high school,standard,85,92,93,270,completed,high\\r\\nfemale,group E,high school,standard,59,63,75,197,completed,medium\\r\\nfemale,group C,some high school,free/reduced,65,86,80,231,none,high\\r\\nmale,group B,bachelor's degree,free/reduced,73,56,57,186,none,medium\\r\\nmale,group D,high school,standard,53,52,42,147,none,low\\r\\nmale,group D,high school,standard,45,48,46,139,none,low\\r\\nfemale,group D,bachelor's degree,free/reduced,73,79,84,236,none,high\\r\\nfemale,group D,some college,free/reduced,70,78,78,226,completed,high\\r\\nfemale,group B,some high school,standard,37,46,46,129,none,low\\r\\nmale,group B,associate's degree,standard,81,82,82,245,completed,high\\r\\nmale,group E,associate's degree,standard,97,82,88,267,completed,high\\r\\nfemale,group B,some high school,standard,67,89,82,238,none,high\\r\\nmale,group B,bachelor's degree,free/reduced,88,75,76,239,none,high\\r\\nmale,group E,some high school,standard,77,76,77,230,completed,high\\r\\nmale,group C,associate's degree,standard,76,70,68,214,none,medium\\r\\nmale,group D,some high school,standard,86,73,70,229,none,high\\r\\nmale,group C,some high school,standard,63,60,57,180,completed,medium\\r\\nfemale,group E,bachelor's degree,standard,65,73,75,213,none,medium\\r\\nmale,group D,high school,free/reduced,78,77,80,235,completed,high\\r\\nmale,group B,associate's degree,free/reduced,67,62,60,189,none,medium\\r\\nmale,group A,some high school,standard,46,41,43,130,completed,low\\r\\nmale,group E,associate's degree,standard,71,74,68,213,completed,medium\\r\\nmale,group C,high school,free/reduced,40,46,50,136,completed,low\\r\\nmale,group D,associate's degree,free/reduced,90,87,75,252,none,high\\r\\nmale,group A,some college,free/reduced,81,78,81,240,completed,high\\r\\nmale,group D,some high school,free/reduced,56,54,52,162,none,medium\\r\\nfemale,group C,associate's degree,standard,67,84,81,232,completed,high\\r\\nmale,group B,associate's degree,standard,80,76,64,220,none,medium\\r\\nfemale,group C,associate's degree,standard,74,75,83,232,completed,high\\r\\nmale,group A,some college,standard,69,67,69,205,none,medium\\r\\nmale,group E,some college,standard,99,87,81,267,completed,high\\r\\nmale,group C,some high school,standard,51,52,44,147,none,low\\r\\nfemale,group B,associate's degree,free/reduced,53,71,67,191,none,medium\\r\\nfemale,group D,high school,free/reduced,49,57,52,158,none,low\\r\\nfemale,group B,associate's degree,standard,73,76,80,229,none,high\\r\\nmale,group B,bachelor's degree,standard,66,60,57,183,none,medium\\r\\nmale,group D,bachelor's degree,standard,67,61,68,196,completed,medium\\r\\nfemale,group C,associate's degree,free/reduced,68,67,69,204,completed,medium\\r\\nfemale,group C,bachelor's degree,standard,59,64,75,198,completed,medium\\r\\nmale,group C,high school,standard,71,66,65,202,none,medium\\r\\nfemale,group D,master's degree,standard,77,82,91,250,completed,high\\r\\nmale,group C,associate's degree,standard,83,72,78,233,none,high\\r\\nmale,group B,bachelor's degree,standard,63,71,69,203,none,medium\\r\\nfemale,group D,associate's degree,free/reduced,56,65,63,184,none,medium\\r\\nfemale,group C,high school,free/reduced,67,79,84,230,completed,high\\r\\nfemale,group E,high school,standard,75,86,79,240,none,high\\r\\nfemale,group C,some college,standard,71,81,80,232,none,high\\r\\nfemale,group C,some high school,free/reduced,43,53,53,149,none,low\\r\\nfemale,group C,high school,free/reduced,41,46,43,130,none,low\\r\\nfemale,group C,some college,standard,82,90,94,266,none,high\\r\\nmale,group C,some college,standard,61,61,62,184,none,medium\\r\\nmale,group A,some college,free/reduced,28,23,19,70,none,low\\r\\nmale,group C,associate's degree,standard,82,75,77,234,completed,high\\r\\nfemale,group B,some high school,standard,41,55,51,147,none,low\\r\\nmale,group C,high school,standard,71,60,61,192,none,medium\\r\\nmale,group C,associate's degree,standard,47,37,35,119,none,low\\r\\nmale,group E,associate's degree,standard,62,56,53,171,completed,medium\\r\\nmale,group B,associate's degree,standard,90,78,81,249,none,high\\r\\nfemale,group C,bachelor's degree,standard,83,93,95,271,none,high\\r\\nfemale,group B,some college,free/reduced,61,68,66,195,none,medium\\r\\nmale,group D,some high school,standard,76,70,69,215,completed,medium\\r\\nmale,group C,associate's degree,standard,49,51,43,143,none,low\\r\\nfemale,group B,some high school,free/reduced,24,38,27,89,none,low\\r\\nfemale,group D,some high school,free/reduced,35,55,60,150,completed,low\\r\\nmale,group C,high school,free/reduced,58,61,52,171,none,medium\\r\\nfemale,group C,high school,standard,61,73,63,197,none,medium\\r\\nfemale,group B,high school,standard,69,76,74,219,completed,medium\\r\\nmale,group D,associate's degree,standard,67,72,67,206,completed,medium\\r\\nmale,group D,some college,standard,79,73,67,219,none,medium\\r\\nfemale,group C,high school,standard,72,80,75,227,none,high\\r\\nmale,group B,some college,standard,62,61,57,180,none,medium\\r\\nfemale,group C,bachelor's degree,standard,77,94,95,266,completed,high\\r\\nmale,group D,high school,free/reduced,75,74,66,215,none,medium\\r\\nmale,group E,associate's degree,standard,87,74,76,237,none,high\\r\\nfemale,group B,bachelor's degree,standard,52,65,69,186,none,medium\\r\\nmale,group E,some college,standard,66,57,52,175,none,medium\\r\\nfemale,group C,some college,standard,63,78,80,221,completed,high\\r\\nfemale,group C,associate's degree,standard,46,58,57,161,none,medium\\r\\nfemale,group C,some college,standard,59,71,70,200,none,medium\\r\\nfemale,group B,bachelor's degree,standard,61,72,70,203,none,medium\\r\\nmale,group A,associate's degree,standard,63,61,61,185,none,medium\\r\\nfemale,group C,some college,free/reduced,42,66,69,177,completed,medium\\r\\nmale,group D,some college,free/reduced,59,62,61,182,none,medium\\r\\nfemale,group D,some college,standard,80,90,89,259,none,high\\r\\nfemale,group B,high school,standard,58,62,59,179,none,medium\\r\\nmale,group B,some high school,standard,85,84,78,247,completed,high\\r\\nfemale,group C,some college,standard,52,58,58,168,none,medium\\r\\nfemale,group D,some high school,free/reduced,27,34,32,93,none,low\\r\\nmale,group C,some college,standard,59,60,58,177,none,medium\\r\\nmale,group A,bachelor's degree,free/reduced,49,58,60,167,completed,medium\\r\\nmale,group C,high school,standard,69,58,53,180,completed,medium\\r\\nmale,group C,bachelor's degree,free/reduced,61,66,61,188,none,medium\\r\\nfemale,group A,some high school,free/reduced,44,64,58,166,none,medium\\r\\nfemale,group D,some high school,standard,73,84,85,242,none,high\\r\\nmale,group E,some college,standard,84,77,71,232,none,high\\r\\nfemale,group C,some college,free/reduced,45,73,70,188,completed,medium\\r\\nmale,group D,some high school,standard,74,74,72,220,none,medium\\r\\nfemale,group D,some college,standard,82,97,96,275,completed,high\\r\\nfemale,group D,bachelor's degree,standard,59,70,73,202,none,medium\\r\\nmale,group E,associate's degree,free/reduced,46,43,41,130,none,low\\r\\nfemale,group D,some high school,standard,80,90,82,252,none,high\\r\\nfemale,group D,master's degree,free/reduced,85,95,100,280,completed,high\\r\\nfemale,group A,some high school,standard,71,83,77,231,none,high\\r\\nmale,group A,bachelor's degree,standard,66,64,62,192,none,medium\\r\\nfemale,group B,associate's degree,standard,80,86,83,249,none,high\\r\\nmale,group C,associate's degree,standard,87,100,95,282,completed,high\\r\\nmale,group C,master's degree,free/reduced,79,81,71,231,none,high\\r\\nfemale,group E,some high school,free/reduced,38,49,45,132,none,low\\r\\nfemale,group A,some high school,free/reduced,38,43,43,124,none,low\\r\\nfemale,group E,some college,standard,67,76,75,218,none,medium\\r\\nfemale,group E,bachelor's degree,standard,64,73,70,207,none,medium\\r\\nfemale,group C,associate's degree,free/reduced,57,78,67,202,none,medium\\r\\nfemale,group D,high school,standard,62,64,64,190,none,medium\\r\\nmale,group D,master's degree,standard,73,70,75,218,none,medium\\r\\nmale,group E,some high school,free/reduced,73,67,59,199,completed,medium\\r\\nfemale,group D,some college,standard,77,68,77,222,none,high\\r\\nmale,group E,some college,standard,76,67,67,210,none,medium\\r\\nmale,group C,associate's degree,standard,57,54,56,167,completed,medium\\r\\nfemale,group C,some high school,standard,65,74,77,216,completed,medium\\r\\nmale,group A,high school,free/reduced,48,45,41,134,none,low\\r\\nfemale,group B,high school,free/reduced,50,67,63,180,none,medium\\r\\nfemale,group C,associate's degree,standard,85,89,95,269,none,high\\r\\nmale,group B,some high school,standard,74,63,57,194,none,medium\\r\\nmale,group D,some high school,standard,60,59,54,173,none,medium\\r\\nfemale,group C,some high school,standard,59,54,67,180,completed,medium\\r\\nmale,group A,some college,standard,53,43,43,139,none,low\\r\\nfemale,group A,some college,free/reduced,49,65,55,169,none,medium\\r\\nfemale,group D,high school,standard,88,99,100,287,completed,high\\r\\nfemale,group C,high school,standard,54,59,62,175,none,medium\\r\\nfemale,group C,some high school,standard,63,73,68,204,none,medium\\r\\nmale,group B,associate's degree,standard,65,65,63,193,completed,medium\\r\\nfemale,group B,associate's degree,standard,82,80,77,239,none,high\\r\\nfemale,group D,high school,free/reduced,52,57,56,165,completed,medium\\r\\nmale,group D,associate's degree,standard,87,84,85,256,completed,high\\r\\nfemale,group D,master's degree,standard,70,71,74,215,completed,medium\\r\\nmale,group E,some college,standard,84,83,78,245,completed,high\\r\\nmale,group D,associate's degree,standard,71,66,60,197,none,medium\\r\\nmale,group B,some high school,standard,63,67,67,197,completed,medium\\r\\nfemale,group C,bachelor's degree,free/reduced,51,72,79,202,completed,medium\\r\\nmale,group E,high school,standard,84,73,69,226,none,high\\r\\nmale,group C,bachelor's degree,standard,71,74,68,213,completed,medium\\r\\nmale,group C,associate's degree,standard,74,73,67,214,none,medium\\r\\nmale,group D,some college,standard,68,59,62,189,none,medium\\r\\nmale,group E,high school,free/reduced,57,56,54,167,completed,medium\\r\\nfemale,group C,associate's degree,free/reduced,82,93,93,268,completed,high\\r\\nfemale,group D,high school,standard,57,58,64,179,completed,medium\\r\\nfemale,group D,master's degree,free/reduced,47,58,67,172,completed,medium\\r\\nfemale,group A,some high school,standard,59,85,80,224,completed,high\\r\\nmale,group B,some college,free/reduced,41,39,34,114,none,low\\r\\nfemale,group C,some college,free/reduced,62,67,62,191,none,medium\\r\\nmale,group C,bachelor's degree,standard,86,83,86,255,none,high\\r\\nmale,group C,some high school,free/reduced,69,71,65,205,none,medium\\r\\nmale,group A,some high school,free/reduced,65,59,53,177,none,medium\\r\\nmale,group C,some high school,free/reduced,68,63,54,185,none,medium\\r\\nmale,group C,associate's degree,free/reduced,64,66,59,189,none,medium\\r\\nfemale,group C,high school,standard,61,72,70,203,none,medium\\r\\nmale,group C,high school,standard,61,56,55,172,none,medium\\r\\nfemale,group A,some high school,free/reduced,47,59,50,156,none,low\\r\\nmale,group C,some high school,standard,73,66,66,205,none,medium\\r\\nmale,group C,some college,free/reduced,50,48,53,151,completed,low\\r\\nmale,group D,associate's degree,standard,75,68,64,207,none,medium\\r\\nmale,group D,associate's degree,free/reduced,75,66,73,214,none,medium\\r\\nmale,group C,high school,standard,70,56,51,177,none,medium\\r\\nmale,group D,some high school,standard,89,88,82,259,completed,high\\r\\nfemale,group C,some college,standard,67,81,79,227,completed,high\\r\\nfemale,group D,high school,standard,78,81,80,239,none,high\\r\\nfemale,group A,some high school,free/reduced,59,73,69,201,none,medium\\r\\nfemale,group B,associate's degree,standard,73,83,76,232,none,high\\r\\nmale,group A,some high school,free/reduced,79,82,73,234,none,high\\r\\nfemale,group C,some high school,standard,67,74,77,218,completed,medium\\r\\nmale,group D,some college,free/reduced,69,66,60,195,none,medium\\r\\nmale,group C,high school,standard,86,81,80,247,completed,high\\r\\nmale,group B,high school,standard,47,46,42,135,none,low\\r\\nmale,group B,associate's degree,standard,81,73,72,226,none,high\\r\\nfemale,group C,some college,free/reduced,64,85,85,234,completed,high\\r\\nfemale,group E,some college,standard,100,92,97,289,none,high\\r\\nfemale,group C,associate's degree,free/reduced,65,77,74,216,none,medium\\r\\nmale,group C,some college,free/reduced,65,58,49,172,none,medium\\r\\nfemale,group C,associate's degree,free/reduced,53,61,62,176,none,medium\\r\\nmale,group C,bachelor's degree,free/reduced,37,56,47,140,none,low\\r\\nfemale,group D,bachelor's degree,standard,79,89,89,257,none,high\\r\\nmale,group D,associate's degree,free/reduced,53,54,48,155,none,low\\r\\nfemale,group E,bachelor's degree,standard,100,100,100,300,none,high\\r\\nmale,group B,high school,standard,72,65,68,205,completed,medium\\r\\nmale,group C,bachelor's degree,free/reduced,53,58,55,166,none,medium\\r\\nmale,group B,some college,free/reduced,54,54,45,153,none,low\\r\\nfemale,group E,some college,standard,71,70,76,217,none,medium\\r\\nfemale,group C,some college,free/reduced,77,90,91,258,none,high\\r\\nmale,group A,bachelor's degree,standard,75,58,62,195,completed,medium\\r\\nfemale,group C,some college,standard,84,87,91,262,none,high\\r\\nfemale,group D,associate's degree,free/reduced,26,31,38,95,none,low\\r\\nmale,group A,high school,free/reduced,72,67,65,204,completed,medium\\r\\nfemale,group A,high school,free/reduced,77,88,85,250,completed,high\\r\\nmale,group C,some college,standard,91,74,76,241,none,high\\r\\nfemale,group C,associate's degree,standard,83,85,90,258,completed,high\\r\\nfemale,group C,high school,standard,63,69,74,206,none,medium\\r\\nfemale,group C,associate's degree,standard,68,86,84,238,completed,high\\r\\nfemale,group D,some high school,standard,59,67,61,187,none,medium\\r\\nfemale,group B,associate's degree,standard,90,90,91,271,completed,high\\r\\nfemale,group D,bachelor's degree,standard,71,76,83,230,completed,high\\r\\nmale,group E,bachelor's degree,standard,76,62,66,204,completed,medium\\r\\nmale,group D,associate's degree,standard,80,68,72,220,none,medium\\r\\nfemale,group D,master's degree,standard,55,64,70,189,none,medium\\r\\nmale,group E,associate's degree,standard,76,71,67,214,none,medium\\r\\nmale,group B,high school,standard,73,71,68,212,completed,medium\\r\\nfemale,group D,associate's degree,free/reduced,52,59,56,167,none,medium\\r\\nmale,group C,some college,free/reduced,68,68,61,197,none,medium\\r\\nmale,group A,high school,standard,59,52,46,157,none,low\\r\\nfemale,group B,associate's degree,standard,49,52,54,155,none,low\\r\\nmale,group C,high school,standard,70,74,71,215,none,medium\\r\\nmale,group D,some college,free/reduced,61,47,56,164,none,medium\\r\\nfemale,group C,associate's degree,free/reduced,60,75,74,209,none,medium\\r\\nmale,group B,some high school,standard,64,53,57,174,completed,medium\\r\\nmale,group A,associate's degree,free/reduced,79,82,82,243,completed,high\\r\\nfemale,group A,associate's degree,free/reduced,65,85,76,226,none,high\\r\\nfemale,group C,associate's degree,standard,64,64,70,198,none,medium\\r\\nfemale,group C,some college,standard,83,83,90,256,none,high\\r\\nfemale,group C,bachelor's degree,standard,81,88,90,259,none,high\\r\\nfemale,group B,high school,standard,54,64,68,186,none,medium\\r\\nmale,group D,high school,standard,68,64,66,198,completed,medium\\r\\nfemale,group C,some college,standard,54,48,52,154,none,low\\r\\nfemale,group D,some college,free/reduced,59,78,76,213,completed,medium\\r\\nfemale,group B,some high school,standard,66,69,68,203,none,medium\\r\\nmale,group E,some college,standard,76,71,72,219,none,medium\\r\\nfemale,group D,master's degree,standard,74,79,82,235,none,high\\r\\nfemale,group B,associate's degree,standard,94,87,92,273,completed,high\\r\\nmale,group C,some college,free/reduced,63,61,54,178,none,medium\\r\\nfemale,group E,associate's degree,standard,95,89,92,276,completed,high\\r\\nfemale,group D,master's degree,free/reduced,40,59,54,153,none,low\\r\\nfemale,group B,some high school,standard,82,82,80,244,none,high\\r\\nmale,group A,high school,standard,68,70,66,204,none,medium\\r\\nmale,group B,bachelor's degree,free/reduced,55,59,54,168,none,medium\\r\\nmale,group C,master's degree,standard,79,78,77,234,none,high\\r\\nfemale,group C,bachelor's degree,standard,86,92,87,265,none,high\\r\\nmale,group D,some college,standard,76,71,73,220,none,medium\\r\\nmale,group A,some high school,standard,64,50,43,157,none,low\\r\\nmale,group D,some high school,free/reduced,62,49,52,163,none,medium\\r\\nfemale,group B,some high school,standard,54,61,62,177,completed,medium\\r\\nfemale,group B,master's degree,free/reduced,77,97,94,268,completed,high\\r\\nfemale,group C,some high school,standard,76,87,85,248,completed,high\\r\\nfemale,group D,some college,standard,74,89,84,247,none,high\\r\\nfemale,group E,some college,standard,66,74,73,213,completed,medium\\r\\nfemale,group D,some high school,standard,66,78,78,222,completed,high\\r\\nfemale,group B,high school,free/reduced,67,78,79,224,completed,high\\r\\nmale,group D,some college,standard,71,49,52,172,none,medium\\r\\nfemale,group C,associate's degree,standard,91,86,84,261,none,high\\r\\nmale,group D,bachelor's degree,standard,69,58,57,184,none,medium\\r\\nmale,group C,master's degree,free/reduced,54,59,50,163,none,medium\\r\\nmale,group C,high school,standard,53,52,49,154,completed,low\\r\\nmale,group E,some college,standard,68,60,59,187,none,medium\\r\\nmale,group C,some high school,free/reduced,56,61,60,177,completed,medium\\r\\nfemale,group C,high school,free/reduced,36,53,43,132,none,low\\r\\nfemale,group D,bachelor's degree,free/reduced,29,41,47,117,none,low\\r\\nfemale,group C,associate's degree,standard,62,74,70,206,none,medium\\r\\nfemale,group C,associate's degree,standard,68,67,73,208,completed,medium\\r\\nfemale,group C,some high school,standard,47,54,53,154,none,low\\r\\nmale,group E,associate's degree,standard,62,61,58,181,completed,medium\\r\\nfemale,group E,associate's degree,standard,79,88,94,261,completed,high\\r\\nmale,group B,high school,standard,73,69,68,210,completed,medium\\r\\nfemale,group C,bachelor's degree,free/reduced,66,83,83,232,completed,high\\r\\nmale,group C,associate's degree,standard,51,60,58,169,completed,medium\\r\\nfemale,group D,high school,standard,51,66,62,179,none,medium\\r\\nmale,group E,bachelor's degree,standard,85,66,71,222,completed,high\\r\\nmale,group A,associate's degree,standard,97,92,86,275,completed,high\\r\\nmale,group C,high school,standard,75,69,68,212,completed,medium\\r\\nmale,group D,associate's degree,free/reduced,79,82,80,241,completed,high\\r\\nfemale,group C,associate's degree,standard,81,77,79,237,none,high\\r\\nfemale,group D,associate's degree,standard,82,95,89,266,none,high\\r\\nfemale,group D,master's degree,standard,64,63,66,193,none,medium\\r\\nmale,group E,some high school,free/reduced,78,83,80,241,completed,high\\r\\nfemale,group A,some high school,standard,92,100,97,289,completed,high\\r\\nmale,group C,high school,standard,72,67,64,203,completed,medium\\r\\nfemale,group C,high school,free/reduced,62,67,64,193,none,medium\\r\\nmale,group C,master's degree,standard,79,72,69,220,none,medium\\r\\nmale,group C,some high school,free/reduced,79,76,65,220,none,medium\\r\\nmale,group B,bachelor's degree,free/reduced,87,90,88,265,completed,high\\r\\nfemale,group B,associate's degree,standard,40,48,50,138,none,low\\r\\nmale,group D,some college,free/reduced,77,62,64,203,none,medium\\r\\nmale,group E,associate's degree,standard,53,45,40,138,none,low\\r\\nfemale,group C,some college,free/reduced,32,39,33,104,none,low\\r\\nfemale,group C,associate's degree,standard,55,72,79,206,completed,medium\\r\\nmale,group C,master's degree,free/reduced,61,67,66,194,none,medium\\r\\nfemale,group B,associate's degree,free/reduced,53,70,70,193,none,medium\\r\\nmale,group D,some high school,standard,73,66,62,201,none,medium\\r\\nfemale,group D,some college,standard,74,75,79,228,completed,high\\r\\nfemale,group C,some college,standard,63,74,74,211,none,medium\\r\\nmale,group C,bachelor's degree,standard,96,90,92,278,completed,high\\r\\nfemale,group D,some college,free/reduced,63,80,80,223,completed,high\\r\\nmale,group B,bachelor's degree,free/reduced,48,51,46,145,none,low\\r\\nmale,group B,associate's degree,standard,48,43,45,136,none,low\\r\\nfemale,group E,bachelor's degree,free/reduced,92,100,100,292,completed,high\\r\\nfemale,group D,master's degree,free/reduced,61,71,78,210,completed,medium\\r\\nmale,group B,high school,free/reduced,63,48,47,158,none,low\\r\\nmale,group D,bachelor's degree,free/reduced,68,68,67,203,none,medium\\r\\nmale,group B,some college,standard,71,75,70,216,completed,medium\\r\\nmale,group A,bachelor's degree,standard,91,96,92,279,none,high\\r\\nfemale,group C,some college,standard,53,62,56,171,none,medium\\r\\nfemale,group C,high school,free/reduced,50,66,64,180,completed,medium\\r\\nfemale,group E,high school,standard,74,81,71,226,none,high\\r\\nmale,group A,associate's degree,free/reduced,40,55,53,148,completed,low\\r\\nmale,group A,some college,standard,61,51,52,164,completed,medium\\r\\nfemale,group B,high school,standard,81,91,89,261,none,high\\r\\nfemale,group B,some college,free/reduced,48,56,58,162,completed,medium\\r\\nfemale,group D,master's degree,standard,53,61,68,182,none,medium\\r\\nfemale,group D,some high school,standard,81,97,96,274,none,high\\r\\nfemale,group E,some high school,standard,77,79,80,236,none,high\\r\\nfemale,group D,bachelor's degree,free/reduced,63,73,78,214,none,medium\\r\\nfemale,group D,associate's degree,standard,73,75,80,228,completed,high\\r\\nfemale,group D,some college,standard,69,77,77,223,none,high\\r\\nfemale,group C,associate's degree,standard,65,76,76,217,none,medium\\r\\nfemale,group A,high school,standard,55,73,73,201,none,medium\\r\\nfemale,group C,bachelor's degree,free/reduced,44,63,62,169,none,medium\\r\\nfemale,group C,some college,standard,54,64,65,183,none,medium\\r\\nfemale,group A,some high school,standard,48,66,65,179,none,medium\\r\\nmale,group C,some college,free/reduced,58,57,54,169,none,medium\\r\\nmale,group A,some high school,standard,71,62,50,183,none,medium\\r\\nmale,group E,bachelor's degree,standard,68,68,64,200,none,medium\\r\\nfemale,group E,high school,standard,74,76,73,223,none,high\\r\\nfemale,group C,bachelor's degree,standard,92,100,99,291,completed,high\\r\\nfemale,group C,bachelor's degree,standard,56,79,72,207,completed,medium\\r\\nmale,group B,high school,free/reduced,30,24,15,69,none,low\\r\\nmale,group A,some high school,standard,53,54,48,155,none,low\\r\\nfemale,group D,high school,standard,69,77,73,219,none,medium\\r\\nfemale,group D,some high school,standard,65,82,81,228,none,high\\r\\nfemale,group D,master's degree,standard,54,60,63,177,none,medium\\r\\nfemale,group C,high school,standard,29,29,30,88,none,low\\r\\nfemale,group E,some college,standard,76,78,80,234,none,high\\r\\nmale,group D,high school,free/reduced,60,57,51,168,none,medium\\r\\nmale,group D,master's degree,free/reduced,84,89,90,263,completed,high\\r\\nmale,group C,some high school,standard,75,72,62,209,none,medium\\r\\nfemale,group C,associate's degree,standard,85,84,82,251,none,high\\r\\nfemale,group C,master's degree,free/reduced,40,58,54,152,none,low\\r\\nfemale,group E,some college,standard,61,64,62,187,none,medium\\r\\nfemale,group B,associate's degree,standard,58,63,65,186,none,medium\\r\\nmale,group D,some college,free/reduced,69,60,63,192,completed,medium\\r\\nfemale,group C,some college,standard,58,59,66,183,none,medium\\r\\nmale,group C,bachelor's degree,standard,94,90,91,275,completed,high\\r\\nfemale,group C,associate's degree,standard,65,77,74,216,none,medium\\r\\nfemale,group A,associate's degree,standard,82,93,93,268,none,high\\r\\nfemale,group C,high school,standard,60,68,72,200,none,medium\\r\\nfemale,group E,bachelor's degree,standard,37,45,38,120,none,low\\r\\nmale,group D,bachelor's degree,standard,88,78,83,249,none,high\\r\\nmale,group D,master's degree,standard,95,81,84,260,none,high\\r\\nmale,group C,associate's degree,free/reduced,65,73,68,206,completed,medium\\r\\nfemale,group C,high school,free/reduced,35,61,54,150,none,low\\r\\nmale,group B,bachelor's degree,free/reduced,62,63,56,181,none,medium\\r\\nmale,group C,high school,free/reduced,58,51,52,161,completed,medium\\r\\nmale,group A,some college,standard,100,96,86,282,completed,high\\r\\nfemale,group E,bachelor's degree,free/reduced,61,58,62,181,none,medium\\r\\nmale,group D,some college,standard,100,97,99,296,completed,high\\r\\nmale,group B,associate's degree,free/reduced,69,70,63,202,completed,medium\\r\\nmale,group D,associate's degree,standard,61,48,46,155,none,low\\r\\nmale,group D,some college,free/reduced,49,57,46,152,none,low\\r\\nfemale,group C,some high school,standard,44,51,55,150,completed,low\\r\\nmale,group D,some college,standard,67,64,70,201,none,medium\\r\\nmale,group B,high school,standard,79,60,65,204,none,medium\\r\\nfemale,group B,bachelor's degree,standard,66,74,81,221,completed,high\\r\\nfemale,group C,high school,standard,75,88,85,248,none,high\\r\\nmale,group D,some high school,standard,84,84,80,248,none,high\\r\\nmale,group A,high school,standard,71,74,64,209,none,medium\\r\\nfemale,group B,high school,free/reduced,67,80,81,228,completed,high\\r\\nfemale,group D,some high school,standard,80,92,88,260,completed,high\\r\\nmale,group E,some college,standard,86,76,74,236,none,high\\r\\nfemale,group D,associate's degree,standard,76,74,73,223,none,high\\r\\nmale,group D,high school,standard,41,52,51,144,none,low\\r\\nfemale,group D,associate's degree,free/reduced,74,88,90,252,completed,high\\r\\nfemale,group B,some high school,free/reduced,72,81,79,232,none,high\\r\\nfemale,group E,high school,standard,74,79,80,233,completed,high\\r\\nmale,group B,high school,standard,70,65,60,195,none,medium\\r\\nfemale,group B,bachelor's degree,standard,65,81,81,227,completed,high\\r\\nfemale,group D,associate's degree,standard,59,70,65,194,none,medium\\r\\nfemale,group E,high school,free/reduced,64,62,68,194,none,medium\\r\\nfemale,group B,high school,standard,50,53,55,158,none,low\\r\\nfemale,group D,some college,standard,69,79,81,229,completed,high\\r\\nmale,group C,some high school,free/reduced,51,56,53,160,completed,low\\r\\nfemale,group A,high school,standard,68,80,76,224,completed,high\\r\\nfemale,group D,some college,standard,85,86,98,269,completed,high\\r\\nfemale,group A,associate's degree,standard,65,70,74,209,completed,medium\\r\\nfemale,group B,some high school,standard,73,79,79,231,none,high\\r\\nfemale,group B,some college,standard,62,67,67,196,none,medium\\r\\nmale,group C,associate's degree,free/reduced,77,67,64,208,none,medium\\r\\nmale,group D,some high school,standard,69,66,61,196,none,medium\\r\\nfemale,group D,associate's degree,free/reduced,43,60,58,161,none,medium\\r\\nmale,group D,associate's degree,standard,90,87,85,262,none,high\\r\\nmale,group C,some college,free/reduced,74,77,73,224,none,high\\r\\nmale,group C,some high school,standard,73,66,63,202,none,medium\\r\\nfemale,group D,some college,free/reduced,55,71,69,195,none,medium\\r\\nfemale,group C,high school,standard,65,69,67,201,none,medium\\r\\nmale,group D,associate's degree,standard,80,63,63,206,none,medium\\r\\nfemale,group C,some high school,free/reduced,50,60,60,170,completed,medium\\r\\nfemale,group C,some college,free/reduced,63,73,71,207,completed,medium\\r\\nfemale,group B,bachelor's degree,free/reduced,77,85,87,249,none,high\\r\\nmale,group C,some college,standard,73,74,61,208,none,medium\\r\\nmale,group D,associate's degree,standard,81,72,77,230,completed,high\\r\\nfemale,group C,high school,free/reduced,66,76,68,210,none,medium\\r\\nmale,group D,associate's degree,free/reduced,52,57,50,159,none,low\\r\\nfemale,group C,some college,standard,69,78,76,223,none,low\\r\\nfemale,group C,associate's degree,standard,65,84,84,233,completed,high\\r\\nfemale,group D,high school,standard,69,77,78,224,completed,high\\r\\nfemale,group B,some college,standard,50,64,66,180,completed,medium\\r\\nfemale,group E,some college,standard,73,78,76,227,completed,high\\r\\nfemale,group C,some high school,standard,70,82,76,228,completed,high\\r\\nmale,group D,associate's degree,free/reduced,81,75,78,234,none,high\\r\\nmale,group D,some college,free/reduced,63,61,60,184,none,medium\\r\\nfemale,group D,high school,standard,67,72,74,213,none,medium\\r\\nmale,group B,high school,standard,60,68,60,188,none,medium\\r\\nmale,group B,high school,standard,62,55,54,171,none,medium\\r\\nfemale,group C,some high school,free/reduced,29,40,44,113,completed,low\\r\\nmale,group B,some college,standard,62,66,68,196,completed,medium\\r\\nfemale,group E,master's degree,standard,94,99,100,293,completed,high\\r\\nmale,group E,some college,standard,85,75,68,228,completed,high\\r\\nmale,group D,associate's degree,free/reduced,77,78,73,228,none,high\\r\\nmale,group A,high school,free/reduced,53,58,44,155,none,low\\r\\nmale,group E,some college,free/reduced,93,90,83,266,none,high\\r\\nfemale,group C,associate's degree,standard,49,53,53,155,none,low\\r\\nfemale,group E,associate's degree,free/reduced,73,76,78,227,none,high\\r\\nfemale,group C,bachelor's degree,free/reduced,66,74,81,221,completed,high\\r\\nfemale,group D,associate's degree,standard,77,77,73,227,none,high\\r\\nfemale,group C,some high school,standard,49,63,56,168,none,medium\\r\\nfemale,group D,some college,free/reduced,79,89,86,254,none,high\\r\\nfemale,group C,associate's degree,standard,75,82,90,247,completed,high\\r\\nfemale,group A,bachelor's degree,standard,59,72,70,201,none,medium\\r\\nfemale,group D,associate's degree,standard,57,78,79,214,completed,medium\\r\\nmale,group C,high school,free/reduced,66,66,59,191,none,medium\\r\\nfemale,group E,bachelor's degree,standard,79,81,82,242,completed,high\\r\\nfemale,group B,some high school,standard,57,67,72,196,none,medium\\r\\nmale,group A,bachelor's degree,standard,87,84,87,258,completed,high\\r\\nfemale,group D,some college,standard,63,64,67,194,none,medium\\r\\nfemale,group B,some high school,free/reduced,59,63,64,186,completed,medium\\r\\nmale,group A,bachelor's degree,free/reduced,62,72,65,199,none,medium\\r\\nmale,group D,high school,standard,46,34,36,116,none,low\\r\\nmale,group C,some college,standard,66,59,52,177,none,medium\\r\\nmale,group D,high school,standard,89,87,79,255,none,high\\r\\nfemale,group D,associate's degree,free/reduced,42,61,58,161,completed,medium\\r\\nmale,group C,some college,standard,93,84,90,267,completed,high\\r\\nfemale,group E,some high school,standard,80,85,85,250,completed,high\\r\\nfemale,group D,some college,standard,98,100,99,297,none,high\\r\\nmale,group D,master's degree,standard,81,81,84,246,none,high\\r\\nfemale,group B,some high school,standard,60,70,74,204,completed,medium\\r\\nfemale,group B,associate's degree,free/reduced,76,94,87,257,completed,high\\r\\nmale,group C,associate's degree,standard,73,78,72,223,completed,high\\r\\nfemale,group C,associate's degree,standard,96,96,99,291,completed,high\\r\\nfemale,group C,high school,standard,76,76,74,226,none,high\\r\\nmale,group E,associate's degree,free/reduced,91,73,80,244,completed,high\\r\\nfemale,group C,some college,free/reduced,62,72,70,204,none,medium\\r\\nmale,group D,some high school,free/reduced,55,59,59,173,completed,medium\\r\\nfemale,group B,some high school,free/reduced,74,90,88,252,completed,high\\r\\nmale,group C,high school,standard,50,48,42,140,none,low\\r\\nmale,group B,some college,standard,47,43,41,131,none,low\\r\\nmale,group E,some college,standard,81,74,71,226,completed,high\\r\\nfemale,group E,associate's degree,standard,65,75,77,217,completed,medium\\r\\nmale,group E,some high school,standard,68,51,57,176,completed,medium\\r\\nfemale,group D,high school,free/reduced,73,92,84,249,none,medium\\r\\nmale,group C,some college,standard,53,39,37,129,none,high\\r\\nfemale,group B,associate's degree,free/reduced,68,77,80,225,completed,high\\r\\nmale,group A,some high school,free/reduced,55,46,43,144,none,low\\r\\nfemale,group C,some college,standard,87,89,94,270,completed,high\\r\\nmale,group D,some high school,standard,55,47,44,146,none,low\\r\\nfemale,group E,some college,free/reduced,53,58,57,168,none,medium\\r\\nmale,group C,master's degree,standard,67,57,59,183,none,medium\\r\\nmale,group C,associate's degree,standard,92,79,84,255,none,high\\r\\nfemale,group B,some college,free/reduced,53,66,73,192,completed,medium\\r\\nmale,group D,associate's degree,standard,81,71,73,225,none,low\\r\\nmale,group C,high school,free/reduced,61,60,55,176,none,medium\\r\\nmale,group D,bachelor's degree,standard,80,73,72,225,none,high\\r\\nfemale,group A,associate's degree,free/reduced,37,57,56,150,none,low\\r\\nfemale,group C,high school,standard,81,84,82,247,none,high\\r\\nfemale,group C,associate's degree,standard,59,73,72,204,completed,medium\\r\\nmale,group B,some college,free/reduced,55,55,47,157,none,low\\r\\nmale,group D,associate's degree,standard,72,79,74,225,none,high\\r\\nmale,group D,high school,standard,69,75,71,215,none,medium\\r\\nmale,group C,some college,standard,69,64,68,201,none,medium\\r\\nfemale,group C,bachelor's degree,free/reduced,50,60,59,169,none,medium\\r\\nmale,group B,some college,standard,87,84,86,257,completed,high\\r\\nmale,group D,some high school,standard,71,69,68,208,completed,high\\r\\nmale,group E,some college,standard,68,72,65,205,none,medium\\r\\nmale,group C,master's degree,free/reduced,79,77,75,231,completed,high\\r\\nfemale,group C,some high school,standard,77,90,85,252,completed,high\\r\\nmale,group C,associate's degree,free/reduced,58,55,53,166,none,medium\\r\\nfemale,group E,associate's degree,standard,84,95,92,271,none,high\\r\\nmale,group D,some college,standard,55,58,52,165,none,medium\\r\\nmale,group E,bachelor's degree,free/reduced,70,68,72,210,completed,medium\\r\\nfemale,group D,some college,free/reduced,52,59,65,176,completed,medium\\r\\nmale,group B,some college,standard,69,77,77,223,completed,high\\r\\nfemale,group C,high school,free/reduced,53,72,64,189,none,medium\\r\\nfemale,group D,some high school,standard,48,58,54,160,none,low\\r\\nmale,group D,some high school,standard,78,81,86,245,completed,high\\r\\nfemale,group B,high school,standard,62,62,63,187,none,medium\\r\\nmale,group D,some college,standard,60,63,59,182,none,medium\\r\\nfemale,group B,high school,standard,74,72,72,218,none,medium\\r\\nfemale,group C,high school,standard,58,75,77,210,completed,medium\\r\\nmale,group B,high school,standard,76,62,60,198,completed,medium\\r\\nfemale,group D,some high school,standard,68,71,75,214,none,medium\\r\\nmale,group A,some college,free/reduced,58,60,57,175,none,low\\r\\nmale,group B,high school,standard,52,48,49,149,none,low\\r\\nmale,group D,bachelor's degree,standard,75,73,74,222,none,high\\r\\nfemale,group B,some high school,free/reduced,52,67,72,191,completed,medium\\r\\nfemale,group C,bachelor's degree,free/reduced,62,78,79,219,none,medium\\r\\nmale,group B,some college,standard,66,65,60,191,none,medium\\r\\nfemale,group B,some high school,free/reduced,49,58,55,162,none,medium\\r\\nfemale,group B,high school,standard,66,72,70,208,none,medium\\r\\nfemale,group C,some college,free/reduced,35,44,43,122,none,low\\r\\nfemale,group A,some college,standard,72,79,82,233,completed,high\\r\\nmale,group E,associate's degree,standard,94,85,82,261,completed,high\\r\\nfemale,group D,associate's degree,free/reduced,46,56,57,159,none,low\\r\\nfemale,group B,master's degree,standard,77,90,84,251,none,high\\r\\nfemale,group B,high school,free/reduced,76,85,82,243,completed,high\\r\\nfemale,group C,associate's degree,standard,52,59,62,173,completed,medium\\r\\nmale,group C,bachelor's degree,standard,91,81,79,251,completed,high\\r\\nfemale,group B,some high school,standard,32,51,44,127,completed,low\\r\\nfemale,group E,some high school,free/reduced,72,79,77,228,none,high\\r\\nfemale,group B,some college,standard,19,38,32,89,none,low\\r\\nmale,group C,associate's degree,free/reduced,68,65,61,194,none,medium\\r\\nfemale,group C,master's degree,free/reduced,52,65,61,178,none,medium\\r\\nfemale,group B,high school,standard,48,62,60,170,none,medium\\r\\nfemale,group D,some college,free/reduced,60,66,70,196,none,medium\\r\\nmale,group D,high school,free/reduced,66,74,69,209,none,medium\\r\\nmale,group E,some high school,standard,89,84,77,250,completed,high\\r\\nfemale,group B,high school,standard,42,52,51,145,none,low\\r\\nfemale,group E,associate's degree,free/reduced,57,68,73,198,completed,medium\\r\\nmale,group D,high school,standard,70,70,70,210,none,medium\\r\\nfemale,group E,associate's degree,free/reduced,70,84,81,235,none,high\\r\\nmale,group E,some college,standard,69,60,54,183,none,medium\\r\\nfemale,group C,associate's degree,standard,52,55,57,164,none,medium\\r\\nmale,group C,some high school,standard,67,73,68,208,completed,medium\\r\\nmale,group C,some high school,standard,76,80,73,229,completed,high\\r\\nfemale,group E,associate's degree,standard,87,94,95,276,none,high\\r\\nfemale,group B,some college,standard,82,85,87,254,none,high\\r\\nfemale,group C,some college,standard,73,76,78,227,none,high\\r\\nmale,group A,some college,free/reduced,75,81,74,230,none,high\\r\\nfemale,group D,some college,free/reduced,64,74,75,213,none,medium\\r\\nfemale,group E,high school,free/reduced,41,45,40,126,none,low\\r\\nmale,group C,high school,standard,90,75,69,234,none,high\\r\\nmale,group B,bachelor's degree,standard,59,54,51,164,none,high\\r\\nmale,group A,some high school,standard,51,31,36,118,none,low\\r\\nmale,group A,high school,free/reduced,45,47,49,141,none,low\\r\\nfemale,group C,master's degree,standard,54,64,67,185,completed,medium\\r\\nmale,group E,some high school,standard,87,84,76,247,completed,high\\r\\nfemale,group C,high school,standard,72,80,83,235,none,high\\r\\nmale,group B,some high school,standard,94,86,87,267,completed,high\\r\\nfemale,group A,bachelor's degree,standard,45,59,64,168,none,medium\\r\\nmale,group D,bachelor's degree,free/reduced,61,70,76,207,completed,medium\\r\\nfemale,group B,high school,free/reduced,60,72,68,200,none,medium\\r\\nfemale,group C,some high school,standard,77,91,88,256,none,high\\r\\nfemale,group A,some high school,standard,85,90,92,267,completed,high\\r\\nfemale,group D,bachelor's degree,free/reduced,78,90,93,261,none,high\\r\\nmale,group E,some college,free/reduced,49,52,51,152,completed,low\\r\\nfemale,group B,high school,free/reduced,71,87,82,240,none,high\\r\\nfemale,group C,some high school,free/reduced,48,58,52,158,none,low\\r\\nmale,group C,high school,standard,62,67,58,187,none,medium\\r\\nfemale,group C,associate's degree,free/reduced,56,68,70,194,completed,medium\\r\\nfemale,group C,some high school,standard,65,69,76,210,none,medium\\r\\nfemale,group D,some high school,free/reduced,69,86,81,236,completed,high\\r\\nmale,group B,some high school,standard,68,54,53,175,none,medium\\r\\nfemale,group A,some college,free/reduced,61,60,57,178,none,medium\\r\\nfemale,group C,bachelor's degree,free/reduced,74,86,89,249,completed,high\\r\\nmale,group A,bachelor's degree,standard,64,60,58,182,none,medium\\r\\nfemale,group B,high school,standard,77,82,89,248,completed,high\\r\\nmale,group B,some college,standard,58,50,45,153,none,low\\r\\nfemale,group C,high school,standard,60,64,74,198,completed,medium\\r\\nmale,group E,high school,standard,73,64,57,194,none,medium\\r\\nfemale,group A,high school,standard,75,82,79,236,completed,high\\r\\nmale,group B,associate's degree,free/reduced,58,57,53,168,completed,medium\\r\\nfemale,group C,associate's degree,standard,66,77,73,216,none,medium\\r\\nfemale,group D,high school,free/reduced,39,52,46,137,none,low\\r\\nmale,group C,some high school,standard,64,58,51,173,none,medium\\r\\nfemale,group B,high school,free/reduced,23,44,36,103,completed,low\\r\\nmale,group B,some college,free/reduced,74,77,76,227,completed,high\\r\\nfemale,group D,some high school,free/reduced,40,65,64,169,completed,high\\r\\nmale,group E,master's degree,standard,90,85,84,259,none,low\\r\\nmale,group C,master's degree,standard,91,85,85,261,completed,high\\r\\nmale,group D,high school,standard,64,54,50,168,none,medium\\r\\nfemale,group C,high school,standard,59,72,68,199,none,medium\\r\\nmale,group D,associate's degree,standard,80,75,69,224,none,high\\r\\nmale,group C,master's degree,standard,71,67,67,205,none,medium\\r\\nfemale,group A,high school,standard,61,68,63,192,none,medium\\r\\nfemale,group E,some college,standard,87,85,93,265,none,high\\r\\nmale,group E,some high school,standard,82,67,61,210,none,medium\\r\\nmale,group C,some high school,standard,62,64,55,181,none,medium\\r\\nfemale,group B,bachelor's degree,standard,97,97,96,290,none,high\\r\\nmale,group B,some college,free/reduced,75,68,65,208,none,medium\\r\\nfemale,group C,bachelor's degree,standard,65,79,81,225,none,high\\r\\nmale,group B,high school,standard,52,49,46,147,completed,low\\r\\nmale,group C,associate's degree,free/reduced,87,73,72,232,none,high\\r\\nfemale,group C,associate's degree,standard,53,62,53,168,none,medium\\r\\nfemale,group E,master's degree,free/reduced,81,86,87,254,none,high\\r\\nmale,group D,bachelor's degree,free/reduced,39,42,38,119,completed,low\\r\\nfemale,group C,some college,standard,71,71,80,222,completed,high\\r\\nmale,group C,associate's degree,standard,97,93,91,281,none,high\\r\\nmale,group D,some college,standard,82,82,88,252,completed,high\\r\\nmale,group C,high school,free/reduced,59,53,52,164,none,medium\\r\\nmale,group B,associate's degree,standard,61,42,41,144,none,low\\r\\nmale,group E,associate's degree,free/reduced,78,74,72,224,completed,high\\r\\nmale,group C,associate's degree,free/reduced,49,51,51,151,none,low\\r\\nmale,group B,high school,standard,59,58,47,164,none,medium\\r\\nfemale,group C,some college,standard,70,72,76,218,completed,medium\\r\\nmale,group B,associate's degree,standard,82,84,78,244,completed,high\\r\\nmale,group E,associate's degree,free/reduced,90,90,82,262,none,high\\r\\nfemale,group C,bachelor's degree,free/reduced,43,62,61,166,none,medium\\r\\nmale,group C,some college,free/reduced,80,64,66,210,none,medium\\r\\nmale,group D,some college,standard,81,82,84,247,none,high\\r\\nmale,group C,some high school,standard,57,61,54,172,none,medium\\r\\nfemale,group D,some high school,standard,59,72,80,211,none,medium\\r\\nfemale,group D,associate's degree,standard,64,76,74,214,none,medium\\r\\nmale,group C,bachelor's degree,standard,63,64,66,193,completed,medium\\r\\nfemale,group E,bachelor's degree,standard,71,70,70,211,completed,medium\\r\\nfemale,group B,high school,free/reduced,64,73,71,208,none,medium\\r\\nmale,group D,bachelor's degree,free/reduced,55,46,44,145,none,low\\r\\nfemale,group E,associate's degree,standard,51,51,54,156,none,low\\r\\nfemale,group C,associate's degree,standard,62,76,80,218,completed,medium\\r\\nfemale,group E,associate's degree,standard,93,100,95,288,completed,high\\r\\nmale,group C,high school,free/reduced,54,72,59,185,none,medium\\r\\nfemale,group D,some college,free/reduced,69,65,74,208,none,medium\\r\\nmale,group D,high school,free/reduced,44,51,48,143,none,low\\r\\nfemale,group E,some college,standard,86,85,91,262,completed,high\\r\\nfemale,group E,associate's degree,standard,85,92,85,262,none,high\\r\\nfemale,group A,master's degree,free/reduced,50,67,73,190,none,low\\r\\nmale,group D,some high school,standard,88,74,75,237,completed,high\\r\\nfemale,group E,associate's degree,standard,59,62,69,190,none,medium\\r\\nfemale,group E,some high school,free/reduced,32,34,38,104,none,low\\r\\nmale,group B,high school,free/reduced,36,29,27,92,none,low\\r\\nfemale,group B,some high school,free/reduced,63,78,79,220,completed,medium\\r\\nmale,group D,associate's degree,standard,67,54,63,184,completed,medium\\r\\nfemale,group D,some high school,standard,65,78,82,225,completed,high\\r\\nmale,group D,master's degree,standard,85,84,89,258,none,high\\r\\nfemale,group C,master's degree,standard,73,78,74,225,none,high\\r\\nfemale,group A,high school,free/reduced,34,48,41,123,completed,low\\r\\nfemale,group D,bachelor's degree,free/reduced,93,100,100,293,completed,high\\r\\nfemale,group D,some high school,free/reduced,67,84,84,235,none,high\\r\\nmale,group D,some college,standard,88,77,77,242,none,high\\r\\nmale,group B,high school,standard,57,48,51,156,none,low\\r\\nfemale,group D,some college,standard,79,84,91,254,completed,high\\r\\nfemale,group C,bachelor's degree,free/reduced,67,75,72,214,none,medium\\r\\nmale,group E,bachelor's degree,standard,70,64,70,204,completed,medium\\r\\nmale,group D,bachelor's degree,free/reduced,50,42,48,140,none,low\\r\\nfemale,group A,some college,standard,69,84,82,235,none,high\\r\\nfemale,group C,bachelor's degree,standard,52,61,66,179,completed,medium\\r\\nfemale,group C,bachelor's degree,free/reduced,47,62,66,175,completed,medium\\r\\nfemale,group B,associate's degree,free/reduced,46,61,55,162,none,medium\\r\\nfemale,group E,some college,standard,68,70,66,204,none,low\\r\\nmale,group E,bachelor's degree,standard,100,100,100,300,completed,high\\r\\nfemale,group C,high school,standard,44,61,52,157,none,low\\r\\nfemale,group C,associate's degree,standard,57,77,80,214,completed,medium\\r\\nmale,group B,some college,standard,91,96,91,278,completed,high\\r\\nmale,group D,high school,free/reduced,69,70,67,206,none,medium\\r\\nfemale,group C,high school,free/reduced,35,53,46,134,none,low\\r\\nmale,group D,high school,standard,72,66,66,204,none,medium\\r\\nfemale,group B,associate's degree,free/reduced,54,65,65,184,none,medium\\r\\nmale,group D,high school,free/reduced,74,70,69,213,none,medium\\r\\nmale,group E,some high school,standard,74,64,60,198,completed,medium\\r\\nmale,group E,associate's degree,free/reduced,64,56,52,172,none,medium\\r\\nfemale,group D,high school,free/reduced,65,61,71,197,completed,medium\\r\\nmale,group E,associate's degree,free/reduced,46,43,44,133,completed,low\\r\\nfemale,group C,some high school,free/reduced,48,56,51,155,none,low\\r\\nmale,group C,some college,free/reduced,67,74,70,211,completed,medium\\r\\nmale,group D,some college,free/reduced,62,57,62,181,none,medium\\r\\nmale,group D,associate's degree,free/reduced,61,71,73,205,completed,medium\\r\\nmale,group C,bachelor's degree,free/reduced,70,75,74,219,completed,high\\r\\nmale,group C,associate's degree,standard,98,87,90,275,completed,high\\r\\nmale,group D,some college,free/reduced,70,63,58,191,none,medium\\r\\nmale,group A,associate's degree,standard,67,57,53,177,none,medium\\r\\nfemale,group E,high school,free/reduced,57,58,57,172,none,medium\\r\\nmale,group D,some college,standard,85,81,85,251,completed,high\\r\\nmale,group D,some high school,standard,77,68,69,214,completed,medium\\r\\nmale,group C,master's degree,free/reduced,72,66,72,210,completed,medium\\r\\nfemale,group D,master's degree,standard,78,91,96,265,none,high\\r\\nmale,group C,high school,standard,81,66,64,211,none,medium\\r\\nmale,group A,some high school,free/reduced,61,62,61,184,completed,medium\\r\\nfemale,group B,high school,standard,58,68,61,187,none,medium\\r\\nfemale,group C,associate's degree,standard,54,61,58,173,none,medium\\r\\nmale,group B,high school,standard,82,82,80,244,none,high\\r\\nfemale,group D,some college,free/reduced,49,58,60,167,none,medium\\r\\nmale,group B,some high school,free/reduced,49,50,52,151,completed,low\\r\\nfemale,group E,high school,free/reduced,57,75,73,205,completed,medium\\r\\nmale,group E,high school,standard,94,73,71,238,none,high\\r\\nfemale,group D,some college,standard,75,77,83,235,completed,high\\r\\nfemale,group E,some high school,free/reduced,74,74,72,220,none,medium\\r\\nmale,group C,high school,standard,58,52,54,164,completed,medium\\r\\nfemale,group C,some college,standard,62,69,69,200,none,medium\\r\\nmale,group E,associate's degree,standard,72,57,62,191,none,medium\\r\\nmale,group C,some college,standard,84,87,81,252,none,high\\r\\nfemale,group D,master's degree,standard,92,100,100,292,none,high\\r\\nfemale,group D,high school,standard,45,63,59,167,none,medium\\r\\nmale,group C,high school,standard,75,81,71,227,none,high\\r\\nfemale,group A,some college,standard,56,58,64,178,none,medium\\r\\nfemale,group D,some high school,free/reduced,48,54,53,155,none,low\\r\\nfemale,group E,associate's degree,standard,100,100,100,300,none,high\\r\\nfemale,group C,some high school,free/reduced,65,76,75,216,completed,medium\\r\\nmale,group D,some college,standard,72,57,58,187,none,medium\\r\\nfemale,group D,some college,standard,62,70,72,204,none,medium\\r\\nmale,group A,some high school,standard,66,68,64,198,completed,medium\\r\\nmale,group C,some college,standard,63,63,60,186,none,medium\\r\\nfemale,group E,associate's degree,standard,68,76,67,211,none,medium\\r\\nfemale,group B,bachelor's degree,standard,75,84,80,239,none,high\\r\\nfemale,group D,bachelor's degree,standard,89,100,100,289,none,high\\r\\nmale,group C,some high school,standard,78,72,69,219,completed,medium\\r\\nfemale,group A,high school,free/reduced,53,50,60,163,completed,medium\\r\\nfemale,group D,some college,free/reduced,49,65,61,175,none,medium\\r\\nfemale,group A,some college,standard,54,63,67,184,none,medium\\r\\nfemale,group C,some college,standard,64,82,77,223,completed,high\\r\\nmale,group B,some college,free/reduced,60,62,60,182,completed,medium\\r\\nmale,group C,associate's degree,standard,62,65,58,185,none,medium\\r\\nmale,group D,high school,standard,55,41,48,144,completed,low\\r\\nfemale,group C,associate's degree,standard,91,95,94,280,none,high\\r\\nfemale,group B,high school,free/reduced,8,24,23,55,none,low\\r\\nmale,group D,some high school,standard,81,78,78,237,none,high\\r\\nmale,group B,some high school,standard,79,85,86,250,completed,high\\r\\nfemale,group A,some college,standard,78,87,91,256,completed,high\\r\\nfemale,group C,some high school,standard,74,75,82,231,none,high\\r\\nmale,group A,high school,standard,57,51,54,162,none,medium\\r\\nfemale,group C,associate's degree,standard,40,59,51,150,none,low\\r\\nmale,group E,some high school,standard,81,75,76,232,completed,high\\r\\nfemale,group A,some high school,free/reduced,44,45,45,134,none,low\\r\\nfemale,group D,some college,free/reduced,67,86,83,236,completed,high\\r\\nmale,group E,high school,free/reduced,86,81,75,242,completed,high\\r\\nfemale,group B,some high school,standard,65,82,78,225,completed,high\\r\\nfemale,group D,associate's degree,free/reduced,55,76,76,207,none,medium\\r\\nfemale,group D,bachelor's degree,free/reduced,62,72,74,208,none,medium\\r\\nmale,group A,high school,standard,63,63,62,188,none,medium\\r\\nfemale,group E,master's degree,standard,88,99,95,282,completed,high\\r\\nmale,group C,high school,free/reduced,62,55,55,172,none,medium\\r\\nfemale,group C,high school,free/reduced,59,71,65,195,completed,medium\\r\\nfemale,group D,some college,standard,68,78,77,223,completed,high\\r\\nfemale,group D,some college,free/reduced,77,86,86,249,none,high\\r\\n\"}"
            ]
          },
          "metadata": {},
          "execution_count": 1
        }
      ],
      "source": [
        "from google.colab import files\n",
        "files.upload()"
      ]
    },
    {
      "cell_type": "code",
      "source": [
        "import pandas as pd\n",
        "StudentPer = pd.read_csv('Student Performance.csv')"
      ],
      "metadata": {
        "id": "FG8jSyml_KNZ"
      },
      "execution_count": null,
      "outputs": []
    },
    {
      "cell_type": "code",
      "source": [
        "StudentPer"
      ],
      "metadata": {
        "colab": {
          "base_uri": "https://localhost:8080/",
          "height": 484
        },
        "id": "h0ot2xatA7ho",
        "outputId": "8610da96-17c9-478a-8fd0-47d8839d2bad"
      },
      "execution_count": null,
      "outputs": [
        {
          "output_type": "execute_result",
          "data": {
            "text/html": [
              "\n",
              "  <div id=\"df-f8078c82-6c0e-41d7-acb9-6e2c7518c480\">\n",
              "    <div class=\"colab-df-container\">\n",
              "      <div>\n",
              "<style scoped>\n",
              "    .dataframe tbody tr th:only-of-type {\n",
              "        vertical-align: middle;\n",
              "    }\n",
              "\n",
              "    .dataframe tbody tr th {\n",
              "        vertical-align: top;\n",
              "    }\n",
              "\n",
              "    .dataframe thead th {\n",
              "        text-align: right;\n",
              "    }\n",
              "</style>\n",
              "<table border=\"1\" class=\"dataframe\">\n",
              "  <thead>\n",
              "    <tr style=\"text-align: right;\">\n",
              "      <th></th>\n",
              "      <th>gender</th>\n",
              "      <th>race/ethnicity</th>\n",
              "      <th>parental level of education</th>\n",
              "      <th>lunch</th>\n",
              "      <th>math score</th>\n",
              "      <th>reading score</th>\n",
              "      <th>writing score</th>\n",
              "      <th>total score</th>\n",
              "      <th>test preparation course</th>\n",
              "      <th>admission prospect</th>\n",
              "    </tr>\n",
              "  </thead>\n",
              "  <tbody>\n",
              "    <tr>\n",
              "      <th>0</th>\n",
              "      <td>female</td>\n",
              "      <td>group B</td>\n",
              "      <td>bachelor's degree</td>\n",
              "      <td>standard</td>\n",
              "      <td>72</td>\n",
              "      <td>72</td>\n",
              "      <td>74</td>\n",
              "      <td>218</td>\n",
              "      <td>none</td>\n",
              "      <td>medium</td>\n",
              "    </tr>\n",
              "    <tr>\n",
              "      <th>1</th>\n",
              "      <td>female</td>\n",
              "      <td>group C</td>\n",
              "      <td>some college</td>\n",
              "      <td>standard</td>\n",
              "      <td>69</td>\n",
              "      <td>90</td>\n",
              "      <td>88</td>\n",
              "      <td>247</td>\n",
              "      <td>completed</td>\n",
              "      <td>high</td>\n",
              "    </tr>\n",
              "    <tr>\n",
              "      <th>2</th>\n",
              "      <td>female</td>\n",
              "      <td>group B</td>\n",
              "      <td>master's degree</td>\n",
              "      <td>standard</td>\n",
              "      <td>90</td>\n",
              "      <td>95</td>\n",
              "      <td>93</td>\n",
              "      <td>278</td>\n",
              "      <td>none</td>\n",
              "      <td>high</td>\n",
              "    </tr>\n",
              "    <tr>\n",
              "      <th>3</th>\n",
              "      <td>male</td>\n",
              "      <td>group A</td>\n",
              "      <td>associate's degree</td>\n",
              "      <td>free/reduced</td>\n",
              "      <td>47</td>\n",
              "      <td>57</td>\n",
              "      <td>44</td>\n",
              "      <td>148</td>\n",
              "      <td>none</td>\n",
              "      <td>low</td>\n",
              "    </tr>\n",
              "    <tr>\n",
              "      <th>4</th>\n",
              "      <td>male</td>\n",
              "      <td>group C</td>\n",
              "      <td>some college</td>\n",
              "      <td>standard</td>\n",
              "      <td>76</td>\n",
              "      <td>78</td>\n",
              "      <td>75</td>\n",
              "      <td>229</td>\n",
              "      <td>none</td>\n",
              "      <td>high</td>\n",
              "    </tr>\n",
              "    <tr>\n",
              "      <th>...</th>\n",
              "      <td>...</td>\n",
              "      <td>...</td>\n",
              "      <td>...</td>\n",
              "      <td>...</td>\n",
              "      <td>...</td>\n",
              "      <td>...</td>\n",
              "      <td>...</td>\n",
              "      <td>...</td>\n",
              "      <td>...</td>\n",
              "      <td>...</td>\n",
              "    </tr>\n",
              "    <tr>\n",
              "      <th>995</th>\n",
              "      <td>female</td>\n",
              "      <td>group E</td>\n",
              "      <td>master's degree</td>\n",
              "      <td>standard</td>\n",
              "      <td>88</td>\n",
              "      <td>99</td>\n",
              "      <td>95</td>\n",
              "      <td>282</td>\n",
              "      <td>completed</td>\n",
              "      <td>high</td>\n",
              "    </tr>\n",
              "    <tr>\n",
              "      <th>996</th>\n",
              "      <td>male</td>\n",
              "      <td>group C</td>\n",
              "      <td>high school</td>\n",
              "      <td>free/reduced</td>\n",
              "      <td>62</td>\n",
              "      <td>55</td>\n",
              "      <td>55</td>\n",
              "      <td>172</td>\n",
              "      <td>none</td>\n",
              "      <td>medium</td>\n",
              "    </tr>\n",
              "    <tr>\n",
              "      <th>997</th>\n",
              "      <td>female</td>\n",
              "      <td>group C</td>\n",
              "      <td>high school</td>\n",
              "      <td>free/reduced</td>\n",
              "      <td>59</td>\n",
              "      <td>71</td>\n",
              "      <td>65</td>\n",
              "      <td>195</td>\n",
              "      <td>completed</td>\n",
              "      <td>medium</td>\n",
              "    </tr>\n",
              "    <tr>\n",
              "      <th>998</th>\n",
              "      <td>female</td>\n",
              "      <td>group D</td>\n",
              "      <td>some college</td>\n",
              "      <td>standard</td>\n",
              "      <td>68</td>\n",
              "      <td>78</td>\n",
              "      <td>77</td>\n",
              "      <td>223</td>\n",
              "      <td>completed</td>\n",
              "      <td>high</td>\n",
              "    </tr>\n",
              "    <tr>\n",
              "      <th>999</th>\n",
              "      <td>female</td>\n",
              "      <td>group D</td>\n",
              "      <td>some college</td>\n",
              "      <td>free/reduced</td>\n",
              "      <td>77</td>\n",
              "      <td>86</td>\n",
              "      <td>86</td>\n",
              "      <td>249</td>\n",
              "      <td>none</td>\n",
              "      <td>high</td>\n",
              "    </tr>\n",
              "  </tbody>\n",
              "</table>\n",
              "<p>1000 rows × 10 columns</p>\n",
              "</div>\n",
              "      <button class=\"colab-df-convert\" onclick=\"convertToInteractive('df-f8078c82-6c0e-41d7-acb9-6e2c7518c480')\"\n",
              "              title=\"Convert this dataframe to an interactive table.\"\n",
              "              style=\"display:none;\">\n",
              "        \n",
              "  <svg xmlns=\"http://www.w3.org/2000/svg\" height=\"24px\"viewBox=\"0 0 24 24\"\n",
              "       width=\"24px\">\n",
              "    <path d=\"M0 0h24v24H0V0z\" fill=\"none\"/>\n",
              "    <path d=\"M18.56 5.44l.94 2.06.94-2.06 2.06-.94-2.06-.94-.94-2.06-.94 2.06-2.06.94zm-11 1L8.5 8.5l.94-2.06 2.06-.94-2.06-.94L8.5 2.5l-.94 2.06-2.06.94zm10 10l.94 2.06.94-2.06 2.06-.94-2.06-.94-.94-2.06-.94 2.06-2.06.94z\"/><path d=\"M17.41 7.96l-1.37-1.37c-.4-.4-.92-.59-1.43-.59-.52 0-1.04.2-1.43.59L10.3 9.45l-7.72 7.72c-.78.78-.78 2.05 0 2.83L4 21.41c.39.39.9.59 1.41.59.51 0 1.02-.2 1.41-.59l7.78-7.78 2.81-2.81c.8-.78.8-2.07 0-2.86zM5.41 20L4 18.59l7.72-7.72 1.47 1.35L5.41 20z\"/>\n",
              "  </svg>\n",
              "      </button>\n",
              "      \n",
              "  <style>\n",
              "    .colab-df-container {\n",
              "      display:flex;\n",
              "      flex-wrap:wrap;\n",
              "      gap: 12px;\n",
              "    }\n",
              "\n",
              "    .colab-df-convert {\n",
              "      background-color: #E8F0FE;\n",
              "      border: none;\n",
              "      border-radius: 50%;\n",
              "      cursor: pointer;\n",
              "      display: none;\n",
              "      fill: #1967D2;\n",
              "      height: 32px;\n",
              "      padding: 0 0 0 0;\n",
              "      width: 32px;\n",
              "    }\n",
              "\n",
              "    .colab-df-convert:hover {\n",
              "      background-color: #E2EBFA;\n",
              "      box-shadow: 0px 1px 2px rgba(60, 64, 67, 0.3), 0px 1px 3px 1px rgba(60, 64, 67, 0.15);\n",
              "      fill: #174EA6;\n",
              "    }\n",
              "\n",
              "    [theme=dark] .colab-df-convert {\n",
              "      background-color: #3B4455;\n",
              "      fill: #D2E3FC;\n",
              "    }\n",
              "\n",
              "    [theme=dark] .colab-df-convert:hover {\n",
              "      background-color: #434B5C;\n",
              "      box-shadow: 0px 1px 3px 1px rgba(0, 0, 0, 0.15);\n",
              "      filter: drop-shadow(0px 1px 2px rgba(0, 0, 0, 0.3));\n",
              "      fill: #FFFFFF;\n",
              "    }\n",
              "  </style>\n",
              "\n",
              "      <script>\n",
              "        const buttonEl =\n",
              "          document.querySelector('#df-f8078c82-6c0e-41d7-acb9-6e2c7518c480 button.colab-df-convert');\n",
              "        buttonEl.style.display =\n",
              "          google.colab.kernel.accessAllowed ? 'block' : 'none';\n",
              "\n",
              "        async function convertToInteractive(key) {\n",
              "          const element = document.querySelector('#df-f8078c82-6c0e-41d7-acb9-6e2c7518c480');\n",
              "          const dataTable =\n",
              "            await google.colab.kernel.invokeFunction('convertToInteractive',\n",
              "                                                     [key], {});\n",
              "          if (!dataTable) return;\n",
              "\n",
              "          const docLinkHtml = 'Like what you see? Visit the ' +\n",
              "            '<a target=\"_blank\" href=https://colab.research.google.com/notebooks/data_table.ipynb>data table notebook</a>'\n",
              "            + ' to learn more about interactive tables.';\n",
              "          element.innerHTML = '';\n",
              "          dataTable['output_type'] = 'display_data';\n",
              "          await google.colab.output.renderOutput(dataTable, element);\n",
              "          const docLink = document.createElement('div');\n",
              "          docLink.innerHTML = docLinkHtml;\n",
              "          element.appendChild(docLink);\n",
              "        }\n",
              "      </script>\n",
              "    </div>\n",
              "  </div>\n",
              "  "
            ],
            "text/plain": [
              "     gender race/ethnicity  ... test preparation course admission prospect\n",
              "0    female        group B  ...                    none             medium\n",
              "1    female        group C  ...               completed               high\n",
              "2    female        group B  ...                    none               high\n",
              "3      male        group A  ...                    none                low\n",
              "4      male        group C  ...                    none               high\n",
              "..      ...            ...  ...                     ...                ...\n",
              "995  female        group E  ...               completed               high\n",
              "996    male        group C  ...                    none             medium\n",
              "997  female        group C  ...               completed             medium\n",
              "998  female        group D  ...               completed               high\n",
              "999  female        group D  ...                    none               high\n",
              "\n",
              "[1000 rows x 10 columns]"
            ]
          },
          "metadata": {},
          "execution_count": 107
        }
      ]
    },
    {
      "cell_type": "code",
      "source": [
        "StudentPer.info()"
      ],
      "metadata": {
        "colab": {
          "base_uri": "https://localhost:8080/"
        },
        "id": "x4oaXDcul5Lv",
        "outputId": "ead88e49-8d65-4169-c711-ec93851e4439"
      },
      "execution_count": null,
      "outputs": [
        {
          "output_type": "stream",
          "name": "stdout",
          "text": [
            "<class 'pandas.core.frame.DataFrame'>\n",
            "RangeIndex: 1000 entries, 0 to 999\n",
            "Data columns (total 10 columns):\n",
            " #   Column                       Non-Null Count  Dtype \n",
            "---  ------                       --------------  ----- \n",
            " 0   gender                       1000 non-null   object\n",
            " 1   race/ethnicity               1000 non-null   object\n",
            " 2   parental level of education  1000 non-null   object\n",
            " 3   lunch                        1000 non-null   object\n",
            " 4   math score                   1000 non-null   int64 \n",
            " 5   reading score                1000 non-null   int64 \n",
            " 6   writing score                1000 non-null   int64 \n",
            " 7   total score                  1000 non-null   int64 \n",
            " 8   test preparation course      1000 non-null   object\n",
            " 9   admission prospect           1000 non-null   object\n",
            "dtypes: int64(4), object(6)\n",
            "memory usage: 78.2+ KB\n"
          ]
        }
      ]
    },
    {
      "cell_type": "code",
      "source": [
        "StudentPer = StudentPer.rename(columns={'race/ethnicity':'race_ethnicity'})\n",
        "StudentPer = StudentPer.rename(columns={'parental level of education':'parental_level_of_education'})\n",
        "StudentPer = StudentPer.rename(columns={'math score':'math_score'})\n",
        "StudentPer = StudentPer.rename(columns={'reading score':'reading_score'})\n",
        "StudentPer = StudentPer.rename(columns={'writing score':'writing_score'})\n",
        "StudentPer = StudentPer.rename(columns={'total score':'total_score'})\n",
        "StudentPer = StudentPer.rename(columns={'test preparation course':'test_preparation_course'})\n",
        "StudentPer = StudentPer.rename(columns={'admission prospect':'admission_prospect'})\n",
        "StudentPer.head()"
      ],
      "metadata": {
        "colab": {
          "base_uri": "https://localhost:8080/",
          "height": 270
        },
        "id": "itA9kOPNCVKn",
        "outputId": "d9a36565-15f2-4a96-e082-92144b328110"
      },
      "execution_count": null,
      "outputs": [
        {
          "output_type": "execute_result",
          "data": {
            "text/html": [
              "\n",
              "  <div id=\"df-71c48dac-08fc-4914-93e7-57aa75699707\">\n",
              "    <div class=\"colab-df-container\">\n",
              "      <div>\n",
              "<style scoped>\n",
              "    .dataframe tbody tr th:only-of-type {\n",
              "        vertical-align: middle;\n",
              "    }\n",
              "\n",
              "    .dataframe tbody tr th {\n",
              "        vertical-align: top;\n",
              "    }\n",
              "\n",
              "    .dataframe thead th {\n",
              "        text-align: right;\n",
              "    }\n",
              "</style>\n",
              "<table border=\"1\" class=\"dataframe\">\n",
              "  <thead>\n",
              "    <tr style=\"text-align: right;\">\n",
              "      <th></th>\n",
              "      <th>gender</th>\n",
              "      <th>race_ethnicity</th>\n",
              "      <th>parental_level_of_education</th>\n",
              "      <th>lunch</th>\n",
              "      <th>math_score</th>\n",
              "      <th>reading_score</th>\n",
              "      <th>writing_score</th>\n",
              "      <th>total_score</th>\n",
              "      <th>test_preparation_course</th>\n",
              "      <th>admission_prospect</th>\n",
              "    </tr>\n",
              "  </thead>\n",
              "  <tbody>\n",
              "    <tr>\n",
              "      <th>0</th>\n",
              "      <td>female</td>\n",
              "      <td>group B</td>\n",
              "      <td>bachelor's degree</td>\n",
              "      <td>standard</td>\n",
              "      <td>72</td>\n",
              "      <td>72</td>\n",
              "      <td>74</td>\n",
              "      <td>218</td>\n",
              "      <td>none</td>\n",
              "      <td>medium</td>\n",
              "    </tr>\n",
              "    <tr>\n",
              "      <th>1</th>\n",
              "      <td>female</td>\n",
              "      <td>group C</td>\n",
              "      <td>some college</td>\n",
              "      <td>standard</td>\n",
              "      <td>69</td>\n",
              "      <td>90</td>\n",
              "      <td>88</td>\n",
              "      <td>247</td>\n",
              "      <td>completed</td>\n",
              "      <td>high</td>\n",
              "    </tr>\n",
              "    <tr>\n",
              "      <th>2</th>\n",
              "      <td>female</td>\n",
              "      <td>group B</td>\n",
              "      <td>master's degree</td>\n",
              "      <td>standard</td>\n",
              "      <td>90</td>\n",
              "      <td>95</td>\n",
              "      <td>93</td>\n",
              "      <td>278</td>\n",
              "      <td>none</td>\n",
              "      <td>high</td>\n",
              "    </tr>\n",
              "    <tr>\n",
              "      <th>3</th>\n",
              "      <td>male</td>\n",
              "      <td>group A</td>\n",
              "      <td>associate's degree</td>\n",
              "      <td>free/reduced</td>\n",
              "      <td>47</td>\n",
              "      <td>57</td>\n",
              "      <td>44</td>\n",
              "      <td>148</td>\n",
              "      <td>none</td>\n",
              "      <td>low</td>\n",
              "    </tr>\n",
              "    <tr>\n",
              "      <th>4</th>\n",
              "      <td>male</td>\n",
              "      <td>group C</td>\n",
              "      <td>some college</td>\n",
              "      <td>standard</td>\n",
              "      <td>76</td>\n",
              "      <td>78</td>\n",
              "      <td>75</td>\n",
              "      <td>229</td>\n",
              "      <td>none</td>\n",
              "      <td>high</td>\n",
              "    </tr>\n",
              "  </tbody>\n",
              "</table>\n",
              "</div>\n",
              "      <button class=\"colab-df-convert\" onclick=\"convertToInteractive('df-71c48dac-08fc-4914-93e7-57aa75699707')\"\n",
              "              title=\"Convert this dataframe to an interactive table.\"\n",
              "              style=\"display:none;\">\n",
              "        \n",
              "  <svg xmlns=\"http://www.w3.org/2000/svg\" height=\"24px\"viewBox=\"0 0 24 24\"\n",
              "       width=\"24px\">\n",
              "    <path d=\"M0 0h24v24H0V0z\" fill=\"none\"/>\n",
              "    <path d=\"M18.56 5.44l.94 2.06.94-2.06 2.06-.94-2.06-.94-.94-2.06-.94 2.06-2.06.94zm-11 1L8.5 8.5l.94-2.06 2.06-.94-2.06-.94L8.5 2.5l-.94 2.06-2.06.94zm10 10l.94 2.06.94-2.06 2.06-.94-2.06-.94-.94-2.06-.94 2.06-2.06.94z\"/><path d=\"M17.41 7.96l-1.37-1.37c-.4-.4-.92-.59-1.43-.59-.52 0-1.04.2-1.43.59L10.3 9.45l-7.72 7.72c-.78.78-.78 2.05 0 2.83L4 21.41c.39.39.9.59 1.41.59.51 0 1.02-.2 1.41-.59l7.78-7.78 2.81-2.81c.8-.78.8-2.07 0-2.86zM5.41 20L4 18.59l7.72-7.72 1.47 1.35L5.41 20z\"/>\n",
              "  </svg>\n",
              "      </button>\n",
              "      \n",
              "  <style>\n",
              "    .colab-df-container {\n",
              "      display:flex;\n",
              "      flex-wrap:wrap;\n",
              "      gap: 12px;\n",
              "    }\n",
              "\n",
              "    .colab-df-convert {\n",
              "      background-color: #E8F0FE;\n",
              "      border: none;\n",
              "      border-radius: 50%;\n",
              "      cursor: pointer;\n",
              "      display: none;\n",
              "      fill: #1967D2;\n",
              "      height: 32px;\n",
              "      padding: 0 0 0 0;\n",
              "      width: 32px;\n",
              "    }\n",
              "\n",
              "    .colab-df-convert:hover {\n",
              "      background-color: #E2EBFA;\n",
              "      box-shadow: 0px 1px 2px rgba(60, 64, 67, 0.3), 0px 1px 3px 1px rgba(60, 64, 67, 0.15);\n",
              "      fill: #174EA6;\n",
              "    }\n",
              "\n",
              "    [theme=dark] .colab-df-convert {\n",
              "      background-color: #3B4455;\n",
              "      fill: #D2E3FC;\n",
              "    }\n",
              "\n",
              "    [theme=dark] .colab-df-convert:hover {\n",
              "      background-color: #434B5C;\n",
              "      box-shadow: 0px 1px 3px 1px rgba(0, 0, 0, 0.15);\n",
              "      filter: drop-shadow(0px 1px 2px rgba(0, 0, 0, 0.3));\n",
              "      fill: #FFFFFF;\n",
              "    }\n",
              "  </style>\n",
              "\n",
              "      <script>\n",
              "        const buttonEl =\n",
              "          document.querySelector('#df-71c48dac-08fc-4914-93e7-57aa75699707 button.colab-df-convert');\n",
              "        buttonEl.style.display =\n",
              "          google.colab.kernel.accessAllowed ? 'block' : 'none';\n",
              "\n",
              "        async function convertToInteractive(key) {\n",
              "          const element = document.querySelector('#df-71c48dac-08fc-4914-93e7-57aa75699707');\n",
              "          const dataTable =\n",
              "            await google.colab.kernel.invokeFunction('convertToInteractive',\n",
              "                                                     [key], {});\n",
              "          if (!dataTable) return;\n",
              "\n",
              "          const docLinkHtml = 'Like what you see? Visit the ' +\n",
              "            '<a target=\"_blank\" href=https://colab.research.google.com/notebooks/data_table.ipynb>data table notebook</a>'\n",
              "            + ' to learn more about interactive tables.';\n",
              "          element.innerHTML = '';\n",
              "          dataTable['output_type'] = 'display_data';\n",
              "          await google.colab.output.renderOutput(dataTable, element);\n",
              "          const docLink = document.createElement('div');\n",
              "          docLink.innerHTML = docLinkHtml;\n",
              "          element.appendChild(docLink);\n",
              "        }\n",
              "      </script>\n",
              "    </div>\n",
              "  </div>\n",
              "  "
            ],
            "text/plain": [
              "   gender race_ethnicity  ... test_preparation_course admission_prospect\n",
              "0  female        group B  ...                    none             medium\n",
              "1  female        group C  ...               completed               high\n",
              "2  female        group B  ...                    none               high\n",
              "3    male        group A  ...                    none                low\n",
              "4    male        group C  ...                    none               high\n",
              "\n",
              "[5 rows x 10 columns]"
            ]
          },
          "metadata": {},
          "execution_count": 109
        }
      ]
    },
    {
      "cell_type": "code",
      "source": [
        "StudentPer.test_preparation_course.unique()"
      ],
      "metadata": {
        "colab": {
          "base_uri": "https://localhost:8080/"
        },
        "id": "DZqE0p9wA8r5",
        "outputId": "cfd29710-61c5-49eb-98ea-c50bb2c1fc7b"
      },
      "execution_count": null,
      "outputs": [
        {
          "output_type": "execute_result",
          "data": {
            "text/plain": [
              "array(['none', 'completed'], dtype=object)"
            ]
          },
          "metadata": {},
          "execution_count": 110
        }
      ]
    },
    {
      "cell_type": "code",
      "source": [
        "StudentPer['test_preparation_course'].replace(['none', 'completed'],\n",
        "                        [0, 1], inplace=True)"
      ],
      "metadata": {
        "id": "ryXKV6YNHVa7"
      },
      "execution_count": null,
      "outputs": []
    },
    {
      "cell_type": "code",
      "source": [
        "StudentPer.race_ethnicity.unique()"
      ],
      "metadata": {
        "colab": {
          "base_uri": "https://localhost:8080/"
        },
        "id": "m8mk-XZ_NILU",
        "outputId": "b9b70b6a-2685-43d2-e2e9-967424635cc4"
      },
      "execution_count": null,
      "outputs": [
        {
          "output_type": "execute_result",
          "data": {
            "text/plain": [
              "array(['group B', 'group C', 'group A', 'group D', 'group E'],\n",
              "      dtype=object)"
            ]
          },
          "metadata": {},
          "execution_count": 112
        }
      ]
    },
    {
      "cell_type": "code",
      "source": [
        "StudentPer['race_ethnicity'].replace(['group A', 'group B', 'group C', 'group D', 'group E'],\n",
        "                        [0, 1, 2, 3, 4], inplace=True)"
      ],
      "metadata": {
        "id": "g2rtgk5BUOKp"
      },
      "execution_count": null,
      "outputs": []
    },
    {
      "cell_type": "code",
      "source": [
        "StudentPer.parental_level_of_education.unique()"
      ],
      "metadata": {
        "colab": {
          "base_uri": "https://localhost:8080/"
        },
        "id": "CJQtloHRUp6d",
        "outputId": "020aca4b-00b1-4797-e79b-b79e84464410"
      },
      "execution_count": null,
      "outputs": [
        {
          "output_type": "execute_result",
          "data": {
            "text/plain": [
              "array([\"bachelor's degree\", 'some college', \"master's degree\",\n",
              "       \"associate's degree\", 'high school', 'some high school'],\n",
              "      dtype=object)"
            ]
          },
          "metadata": {},
          "execution_count": 114
        }
      ]
    },
    {
      "cell_type": "code",
      "source": [
        "StudentPer['parental_level_of_education'].replace(['some high school', 'high school', 'some college', \"associate's degree\", \"bachelor's degree\", \"master's degree\"],\n",
        "                        [0, 1, 2, 3, 4, 5], inplace=True)"
      ],
      "metadata": {
        "id": "rWIoE4KqUuz3"
      },
      "execution_count": null,
      "outputs": []
    },
    {
      "cell_type": "code",
      "source": [
        "StudentPer.gender.unique()"
      ],
      "metadata": {
        "colab": {
          "base_uri": "https://localhost:8080/"
        },
        "id": "P48ymvz5WULa",
        "outputId": "0945e2bf-3b51-476c-85c9-be79afed1134"
      },
      "execution_count": null,
      "outputs": [
        {
          "output_type": "execute_result",
          "data": {
            "text/plain": [
              "array(['female', 'male'], dtype=object)"
            ]
          },
          "metadata": {},
          "execution_count": 116
        }
      ]
    },
    {
      "cell_type": "code",
      "source": [
        "StudentPer['gender'].replace(['male', 'female'],\n",
        "                             [0, 1], inplace=True)"
      ],
      "metadata": {
        "id": "xs4dvC8oWXPA"
      },
      "execution_count": null,
      "outputs": []
    },
    {
      "cell_type": "code",
      "source": [
        "StudentPer.lunch.unique()"
      ],
      "metadata": {
        "colab": {
          "base_uri": "https://localhost:8080/"
        },
        "id": "ZU4kkrVWWosz",
        "outputId": "27608a94-2996-4956-c080-2629a1698e13"
      },
      "execution_count": null,
      "outputs": [
        {
          "output_type": "execute_result",
          "data": {
            "text/plain": [
              "array(['standard', 'free/reduced'], dtype=object)"
            ]
          },
          "metadata": {},
          "execution_count": 118
        }
      ]
    },
    {
      "cell_type": "code",
      "source": [
        "StudentPer['lunch'].replace(['free/reduced', 'standard'],\n",
        "                             [0, 1], inplace=True)"
      ],
      "metadata": {
        "id": "9BWD0J7tWstD"
      },
      "execution_count": null,
      "outputs": []
    },
    {
      "cell_type": "code",
      "source": [
        "StudentPer.admission_prospect.unique()"
      ],
      "metadata": {
        "colab": {
          "base_uri": "https://localhost:8080/"
        },
        "id": "2gvUdkS8W0Y3",
        "outputId": "9a00063a-593b-4c97-c20c-59330afd58c0"
      },
      "execution_count": null,
      "outputs": [
        {
          "output_type": "execute_result",
          "data": {
            "text/plain": [
              "array(['medium', 'high', 'low'], dtype=object)"
            ]
          },
          "metadata": {},
          "execution_count": 120
        }
      ]
    },
    {
      "cell_type": "code",
      "source": [
        "StudentPer['admission_prospect'].replace(['low', 'medium', 'high'],\n",
        "                             [0, 1, 2], inplace=True)"
      ],
      "metadata": {
        "id": "6_ID4fTiW3zs"
      },
      "execution_count": null,
      "outputs": []
    },
    {
      "cell_type": "code",
      "source": [
        "StudentPer"
      ],
      "metadata": {
        "colab": {
          "base_uri": "https://localhost:8080/",
          "height": 487
        },
        "id": "uRHR-koLUggJ",
        "outputId": "0f825771-0296-4ec3-a566-2f36339b1900"
      },
      "execution_count": null,
      "outputs": [
        {
          "output_type": "execute_result",
          "data": {
            "text/html": [
              "\n",
              "  <div id=\"df-b91f795c-519a-4ccc-bcdb-bbce896c40ef\">\n",
              "    <div class=\"colab-df-container\">\n",
              "      <div>\n",
              "<style scoped>\n",
              "    .dataframe tbody tr th:only-of-type {\n",
              "        vertical-align: middle;\n",
              "    }\n",
              "\n",
              "    .dataframe tbody tr th {\n",
              "        vertical-align: top;\n",
              "    }\n",
              "\n",
              "    .dataframe thead th {\n",
              "        text-align: right;\n",
              "    }\n",
              "</style>\n",
              "<table border=\"1\" class=\"dataframe\">\n",
              "  <thead>\n",
              "    <tr style=\"text-align: right;\">\n",
              "      <th></th>\n",
              "      <th>gender</th>\n",
              "      <th>race_ethnicity</th>\n",
              "      <th>parental_level_of_education</th>\n",
              "      <th>lunch</th>\n",
              "      <th>math_score</th>\n",
              "      <th>reading_score</th>\n",
              "      <th>writing_score</th>\n",
              "      <th>total_score</th>\n",
              "      <th>test_preparation_course</th>\n",
              "      <th>admission_prospect</th>\n",
              "    </tr>\n",
              "  </thead>\n",
              "  <tbody>\n",
              "    <tr>\n",
              "      <th>0</th>\n",
              "      <td>1</td>\n",
              "      <td>1</td>\n",
              "      <td>4</td>\n",
              "      <td>1</td>\n",
              "      <td>72</td>\n",
              "      <td>72</td>\n",
              "      <td>74</td>\n",
              "      <td>218</td>\n",
              "      <td>0</td>\n",
              "      <td>1</td>\n",
              "    </tr>\n",
              "    <tr>\n",
              "      <th>1</th>\n",
              "      <td>1</td>\n",
              "      <td>2</td>\n",
              "      <td>2</td>\n",
              "      <td>1</td>\n",
              "      <td>69</td>\n",
              "      <td>90</td>\n",
              "      <td>88</td>\n",
              "      <td>247</td>\n",
              "      <td>1</td>\n",
              "      <td>2</td>\n",
              "    </tr>\n",
              "    <tr>\n",
              "      <th>2</th>\n",
              "      <td>1</td>\n",
              "      <td>1</td>\n",
              "      <td>5</td>\n",
              "      <td>1</td>\n",
              "      <td>90</td>\n",
              "      <td>95</td>\n",
              "      <td>93</td>\n",
              "      <td>278</td>\n",
              "      <td>0</td>\n",
              "      <td>2</td>\n",
              "    </tr>\n",
              "    <tr>\n",
              "      <th>3</th>\n",
              "      <td>0</td>\n",
              "      <td>0</td>\n",
              "      <td>3</td>\n",
              "      <td>0</td>\n",
              "      <td>47</td>\n",
              "      <td>57</td>\n",
              "      <td>44</td>\n",
              "      <td>148</td>\n",
              "      <td>0</td>\n",
              "      <td>0</td>\n",
              "    </tr>\n",
              "    <tr>\n",
              "      <th>4</th>\n",
              "      <td>0</td>\n",
              "      <td>2</td>\n",
              "      <td>2</td>\n",
              "      <td>1</td>\n",
              "      <td>76</td>\n",
              "      <td>78</td>\n",
              "      <td>75</td>\n",
              "      <td>229</td>\n",
              "      <td>0</td>\n",
              "      <td>2</td>\n",
              "    </tr>\n",
              "    <tr>\n",
              "      <th>...</th>\n",
              "      <td>...</td>\n",
              "      <td>...</td>\n",
              "      <td>...</td>\n",
              "      <td>...</td>\n",
              "      <td>...</td>\n",
              "      <td>...</td>\n",
              "      <td>...</td>\n",
              "      <td>...</td>\n",
              "      <td>...</td>\n",
              "      <td>...</td>\n",
              "    </tr>\n",
              "    <tr>\n",
              "      <th>995</th>\n",
              "      <td>1</td>\n",
              "      <td>4</td>\n",
              "      <td>5</td>\n",
              "      <td>1</td>\n",
              "      <td>88</td>\n",
              "      <td>99</td>\n",
              "      <td>95</td>\n",
              "      <td>282</td>\n",
              "      <td>1</td>\n",
              "      <td>2</td>\n",
              "    </tr>\n",
              "    <tr>\n",
              "      <th>996</th>\n",
              "      <td>0</td>\n",
              "      <td>2</td>\n",
              "      <td>1</td>\n",
              "      <td>0</td>\n",
              "      <td>62</td>\n",
              "      <td>55</td>\n",
              "      <td>55</td>\n",
              "      <td>172</td>\n",
              "      <td>0</td>\n",
              "      <td>1</td>\n",
              "    </tr>\n",
              "    <tr>\n",
              "      <th>997</th>\n",
              "      <td>1</td>\n",
              "      <td>2</td>\n",
              "      <td>1</td>\n",
              "      <td>0</td>\n",
              "      <td>59</td>\n",
              "      <td>71</td>\n",
              "      <td>65</td>\n",
              "      <td>195</td>\n",
              "      <td>1</td>\n",
              "      <td>1</td>\n",
              "    </tr>\n",
              "    <tr>\n",
              "      <th>998</th>\n",
              "      <td>1</td>\n",
              "      <td>3</td>\n",
              "      <td>2</td>\n",
              "      <td>1</td>\n",
              "      <td>68</td>\n",
              "      <td>78</td>\n",
              "      <td>77</td>\n",
              "      <td>223</td>\n",
              "      <td>1</td>\n",
              "      <td>2</td>\n",
              "    </tr>\n",
              "    <tr>\n",
              "      <th>999</th>\n",
              "      <td>1</td>\n",
              "      <td>3</td>\n",
              "      <td>2</td>\n",
              "      <td>0</td>\n",
              "      <td>77</td>\n",
              "      <td>86</td>\n",
              "      <td>86</td>\n",
              "      <td>249</td>\n",
              "      <td>0</td>\n",
              "      <td>2</td>\n",
              "    </tr>\n",
              "  </tbody>\n",
              "</table>\n",
              "<p>1000 rows × 10 columns</p>\n",
              "</div>\n",
              "      <button class=\"colab-df-convert\" onclick=\"convertToInteractive('df-b91f795c-519a-4ccc-bcdb-bbce896c40ef')\"\n",
              "              title=\"Convert this dataframe to an interactive table.\"\n",
              "              style=\"display:none;\">\n",
              "        \n",
              "  <svg xmlns=\"http://www.w3.org/2000/svg\" height=\"24px\"viewBox=\"0 0 24 24\"\n",
              "       width=\"24px\">\n",
              "    <path d=\"M0 0h24v24H0V0z\" fill=\"none\"/>\n",
              "    <path d=\"M18.56 5.44l.94 2.06.94-2.06 2.06-.94-2.06-.94-.94-2.06-.94 2.06-2.06.94zm-11 1L8.5 8.5l.94-2.06 2.06-.94-2.06-.94L8.5 2.5l-.94 2.06-2.06.94zm10 10l.94 2.06.94-2.06 2.06-.94-2.06-.94-.94-2.06-.94 2.06-2.06.94z\"/><path d=\"M17.41 7.96l-1.37-1.37c-.4-.4-.92-.59-1.43-.59-.52 0-1.04.2-1.43.59L10.3 9.45l-7.72 7.72c-.78.78-.78 2.05 0 2.83L4 21.41c.39.39.9.59 1.41.59.51 0 1.02-.2 1.41-.59l7.78-7.78 2.81-2.81c.8-.78.8-2.07 0-2.86zM5.41 20L4 18.59l7.72-7.72 1.47 1.35L5.41 20z\"/>\n",
              "  </svg>\n",
              "      </button>\n",
              "      \n",
              "  <style>\n",
              "    .colab-df-container {\n",
              "      display:flex;\n",
              "      flex-wrap:wrap;\n",
              "      gap: 12px;\n",
              "    }\n",
              "\n",
              "    .colab-df-convert {\n",
              "      background-color: #E8F0FE;\n",
              "      border: none;\n",
              "      border-radius: 50%;\n",
              "      cursor: pointer;\n",
              "      display: none;\n",
              "      fill: #1967D2;\n",
              "      height: 32px;\n",
              "      padding: 0 0 0 0;\n",
              "      width: 32px;\n",
              "    }\n",
              "\n",
              "    .colab-df-convert:hover {\n",
              "      background-color: #E2EBFA;\n",
              "      box-shadow: 0px 1px 2px rgba(60, 64, 67, 0.3), 0px 1px 3px 1px rgba(60, 64, 67, 0.15);\n",
              "      fill: #174EA6;\n",
              "    }\n",
              "\n",
              "    [theme=dark] .colab-df-convert {\n",
              "      background-color: #3B4455;\n",
              "      fill: #D2E3FC;\n",
              "    }\n",
              "\n",
              "    [theme=dark] .colab-df-convert:hover {\n",
              "      background-color: #434B5C;\n",
              "      box-shadow: 0px 1px 3px 1px rgba(0, 0, 0, 0.15);\n",
              "      filter: drop-shadow(0px 1px 2px rgba(0, 0, 0, 0.3));\n",
              "      fill: #FFFFFF;\n",
              "    }\n",
              "  </style>\n",
              "\n",
              "      <script>\n",
              "        const buttonEl =\n",
              "          document.querySelector('#df-b91f795c-519a-4ccc-bcdb-bbce896c40ef button.colab-df-convert');\n",
              "        buttonEl.style.display =\n",
              "          google.colab.kernel.accessAllowed ? 'block' : 'none';\n",
              "\n",
              "        async function convertToInteractive(key) {\n",
              "          const element = document.querySelector('#df-b91f795c-519a-4ccc-bcdb-bbce896c40ef');\n",
              "          const dataTable =\n",
              "            await google.colab.kernel.invokeFunction('convertToInteractive',\n",
              "                                                     [key], {});\n",
              "          if (!dataTable) return;\n",
              "\n",
              "          const docLinkHtml = 'Like what you see? Visit the ' +\n",
              "            '<a target=\"_blank\" href=https://colab.research.google.com/notebooks/data_table.ipynb>data table notebook</a>'\n",
              "            + ' to learn more about interactive tables.';\n",
              "          element.innerHTML = '';\n",
              "          dataTable['output_type'] = 'display_data';\n",
              "          await google.colab.output.renderOutput(dataTable, element);\n",
              "          const docLink = document.createElement('div');\n",
              "          docLink.innerHTML = docLinkHtml;\n",
              "          element.appendChild(docLink);\n",
              "        }\n",
              "      </script>\n",
              "    </div>\n",
              "  </div>\n",
              "  "
            ],
            "text/plain": [
              "     gender  race_ethnicity  ...  test_preparation_course  admission_prospect\n",
              "0         1               1  ...                        0                   1\n",
              "1         1               2  ...                        1                   2\n",
              "2         1               1  ...                        0                   2\n",
              "3         0               0  ...                        0                   0\n",
              "4         0               2  ...                        0                   2\n",
              "..      ...             ...  ...                      ...                 ...\n",
              "995       1               4  ...                        1                   2\n",
              "996       0               2  ...                        0                   1\n",
              "997       1               2  ...                        1                   1\n",
              "998       1               3  ...                        1                   2\n",
              "999       1               3  ...                        0                   2\n",
              "\n",
              "[1000 rows x 10 columns]"
            ]
          },
          "metadata": {},
          "execution_count": 122
        }
      ]
    },
    {
      "cell_type": "code",
      "source": [
        "StudentPer.describe()"
      ],
      "metadata": {
        "colab": {
          "base_uri": "https://localhost:8080/",
          "height": 364
        },
        "id": "8WVDcwpymDMg",
        "outputId": "b3132a65-8bd7-4e09-cb3d-901f61ce8fd7"
      },
      "execution_count": null,
      "outputs": [
        {
          "output_type": "execute_result",
          "data": {
            "text/html": [
              "\n",
              "  <div id=\"df-8bdb36c8-7f5b-486b-9444-192a4935136d\">\n",
              "    <div class=\"colab-df-container\">\n",
              "      <div>\n",
              "<style scoped>\n",
              "    .dataframe tbody tr th:only-of-type {\n",
              "        vertical-align: middle;\n",
              "    }\n",
              "\n",
              "    .dataframe tbody tr th {\n",
              "        vertical-align: top;\n",
              "    }\n",
              "\n",
              "    .dataframe thead th {\n",
              "        text-align: right;\n",
              "    }\n",
              "</style>\n",
              "<table border=\"1\" class=\"dataframe\">\n",
              "  <thead>\n",
              "    <tr style=\"text-align: right;\">\n",
              "      <th></th>\n",
              "      <th>gender</th>\n",
              "      <th>race_ethnicity</th>\n",
              "      <th>parental_level_of_education</th>\n",
              "      <th>lunch</th>\n",
              "      <th>math_score</th>\n",
              "      <th>reading_score</th>\n",
              "      <th>writing_score</th>\n",
              "      <th>total_score</th>\n",
              "      <th>test_preparation_course</th>\n",
              "      <th>admission_prospect</th>\n",
              "    </tr>\n",
              "  </thead>\n",
              "  <tbody>\n",
              "    <tr>\n",
              "      <th>count</th>\n",
              "      <td>1000.000000</td>\n",
              "      <td>1000.000000</td>\n",
              "      <td>1000.000000</td>\n",
              "      <td>1000.000000</td>\n",
              "      <td>1000.00000</td>\n",
              "      <td>1000.000000</td>\n",
              "      <td>1000.000000</td>\n",
              "      <td>1000.000000</td>\n",
              "      <td>1000.000000</td>\n",
              "      <td>1000.000000</td>\n",
              "    </tr>\n",
              "    <tr>\n",
              "      <th>mean</th>\n",
              "      <td>0.518000</td>\n",
              "      <td>2.174000</td>\n",
              "      <td>2.081000</td>\n",
              "      <td>0.645000</td>\n",
              "      <td>66.08900</td>\n",
              "      <td>69.169000</td>\n",
              "      <td>68.054000</td>\n",
              "      <td>203.312000</td>\n",
              "      <td>0.358000</td>\n",
              "      <td>1.187000</td>\n",
              "    </tr>\n",
              "    <tr>\n",
              "      <th>std</th>\n",
              "      <td>0.499926</td>\n",
              "      <td>1.157179</td>\n",
              "      <td>1.460333</td>\n",
              "      <td>0.478753</td>\n",
              "      <td>15.16308</td>\n",
              "      <td>14.600192</td>\n",
              "      <td>15.195657</td>\n",
              "      <td>42.771978</td>\n",
              "      <td>0.479652</td>\n",
              "      <td>0.700372</td>\n",
              "    </tr>\n",
              "    <tr>\n",
              "      <th>min</th>\n",
              "      <td>0.000000</td>\n",
              "      <td>0.000000</td>\n",
              "      <td>0.000000</td>\n",
              "      <td>0.000000</td>\n",
              "      <td>0.00000</td>\n",
              "      <td>17.000000</td>\n",
              "      <td>10.000000</td>\n",
              "      <td>27.000000</td>\n",
              "      <td>0.000000</td>\n",
              "      <td>0.000000</td>\n",
              "    </tr>\n",
              "    <tr>\n",
              "      <th>25%</th>\n",
              "      <td>0.000000</td>\n",
              "      <td>1.000000</td>\n",
              "      <td>1.000000</td>\n",
              "      <td>0.000000</td>\n",
              "      <td>57.00000</td>\n",
              "      <td>59.000000</td>\n",
              "      <td>57.750000</td>\n",
              "      <td>175.000000</td>\n",
              "      <td>0.000000</td>\n",
              "      <td>1.000000</td>\n",
              "    </tr>\n",
              "    <tr>\n",
              "      <th>50%</th>\n",
              "      <td>1.000000</td>\n",
              "      <td>2.000000</td>\n",
              "      <td>2.000000</td>\n",
              "      <td>1.000000</td>\n",
              "      <td>66.00000</td>\n",
              "      <td>70.000000</td>\n",
              "      <td>69.000000</td>\n",
              "      <td>205.000000</td>\n",
              "      <td>0.000000</td>\n",
              "      <td>1.000000</td>\n",
              "    </tr>\n",
              "    <tr>\n",
              "      <th>75%</th>\n",
              "      <td>1.000000</td>\n",
              "      <td>3.000000</td>\n",
              "      <td>3.000000</td>\n",
              "      <td>1.000000</td>\n",
              "      <td>77.00000</td>\n",
              "      <td>79.000000</td>\n",
              "      <td>79.000000</td>\n",
              "      <td>233.000000</td>\n",
              "      <td>1.000000</td>\n",
              "      <td>2.000000</td>\n",
              "    </tr>\n",
              "    <tr>\n",
              "      <th>max</th>\n",
              "      <td>1.000000</td>\n",
              "      <td>4.000000</td>\n",
              "      <td>5.000000</td>\n",
              "      <td>1.000000</td>\n",
              "      <td>100.00000</td>\n",
              "      <td>100.000000</td>\n",
              "      <td>100.000000</td>\n",
              "      <td>300.000000</td>\n",
              "      <td>1.000000</td>\n",
              "      <td>2.000000</td>\n",
              "    </tr>\n",
              "  </tbody>\n",
              "</table>\n",
              "</div>\n",
              "      <button class=\"colab-df-convert\" onclick=\"convertToInteractive('df-8bdb36c8-7f5b-486b-9444-192a4935136d')\"\n",
              "              title=\"Convert this dataframe to an interactive table.\"\n",
              "              style=\"display:none;\">\n",
              "        \n",
              "  <svg xmlns=\"http://www.w3.org/2000/svg\" height=\"24px\"viewBox=\"0 0 24 24\"\n",
              "       width=\"24px\">\n",
              "    <path d=\"M0 0h24v24H0V0z\" fill=\"none\"/>\n",
              "    <path d=\"M18.56 5.44l.94 2.06.94-2.06 2.06-.94-2.06-.94-.94-2.06-.94 2.06-2.06.94zm-11 1L8.5 8.5l.94-2.06 2.06-.94-2.06-.94L8.5 2.5l-.94 2.06-2.06.94zm10 10l.94 2.06.94-2.06 2.06-.94-2.06-.94-.94-2.06-.94 2.06-2.06.94z\"/><path d=\"M17.41 7.96l-1.37-1.37c-.4-.4-.92-.59-1.43-.59-.52 0-1.04.2-1.43.59L10.3 9.45l-7.72 7.72c-.78.78-.78 2.05 0 2.83L4 21.41c.39.39.9.59 1.41.59.51 0 1.02-.2 1.41-.59l7.78-7.78 2.81-2.81c.8-.78.8-2.07 0-2.86zM5.41 20L4 18.59l7.72-7.72 1.47 1.35L5.41 20z\"/>\n",
              "  </svg>\n",
              "      </button>\n",
              "      \n",
              "  <style>\n",
              "    .colab-df-container {\n",
              "      display:flex;\n",
              "      flex-wrap:wrap;\n",
              "      gap: 12px;\n",
              "    }\n",
              "\n",
              "    .colab-df-convert {\n",
              "      background-color: #E8F0FE;\n",
              "      border: none;\n",
              "      border-radius: 50%;\n",
              "      cursor: pointer;\n",
              "      display: none;\n",
              "      fill: #1967D2;\n",
              "      height: 32px;\n",
              "      padding: 0 0 0 0;\n",
              "      width: 32px;\n",
              "    }\n",
              "\n",
              "    .colab-df-convert:hover {\n",
              "      background-color: #E2EBFA;\n",
              "      box-shadow: 0px 1px 2px rgba(60, 64, 67, 0.3), 0px 1px 3px 1px rgba(60, 64, 67, 0.15);\n",
              "      fill: #174EA6;\n",
              "    }\n",
              "\n",
              "    [theme=dark] .colab-df-convert {\n",
              "      background-color: #3B4455;\n",
              "      fill: #D2E3FC;\n",
              "    }\n",
              "\n",
              "    [theme=dark] .colab-df-convert:hover {\n",
              "      background-color: #434B5C;\n",
              "      box-shadow: 0px 1px 3px 1px rgba(0, 0, 0, 0.15);\n",
              "      filter: drop-shadow(0px 1px 2px rgba(0, 0, 0, 0.3));\n",
              "      fill: #FFFFFF;\n",
              "    }\n",
              "  </style>\n",
              "\n",
              "      <script>\n",
              "        const buttonEl =\n",
              "          document.querySelector('#df-8bdb36c8-7f5b-486b-9444-192a4935136d button.colab-df-convert');\n",
              "        buttonEl.style.display =\n",
              "          google.colab.kernel.accessAllowed ? 'block' : 'none';\n",
              "\n",
              "        async function convertToInteractive(key) {\n",
              "          const element = document.querySelector('#df-8bdb36c8-7f5b-486b-9444-192a4935136d');\n",
              "          const dataTable =\n",
              "            await google.colab.kernel.invokeFunction('convertToInteractive',\n",
              "                                                     [key], {});\n",
              "          if (!dataTable) return;\n",
              "\n",
              "          const docLinkHtml = 'Like what you see? Visit the ' +\n",
              "            '<a target=\"_blank\" href=https://colab.research.google.com/notebooks/data_table.ipynb>data table notebook</a>'\n",
              "            + ' to learn more about interactive tables.';\n",
              "          element.innerHTML = '';\n",
              "          dataTable['output_type'] = 'display_data';\n",
              "          await google.colab.output.renderOutput(dataTable, element);\n",
              "          const docLink = document.createElement('div');\n",
              "          docLink.innerHTML = docLinkHtml;\n",
              "          element.appendChild(docLink);\n",
              "        }\n",
              "      </script>\n",
              "    </div>\n",
              "  </div>\n",
              "  "
            ],
            "text/plain": [
              "            gender  race_ethnicity  ...  test_preparation_course  admission_prospect\n",
              "count  1000.000000     1000.000000  ...              1000.000000         1000.000000\n",
              "mean      0.518000        2.174000  ...                 0.358000            1.187000\n",
              "std       0.499926        1.157179  ...                 0.479652            0.700372\n",
              "min       0.000000        0.000000  ...                 0.000000            0.000000\n",
              "25%       0.000000        1.000000  ...                 0.000000            1.000000\n",
              "50%       1.000000        2.000000  ...                 0.000000            1.000000\n",
              "75%       1.000000        3.000000  ...                 1.000000            2.000000\n",
              "max       1.000000        4.000000  ...                 1.000000            2.000000\n",
              "\n",
              "[8 rows x 10 columns]"
            ]
          },
          "metadata": {},
          "execution_count": 123
        }
      ]
    },
    {
      "cell_type": "code",
      "source": [
        "StudentPer.isnull().values.any()"
      ],
      "metadata": {
        "colab": {
          "base_uri": "https://localhost:8080/"
        },
        "id": "2jXlw5q_Uhyu",
        "outputId": "f9ed9532-4d29-48a7-a92d-007ed4822082"
      },
      "execution_count": null,
      "outputs": [
        {
          "output_type": "execute_result",
          "data": {
            "text/plain": [
              "False"
            ]
          },
          "metadata": {},
          "execution_count": 124
        }
      ]
    },
    {
      "cell_type": "markdown",
      "source": [
        "##Section 2: Model Training"
      ],
      "metadata": {
        "id": "mylzdhD7YTSi"
      }
    },
    {
      "cell_type": "markdown",
      "source": [
        "###2.1 Look at the dataset and determine which features will most likely determine a student’s admission prospect."
      ],
      "metadata": {
        "id": "lssxPMrlYbIC"
      }
    },
    {
      "cell_type": "code",
      "source": [
        "StudentPer.corr()"
      ],
      "metadata": {
        "colab": {
          "base_uri": "https://localhost:8080/",
          "height": 426
        },
        "id": "lTFXNjWNc2Bv",
        "outputId": "b2e30705-acf6-49b5-f070-d7e18380f053"
      },
      "execution_count": null,
      "outputs": [
        {
          "output_type": "execute_result",
          "data": {
            "text/html": [
              "\n",
              "  <div id=\"df-bc5014cb-8528-4b1b-a06e-bdbcb3dcc89d\">\n",
              "    <div class=\"colab-df-container\">\n",
              "      <div>\n",
              "<style scoped>\n",
              "    .dataframe tbody tr th:only-of-type {\n",
              "        vertical-align: middle;\n",
              "    }\n",
              "\n",
              "    .dataframe tbody tr th {\n",
              "        vertical-align: top;\n",
              "    }\n",
              "\n",
              "    .dataframe thead th {\n",
              "        text-align: right;\n",
              "    }\n",
              "</style>\n",
              "<table border=\"1\" class=\"dataframe\">\n",
              "  <thead>\n",
              "    <tr style=\"text-align: right;\">\n",
              "      <th></th>\n",
              "      <th>gender</th>\n",
              "      <th>race_ethnicity</th>\n",
              "      <th>parental_level_of_education</th>\n",
              "      <th>lunch</th>\n",
              "      <th>math_score</th>\n",
              "      <th>reading_score</th>\n",
              "      <th>writing_score</th>\n",
              "      <th>total_score</th>\n",
              "      <th>test_preparation_course</th>\n",
              "      <th>admission_prospect</th>\n",
              "    </tr>\n",
              "  </thead>\n",
              "  <tbody>\n",
              "    <tr>\n",
              "      <th>gender</th>\n",
              "      <td>1.000000</td>\n",
              "      <td>0.001502</td>\n",
              "      <td>0.043934</td>\n",
              "      <td>-0.021372</td>\n",
              "      <td>-0.167982</td>\n",
              "      <td>0.244313</td>\n",
              "      <td>0.301225</td>\n",
              "      <td>0.130861</td>\n",
              "      <td>-0.006028</td>\n",
              "      <td>0.120457</td>\n",
              "    </tr>\n",
              "    <tr>\n",
              "      <th>race_ethnicity</th>\n",
              "      <td>0.001502</td>\n",
              "      <td>1.000000</td>\n",
              "      <td>0.095906</td>\n",
              "      <td>0.046563</td>\n",
              "      <td>0.216415</td>\n",
              "      <td>0.145253</td>\n",
              "      <td>0.165691</td>\n",
              "      <td>0.185168</td>\n",
              "      <td>0.017508</td>\n",
              "      <td>0.156194</td>\n",
              "    </tr>\n",
              "    <tr>\n",
              "      <th>parental_level_of_education</th>\n",
              "      <td>0.043934</td>\n",
              "      <td>0.095906</td>\n",
              "      <td>1.000000</td>\n",
              "      <td>-0.023259</td>\n",
              "      <td>0.159432</td>\n",
              "      <td>0.190908</td>\n",
              "      <td>0.236715</td>\n",
              "      <td>0.205785</td>\n",
              "      <td>-0.007143</td>\n",
              "      <td>0.158407</td>\n",
              "    </tr>\n",
              "    <tr>\n",
              "      <th>lunch</th>\n",
              "      <td>-0.021372</td>\n",
              "      <td>0.046563</td>\n",
              "      <td>-0.023259</td>\n",
              "      <td>1.000000</td>\n",
              "      <td>0.350877</td>\n",
              "      <td>0.229560</td>\n",
              "      <td>0.245769</td>\n",
              "      <td>0.290064</td>\n",
              "      <td>-0.017044</td>\n",
              "      <td>0.236991</td>\n",
              "    </tr>\n",
              "    <tr>\n",
              "      <th>math_score</th>\n",
              "      <td>-0.167982</td>\n",
              "      <td>0.216415</td>\n",
              "      <td>0.159432</td>\n",
              "      <td>0.350877</td>\n",
              "      <td>1.000000</td>\n",
              "      <td>0.817580</td>\n",
              "      <td>0.802642</td>\n",
              "      <td>0.918746</td>\n",
              "      <td>0.177702</td>\n",
              "      <td>0.800001</td>\n",
              "    </tr>\n",
              "    <tr>\n",
              "      <th>reading_score</th>\n",
              "      <td>0.244313</td>\n",
              "      <td>0.145253</td>\n",
              "      <td>0.190908</td>\n",
              "      <td>0.229560</td>\n",
              "      <td>0.817580</td>\n",
              "      <td>1.000000</td>\n",
              "      <td>0.954598</td>\n",
              "      <td>0.970331</td>\n",
              "      <td>0.241780</td>\n",
              "      <td>0.850426</td>\n",
              "    </tr>\n",
              "    <tr>\n",
              "      <th>writing_score</th>\n",
              "      <td>0.301225</td>\n",
              "      <td>0.165691</td>\n",
              "      <td>0.236715</td>\n",
              "      <td>0.245769</td>\n",
              "      <td>0.802642</td>\n",
              "      <td>0.954598</td>\n",
              "      <td>1.000000</td>\n",
              "      <td>0.965667</td>\n",
              "      <td>0.312946</td>\n",
              "      <td>0.846494</td>\n",
              "    </tr>\n",
              "    <tr>\n",
              "      <th>total_score</th>\n",
              "      <td>0.130861</td>\n",
              "      <td>0.185168</td>\n",
              "      <td>0.205785</td>\n",
              "      <td>0.290064</td>\n",
              "      <td>0.918746</td>\n",
              "      <td>0.970331</td>\n",
              "      <td>0.965667</td>\n",
              "      <td>1.000000</td>\n",
              "      <td>0.256710</td>\n",
              "      <td>0.874636</td>\n",
              "    </tr>\n",
              "    <tr>\n",
              "      <th>test_preparation_course</th>\n",
              "      <td>-0.006028</td>\n",
              "      <td>0.017508</td>\n",
              "      <td>-0.007143</td>\n",
              "      <td>-0.017044</td>\n",
              "      <td>0.177702</td>\n",
              "      <td>0.241780</td>\n",
              "      <td>0.312946</td>\n",
              "      <td>0.256710</td>\n",
              "      <td>1.000000</td>\n",
              "      <td>0.253439</td>\n",
              "    </tr>\n",
              "    <tr>\n",
              "      <th>admission_prospect</th>\n",
              "      <td>0.120457</td>\n",
              "      <td>0.156194</td>\n",
              "      <td>0.158407</td>\n",
              "      <td>0.236991</td>\n",
              "      <td>0.800001</td>\n",
              "      <td>0.850426</td>\n",
              "      <td>0.846494</td>\n",
              "      <td>0.874636</td>\n",
              "      <td>0.253439</td>\n",
              "      <td>1.000000</td>\n",
              "    </tr>\n",
              "  </tbody>\n",
              "</table>\n",
              "</div>\n",
              "      <button class=\"colab-df-convert\" onclick=\"convertToInteractive('df-bc5014cb-8528-4b1b-a06e-bdbcb3dcc89d')\"\n",
              "              title=\"Convert this dataframe to an interactive table.\"\n",
              "              style=\"display:none;\">\n",
              "        \n",
              "  <svg xmlns=\"http://www.w3.org/2000/svg\" height=\"24px\"viewBox=\"0 0 24 24\"\n",
              "       width=\"24px\">\n",
              "    <path d=\"M0 0h24v24H0V0z\" fill=\"none\"/>\n",
              "    <path d=\"M18.56 5.44l.94 2.06.94-2.06 2.06-.94-2.06-.94-.94-2.06-.94 2.06-2.06.94zm-11 1L8.5 8.5l.94-2.06 2.06-.94-2.06-.94L8.5 2.5l-.94 2.06-2.06.94zm10 10l.94 2.06.94-2.06 2.06-.94-2.06-.94-.94-2.06-.94 2.06-2.06.94z\"/><path d=\"M17.41 7.96l-1.37-1.37c-.4-.4-.92-.59-1.43-.59-.52 0-1.04.2-1.43.59L10.3 9.45l-7.72 7.72c-.78.78-.78 2.05 0 2.83L4 21.41c.39.39.9.59 1.41.59.51 0 1.02-.2 1.41-.59l7.78-7.78 2.81-2.81c.8-.78.8-2.07 0-2.86zM5.41 20L4 18.59l7.72-7.72 1.47 1.35L5.41 20z\"/>\n",
              "  </svg>\n",
              "      </button>\n",
              "      \n",
              "  <style>\n",
              "    .colab-df-container {\n",
              "      display:flex;\n",
              "      flex-wrap:wrap;\n",
              "      gap: 12px;\n",
              "    }\n",
              "\n",
              "    .colab-df-convert {\n",
              "      background-color: #E8F0FE;\n",
              "      border: none;\n",
              "      border-radius: 50%;\n",
              "      cursor: pointer;\n",
              "      display: none;\n",
              "      fill: #1967D2;\n",
              "      height: 32px;\n",
              "      padding: 0 0 0 0;\n",
              "      width: 32px;\n",
              "    }\n",
              "\n",
              "    .colab-df-convert:hover {\n",
              "      background-color: #E2EBFA;\n",
              "      box-shadow: 0px 1px 2px rgba(60, 64, 67, 0.3), 0px 1px 3px 1px rgba(60, 64, 67, 0.15);\n",
              "      fill: #174EA6;\n",
              "    }\n",
              "\n",
              "    [theme=dark] .colab-df-convert {\n",
              "      background-color: #3B4455;\n",
              "      fill: #D2E3FC;\n",
              "    }\n",
              "\n",
              "    [theme=dark] .colab-df-convert:hover {\n",
              "      background-color: #434B5C;\n",
              "      box-shadow: 0px 1px 3px 1px rgba(0, 0, 0, 0.15);\n",
              "      filter: drop-shadow(0px 1px 2px rgba(0, 0, 0, 0.3));\n",
              "      fill: #FFFFFF;\n",
              "    }\n",
              "  </style>\n",
              "\n",
              "      <script>\n",
              "        const buttonEl =\n",
              "          document.querySelector('#df-bc5014cb-8528-4b1b-a06e-bdbcb3dcc89d button.colab-df-convert');\n",
              "        buttonEl.style.display =\n",
              "          google.colab.kernel.accessAllowed ? 'block' : 'none';\n",
              "\n",
              "        async function convertToInteractive(key) {\n",
              "          const element = document.querySelector('#df-bc5014cb-8528-4b1b-a06e-bdbcb3dcc89d');\n",
              "          const dataTable =\n",
              "            await google.colab.kernel.invokeFunction('convertToInteractive',\n",
              "                                                     [key], {});\n",
              "          if (!dataTable) return;\n",
              "\n",
              "          const docLinkHtml = 'Like what you see? Visit the ' +\n",
              "            '<a target=\"_blank\" href=https://colab.research.google.com/notebooks/data_table.ipynb>data table notebook</a>'\n",
              "            + ' to learn more about interactive tables.';\n",
              "          element.innerHTML = '';\n",
              "          dataTable['output_type'] = 'display_data';\n",
              "          await google.colab.output.renderOutput(dataTable, element);\n",
              "          const docLink = document.createElement('div');\n",
              "          docLink.innerHTML = docLinkHtml;\n",
              "          element.appendChild(docLink);\n",
              "        }\n",
              "      </script>\n",
              "    </div>\n",
              "  </div>\n",
              "  "
            ],
            "text/plain": [
              "                               gender  ...  admission_prospect\n",
              "gender                       1.000000  ...            0.120457\n",
              "race_ethnicity               0.001502  ...            0.156194\n",
              "parental_level_of_education  0.043934  ...            0.158407\n",
              "lunch                       -0.021372  ...            0.236991\n",
              "math_score                  -0.167982  ...            0.800001\n",
              "reading_score                0.244313  ...            0.850426\n",
              "writing_score                0.301225  ...            0.846494\n",
              "total_score                  0.130861  ...            0.874636\n",
              "test_preparation_course     -0.006028  ...            0.253439\n",
              "admission_prospect           0.120457  ...            1.000000\n",
              "\n",
              "[10 rows x 10 columns]"
            ]
          },
          "metadata": {},
          "execution_count": 125
        }
      ]
    },
    {
      "cell_type": "code",
      "source": [
        "%matplotlib inline\n",
        "import matplotlib.pyplot as plt\n",
        "import seaborn as sns\n",
        "fig = plt.figure(figsize=(7, 7))\n",
        "sns.heatmap(\n",
        "    StudentPer.corr(), center=0, square=True, annot=True, fmt='.1g'\n",
        ")\n",
        "plt.title('Correlation Between All Features in the Dataset\\n')\n",
        "plt.savefig('corrheatmap.png')"
      ],
      "metadata": {
        "colab": {
          "base_uri": "https://localhost:8080/",
          "height": 527
        },
        "id": "-30qYwtjeksM",
        "outputId": "40d6d842-897a-4cb2-f77b-091541eb0f2a"
      },
      "execution_count": null,
      "outputs": [
        {
          "output_type": "display_data",
          "data": {
            "image/png": "[encoded data removed]",
            "text/plain": [
              "<Figure size 504x504 with 2 Axes>"
            ]
          },
          "metadata": {
            "needs_background": "light"
          }
        }
      ]
    },
    {
      "cell_type": "markdown",
      "source": [
        "Determined by the correlations between all features within our original dataset, we are able to see that the features that highly correlate with \"admission prospect\" are: \"math score\", \"reading score\", \"writing score\" and \"total score.\" Even if we would think that whether a student takes \"test preparation course\" or not will largely influence his/her admission result, our analysis of this dataset shows it is not the case for these students. Thus, our final model will only include the above-mentioned four features."
      ],
      "metadata": {
        "id": "Vw1fhS7xU32l"
      }
    },
    {
      "cell_type": "code",
      "source": [
        "StudentPer"
      ],
      "metadata": {
        "colab": {
          "base_uri": "https://localhost:8080/",
          "height": 487
        },
        "id": "I156AXSvTIIp",
        "outputId": "c60a2112-2270-416e-ad2a-9c3925a524bf"
      },
      "execution_count": null,
      "outputs": [
        {
          "output_type": "execute_result",
          "data": {
            "text/html": [
              "\n",
              "  <div id=\"df-51c60a55-e86d-4239-873d-1d90129092eb\">\n",
              "    <div class=\"colab-df-container\">\n",
              "      <div>\n",
              "<style scoped>\n",
              "    .dataframe tbody tr th:only-of-type {\n",
              "        vertical-align: middle;\n",
              "    }\n",
              "\n",
              "    .dataframe tbody tr th {\n",
              "        vertical-align: top;\n",
              "    }\n",
              "\n",
              "    .dataframe thead th {\n",
              "        text-align: right;\n",
              "    }\n",
              "</style>\n",
              "<table border=\"1\" class=\"dataframe\">\n",
              "  <thead>\n",
              "    <tr style=\"text-align: right;\">\n",
              "      <th></th>\n",
              "      <th>gender</th>\n",
              "      <th>race_ethnicity</th>\n",
              "      <th>parental_level_of_education</th>\n",
              "      <th>lunch</th>\n",
              "      <th>math_score</th>\n",
              "      <th>reading_score</th>\n",
              "      <th>writing_score</th>\n",
              "      <th>total_score</th>\n",
              "      <th>test_preparation_course</th>\n",
              "      <th>admission_prospect</th>\n",
              "    </tr>\n",
              "  </thead>\n",
              "  <tbody>\n",
              "    <tr>\n",
              "      <th>0</th>\n",
              "      <td>1</td>\n",
              "      <td>1</td>\n",
              "      <td>4</td>\n",
              "      <td>1</td>\n",
              "      <td>72</td>\n",
              "      <td>72</td>\n",
              "      <td>74</td>\n",
              "      <td>218</td>\n",
              "      <td>0</td>\n",
              "      <td>1</td>\n",
              "    </tr>\n",
              "    <tr>\n",
              "      <th>1</th>\n",
              "      <td>1</td>\n",
              "      <td>2</td>\n",
              "      <td>2</td>\n",
              "      <td>1</td>\n",
              "      <td>69</td>\n",
              "      <td>90</td>\n",
              "      <td>88</td>\n",
              "      <td>247</td>\n",
              "      <td>1</td>\n",
              "      <td>2</td>\n",
              "    </tr>\n",
              "    <tr>\n",
              "      <th>2</th>\n",
              "      <td>1</td>\n",
              "      <td>1</td>\n",
              "      <td>5</td>\n",
              "      <td>1</td>\n",
              "      <td>90</td>\n",
              "      <td>95</td>\n",
              "      <td>93</td>\n",
              "      <td>278</td>\n",
              "      <td>0</td>\n",
              "      <td>2</td>\n",
              "    </tr>\n",
              "    <tr>\n",
              "      <th>3</th>\n",
              "      <td>0</td>\n",
              "      <td>0</td>\n",
              "      <td>3</td>\n",
              "      <td>0</td>\n",
              "      <td>47</td>\n",
              "      <td>57</td>\n",
              "      <td>44</td>\n",
              "      <td>148</td>\n",
              "      <td>0</td>\n",
              "      <td>0</td>\n",
              "    </tr>\n",
              "    <tr>\n",
              "      <th>4</th>\n",
              "      <td>0</td>\n",
              "      <td>2</td>\n",
              "      <td>2</td>\n",
              "      <td>1</td>\n",
              "      <td>76</td>\n",
              "      <td>78</td>\n",
              "      <td>75</td>\n",
              "      <td>229</td>\n",
              "      <td>0</td>\n",
              "      <td>2</td>\n",
              "    </tr>\n",
              "    <tr>\n",
              "      <th>...</th>\n",
              "      <td>...</td>\n",
              "      <td>...</td>\n",
              "      <td>...</td>\n",
              "      <td>...</td>\n",
              "      <td>...</td>\n",
              "      <td>...</td>\n",
              "      <td>...</td>\n",
              "      <td>...</td>\n",
              "      <td>...</td>\n",
              "      <td>...</td>\n",
              "    </tr>\n",
              "    <tr>\n",
              "      <th>995</th>\n",
              "      <td>1</td>\n",
              "      <td>4</td>\n",
              "      <td>5</td>\n",
              "      <td>1</td>\n",
              "      <td>88</td>\n",
              "      <td>99</td>\n",
              "      <td>95</td>\n",
              "      <td>282</td>\n",
              "      <td>1</td>\n",
              "      <td>2</td>\n",
              "    </tr>\n",
              "    <tr>\n",
              "      <th>996</th>\n",
              "      <td>0</td>\n",
              "      <td>2</td>\n",
              "      <td>1</td>\n",
              "      <td>0</td>\n",
              "      <td>62</td>\n",
              "      <td>55</td>\n",
              "      <td>55</td>\n",
              "      <td>172</td>\n",
              "      <td>0</td>\n",
              "      <td>1</td>\n",
              "    </tr>\n",
              "    <tr>\n",
              "      <th>997</th>\n",
              "      <td>1</td>\n",
              "      <td>2</td>\n",
              "      <td>1</td>\n",
              "      <td>0</td>\n",
              "      <td>59</td>\n",
              "      <td>71</td>\n",
              "      <td>65</td>\n",
              "      <td>195</td>\n",
              "      <td>1</td>\n",
              "      <td>1</td>\n",
              "    </tr>\n",
              "    <tr>\n",
              "      <th>998</th>\n",
              "      <td>1</td>\n",
              "      <td>3</td>\n",
              "      <td>2</td>\n",
              "      <td>1</td>\n",
              "      <td>68</td>\n",
              "      <td>78</td>\n",
              "      <td>77</td>\n",
              "      <td>223</td>\n",
              "      <td>1</td>\n",
              "      <td>2</td>\n",
              "    </tr>\n",
              "    <tr>\n",
              "      <th>999</th>\n",
              "      <td>1</td>\n",
              "      <td>3</td>\n",
              "      <td>2</td>\n",
              "      <td>0</td>\n",
              "      <td>77</td>\n",
              "      <td>86</td>\n",
              "      <td>86</td>\n",
              "      <td>249</td>\n",
              "      <td>0</td>\n",
              "      <td>2</td>\n",
              "    </tr>\n",
              "  </tbody>\n",
              "</table>\n",
              "<p>1000 rows × 10 columns</p>\n",
              "</div>\n",
              "      <button class=\"colab-df-convert\" onclick=\"convertToInteractive('df-51c60a55-e86d-4239-873d-1d90129092eb')\"\n",
              "              title=\"Convert this dataframe to an interactive table.\"\n",
              "              style=\"display:none;\">\n",
              "        \n",
              "  <svg xmlns=\"http://www.w3.org/2000/svg\" height=\"24px\"viewBox=\"0 0 24 24\"\n",
              "       width=\"24px\">\n",
              "    <path d=\"M0 0h24v24H0V0z\" fill=\"none\"/>\n",
              "    <path d=\"M18.56 5.44l.94 2.06.94-2.06 2.06-.94-2.06-.94-.94-2.06-.94 2.06-2.06.94zm-11 1L8.5 8.5l.94-2.06 2.06-.94-2.06-.94L8.5 2.5l-.94 2.06-2.06.94zm10 10l.94 2.06.94-2.06 2.06-.94-2.06-.94-.94-2.06-.94 2.06-2.06.94z\"/><path d=\"M17.41 7.96l-1.37-1.37c-.4-.4-.92-.59-1.43-.59-.52 0-1.04.2-1.43.59L10.3 9.45l-7.72 7.72c-.78.78-.78 2.05 0 2.83L4 21.41c.39.39.9.59 1.41.59.51 0 1.02-.2 1.41-.59l7.78-7.78 2.81-2.81c.8-.78.8-2.07 0-2.86zM5.41 20L4 18.59l7.72-7.72 1.47 1.35L5.41 20z\"/>\n",
              "  </svg>\n",
              "      </button>\n",
              "      \n",
              "  <style>\n",
              "    .colab-df-container {\n",
              "      display:flex;\n",
              "      flex-wrap:wrap;\n",
              "      gap: 12px;\n",
              "    }\n",
              "\n",
              "    .colab-df-convert {\n",
              "      background-color: #E8F0FE;\n",
              "      border: none;\n",
              "      border-radius: 50%;\n",
              "      cursor: pointer;\n",
              "      display: none;\n",
              "      fill: #1967D2;\n",
              "      height: 32px;\n",
              "      padding: 0 0 0 0;\n",
              "      width: 32px;\n",
              "    }\n",
              "\n",
              "    .colab-df-convert:hover {\n",
              "      background-color: #E2EBFA;\n",
              "      box-shadow: 0px 1px 2px rgba(60, 64, 67, 0.3), 0px 1px 3px 1px rgba(60, 64, 67, 0.15);\n",
              "      fill: #174EA6;\n",
              "    }\n",
              "\n",
              "    [theme=dark] .colab-df-convert {\n",
              "      background-color: #3B4455;\n",
              "      fill: #D2E3FC;\n",
              "    }\n",
              "\n",
              "    [theme=dark] .colab-df-convert:hover {\n",
              "      background-color: #434B5C;\n",
              "      box-shadow: 0px 1px 3px 1px rgba(0, 0, 0, 0.15);\n",
              "      filter: drop-shadow(0px 1px 2px rgba(0, 0, 0, 0.3));\n",
              "      fill: #FFFFFF;\n",
              "    }\n",
              "  </style>\n",
              "\n",
              "      <script>\n",
              "        const buttonEl =\n",
              "          document.querySelector('#df-51c60a55-e86d-4239-873d-1d90129092eb button.colab-df-convert');\n",
              "        buttonEl.style.display =\n",
              "          google.colab.kernel.accessAllowed ? 'block' : 'none';\n",
              "\n",
              "        async function convertToInteractive(key) {\n",
              "          const element = document.querySelector('#df-51c60a55-e86d-4239-873d-1d90129092eb');\n",
              "          const dataTable =\n",
              "            await google.colab.kernel.invokeFunction('convertToInteractive',\n",
              "                                                     [key], {});\n",
              "          if (!dataTable) return;\n",
              "\n",
              "          const docLinkHtml = 'Like what you see? Visit the ' +\n",
              "            '<a target=\"_blank\" href=https://colab.research.google.com/notebooks/data_table.ipynb>data table notebook</a>'\n",
              "            + ' to learn more about interactive tables.';\n",
              "          element.innerHTML = '';\n",
              "          dataTable['output_type'] = 'display_data';\n",
              "          await google.colab.output.renderOutput(dataTable, element);\n",
              "          const docLink = document.createElement('div');\n",
              "          docLink.innerHTML = docLinkHtml;\n",
              "          element.appendChild(docLink);\n",
              "        }\n",
              "      </script>\n",
              "    </div>\n",
              "  </div>\n",
              "  "
            ],
            "text/plain": [
              "     gender  race_ethnicity  ...  test_preparation_course  admission_prospect\n",
              "0         1               1  ...                        0                   1\n",
              "1         1               2  ...                        1                   2\n",
              "2         1               1  ...                        0                   2\n",
              "3         0               0  ...                        0                   0\n",
              "4         0               2  ...                        0                   2\n",
              "..      ...             ...  ...                      ...                 ...\n",
              "995       1               4  ...                        1                   2\n",
              "996       0               2  ...                        0                   1\n",
              "997       1               2  ...                        1                   1\n",
              "998       1               3  ...                        1                   2\n",
              "999       1               3  ...                        0                   2\n",
              "\n",
              "[1000 rows x 10 columns]"
            ]
          },
          "metadata": {},
          "execution_count": 127
        }
      ]
    },
    {
      "cell_type": "markdown",
      "source": [
        "###2.2 Use those features to create a training set and test set.\n",
        "\n",
        "> 缩进块\n",
        "\n"
      ],
      "metadata": {
        "id": "oL3YnVvElSgb"
      }
    },
    {
      "cell_type": "code",
      "source": [
        "stu_y = StudentPer.pop('admission_prospect')\n",
        "stu_X = StudentPer.drop(columns=['gender', 'race_ethnicity', 'parental_level_of_education', 'lunch', 'test_preparation_course'])\n",
        "\n",
        "from sklearn.model_selection import train_test_split\n",
        "s_X_train, s_X_test, s_y_train, s_y_test = train_test_split(\n",
        "    stu_X, stu_y, test_size=0.5, random_state=0, stratify=stu_y\n",
        ")"
      ],
      "metadata": {
        "id": "F1_de38blRz0"
      },
      "execution_count": null,
      "outputs": []
    },
    {
      "cell_type": "code",
      "source": [
        "stu_y.value_counts(normalize=True)"
      ],
      "metadata": {
        "colab": {
          "base_uri": "https://localhost:8080/"
        },
        "id": "XfJNAWwYXi5S",
        "outputId": "aa9083a9-4d62-463c-f915-0ac2cbe57b4d"
      },
      "execution_count": null,
      "outputs": [
        {
          "output_type": "execute_result",
          "data": {
            "text/plain": [
              "1    0.475\n",
              "2    0.356\n",
              "0    0.169\n",
              "Name: admission_prospect, dtype: float64"
            ]
          },
          "metadata": {},
          "execution_count": 129
        }
      ]
    },
    {
      "cell_type": "code",
      "source": [
        "s_y_train.value_counts(normalize=True)"
      ],
      "metadata": {
        "colab": {
          "base_uri": "https://localhost:8080/"
        },
        "id": "Q94mjo18Xrtc",
        "outputId": "9278ac26-cb93-4daa-c8a4-322cfecad5d3"
      },
      "execution_count": null,
      "outputs": [
        {
          "output_type": "execute_result",
          "data": {
            "text/plain": [
              "1    0.476\n",
              "2    0.356\n",
              "0    0.168\n",
              "Name: admission_prospect, dtype: float64"
            ]
          },
          "metadata": {},
          "execution_count": 130
        }
      ]
    },
    {
      "cell_type": "code",
      "source": [
        "s_y_test.value_counts(normalize=True)\n",
        "#it can be seen above that the ratio of admission prospects (high, medium, low) has been successfully preserved in our test and training sets."
      ],
      "metadata": {
        "colab": {
          "base_uri": "https://localhost:8080/"
        },
        "id": "JOPWGcoZX39_",
        "outputId": "7a9ba149-1a8a-4758-a97b-dedb03e30de6"
      },
      "execution_count": null,
      "outputs": [
        {
          "output_type": "execute_result",
          "data": {
            "text/plain": [
              "1    0.474\n",
              "2    0.356\n",
              "0    0.170\n",
              "Name: admission_prospect, dtype: float64"
            ]
          },
          "metadata": {},
          "execution_count": 131
        }
      ]
    },
    {
      "cell_type": "markdown",
      "source": [
        "###2.3 Implement a Logistic Regression model using python libraries (eg. Scikit-Learn), train the model, and predict the students’ admission prospects from the test set."
      ],
      "metadata": {
        "id": "DBAExi67oc06"
      }
    },
    {
      "cell_type": "code",
      "source": [
        "from sklearn.linear_model import LogisticRegression\n",
        "Admission_lr = LogisticRegression(random_state=0, solver='lbfgs', multi_class='ovr')"
      ],
      "metadata": {
        "id": "H4TUKNdGYEJe"
      },
      "execution_count": null,
      "outputs": []
    },
    {
      "cell_type": "code",
      "source": [
        "Admission_lr.fit(s_X_train, s_y_train)"
      ],
      "metadata": {
        "colab": {
          "base_uri": "https://localhost:8080/"
        },
        "id": "cHQzRvDRm2_7",
        "outputId": "d44597bd-fda4-497c-dca2-d83bf26514d2"
      },
      "execution_count": null,
      "outputs": [
        {
          "output_type": "execute_result",
          "data": {
            "text/plain": [
              "LogisticRegression(multi_class='ovr', random_state=0)"
            ]
          },
          "metadata": {},
          "execution_count": 133
        }
      ]
    },
    {
      "cell_type": "markdown",
      "source": [
        "###2.4 Provide the confusion matrix and test the accuracy of the above model’s performance. How does the accuracy change if you use a different set of features for training and prediction?\n"
      ],
      "metadata": {
        "id": "2UEg_ZGXqNJg"
      }
    },
    {
      "cell_type": "code",
      "source": [
        "quality_preds = Admission_lr.predict(s_X_test)"
      ],
      "metadata": {
        "id": "54MQM02voA-z"
      },
      "execution_count": null,
      "outputs": []
    },
    {
      "cell_type": "code",
      "source": [
        "from google.colab import files\n",
        "files.upload()\n",
        "#here I uploaded 'classification.py' which can be found in https://github.com/stefmolin/ml-utils (provided by the author of our textbook)\n",
        "#it allows me to draw confusion matrix quickly"
      ],
      "metadata": {
        "colab": {
          "resources": {
            "http://localhost:8080/nbextensions/google.colab/files.js": {
              "data": "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",
              "ok": true,
              "headers": [
                [
                  "content-type",
                  "application/javascript"
                ]
              ],
              "status": 200,
              "status_text": ""
            }
          },
          "base_uri": "https://localhost:8080/",
          "height": 113
        },
        "id": "W3IIEAdlsQRq",
        "outputId": "9c70deac-6dc0-4ba7-9fc4-a9c349b5efab"
      },
      "execution_count": null,
      "outputs": [
        {
          "output_type": "display_data",
          "data": {
            "text/html": [
              "\n",
              "     <input type=\"file\" id=\"files-de990da7-9a00-49db-8110-1cac4795a4e2\" name=\"files[]\" multiple disabled\n",
              "        style=\"border:none\" />\n",
              "     <output id=\"result-de990da7-9a00-49db-8110-1cac4795a4e2\">\n",
              "      Upload widget is only available when the cell has been executed in the\n",
              "      current browser session. Please rerun this cell to enable.\n",
              "      </output>\n",
              "      <script src=\"/nbextensions/google.colab/files.js\"></script> "
            ],
            "text/plain": [
              "<IPython.core.display.HTML object>"
            ]
          },
          "metadata": {}
        },
        {
          "output_type": "stream",
          "name": "stdout",
          "text": [
            "Saving classification.py to classification.py\n"
          ]
        },
        {
          "output_type": "execute_result",
          "data": {
            "text/plain": [
              "{'classification.py': b'\"\"\"Utilities for evaluating classification models.\"\"\"\\n\\nimport matplotlib.pyplot as plt\\nimport numpy as np\\nimport seaborn as sns\\nfrom sklearn.metrics import (\\n    auc, average_precision_score, confusion_matrix,\\n    precision_recall_curve, r2_score, roc_curve\\n)\\n\\ndef confusion_matrix_visual(y_true, y_pred, class_labels, normalize=False,\\n                            flip=False, ax=None, title=None, **kwargs):\\n    \"\"\"\\n    Create a confusion matrix heatmap to evaluate classification.\\n\\n    Parameters:\\n        - y_test: The true values for y\\n        - preds: The predicted values for y\\n        - class_labels: What to label the classes.\\n        - normalize: Whether to plot the values as percentages.\\n        - flip: Whether to flip the confusion matrix. This is helpful to get\\n                TP in the top left corner and TN in the bottom right when dealing\\n                with binary classification with labels True and False.\\n        - ax: The matplotlib `Axes` object to plot on.\\n        - title: The title for the confusion matrix\\n        - kwargs: Additional keyword arguments for `seaborn.heatmap()`\\n\\n    Returns:\\n        A matplotlib `Axes` object.\\n    \"\"\"\\n    mat = confusion_matrix(y_true, y_pred)\\n    if normalize:\\n        fmt, mat = \\'.2%\\', mat / mat.sum()\\n    else:\\n        fmt = \\'d\\'\\n\\n    if flip:\\n        class_labels = class_labels[::-1]\\n        mat = np.flip(mat)\\n\\n    axes = sns.heatmap(\\n        mat.T, square=True, annot=True, fmt=fmt,\\n        cbar=True, cmap=plt.cm.Blues, ax=ax, **kwargs\\n    )\\n    axes.set(xlabel=\\'Actual\\', ylabel=\\'Model Prediction\\')\\n    tick_marks = np.arange(len(class_labels)) + 0.5\\n    axes.set_xticks(tick_marks)\\n    axes.set_xticklabels(class_labels)\\n    axes.set_yticks(tick_marks)\\n    axes.set_yticklabels(class_labels, rotation=0)\\n    axes.set_title(title or \\'Confusion Matrix\\')\\n    return axes\\n\\ndef find_threshold_roc(y_test, y_preds, *, fpr_below, tpr_above):\\n    \"\"\"\\n    Find the threshold to use with `predict_proba()` for classification\\n    based on the maximum acceptable FPR and the minimum acceptable TPR.\\n\\n    Parameters:\\n        - y_test: The actual labels.\\n        - y_preds: The predicted labels.\\n        - fpr_below: The maximum acceptable FPR.\\n        - tpr_above: The minimum acceptable TPR.\\n\\n    Returns:\\n        The thresholds that produce a classification meeting the criteria.\\n    \"\"\"\\n    fpr, tpr, thresholds = roc_curve(y_test, y_preds, drop_intermediate=False)\\n    return thresholds[(fpr <= fpr_below) & (tpr >= tpr_above)]\\n\\ndef find_threshold_pr(y_test, y_preds, *, min_precision, min_recall):\\n    \"\"\"\\n    Find the threshold to use with `predict_proba()` for classification\\n    based on the minimum acceptable precision and the minimum acceptable recall.\\n\\n    Parameters:\\n        - y_test: The actual labels.\\n        - y_preds: The predicted labels.\\n        - min_precision: The minimum acceptable precision.\\n        - min_recall: The minimum acceptable recall.\\n\\n    Returns:\\n        The thresholds that produce a classification meeting the criteria.\\n    \"\"\"\\n    precision, recall, thresholds = precision_recall_curve(y_test, y_preds)\\n    # precision and recall have one extra value at the end for plotting\\n    # but this needs to be removed in order to make a mask with the thresholds\\n    return thresholds[(precision[:-1] >= min_precision) & (recall[:-1] >= min_recall)]\\n\\ndef plot_roc(y_test, preds, ax=None):\\n    \"\"\"\\n    Plot ROC curve to evaluate classification.\\n\\n    Parameters:\\n        - y_test: The true values for y\\n        - preds: The predicted values for y as probabilities\\n        - ax: The `Axes` object to plot on\\n\\n    Returns:\\n        A matplotlib `Axes` object.\\n    \"\"\"\\n    if not ax:\\n        fig, ax = plt.subplots(1, 1)\\n\\n    fpr, tpr, thresholds = roc_curve(y_test, preds)\\n\\n    ax.plot([0, 1], [0, 1], color=\\'navy\\', lw=2, linestyle=\\'--\\', label=\\'baseline\\')\\n    ax.plot(fpr, tpr, color=\\'red\\', lw=2, label=\\'model\\')\\n\\n    ax.legend(loc=\\'lower right\\')\\n    ax.set_title(\\'ROC curve\\')\\n    ax.set_xlabel(\\'False Positive Rate (FPR)\\')\\n    ax.set_ylabel(\\'True Positive Rate (TPR)\\')\\n\\n    ax.annotate(f\\'AUC: {auc(fpr, tpr):.2}\\', xy=(0.5, 0), horizontalalignment=\\'center\\')\\n\\n    return ax\\n\\ndef plot_pr_curve(y_test, preds, positive_class=1, ax=None):\\n    \"\"\"\\n    Plot precision-recall curve to evaluate classification.\\n\\n    Parameters:\\n        - y_test: The true values for y\\n        - preds: The predicted values for y as probabilities\\n        - positive_class: The label for the positive class in the data\\n        - ax: The matplotlib `Axes` object to plot on\\n\\n    Returns:\\n        A matplotlib `Axes` object.\\n    \"\"\"\\n    precision, recall, thresholds = precision_recall_curve(y_test, preds)\\n\\n    if not ax:\\n        fig, ax = plt.subplots()\\n\\n    ax.axhline(\\n        sum(y_test == positive_class) / len(y_test),\\n        color=\\'navy\\', lw=2, linestyle=\\'--\\', label=\\'baseline\\'\\n    )\\n    ax.plot(recall, precision, color=\\'red\\', lw=2, label=\\'model\\')\\n\\n    ax.legend()\\n    ax.set_title(\\n        \\'Precision-recall curve\\\\n\\'\\n        f\"\"\"AP: {average_precision_score(\\n            y_test, preds, pos_label=positive_class\\n        ):.2} | \"\"\"\\n        f\\'AUC: {auc(recall, precision):.2}\\'\\n    )\\n    ax.set(xlabel=\\'Recall\\', ylabel=\\'Precision\\')\\n\\n    ax.set_xlim(-0.05, 1.05)\\n    ax.set_ylim(-0.05, 1.05)\\n\\n    return ax\\n\\ndef plot_multiclass_roc(y_test, preds, ax=None):\\n    \"\"\"\\n    Plot ROC curve to evaluate classification.\\n\\n    Parameters:\\n        - y_test: The true values for y\\n        - preds: The predicted values for y as probabilities\\n        - ax: The `Axes` object to plot on\\n\\n    Returns:\\n        A matplotlib `Axes` object.\\n    \"\"\"\\n    if not ax:\\n        fig, ax = plt.subplots(1, 1)\\n\\n    ax.plot([0, 1], [0, 1], color=\\'navy\\', lw=2, linestyle=\\'--\\', label=\\'baseline\\')\\n\\n    class_labels = np.sort(y_test.unique())\\n    for i, class_label in enumerate(class_labels):\\n        actuals = np.where(y_test == class_label, 1, 0)\\n        predicted_probabilities = preds[:,i]\\n\\n        fpr, tpr, thresholds = roc_curve(actuals, predicted_probabilities)\\n        auc_score = auc(fpr, tpr)\\n\\n        ax.plot(fpr, tpr, lw=2, label=f\"\"\"class {class_label}; AUC: {auc_score:.2}\"\"\")\\n\\n    ax.legend()\\n    ax.set_title(\\'Multiclass ROC curve\\')\\n    ax.set_xlabel(\\'False Positive Rate (FPR)\\')\\n    ax.set_ylabel(\\'True Positive Rate (TPR)\\')\\n\\n    return ax\\n\\ndef plot_multiclass_pr_curve(y_test, preds):\\n    \"\"\"\\n    Plot precision-recall curve to evaluate classification.\\n\\n    Parameters:\\n        - y_test: The true values for y\\n        - preds: The predicted values for y as probabilities\\n\\n    Returns:\\n        A matplotlib `Axes` object.\\n    \"\"\"\\n    class_labels = np.sort(y_test.unique())\\n\\n    row_count = np.ceil(len(class_labels) / 3).astype(int)\\n    fig, axes = plt.subplots(row_count, 3, figsize=(15, row_count*5))\\n    axes = axes.flatten()\\n\\n    if len(axes) > len(class_labels):\\n        for i in range(len(class_labels), len(axes)):\\n            fig.delaxes(axes[i])\\n\\n    for i, class_label in enumerate(class_labels):\\n        axes[i].axhline(sum(y_test == class_label)/len(y_test), color=\\'navy\\', lw=2, linestyle=\\'--\\', label=\\'baseline\\')\\n        actuals = np.where(y_test == class_label, 1, 0)\\n        predicted_probabilities = preds[:,i]\\n        precision, recall, thresholds = precision_recall_curve(actuals, predicted_probabilities)\\n        auc_score = auc(recall, precision)\\n        ap_score = average_precision_score(actuals, predicted_probabilities)\\n        axes[i].plot(recall, precision, lw=2, label=f\"\"\"AUC: {auc_score:.2}; AP : {ap_score:.2}\"\"\")\\n\\n        axes[i].legend()\\n        axes[i].set_title(f\\'Precision-recall curve: class {class_label}\\')\\n        axes[i].set(xlabel=\\'Recall\\', ylabel=\\'Precision\\')\\n\\n        axes[i].set_xlim(-0.05, 1.05)\\n        axes[i].set_ylim(-0.05, 1.05)\\n\\n    return axes\\n'}"
            ]
          },
          "metadata": {},
          "execution_count": 31
        }
      ]
    },
    {
      "cell_type": "code",
      "source": [
        "from classification import confusion_matrix_visual\n",
        "confusion_matrix_visual(s_y_test, quality_preds, ['low', 'medium', 'high'])\n",
        "plt.savefig('Confusion_Matrix.png')"
      ],
      "metadata": {
        "colab": {
          "base_uri": "https://localhost:8080/",
          "height": 294
        },
        "id": "Y0tfkxOctQWr",
        "outputId": "b1b1003f-edc0-4838-f475-9d60e473beaf"
      },
      "execution_count": null,
      "outputs": [
        {
          "output_type": "display_data",
          "data": {
            "image/png": "[encoded data removed]",
            "text/plain": [
              "<Figure size 432x288 with 2 Axes>"
            ]
          },
          "metadata": {
            "needs_background": "light"
          }
        }
      ]
    },
    {
      "cell_type": "code",
      "source": [
        "#Accuracy for test set \n",
        "Admission_lr.score(s_X_test, s_y_test)"
      ],
      "metadata": {
        "colab": {
          "base_uri": "https://localhost:8080/"
        },
        "id": "0_0umG5coqJ6",
        "outputId": "072a0307-db91-4d58-eb52-a72e0c2b2946"
      },
      "execution_count": null,
      "outputs": [
        {
          "output_type": "execute_result",
          "data": {
            "text/plain": [
              "0.982"
            ]
          },
          "metadata": {},
          "execution_count": 136
        }
      ]
    },
    {
      "cell_type": "code",
      "source": [
        "#Accuracy for training set\n",
        "Admission_lr.score(s_X_train, s_y_train)"
      ],
      "metadata": {
        "colab": {
          "base_uri": "https://localhost:8080/"
        },
        "id": "C6abXpQypCRS",
        "outputId": "30ea14ca-999a-4afb-8ac1-2a95798d3153"
      },
      "execution_count": null,
      "outputs": [
        {
          "output_type": "execute_result",
          "data": {
            "text/plain": [
              "0.976"
            ]
          },
          "metadata": {},
          "execution_count": 137
        }
      ]
    },
    {
      "cell_type": "code",
      "source": [
        "#error rate\n",
        "from sklearn.metrics import zero_one_loss\n",
        "zero_one_loss(s_y_test, quality_preds)"
      ],
      "metadata": {
        "colab": {
          "base_uri": "https://localhost:8080/"
        },
        "id": "wQ6c8LJ5pOZo",
        "outputId": "cd2884c4-4997-4377-97f9-44547e1f7396"
      },
      "execution_count": null,
      "outputs": [
        {
          "output_type": "execute_result",
          "data": {
            "text/plain": [
              "0.018000000000000016"
            ]
          },
          "metadata": {},
          "execution_count": 138
        }
      ]
    },
    {
      "cell_type": "code",
      "source": [
        "from sklearn.metrics import classification_report\n",
        "print(classification_report(s_y_test, quality_preds, target_names=['low','medium','high']))"
      ],
      "metadata": {
        "colab": {
          "base_uri": "https://localhost:8080/"
        },
        "id": "gSdqEQvRqG5S",
        "outputId": "5429d15b-c3f0-4b9f-db66-3f34fe90ec4d"
      },
      "execution_count": null,
      "outputs": [
        {
          "output_type": "stream",
          "name": "stdout",
          "text": [
            "              precision    recall  f1-score   support\n",
            "\n",
            "         low       0.99      0.95      0.97        85\n",
            "      medium       0.98      0.99      0.99       237\n",
            "        high       0.98      0.98      0.98       178\n",
            "\n",
            "    accuracy                           0.98       500\n",
            "   macro avg       0.98      0.98      0.98       500\n",
            "weighted avg       0.98      0.98      0.98       500\n",
            "\n"
          ]
        }
      ]
    },
    {
      "cell_type": "markdown",
      "source": [
        "How does the accuracy change if you use a different set of features for training and prediction?"
      ],
      "metadata": {
        "id": "NedYZo5ByiGN"
      }
    },
    {
      "cell_type": "code",
      "source": [
        "#we now include \"test preparation course\" as a feature in our model.\n",
        "stu_X2 = StudentPer.drop(columns=['gender', 'race_ethnicity', 'parental_level_of_education', 'lunch'])\n",
        "\n",
        "from sklearn.model_selection import train_test_split\n",
        "s_X2_train, s_X2_test, s_y2_train, s_y2_test = train_test_split(\n",
        "    stu_X2, stu_y, test_size=0.5, random_state=0, stratify=stu_y\n",
        ")"
      ],
      "metadata": {
        "id": "vJpoV-BHx0A4"
      },
      "execution_count": null,
      "outputs": []
    },
    {
      "cell_type": "code",
      "source": [
        "stu_y.value_counts(normalize=True)"
      ],
      "metadata": {
        "colab": {
          "base_uri": "https://localhost:8080/"
        },
        "id": "JmFgsUz1zBu0",
        "outputId": "87e51144-7a8f-44a3-cda4-be2f859e1a35"
      },
      "execution_count": null,
      "outputs": [
        {
          "output_type": "execute_result",
          "data": {
            "text/plain": [
              "1    0.475\n",
              "2    0.356\n",
              "0    0.169\n",
              "Name: admission_prospect, dtype: float64"
            ]
          },
          "metadata": {},
          "execution_count": 149
        }
      ]
    },
    {
      "cell_type": "code",
      "source": [
        "s_y2_train.value_counts(normalize=True)"
      ],
      "metadata": {
        "colab": {
          "base_uri": "https://localhost:8080/"
        },
        "id": "uVDpR6xIzaLo",
        "outputId": "ed47a0ed-d9f6-4980-eee0-702a94ff828e"
      },
      "execution_count": null,
      "outputs": [
        {
          "output_type": "execute_result",
          "data": {
            "text/plain": [
              "1    0.476\n",
              "2    0.356\n",
              "0    0.168\n",
              "Name: admission_prospect, dtype: float64"
            ]
          },
          "metadata": {},
          "execution_count": 150
        }
      ]
    },
    {
      "cell_type": "code",
      "source": [
        "s_y2_test.value_counts(normalize=True)"
      ],
      "metadata": {
        "colab": {
          "base_uri": "https://localhost:8080/"
        },
        "id": "KAbOS4pGzfn5",
        "outputId": "51c78b70-617c-4929-8eda-97bf893049b8"
      },
      "execution_count": null,
      "outputs": [
        {
          "output_type": "execute_result",
          "data": {
            "text/plain": [
              "1    0.474\n",
              "2    0.356\n",
              "0    0.170\n",
              "Name: admission_prospect, dtype: float64"
            ]
          },
          "metadata": {},
          "execution_count": 151
        }
      ]
    },
    {
      "cell_type": "code",
      "source": [
        "Admission_lr2 = LogisticRegression(random_state=0, solver='lbfgs', multi_class='ovr')"
      ],
      "metadata": {
        "id": "4XGY74p-zgZ3"
      },
      "execution_count": null,
      "outputs": []
    },
    {
      "cell_type": "code",
      "source": [
        "Admission_lr2.fit(s_X2_train, s_y2_train)"
      ],
      "metadata": {
        "colab": {
          "base_uri": "https://localhost:8080/"
        },
        "id": "v1We52tszxBX",
        "outputId": "f2e2f2bb-e798-4516-b0ab-dc5e6de7f517"
      },
      "execution_count": null,
      "outputs": [
        {
          "output_type": "execute_result",
          "data": {
            "text/plain": [
              "LogisticRegression(multi_class='ovr', random_state=0)"
            ]
          },
          "metadata": {},
          "execution_count": 153
        }
      ]
    },
    {
      "cell_type": "code",
      "source": [
        "quality_preds2 = Admission_lr2.predict(s_X2_test)"
      ],
      "metadata": {
        "id": "jeXJur9jz4XJ"
      },
      "execution_count": null,
      "outputs": []
    },
    {
      "cell_type": "code",
      "source": [
        "confusion_matrix_visual(s_y2_test, quality_preds2, ['low', 'medium', 'high'])\n",
        "plt.savefig('Confusion_Matrix2.png')"
      ],
      "metadata": {
        "colab": {
          "base_uri": "https://localhost:8080/",
          "height": 294
        },
        "id": "acZbUPnWz_Yu",
        "outputId": "da6bf6d5-f142-45e8-82a0-47e34e4bbfeb"
      },
      "execution_count": null,
      "outputs": [
        {
          "output_type": "display_data",
          "data": {
            "image/png": "[encoded data removed]",
            "text/plain": [
              "<Figure size 432x288 with 2 Axes>"
            ]
          },
          "metadata": {
            "needs_background": "light"
          }
        }
      ]
    },
    {
      "cell_type": "code",
      "source": [
        "#Accuracy for test set \n",
        "Admission_lr2.score(s_X2_test, s_y2_test)"
      ],
      "metadata": {
        "colab": {
          "base_uri": "https://localhost:8080/"
        },
        "id": "VLsbaLSe0D9L",
        "outputId": "0ff18d5c-d5f9-4664-8dbe-abae575da1a8"
      },
      "execution_count": null,
      "outputs": [
        {
          "output_type": "execute_result",
          "data": {
            "text/plain": [
              "0.98"
            ]
          },
          "metadata": {},
          "execution_count": 156
        }
      ]
    },
    {
      "cell_type": "code",
      "source": [
        "#Accuracy for training set\n",
        "Admission_lr2.score(s_X2_train, s_y2_train)"
      ],
      "metadata": {
        "colab": {
          "base_uri": "https://localhost:8080/"
        },
        "id": "gpgUGoxs0P6n",
        "outputId": "15180f86-dce9-4d45-d9e8-2b88f972772f"
      },
      "execution_count": null,
      "outputs": [
        {
          "output_type": "execute_result",
          "data": {
            "text/plain": [
              "0.972"
            ]
          },
          "metadata": {},
          "execution_count": 157
        }
      ]
    },
    {
      "cell_type": "code",
      "source": [
        "#error rate\n",
        "zero_one_loss(s_y2_test, quality_preds2)"
      ],
      "metadata": {
        "colab": {
          "base_uri": "https://localhost:8080/"
        },
        "id": "3H2-vWXF0Vhl",
        "outputId": "eeecab6d-0fd1-49f2-c78f-16e37aeacb60"
      },
      "execution_count": null,
      "outputs": [
        {
          "output_type": "execute_result",
          "data": {
            "text/plain": [
              "0.020000000000000018"
            ]
          },
          "metadata": {},
          "execution_count": 158
        }
      ]
    },
    {
      "cell_type": "code",
      "source": [
        "print(classification_report(s_y2_test, quality_preds2, target_names=['low','medium','high']))"
      ],
      "metadata": {
        "colab": {
          "base_uri": "https://localhost:8080/"
        },
        "id": "mlJEATvZ0a06",
        "outputId": "50899329-3a69-44b1-d3e7-fed1a7c16cf2"
      },
      "execution_count": null,
      "outputs": [
        {
          "output_type": "stream",
          "name": "stdout",
          "text": [
            "              precision    recall  f1-score   support\n",
            "\n",
            "         low       0.99      0.95      0.97        85\n",
            "      medium       0.98      0.99      0.99       237\n",
            "        high       0.97      0.98      0.98       178\n",
            "\n",
            "    accuracy                           0.98       500\n",
            "   macro avg       0.98      0.97      0.98       500\n",
            "weighted avg       0.98      0.98      0.98       500\n",
            "\n"
          ]
        }
      ]
    },
    {
      "cell_type": "markdown",
      "source": [
        "Answer: By now changing the features selected for the logistic regression model, the accuracy of the model in fact negatively changes."
      ],
      "metadata": {
        "id": "lHhvwMaN0tEh"
      }
    },
    {
      "cell_type": "code",
      "source": [
        "#to further validate our finding, I now include both \"test_preparation_course\" and \"lunch\" as a feature in our model.\n",
        "stu_X3 = StudentPer.drop(columns=['gender', 'race_ethnicity', 'parental_level_of_education'])\n",
        "\n",
        "from sklearn.model_selection import train_test_split\n",
        "s_X3_train, s_X3_test, s_y3_train, s_y3_test = train_test_split(\n",
        "    stu_X3, stu_y, test_size=0.5, random_state=0, stratify=stu_y\n",
        ")"
      ],
      "metadata": {
        "id": "O3jkH7zrFIN9"
      },
      "execution_count": null,
      "outputs": []
    },
    {
      "cell_type": "code",
      "source": [
        "stu_y.value_counts(normalize=True)"
      ],
      "metadata": {
        "colab": {
          "base_uri": "https://localhost:8080/"
        },
        "id": "7aEOs6moF10n",
        "outputId": "32d9248e-1e3c-434a-ca8a-85dfa0f1386a"
      },
      "execution_count": null,
      "outputs": [
        {
          "output_type": "execute_result",
          "data": {
            "text/plain": [
              "1    0.475\n",
              "2    0.356\n",
              "0    0.169\n",
              "Name: admission_prospect, dtype: float64"
            ]
          },
          "metadata": {},
          "execution_count": 169
        }
      ]
    },
    {
      "cell_type": "code",
      "source": [
        "s_y3_train.value_counts(normalize=True)"
      ],
      "metadata": {
        "colab": {
          "base_uri": "https://localhost:8080/"
        },
        "id": "jM60ivNWF_wg",
        "outputId": "0ddae3c7-0fc6-4f9e-f605-211329ce3d8a"
      },
      "execution_count": null,
      "outputs": [
        {
          "output_type": "execute_result",
          "data": {
            "text/plain": [
              "1    0.476\n",
              "2    0.356\n",
              "0    0.168\n",
              "Name: admission_prospect, dtype: float64"
            ]
          },
          "metadata": {},
          "execution_count": 170
        }
      ]
    },
    {
      "cell_type": "code",
      "source": [
        "s_y3_test.value_counts(normalize=True)"
      ],
      "metadata": {
        "colab": {
          "base_uri": "https://localhost:8080/"
        },
        "id": "lt9ExHpbGCU1",
        "outputId": "726ba5cd-d662-4aea-e2ed-e533fd938e91"
      },
      "execution_count": null,
      "outputs": [
        {
          "output_type": "execute_result",
          "data": {
            "text/plain": [
              "1    0.474\n",
              "2    0.356\n",
              "0    0.170\n",
              "Name: admission_prospect, dtype: float64"
            ]
          },
          "metadata": {},
          "execution_count": 171
        }
      ]
    },
    {
      "cell_type": "code",
      "source": [
        "Admission_lr3 = LogisticRegression(random_state=0, solver='lbfgs', multi_class='ovr', max_iter=110)"
      ],
      "metadata": {
        "id": "d8Dn_yT_GFMX"
      },
      "execution_count": null,
      "outputs": []
    },
    {
      "cell_type": "code",
      "source": [
        "Admission_lr3.fit(s_X3_train, s_y3_train)"
      ],
      "metadata": {
        "colab": {
          "base_uri": "https://localhost:8080/"
        },
        "id": "0aI7TS67GIoF",
        "outputId": "58ce8be8-bec7-4af9-fa54-6a0b451f8a25"
      },
      "execution_count": null,
      "outputs": [
        {
          "output_type": "execute_result",
          "data": {
            "text/plain": [
              "LogisticRegression(max_iter=110, multi_class='ovr', random_state=0)"
            ]
          },
          "metadata": {},
          "execution_count": 173
        }
      ]
    },
    {
      "cell_type": "code",
      "source": [
        "quality_preds3 = Admission_lr3.predict(s_X3_test)"
      ],
      "metadata": {
        "id": "AooZkURdGMb-"
      },
      "execution_count": null,
      "outputs": []
    },
    {
      "cell_type": "code",
      "source": [
        "confusion_matrix_visual(s_y3_test, quality_preds3, ['low', 'medium', 'high'])\n",
        "plt.savefig('Confusion_Matrix3.png')"
      ],
      "metadata": {
        "colab": {
          "base_uri": "https://localhost:8080/",
          "height": 294
        },
        "id": "KPJuXYCHGP7V",
        "outputId": "1b353d80-514c-447a-c019-36fe698bf9a7"
      },
      "execution_count": null,
      "outputs": [
        {
          "output_type": "display_data",
          "data": {
            "image/png": "[encoded data removed]",
            "text/plain": [
              "<Figure size 432x288 with 2 Axes>"
            ]
          },
          "metadata": {
            "needs_background": "light"
          }
        }
      ]
    },
    {
      "cell_type": "code",
      "source": [
        "#Accuracy for test set \n",
        "Admission_lr3.score(s_X3_test, s_y3_test)"
      ],
      "metadata": {
        "colab": {
          "base_uri": "https://localhost:8080/"
        },
        "id": "MLXQ7nghGUfT",
        "outputId": "5ad6219b-3cce-4318-d0a1-b3e86ef6a674"
      },
      "execution_count": null,
      "outputs": [
        {
          "output_type": "execute_result",
          "data": {
            "text/plain": [
              "0.978"
            ]
          },
          "metadata": {},
          "execution_count": 176
        }
      ]
    },
    {
      "cell_type": "code",
      "source": [
        "#Accuracy for training set\n",
        "Admission_lr3.score(s_X3_train, s_y3_train)"
      ],
      "metadata": {
        "colab": {
          "base_uri": "https://localhost:8080/"
        },
        "id": "XX85CUm1GgD9",
        "outputId": "617b316b-d48f-4149-8d21-87105602f4a6"
      },
      "execution_count": null,
      "outputs": [
        {
          "output_type": "execute_result",
          "data": {
            "text/plain": [
              "0.97"
            ]
          },
          "metadata": {},
          "execution_count": 177
        }
      ]
    },
    {
      "cell_type": "code",
      "source": [
        "#error rate\n",
        "zero_one_loss(s_y3_test, quality_preds3)"
      ],
      "metadata": {
        "colab": {
          "base_uri": "https://localhost:8080/"
        },
        "id": "3rydPpP_GoJj",
        "outputId": "ca188576-9871-43d2-adce-f77dca6a4edc"
      },
      "execution_count": null,
      "outputs": [
        {
          "output_type": "execute_result",
          "data": {
            "text/plain": [
              "0.02200000000000002"
            ]
          },
          "metadata": {},
          "execution_count": 178
        }
      ]
    },
    {
      "cell_type": "code",
      "source": [
        "print(classification_report(s_y3_test, quality_preds3, target_names=['low','medium','high']))"
      ],
      "metadata": {
        "colab": {
          "base_uri": "https://localhost:8080/"
        },
        "id": "8tCNWzspGqm1",
        "outputId": "939b2278-6e8f-4089-deee-dd88455c1e21"
      },
      "execution_count": null,
      "outputs": [
        {
          "output_type": "stream",
          "name": "stdout",
          "text": [
            "              precision    recall  f1-score   support\n",
            "\n",
            "         low       0.99      0.95      0.97        85\n",
            "      medium       0.98      0.98      0.98       237\n",
            "        high       0.97      0.98      0.97       178\n",
            "\n",
            "    accuracy                           0.98       500\n",
            "   macro avg       0.98      0.97      0.98       500\n",
            "weighted avg       0.98      0.98      0.98       500\n",
            "\n"
          ]
        }
      ]
    }
  ]
}