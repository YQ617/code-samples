{
  "nbformat": 4,
  "nbformat_minor": 0,
  "metadata": {
    "colab": {
      "name": "Homework 3 - Yanfei Qin.ipynb",
      "provenance": [],
      "collapsed_sections": []
    },
    "kernelspec": {
      "name": "python3",
      "display_name": "Python 3"
    },
    "language_info": {
      "name": "python"
    }
  },
  "cells": [
    {
      "cell_type": "markdown",
      "source": [
        "# HOMEWORK 3\n",
        "### Name: Yanfei Qin\n",
        "### PennKey: yfqin\n",
        "### PennID: 51386260"
      ],
      "metadata": {
        "id": "8oYU-Lb04S4y"
      }
    },
    {
      "cell_type": "markdown",
      "source": [
        "##Section 1: Data Preprocessing"
      ],
      "metadata": {
        "id": "9ckikv6A4e6P"
      }
    },
    {
      "cell_type": "code",
      "execution_count": 1,
      "metadata": {
        "colab": {
          "resources": {
            "http://localhost:8080/nbextensions/google.colab/files.js": {
              "data": "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",
              "ok": true,
              "headers": [
                [
                  "content-type",
                  "application/javascript"
                ]
              ],
              "status": 200,
              "status_text": ""
            }
          },
          "base_uri": "https://localhost:8080/",
          "height": 110
        },
        "id": "6MmK-B0F4Q8P",
        "outputId": "8a35627a-9bff-4b99-b8a6-ee536c3e7566"
      },
      "outputs": [
        {
          "output_type": "display_data",
          "data": {
            "text/plain": [
              "<IPython.core.display.HTML object>"
            ],
            "text/html": [
              "\n",
              "     <input type=\"file\" id=\"files-eff637d3-b52f-4f7d-a9d6-1dcc9905e706\" name=\"files[]\" multiple disabled\n",
              "        style=\"border:none\" />\n",
              "     <output id=\"result-eff637d3-b52f-4f7d-a9d6-1dcc9905e706\">\n",
              "      Upload widget is only available when the cell has been executed in the\n",
              "      current browser session. Please rerun this cell to enable.\n",
              "      </output>\n",
              "      <script src=\"/nbextensions/google.colab/files.js\"></script> "
            ]
          },
          "metadata": {}
        },
        {
          "output_type": "stream",
          "name": "stdout",
          "text": [
            "Saving Predicting Student Performance.csv to Predicting Student Performance.csv\n"
          ]
        },
        {
          "output_type": "execute_result",
          "data": {
            "text/plain": [
              "{'Predicting Student Performance.csv': b'\\xef\\xbb\\xbfSTUDENT ID,1,2,3,4,5,6,7,8,9,10,11,12,13,14,15,16,17,18,19,20,21,22,23,24,25,26,27,28,29,30,COURSE ID,GRADE\\r\\nSTUDENT1,2,2,3,3,1,2,2,1,1,1,1,2,3,1,2,5,3,2,2,1,1,1,1,1,3,2,1,2,1,1,1,1\\r\\nSTUDENT2,2,2,3,3,1,2,2,1,1,1,2,3,2,1,2,1,2,2,2,1,1,1,1,1,3,2,3,2,2,3,1,1\\r\\nSTUDENT3,2,2,2,3,2,2,2,2,4,2,2,2,2,1,2,1,2,1,2,1,1,1,1,1,2,2,1,1,2,2,1,1\\r\\nSTUDENT4,1,1,1,3,1,2,1,2,1,2,1,2,5,1,2,1,3,1,2,1,1,1,1,2,3,2,2,1,3,2,1,1\\r\\nSTUDENT5,2,2,1,3,2,2,1,3,1,4,3,3,2,1,2,4,2,1,1,1,1,1,2,1,2,2,2,1,2,2,1,1\\r\\nSTUDENT6,2,2,2,3,2,2,2,2,1,1,3,3,2,1,2,3,1,1,2,1,1,1,1,1,1,2,1,2,4,4,1,2\\r\\nSTUDENT7,1,2,2,4,2,2,2,1,1,3,1,3,1,1,2,4,2,2,2,2,1,2,1,1,3,3,3,3,4,4,1,5\\r\\nSTUDENT8,1,1,2,3,1,1,1,2,2,3,4,3,1,1,4,3,1,2,2,1,1,1,3,1,3,2,2,1,1,1,1,2\\r\\nSTUDENT9,2,1,3,3,2,1,1,1,1,3,2,4,2,1,2,4,1,2,2,1,1,1,1,1,3,2,2,2,4,3,1,5\\r\\nSTUDENT10,2,1,2,3,2,2,1,3,4,2,1,2,3,1,2,3,2,2,2,1,1,2,1,1,2,2,2,2,1,2,1,0\\r\\nSTUDENT11,1,1,1,3,2,2,2,3,2,3,3,4,2,1,3,2,1,1,1,1,1,2,1,1,2,2,2,2,1,1,1,2\\r\\nSTUDENT12,1,1,1,4,1,1,2,4,2,3,5,5,1,1,3,2,3,3,3,1,3,1,3,2,3,1,3,3,4,3,1,0\\r\\nSTUDENT13,1,1,1,4,2,2,2,1,1,1,3,5,4,2,2,2,3,2,2,1,1,1,1,1,2,2,2,3,4,2,1,0\\r\\nSTUDENT14,2,1,2,5,2,2,2,1,1,1,2,2,2,1,2,3,1,2,1,1,1,2,1,1,3,2,3,3,4,2,1,1\\r\\nSTUDENT15,3,2,2,4,1,1,2,3,4,2,3,1,2,1,4,1,2,2,2,1,1,1,1,1,2,3,2,1,4,4,1,2\\r\\nSTUDENT16,2,2,2,3,2,2,2,1,1,2,4,4,2,1,3,1,2,2,2,2,3,2,1,1,3,2,2,3,2,2,1,2\\r\\nSTUDENT17,1,1,2,5,2,1,2,1,1,1,2,2,4,1,2,3,2,2,2,1,1,2,1,1,3,2,3,3,4,3,1,1\\r\\nSTUDENT18,2,2,2,3,2,2,2,1,1,1,2,2,2,1,2,1,2,2,2,2,1,2,1,1,2,2,2,2,2,2,1,2\\r\\nSTUDENT19,1,1,2,4,2,2,2,3,1,1,2,2,5,1,2,5,5,3,2,2,1,2,1,1,3,1,3,3,3,3,1,2\\r\\nSTUDENT20,1,2,1,3,2,2,1,2,2,2,3,3,3,1,2,4,4,2,2,1,2,1,1,1,3,2,2,3,2,3,1,3\\r\\nSTUDENT21,1,2,2,5,1,2,1,1,4,2,3,3,3,2,2,3,4,2,2,2,1,1,1,2,3,1,2,3,4,4,1,1\\r\\nSTUDENT22,1,2,2,5,2,2,1,1,4,2,2,2,4,1,2,3,3,2,2,1,1,1,1,1,3,1,3,3,3,3,1,1\\r\\nSTUDENT23,2,2,2,3,1,2,1,1,1,1,1,1,4,2,2,4,3,3,3,1,1,1,1,2,3,1,2,3,3,3,1,3\\r\\nSTUDENT24,3,2,2,2,1,1,2,5,1,1,1,4,3,1,2,1,3,2,3,1,1,2,1,1,3,2,3,3,3,3,1,1\\r\\nSTUDENT25,2,2,2,3,2,2,2,2,1,1,3,1,3,1,2,4,1,2,2,1,1,1,1,1,2,1,3,2,4,4,1,2\\r\\nSTUDENT26,2,2,2,3,2,2,1,1,1,2,1,4,3,1,2,4,2,2,2,1,1,1,1,1,2,1,3,2,1,2,1,3\\r\\nSTUDENT27,2,2,2,3,2,1,1,1,1,1,4,4,4,1,2,4,2,3,2,1,1,1,1,1,3,3,3,2,2,1,1,1\\r\\nSTUDENT28,1,2,1,3,1,2,2,1,1,1,1,1,4,1,2,3,3,2,2,1,1,2,1,1,3,1,2,1,2,1,1,1\\r\\nSTUDENT29,3,2,2,3,2,2,1,1,4,2,2,2,4,1,2,1,2,2,2,1,1,1,1,1,3,2,3,3,5,4,1,3\\r\\nSTUDENT30,2,2,3,4,2,2,2,1,4,2,3,3,2,1,4,1,2,2,2,1,1,1,1,1,3,2,2,2,4,3,1,5\\r\\nSTUDENT31,2,2,2,5,1,1,1,1,1,2,1,1,5,1,2,4,2,2,2,1,1,1,2,1,2,3,3,3,5,4,1,5\\r\\nSTUDENT32,3,2,2,3,1,2,2,1,1,2,1,2,4,1,2,3,2,2,3,1,1,1,1,1,3,3,2,3,4,3,1,3\\r\\nSTUDENT33,2,1,2,3,2,2,2,2,1,1,2,2,2,1,2,1,2,2,2,1,1,2,1,1,2,2,2,1,2,3,1,1\\r\\nSTUDENT34,2,1,2,3,1,2,1,1,1,1,1,2,5,1,2,3,2,1,2,1,1,1,1,1,1,3,2,2,2,3,1,2\\r\\nSTUDENT35,1,2,1,3,2,2,1,2,1,1,3,3,3,1,2,4,2,1,1,1,1,2,1,1,2,2,3,1,4,1,1,2\\r\\nSTUDENT36,1,2,1,4,2,2,2,3,1,1,1,2,5,1,2,3,2,2,2,1,1,2,1,1,2,1,3,1,1,1,1,1\\r\\nSTUDENT37,2,2,3,4,1,2,1,3,1,1,1,1,2,2,4,3,1,1,3,1,1,2,2,1,2,1,2,1,4,3,1,2\\r\\nSTUDENT38,2,2,2,3,1,1,1,2,2,3,3,3,1,1,2,3,2,2,2,1,1,1,1,1,3,2,3,3,5,4,1,1\\r\\nSTUDENT39,2,2,2,5,2,2,2,1,1,1,3,3,1,1,2,4,3,2,2,1,1,1,2,1,2,2,2,2,4,3,1,2\\r\\nSTUDENT40,2,1,2,3,2,2,1,1,1,2,1,3,1,1,2,4,1,2,1,1,1,1,1,1,2,2,2,3,2,1,1,1\\r\\nSTUDENT41,1,2,1,3,2,2,2,2,1,1,2,3,1,1,2,5,1,2,2,1,1,1,1,1,3,1,2,1,2,3,1,1\\r\\nSTUDENT42,3,2,2,3,1,2,2,2,1,2,1,4,2,1,2,2,3,2,2,1,1,2,1,1,3,2,2,3,4,3,1,1\\r\\nSTUDENT43,2,2,2,3,2,1,2,1,4,2,4,4,2,1,3,1,2,2,1,1,1,1,1,1,2,1,3,1,2,3,1,1\\r\\nSTUDENT44,1,2,2,3,2,2,1,1,1,1,2,3,3,1,2,1,2,2,2,1,1,2,1,1,3,1,3,3,3,2,1,4\\r\\nSTUDENT45,2,2,3,3,2,2,1,1,1,1,1,3,2,1,2,5,2,2,2,1,1,1,2,1,3,2,2,1,4,3,1,1\\r\\nSTUDENT46,1,2,2,3,2,2,1,4,1,1,2,3,5,1,2,4,3,2,2,1,1,1,1,1,2,2,2,1,4,3,1,3\\r\\nSTUDENT47,2,2,2,3,2,2,1,1,1,1,1,2,3,1,2,5,2,2,2,1,1,1,1,1,2,2,3,1,4,2,1,5\\r\\nSTUDENT48,2,2,2,3,2,2,1,1,1,2,4,3,1,1,5,4,2,2,2,1,1,2,1,1,2,1,3,2,5,3,1,3\\r\\nSTUDENT49,1,2,2,3,2,1,1,1,1,2,3,3,3,1,2,2,1,1,2,1,1,1,1,1,3,2,3,2,2,2,1,1\\r\\nSTUDENT50,1,2,1,4,2,2,2,2,4,1,2,3,2,1,2,4,2,2,2,1,1,1,2,1,2,2,2,1,3,2,1,2\\r\\nSTUDENT51,2,2,2,3,2,2,1,2,2,1,1,1,2,1,2,3,2,2,2,1,1,2,1,1,2,2,2,3,3,3,1,1\\r\\nSTUDENT52,2,1,3,3,1,1,2,1,1,1,1,2,5,1,2,1,1,2,2,1,1,2,1,1,2,3,3,1,3,3,1,4\\r\\nSTUDENT53,2,1,2,3,1,2,2,2,1,1,1,3,4,1,2,1,3,1,1,1,1,1,1,2,2,2,2,1,4,2,1,1\\r\\nSTUDENT54,2,1,2,3,2,1,2,2,1,1,1,1,5,1,2,1,1,2,2,1,1,2,1,1,2,2,2,2,3,2,1,5\\r\\nSTUDENT55,2,2,2,3,2,2,2,3,4,2,1,4,2,1,4,2,2,1,1,1,1,1,1,2,3,1,3,1,5,3,1,3\\r\\nSTUDENT56,3,2,2,3,1,2,1,4,1,2,1,1,5,3,2,1,1,2,2,1,1,1,3,3,1,3,3,3,5,4,1,3\\r\\nSTUDENT57,2,2,2,3,2,1,2,1,1,1,1,3,5,1,2,4,4,2,3,1,1,1,1,2,3,2,3,3,5,4,1,5\\r\\nSTUDENT58,2,2,2,3,1,1,2,1,1,1,4,2,3,1,3,3,2,3,2,1,1,1,1,1,3,2,3,1,5,4,1,4\\r\\nSTUDENT59,3,2,2,3,2,2,1,3,1,1,1,3,5,2,2,1,3,2,2,1,1,1,1,1,3,2,2,2,5,4,1,3\\r\\nSTUDENT60,2,2,2,3,2,1,1,1,1,1,4,4,3,1,2,3,3,2,2,1,1,1,1,1,3,3,2,2,4,3,1,5\\r\\nSTUDENT61,2,1,2,3,2,2,2,5,2,1,6,1,3,1,2,3,1,2,2,1,1,1,1,1,1,3,3,1,2,1,1,2\\r\\nSTUDENT62,1,2,3,3,2,1,2,2,1,2,1,3,4,1,2,3,3,1,2,1,3,2,1,1,3,2,2,2,4,4,1,5\\r\\nSTUDENT63,2,2,2,3,2,2,2,1,4,2,2,3,2,1,2,4,3,2,2,1,1,1,1,1,2,3,3,2,5,4,1,3\\r\\nSTUDENT64,2,2,2,4,2,2,1,2,1,1,1,3,3,1,2,1,1,1,2,1,1,1,3,1,2,2,2,1,3,3,1,5\\r\\nSTUDENT65,2,2,3,5,2,2,2,1,1,1,2,2,2,1,2,1,1,2,2,1,3,1,2,1,3,2,3,1,4,3,1,3\\r\\nSTUDENT66,1,2,2,3,2,2,1,3,1,1,2,4,3,1,2,4,1,1,2,1,3,2,2,1,2,1,2,1,2,2,1,2\\r\\nSTUDENT67,2,2,2,3,2,2,1,1,1,1,3,2,5,1,2,5,2,2,2,1,1,1,1,1,3,2,2,3,5,4,2,5\\r\\nSTUDENT68,2,2,3,3,1,1,2,3,1,2,3,4,4,2,2,2,2,2,2,1,1,2,1,1,2,2,1,2,2,3,2,1\\r\\nSTUDENT69,2,1,2,4,1,2,2,1,1,1,2,3,5,3,2,5,1,2,2,1,1,2,1,1,2,2,3,2,4,3,3,5\\r\\nSTUDENT70,2,1,2,4,2,2,1,1,1,1,2,2,2,1,2,3,1,1,2,1,1,1,2,1,3,2,3,1,3,2,3,5\\r\\nSTUDENT71,1,2,2,4,2,1,1,1,1,1,4,3,1,2,4,2,2,2,2,1,1,1,1,1,2,2,3,1,5,4,3,7\\r\\nSTUDENT72,1,1,3,4,2,2,2,1,1,3,1,3,5,1,2,4,2,2,1,1,1,1,1,1,2,3,3,3,2,2,3,6\\r\\nSTUDENT73,1,2,2,3,2,1,1,1,1,2,1,1,2,1,2,3,2,3,3,1,1,1,1,1,2,2,3,2,3,3,3,6\\r\\nSTUDENT74,2,2,2,4,2,2,2,1,1,2,1,3,4,1,2,4,3,1,1,2,1,1,1,2,3,2,3,1,5,3,3,6\\r\\nSTUDENT75,1,2,2,4,2,2,2,1,1,1,2,2,3,1,2,1,2,2,2,2,1,1,2,1,3,2,3,2,3,3,3,7\\r\\nSTUDENT76,1,2,2,4,2,1,2,1,1,3,1,5,4,1,2,2,3,3,1,1,1,1,1,1,2,2,2,2,4,1,3,7\\r\\nSTUDENT77,2,2,1,2,2,1,2,2,1,1,5,4,3,1,4,3,2,3,2,1,1,1,3,2,2,1,2,3,2,2,4,4\\r\\nSTUDENT78,1,2,1,2,2,2,1,2,2,2,6,5,2,1,4,2,2,2,2,2,1,2,3,1,2,2,2,2,1,1,4,7\\r\\nSTUDENT79,2,1,2,4,1,1,2,1,1,1,1,3,4,1,2,4,2,3,3,1,1,2,1,1,3,3,2,2,2,2,4,4\\r\\nSTUDENT80,2,2,2,4,2,2,2,1,1,1,1,3,4,1,2,4,1,2,2,1,3,1,1,1,3,3,3,2,4,4,4,3\\r\\nSTUDENT81,2,1,2,3,1,2,1,1,2,1,1,1,2,1,2,3,1,1,1,1,3,1,1,1,2,3,1,2,4,2,5,4\\r\\nSTUDENT82,3,2,2,3,1,2,2,1,1,2,1,2,4,1,2,3,2,2,2,1,1,1,1,1,3,3,2,3,5,4,5,3\\r\\nSTUDENT83,2,2,2,4,1,2,1,2,1,1,3,1,3,1,2,3,2,2,3,1,1,1,1,1,3,3,2,3,4,3,5,7\\r\\nSTUDENT84,2,2,3,3,2,2,2,3,1,1,4,4,2,1,1,2,1,2,2,1,1,1,3,1,3,2,3,3,1,2,5,7\\r\\nSTUDENT85,3,2,3,3,1,2,1,3,1,2,4,2,5,3,2,1,1,2,2,1,1,1,3,3,3,3,3,3,5,4,5,7\\r\\nSTUDENT86,1,2,2,5,2,2,2,2,1,1,1,1,5,1,2,1,1,1,1,1,1,1,1,1,3,2,3,3,4,3,5,4\\r\\nSTUDENT87,2,2,2,4,2,2,2,1,4,2,3,3,2,1,4,1,2,2,2,1,1,1,1,1,3,2,3,2,5,4,5,5\\r\\nSTUDENT88,2,2,2,3,2,1,2,2,1,1,3,4,2,1,1,1,2,2,2,1,1,1,2,1,2,2,2,2,1,1,6,6\\r\\nSTUDENT89,1,2,2,4,2,1,1,1,1,1,4,4,1,1,3,2,2,2,2,1,1,1,1,2,3,1,2,3,5,3,6,6\\r\\nSTUDENT90,2,2,2,3,2,2,2,1,1,1,3,5,3,1,2,2,2,2,2,1,1,2,1,1,3,1,3,3,3,2,6,6\\r\\nSTUDENT91,2,1,2,3,2,1,1,1,2,3,3,3,1,1,4,2,2,2,2,1,1,1,1,1,2,3,2,3,4,2,6,6\\r\\nSTUDENT92,2,2,2,5,1,1,1,1,1,2,4,1,5,1,2,3,2,2,2,1,1,1,1,1,2,3,3,2,5,4,6,6\\r\\nSTUDENT93,1,2,2,3,2,2,2,1,1,1,3,4,4,1,3,2,3,2,2,1,1,1,1,1,3,2,3,3,2,2,6,7\\r\\nSTUDENT94,1,2,2,1,1,2,1,1,1,2,1,2,4,1,2,3,5,2,1,1,1,1,1,1,3,3,3,2,2,2,6,4\\r\\nSTUDENT95,2,2,2,3,2,2,1,1,1,1,3,2,5,1,2,5,2,2,3,1,1,1,1,1,3,2,2,3,5,4,6,6\\r\\nSTUDENT96,1,2,3,5,1,1,1,1,2,3,3,4,1,1,2,1,2,2,3,1,1,1,1,1,3,2,2,1,4,3,7,5\\r\\nSTUDENT97,1,2,2,4,2,1,1,1,2,3,2,2,3,1,4,2,2,3,2,1,1,1,1,1,3,2,3,2,2,3,7,7\\r\\nSTUDENT98,1,2,2,4,1,2,2,1,1,3,3,3,4,1,2,3,2,2,2,1,1,1,1,1,3,2,2,1,3,3,7,6\\r\\nSTUDENT99,1,2,2,4,2,1,2,1,4,2,2,4,2,1,2,5,2,3,2,1,1,1,1,1,3,1,2,1,4,4,7,7\\r\\nSTUDENT100,2,2,2,3,2,2,2,1,4,2,3,4,2,1,2,1,3,2,2,1,1,1,1,1,3,2,3,2,2,2,7,7\\r\\nSTUDENT101,1,2,2,4,2,2,2,1,2,3,4,1,2,1,3,3,2,2,2,1,1,1,1,1,2,2,2,1,3,3,7,6\\r\\nSTUDENT102,1,2,2,4,2,2,1,2,1,3,2,3,1,1,2,4,2,2,2,1,1,1,1,1,3,3,2,1,2,3,7,7\\r\\nSTUDENT103,1,2,2,3,2,2,1,1,1,2,3,1,1,2,4,4,2,2,2,2,1,1,1,1,3,1,2,1,3,4,7,7\\r\\nSTUDENT104,1,2,1,4,2,2,1,5,1,2,1,3,4,1,2,1,2,3,2,1,1,1,1,1,2,2,3,2,4,4,7,7\\r\\nSTUDENT105,1,1,2,3,2,2,2,1,2,2,4,4,1,1,3,2,2,2,2,1,1,1,1,1,2,3,2,2,1,1,7,3\\r\\nSTUDENT106,1,2,2,4,1,1,2,1,1,1,2,2,4,1,2,4,2,3,2,1,1,2,1,2,2,1,3,1,3,3,7,7\\r\\nSTUDENT107,1,2,2,4,2,1,2,1,1,2,2,2,1,1,2,1,3,2,2,1,1,1,3,2,2,2,2,1,4,4,7,7\\r\\nSTUDENT108,1,1,2,4,1,1,2,1,1,3,1,3,5,1,2,4,2,2,2,1,1,1,2,1,2,3,2,1,4,2,7,6\\r\\nSTUDENT109,2,1,1,5,2,1,2,2,2,1,1,2,1,3,1,5,3,3,2,1,1,2,1,1,2,3,1,2,3,3,7,6\\r\\nSTUDENT110,1,2,1,3,2,1,1,1,2,2,4,4,2,3,2,5,3,2,2,1,1,1,2,2,3,2,3,1,4,4,7,7\\r\\nSTUDENT111,2,2,2,3,2,2,2,2,4,2,4,4,2,2,1,5,2,2,2,1,1,2,1,1,2,2,2,1,2,3,8,2\\r\\nSTUDENT112,1,1,1,5,2,1,2,1,1,2,3,3,1,1,3,2,1,2,2,2,2,1,1,1,3,1,3,3,4,3,8,2\\r\\nSTUDENT113,2,1,3,3,1,2,2,1,3,3,1,1,2,1,2,1,1,1,1,2,3,1,2,1,3,3,3,1,4,2,8,2\\r\\nSTUDENT114,2,1,3,3,2,2,2,1,4,2,4,4,1,1,3,2,2,2,3,2,3,2,2,1,2,2,1,1,1,2,8,1\\r\\nSTUDENT115,2,1,2,5,1,1,2,4,1,1,1,1,1,1,2,1,2,2,2,2,2,1,1,1,2,2,1,2,1,1,8,2\\r\\nSTUDENT116,2,1,2,5,1,2,1,1,1,1,1,1,2,1,2,2,3,3,2,2,3,1,2,2,3,2,3,2,2,2,8,1\\r\\nSTUDENT117,2,1,2,5,2,2,2,1,1,1,1,1,5,1,2,4,3,3,3,2,1,1,1,1,3,3,3,1,2,3,8,1\\r\\nSTUDENT118,3,1,1,3,2,1,2,1,1,2,4,4,1,1,1,3,2,2,3,2,1,2,1,1,2,3,2,1,2,3,8,1\\r\\nSTUDENT119,1,2,2,5,2,1,1,1,4,2,1,2,3,1,4,4,1,2,2,1,1,1,3,1,3,3,2,2,3,3,8,1\\r\\nSTUDENT120,2,1,2,4,2,1,2,1,1,2,3,3,2,3,2,5,5,2,2,1,1,1,1,2,2,2,3,1,3,3,8,2\\r\\nSTUDENT121,2,1,1,3,1,1,1,2,2,3,3,3,2,1,3,4,1,1,1,1,1,2,2,1,3,3,3,2,2,2,8,1\\r\\nSTUDENT122,2,1,2,3,1,1,1,1,2,1,1,1,5,3,2,4,5,3,3,1,3,1,2,1,1,1,1,1,1,1,8,0\\r\\nSTUDENT123,1,2,2,5,2,1,2,1,1,1,3,3,2,1,2,1,2,1,2,1,2,1,2,1,3,2,2,1,4,3,8,2\\r\\nSTUDENT124,2,1,3,3,2,2,2,3,1,1,3,2,4,1,1,1,2,2,3,2,1,1,1,1,3,3,2,1,1,1,8,1\\r\\nSTUDENT125,1,1,2,4,1,1,1,1,1,3,2,3,2,1,4,3,4,2,2,2,1,1,2,2,3,3,2,1,3,3,9,3\\r\\nSTUDENT126,1,1,2,5,1,1,2,1,1,3,1,1,5,1,2,3,3,2,3,2,1,1,1,2,3,2,3,1,1,3,9,2\\r\\nSTUDENT127,1,1,1,4,1,1,1,3,2,3,4,6,2,1,4,3,4,2,3,1,1,1,2,1,3,3,3,1,2,2,9,3\\r\\nSTUDENT128,1,1,2,4,2,2,2,1,4,3,3,2,2,1,3,4,2,1,1,2,1,1,1,1,3,2,2,1,2,2,9,1\\r\\nSTUDENT129,1,1,2,4,2,1,1,1,4,3,3,4,2,1,4,2,2,1,1,2,1,1,1,1,3,2,2,1,2,2,9,0\\r\\nSTUDENT130,1,1,2,3,1,1,2,1,1,1,1,1,3,1,2,4,4,2,3,2,1,1,2,2,3,2,3,2,2,3,9,3\\r\\nSTUDENT131,1,1,2,3,1,1,2,1,1,1,1,2,3,1,2,4,4,2,2,2,1,1,1,2,3,1,3,2,2,3,9,1\\r\\nSTUDENT132,1,1,1,5,2,1,2,1,2,2,4,3,1,1,3,2,4,1,3,2,1,1,1,2,3,2,3,1,5,3,9,4\\r\\nSTUDENT133,1,1,1,5,2,1,2,1,1,2,1,2,3,1,2,1,2,2,3,2,1,1,2,1,3,2,3,1,5,4,9,3\\r\\nSTUDENT134,1,1,2,5,2,2,1,1,1,1,1,1,1,1,2,3,3,1,2,2,1,1,1,1,3,3,3,2,5,3,9,3\\r\\nSTUDENT135,1,1,2,4,2,1,2,1,2,3,1,1,2,1,4,3,2,2,2,2,1,1,1,1,2,1,2,1,2,3,9,1\\r\\nSTUDENT136,2,1,2,3,1,1,2,1,4,2,3,3,1,1,2,1,2,3,2,1,3,1,1,1,3,3,2,1,3,2,9,2\\r\\nSTUDENT137,1,1,2,3,1,1,1,1,2,3,3,3,3,1,3,4,2,2,2,2,1,1,3,1,3,2,2,1,2,2,9,0\\r\\nSTUDENT138,1,1,1,5,2,1,2,1,1,1,2,2,2,1,2,1,2,2,2,1,1,1,1,1,3,1,3,1,2,4,9,2\\r\\nSTUDENT139,1,1,2,4,1,1,1,5,2,3,3,1,1,2,4,5,2,2,3,2,3,1,2,1,3,2,3,1,1,3,9,0\\r\\nSTUDENT140,1,1,2,4,1,2,1,2,2,3,3,3,1,1,5,4,1,1,2,2,1,2,2,1,2,3,2,1,1,2,9,0\\r\\nSTUDENT141,2,1,2,3,1,1,2,1,1,2,1,2,2,2,2,4,3,3,2,1,1,1,1,1,2,1,2,1,3,3,9,5\\r\\nSTUDENT142,1,1,2,4,2,2,2,1,4,2,1,1,5,1,2,1,3,2,2,2,1,2,1,1,3,2,2,1,5,3,9,5\\r\\nSTUDENT143,1,1,1,4,2,2,2,1,1,1,3,4,4,1,2,4,2,2,2,1,1,1,1,1,3,3,2,1,4,3,9,1\\r\\nSTUDENT144,2,1,2,4,1,1,1,5,2,3,4,4,1,1,3,3,2,2,1,1,1,1,2,1,2,1,2,1,5,3,9,4\\r\\nSTUDENT145,1,1,1,5,2,2,2,3,1,1,3,1,5,1,2,4,3,1,1,1,1,1,2,1,3,2,3,1,5,4,9,3\\r\\n'}"
            ]
          },
          "metadata": {},
          "execution_count": 1
        }
      ],
      "source": [
        "from google.colab import files\n",
        "files.upload()"
      ]
    },
    {
      "cell_type": "code",
      "source": [
        "import pandas as pd\n",
        "PredSP = pd.read_csv('Predicting Student Performance.csv')"
      ],
      "metadata": {
        "id": "_-Wkpbz44T0K"
      },
      "execution_count": 29,
      "outputs": []
    },
    {
      "cell_type": "code",
      "source": [
        "PredSP"
      ],
      "metadata": {
        "colab": {
          "base_uri": "https://localhost:8080/",
          "height": 423
        },
        "id": "OvD2Ps365D4s",
        "outputId": "ead63807-994a-4d4a-eaeb-fdd97d04a2d1"
      },
      "execution_count": 30,
      "outputs": [
        {
          "output_type": "execute_result",
          "data": {
            "text/plain": [
              "     STUDENT ID  1  2  3  4  5  6  7  8  9  ...  23  24  25  26  27  28  29  \\\n",
              "0      STUDENT1  2  2  3  3  1  2  2  1  1  ...   1   1   3   2   1   2   1   \n",
              "1      STUDENT2  2  2  3  3  1  2  2  1  1  ...   1   1   3   2   3   2   2   \n",
              "2      STUDENT3  2  2  2  3  2  2  2  2  4  ...   1   1   2   2   1   1   2   \n",
              "3      STUDENT4  1  1  1  3  1  2  1  2  1  ...   1   2   3   2   2   1   3   \n",
              "4      STUDENT5  2  2  1  3  2  2  1  3  1  ...   2   1   2   2   2   1   2   \n",
              "..          ... .. .. .. .. .. .. .. .. ..  ...  ..  ..  ..  ..  ..  ..  ..   \n",
              "140  STUDENT141  2  1  2  3  1  1  2  1  1  ...   1   1   2   1   2   1   3   \n",
              "141  STUDENT142  1  1  2  4  2  2  2  1  4  ...   1   1   3   2   2   1   5   \n",
              "142  STUDENT143  1  1  1  4  2  2  2  1  1  ...   1   1   3   3   2   1   4   \n",
              "143  STUDENT144  2  1  2  4  1  1  1  5  2  ...   2   1   2   1   2   1   5   \n",
              "144  STUDENT145  1  1  1  5  2  2  2  3  1  ...   2   1   3   2   3   1   5   \n",
              "\n",
              "     30  COURSE ID  GRADE  \n",
              "0     1          1      1  \n",
              "1     3          1      1  \n",
              "2     2          1      1  \n",
              "3     2          1      1  \n",
              "4     2          1      1  \n",
              "..   ..        ...    ...  \n",
              "140   3          9      5  \n",
              "141   3          9      5  \n",
              "142   3          9      1  \n",
              "143   3          9      4  \n",
              "144   4          9      3  \n",
              "\n",
              "[145 rows x 33 columns]"
            ],
            "text/html": [
              "\n",
              "  <div id=\"df-37895c80-3be6-4f6f-994c-ea2965839440\">\n",
              "    <div class=\"colab-df-container\">\n",
              "      <div>\n",
              "<style scoped>\n",
              "    .dataframe tbody tr th:only-of-type {\n",
              "        vertical-align: middle;\n",
              "    }\n",
              "\n",
              "    .dataframe tbody tr th {\n",
              "        vertical-align: top;\n",
              "    }\n",
              "\n",
              "    .dataframe thead th {\n",
              "        text-align: right;\n",
              "    }\n",
              "</style>\n",
              "<table border=\"1\" class=\"dataframe\">\n",
              "  <thead>\n",
              "    <tr style=\"text-align: right;\">\n",
              "      <th></th>\n",
              "      <th>STUDENT ID</th>\n",
              "      <th>1</th>\n",
              "      <th>2</th>\n",
              "      <th>3</th>\n",
              "      <th>4</th>\n",
              "      <th>5</th>\n",
              "      <th>6</th>\n",
              "      <th>7</th>\n",
              "      <th>8</th>\n",
              "      <th>9</th>\n",
              "      <th>...</th>\n",
              "      <th>23</th>\n",
              "      <th>24</th>\n",
              "      <th>25</th>\n",
              "      <th>26</th>\n",
              "      <th>27</th>\n",
              "      <th>28</th>\n",
              "      <th>29</th>\n",
              "      <th>30</th>\n",
              "      <th>COURSE ID</th>\n",
              "      <th>GRADE</th>\n",
              "    </tr>\n",
              "  </thead>\n",
              "  <tbody>\n",
              "    <tr>\n",
              "      <th>0</th>\n",
              "      <td>STUDENT1</td>\n",
              "      <td>2</td>\n",
              "      <td>2</td>\n",
              "      <td>3</td>\n",
              "      <td>3</td>\n",
              "      <td>1</td>\n",
              "      <td>2</td>\n",
              "      <td>2</td>\n",
              "      <td>1</td>\n",
              "      <td>1</td>\n",
              "      <td>...</td>\n",
              "      <td>1</td>\n",
              "      <td>1</td>\n",
              "      <td>3</td>\n",
              "      <td>2</td>\n",
              "      <td>1</td>\n",
              "      <td>2</td>\n",
              "      <td>1</td>\n",
              "      <td>1</td>\n",
              "      <td>1</td>\n",
              "      <td>1</td>\n",
              "    </tr>\n",
              "    <tr>\n",
              "      <th>1</th>\n",
              "      <td>STUDENT2</td>\n",
              "      <td>2</td>\n",
              "      <td>2</td>\n",
              "      <td>3</td>\n",
              "      <td>3</td>\n",
              "      <td>1</td>\n",
              "      <td>2</td>\n",
              "      <td>2</td>\n",
              "      <td>1</td>\n",
              "      <td>1</td>\n",
              "      <td>...</td>\n",
              "      <td>1</td>\n",
              "      <td>1</td>\n",
              "      <td>3</td>\n",
              "      <td>2</td>\n",
              "      <td>3</td>\n",
              "      <td>2</td>\n",
              "      <td>2</td>\n",
              "      <td>3</td>\n",
              "      <td>1</td>\n",
              "      <td>1</td>\n",
              "    </tr>\n",
              "    <tr>\n",
              "      <th>2</th>\n",
              "      <td>STUDENT3</td>\n",
              "      <td>2</td>\n",
              "      <td>2</td>\n",
              "      <td>2</td>\n",
              "      <td>3</td>\n",
              "      <td>2</td>\n",
              "      <td>2</td>\n",
              "      <td>2</td>\n",
              "      <td>2</td>\n",
              "      <td>4</td>\n",
              "      <td>...</td>\n",
              "      <td>1</td>\n",
              "      <td>1</td>\n",
              "      <td>2</td>\n",
              "      <td>2</td>\n",
              "      <td>1</td>\n",
              "      <td>1</td>\n",
              "      <td>2</td>\n",
              "      <td>2</td>\n",
              "      <td>1</td>\n",
              "      <td>1</td>\n",
              "    </tr>\n",
              "    <tr>\n",
              "      <th>3</th>\n",
              "      <td>STUDENT4</td>\n",
              "      <td>1</td>\n",
              "      <td>1</td>\n",
              "      <td>1</td>\n",
              "      <td>3</td>\n",
              "      <td>1</td>\n",
              "      <td>2</td>\n",
              "      <td>1</td>\n",
              "      <td>2</td>\n",
              "      <td>1</td>\n",
              "      <td>...</td>\n",
              "      <td>1</td>\n",
              "      <td>2</td>\n",
              "      <td>3</td>\n",
              "      <td>2</td>\n",
              "      <td>2</td>\n",
              "      <td>1</td>\n",
              "      <td>3</td>\n",
              "      <td>2</td>\n",
              "      <td>1</td>\n",
              "      <td>1</td>\n",
              "    </tr>\n",
              "    <tr>\n",
              "      <th>4</th>\n",
              "      <td>STUDENT5</td>\n",
              "      <td>2</td>\n",
              "      <td>2</td>\n",
              "      <td>1</td>\n",
              "      <td>3</td>\n",
              "      <td>2</td>\n",
              "      <td>2</td>\n",
              "      <td>1</td>\n",
              "      <td>3</td>\n",
              "      <td>1</td>\n",
              "      <td>...</td>\n",
              "      <td>2</td>\n",
              "      <td>1</td>\n",
              "      <td>2</td>\n",
              "      <td>2</td>\n",
              "      <td>2</td>\n",
              "      <td>1</td>\n",
              "      <td>2</td>\n",
              "      <td>2</td>\n",
              "      <td>1</td>\n",
              "      <td>1</td>\n",
              "    </tr>\n",
              "    <tr>\n",
              "      <th>...</th>\n",
              "      <td>...</td>\n",
              "      <td>...</td>\n",
              "      <td>...</td>\n",
              "      <td>...</td>\n",
              "      <td>...</td>\n",
              "      <td>...</td>\n",
              "      <td>...</td>\n",
              "      <td>...</td>\n",
              "      <td>...</td>\n",
              "      <td>...</td>\n",
              "      <td>...</td>\n",
              "      <td>...</td>\n",
              "      <td>...</td>\n",
              "      <td>...</td>\n",
              "      <td>...</td>\n",
              "      <td>...</td>\n",
              "      <td>...</td>\n",
              "      <td>...</td>\n",
              "      <td>...</td>\n",
              "      <td>...</td>\n",
              "      <td>...</td>\n",
              "    </tr>\n",
              "    <tr>\n",
              "      <th>140</th>\n",
              "      <td>STUDENT141</td>\n",
              "      <td>2</td>\n",
              "      <td>1</td>\n",
              "      <td>2</td>\n",
              "      <td>3</td>\n",
              "      <td>1</td>\n",
              "      <td>1</td>\n",
              "      <td>2</td>\n",
              "      <td>1</td>\n",
              "      <td>1</td>\n",
              "      <td>...</td>\n",
              "      <td>1</td>\n",
              "      <td>1</td>\n",
              "      <td>2</td>\n",
              "      <td>1</td>\n",
              "      <td>2</td>\n",
              "      <td>1</td>\n",
              "      <td>3</td>\n",
              "      <td>3</td>\n",
              "      <td>9</td>\n",
              "      <td>5</td>\n",
              "    </tr>\n",
              "    <tr>\n",
              "      <th>141</th>\n",
              "      <td>STUDENT142</td>\n",
              "      <td>1</td>\n",
              "      <td>1</td>\n",
              "      <td>2</td>\n",
              "      <td>4</td>\n",
              "      <td>2</td>\n",
              "      <td>2</td>\n",
              "      <td>2</td>\n",
              "      <td>1</td>\n",
              "      <td>4</td>\n",
              "      <td>...</td>\n",
              "      <td>1</td>\n",
              "      <td>1</td>\n",
              "      <td>3</td>\n",
              "      <td>2</td>\n",
              "      <td>2</td>\n",
              "      <td>1</td>\n",
              "      <td>5</td>\n",
              "      <td>3</td>\n",
              "      <td>9</td>\n",
              "      <td>5</td>\n",
              "    </tr>\n",
              "    <tr>\n",
              "      <th>142</th>\n",
              "      <td>STUDENT143</td>\n",
              "      <td>1</td>\n",
              "      <td>1</td>\n",
              "      <td>1</td>\n",
              "      <td>4</td>\n",
              "      <td>2</td>\n",
              "      <td>2</td>\n",
              "      <td>2</td>\n",
              "      <td>1</td>\n",
              "      <td>1</td>\n",
              "      <td>...</td>\n",
              "      <td>1</td>\n",
              "      <td>1</td>\n",
              "      <td>3</td>\n",
              "      <td>3</td>\n",
              "      <td>2</td>\n",
              "      <td>1</td>\n",
              "      <td>4</td>\n",
              "      <td>3</td>\n",
              "      <td>9</td>\n",
              "      <td>1</td>\n",
              "    </tr>\n",
              "    <tr>\n",
              "      <th>143</th>\n",
              "      <td>STUDENT144</td>\n",
              "      <td>2</td>\n",
              "      <td>1</td>\n",
              "      <td>2</td>\n",
              "      <td>4</td>\n",
              "      <td>1</td>\n",
              "      <td>1</td>\n",
              "      <td>1</td>\n",
              "      <td>5</td>\n",
              "      <td>2</td>\n",
              "      <td>...</td>\n",
              "      <td>2</td>\n",
              "      <td>1</td>\n",
              "      <td>2</td>\n",
              "      <td>1</td>\n",
              "      <td>2</td>\n",
              "      <td>1</td>\n",
              "      <td>5</td>\n",
              "      <td>3</td>\n",
              "      <td>9</td>\n",
              "      <td>4</td>\n",
              "    </tr>\n",
              "    <tr>\n",
              "      <th>144</th>\n",
              "      <td>STUDENT145</td>\n",
              "      <td>1</td>\n",
              "      <td>1</td>\n",
              "      <td>1</td>\n",
              "      <td>5</td>\n",
              "      <td>2</td>\n",
              "      <td>2</td>\n",
              "      <td>2</td>\n",
              "      <td>3</td>\n",
              "      <td>1</td>\n",
              "      <td>...</td>\n",
              "      <td>2</td>\n",
              "      <td>1</td>\n",
              "      <td>3</td>\n",
              "      <td>2</td>\n",
              "      <td>3</td>\n",
              "      <td>1</td>\n",
              "      <td>5</td>\n",
              "      <td>4</td>\n",
              "      <td>9</td>\n",
              "      <td>3</td>\n",
              "    </tr>\n",
              "  </tbody>\n",
              "</table>\n",
              "<p>145 rows × 33 columns</p>\n",
              "</div>\n",
              "      <button class=\"colab-df-convert\" onclick=\"convertToInteractive('df-37895c80-3be6-4f6f-994c-ea2965839440')\"\n",
              "              title=\"Convert this dataframe to an interactive table.\"\n",
              "              style=\"display:none;\">\n",
              "        \n",
              "  <svg xmlns=\"http://www.w3.org/2000/svg\" height=\"24px\"viewBox=\"0 0 24 24\"\n",
              "       width=\"24px\">\n",
              "    <path d=\"M0 0h24v24H0V0z\" fill=\"none\"/>\n",
              "    <path d=\"M18.56 5.44l.94 2.06.94-2.06 2.06-.94-2.06-.94-.94-2.06-.94 2.06-2.06.94zm-11 1L8.5 8.5l.94-2.06 2.06-.94-2.06-.94L8.5 2.5l-.94 2.06-2.06.94zm10 10l.94 2.06.94-2.06 2.06-.94-2.06-.94-.94-2.06-.94 2.06-2.06.94z\"/><path d=\"M17.41 7.96l-1.37-1.37c-.4-.4-.92-.59-1.43-.59-.52 0-1.04.2-1.43.59L10.3 9.45l-7.72 7.72c-.78.78-.78 2.05 0 2.83L4 21.41c.39.39.9.59 1.41.59.51 0 1.02-.2 1.41-.59l7.78-7.78 2.81-2.81c.8-.78.8-2.07 0-2.86zM5.41 20L4 18.59l7.72-7.72 1.47 1.35L5.41 20z\"/>\n",
              "  </svg>\n",
              "      </button>\n",
              "      \n",
              "  <style>\n",
              "    .colab-df-container {\n",
              "      display:flex;\n",
              "      flex-wrap:wrap;\n",
              "      gap: 12px;\n",
              "    }\n",
              "\n",
              "    .colab-df-convert {\n",
              "      background-color: #E8F0FE;\n",
              "      border: none;\n",
              "      border-radius: 50%;\n",
              "      cursor: pointer;\n",
              "      display: none;\n",
              "      fill: #1967D2;\n",
              "      height: 32px;\n",
              "      padding: 0 0 0 0;\n",
              "      width: 32px;\n",
              "    }\n",
              "\n",
              "    .colab-df-convert:hover {\n",
              "      background-color: #E2EBFA;\n",
              "      box-shadow: 0px 1px 2px rgba(60, 64, 67, 0.3), 0px 1px 3px 1px rgba(60, 64, 67, 0.15);\n",
              "      fill: #174EA6;\n",
              "    }\n",
              "\n",
              "    [theme=dark] .colab-df-convert {\n",
              "      background-color: #3B4455;\n",
              "      fill: #D2E3FC;\n",
              "    }\n",
              "\n",
              "    [theme=dark] .colab-df-convert:hover {\n",
              "      background-color: #434B5C;\n",
              "      box-shadow: 0px 1px 3px 1px rgba(0, 0, 0, 0.15);\n",
              "      filter: drop-shadow(0px 1px 2px rgba(0, 0, 0, 0.3));\n",
              "      fill: #FFFFFF;\n",
              "    }\n",
              "  </style>\n",
              "\n",
              "      <script>\n",
              "        const buttonEl =\n",
              "          document.querySelector('#df-37895c80-3be6-4f6f-994c-ea2965839440 button.colab-df-convert');\n",
              "        buttonEl.style.display =\n",
              "          google.colab.kernel.accessAllowed ? 'block' : 'none';\n",
              "\n",
              "        async function convertToInteractive(key) {\n",
              "          const element = document.querySelector('#df-37895c80-3be6-4f6f-994c-ea2965839440');\n",
              "          const dataTable =\n",
              "            await google.colab.kernel.invokeFunction('convertToInteractive',\n",
              "                                                     [key], {});\n",
              "          if (!dataTable) return;\n",
              "\n",
              "          const docLinkHtml = 'Like what you see? Visit the ' +\n",
              "            '<a target=\"_blank\" href=https://colab.research.google.com/notebooks/data_table.ipynb>data table notebook</a>'\n",
              "            + ' to learn more about interactive tables.';\n",
              "          element.innerHTML = '';\n",
              "          dataTable['output_type'] = 'display_data';\n",
              "          await google.colab.output.renderOutput(dataTable, element);\n",
              "          const docLink = document.createElement('div');\n",
              "          docLink.innerHTML = docLinkHtml;\n",
              "          element.appendChild(docLink);\n",
              "        }\n",
              "      </script>\n",
              "    </div>\n",
              "  </div>\n",
              "  "
            ]
          },
          "metadata": {},
          "execution_count": 30
        }
      ]
    },
    {
      "cell_type": "code",
      "source": [
        "PredSP.info()"
      ],
      "metadata": {
        "colab": {
          "base_uri": "https://localhost:8080/"
        },
        "id": "7lniI-6-5Fus",
        "outputId": "0579d6e7-04df-4ad2-c7be-a353c8f2fbfc"
      },
      "execution_count": 31,
      "outputs": [
        {
          "output_type": "stream",
          "name": "stdout",
          "text": [
            "<class 'pandas.core.frame.DataFrame'>\n",
            "RangeIndex: 145 entries, 0 to 144\n",
            "Data columns (total 33 columns):\n",
            " #   Column      Non-Null Count  Dtype \n",
            "---  ------      --------------  ----- \n",
            " 0   STUDENT ID  145 non-null    object\n",
            " 1   1           145 non-null    int64 \n",
            " 2   2           145 non-null    int64 \n",
            " 3   3           145 non-null    int64 \n",
            " 4   4           145 non-null    int64 \n",
            " 5   5           145 non-null    int64 \n",
            " 6   6           145 non-null    int64 \n",
            " 7   7           145 non-null    int64 \n",
            " 8   8           145 non-null    int64 \n",
            " 9   9           145 non-null    int64 \n",
            " 10  10          145 non-null    int64 \n",
            " 11  11          145 non-null    int64 \n",
            " 12  12          145 non-null    int64 \n",
            " 13  13          145 non-null    int64 \n",
            " 14  14          145 non-null    int64 \n",
            " 15  15          145 non-null    int64 \n",
            " 16  16          145 non-null    int64 \n",
            " 17  17          145 non-null    int64 \n",
            " 18  18          145 non-null    int64 \n",
            " 19  19          145 non-null    int64 \n",
            " 20  20          145 non-null    int64 \n",
            " 21  21          145 non-null    int64 \n",
            " 22  22          145 non-null    int64 \n",
            " 23  23          145 non-null    int64 \n",
            " 24  24          145 non-null    int64 \n",
            " 25  25          145 non-null    int64 \n",
            " 26  26          145 non-null    int64 \n",
            " 27  27          145 non-null    int64 \n",
            " 28  28          145 non-null    int64 \n",
            " 29  29          145 non-null    int64 \n",
            " 30  30          145 non-null    int64 \n",
            " 31  COURSE ID   145 non-null    int64 \n",
            " 32  GRADE       145 non-null    int64 \n",
            "dtypes: int64(32), object(1)\n",
            "memory usage: 37.5+ KB\n"
          ]
        }
      ]
    },
    {
      "cell_type": "code",
      "source": [
        "%matplotlib inline\n",
        "import matplotlib.pyplot as plt"
      ],
      "metadata": {
        "id": "Njsyv7wG5I6F"
      },
      "execution_count": 32,
      "outputs": []
    },
    {
      "cell_type": "code",
      "source": [
        "PredSP['2'].value_counts().sort_index()"
      ],
      "metadata": {
        "colab": {
          "base_uri": "https://localhost:8080/"
        },
        "id": "9CjMRoa5T8GK",
        "outputId": "e30f8bab-f91c-459e-8c86-0937b0030095"
      },
      "execution_count": 33,
      "outputs": [
        {
          "output_type": "execute_result",
          "data": {
            "text/plain": [
              "1    58\n",
              "2    87\n",
              "Name: 2, dtype: int64"
            ]
          },
          "metadata": {},
          "execution_count": 33
        }
      ]
    },
    {
      "cell_type": "code",
      "source": [
        "fig = plt.figure(figsize = (10, 5))\n",
        "plt.title('Sample Size by Gender')\n",
        "x = PredSP['2'].value_counts().index\n",
        "y = PredSP['2'].value_counts()\n",
        "import numpy as np\n",
        "plt.bar(x, y, color ='maroon', width = 0.6)\n",
        "plt.xticks(np.arange(1,3))\n",
        "plt.yticks(np.arange(0,100,10))\n",
        "plt.xlabel('Sex (1: female, 2: male)')\n",
        "plt.ylabel('Counts')\n",
        "plt.savefig(\"Sample Size by Gender.png\")"
      ],
      "metadata": {
        "id": "hAOWub9bVLQ4",
        "outputId": "f5c83a53-dcd6-47c2-9816-591218099cad",
        "colab": {
          "base_uri": "https://localhost:8080/",
          "height": 350
        }
      },
      "execution_count": 34,
      "outputs": [
        {
          "output_type": "display_data",
          "data": {
            "text/plain": [
              "<Figure size 720x360 with 1 Axes>"
            ],
            "image/png": "[encoded data removed]"
          },
          "metadata": {
            "needs_background": "light"
          }
        }
      ]
    },
    {
      "cell_type": "code",
      "source": [
        "PredSP['17'].value_counts().sort_index()"
      ],
      "metadata": {
        "colab": {
          "base_uri": "https://localhost:8080/"
        },
        "id": "Z6BxMA-fcILu",
        "outputId": "771f25e9-ac23-4aaf-9ed0-ac4eaab0e6c2"
      },
      "execution_count": 35,
      "outputs": [
        {
          "output_type": "execute_result",
          "data": {
            "text/plain": [
              "1    29\n",
              "2    74\n",
              "3    30\n",
              "4     8\n",
              "5     4\n",
              "Name: 17, dtype: int64"
            ]
          },
          "metadata": {},
          "execution_count": 35
        }
      ]
    },
    {
      "cell_type": "code",
      "source": [
        "fig = plt.figure(figsize = (10, 5))\n",
        "plt.title('Sample Size by Weekly Study Hours')\n",
        "x2 = [1,2,3,4,5]\n",
        "y2 = [29,74,30,8,4]\n",
        "import numpy as np\n",
        "plt.bar(x2, y2, color ='skyblue', width = 0.6)\n",
        "plt.xlabel('Weekly study hours: (1: None, 2: <5 hours, 3: 6-10 hours, 4: 11-20 hours, 5: more than 20 hours)')\n",
        "plt.ylabel('Counts')\n",
        "plt.savefig(\"Sample Size by Weekly Study Hours.png\")"
      ],
      "metadata": {
        "colab": {
          "base_uri": "https://localhost:8080/",
          "height": 350
        },
        "id": "dindwMNQam2g",
        "outputId": "89a360f1-37c5-4622-bc6e-0ca3ad18afaa"
      },
      "execution_count": 36,
      "outputs": [
        {
          "output_type": "display_data",
          "data": {
            "text/plain": [
              "<Figure size 720x360 with 1 Axes>"
            ],
            "image/png": "[encoded data removed]"
          },
          "metadata": {
            "needs_background": "light"
          }
        }
      ]
    },
    {
      "cell_type": "code",
      "source": [
        "PredSP['29'].value_counts().sort_index()"
      ],
      "metadata": {
        "colab": {
          "base_uri": "https://localhost:8080/"
        },
        "id": "X2pzoNCZbjBb",
        "outputId": "bee6d099-fc95-4604-927c-592c90edb35b"
      },
      "execution_count": 37,
      "outputs": [
        {
          "output_type": "execute_result",
          "data": {
            "text/plain": [
              "1    17\n",
              "2    38\n",
              "3    25\n",
              "4    40\n",
              "5    25\n",
              "Name: 29, dtype: int64"
            ]
          },
          "metadata": {},
          "execution_count": 37
        }
      ]
    },
    {
      "cell_type": "code",
      "source": [
        "fig = plt.figure(figsize = (10, 5))\n",
        "plt.title('Sample Size by Cumulative GPA in the last semester')\n",
        "x3 = [1,2,3,4,5]\n",
        "y3 = [17,38,25,40,25]\n",
        "import numpy as np\n",
        "plt.bar(x3, y3, color ='olivedrab', width = 0.6)\n",
        "plt.xlabel('Cumulative grade point average in the last semester (/4.00): (1: <2.00, 2: 2.00-2.49, 3: 2.50-2.99, 4: 3.00-3.49, 5: above 3.49)')\n",
        "plt.ylabel('Counts')\n",
        "plt.savefig(\"Sample Size by CGPA Last Semester.png\")"
      ],
      "metadata": {
        "colab": {
          "base_uri": "https://localhost:8080/",
          "height": 350
        },
        "id": "kGgHFNd_btAQ",
        "outputId": "56750306-c546-4f2f-cd4e-cdc281615c98"
      },
      "execution_count": 38,
      "outputs": [
        {
          "output_type": "display_data",
          "data": {
            "text/plain": [
              "<Figure size 720x360 with 1 Axes>"
            ],
            "image/png": "[encoded data removed]"
          },
          "metadata": {
            "needs_background": "light"
          }
        }
      ]
    },
    {
      "cell_type": "code",
      "source": [
        "#I think we do need to exclude the Student ID column out of the model\n",
        "PredSP2 = PredSP.drop(columns = 'STUDENT ID')"
      ],
      "metadata": {
        "id": "BQ9votvGL65D"
      },
      "execution_count": 39,
      "outputs": []
    },
    {
      "cell_type": "code",
      "source": [
        "PredSP2"
      ],
      "metadata": {
        "colab": {
          "base_uri": "https://localhost:8080/",
          "height": 423
        },
        "id": "AAPlgWySZ24o",
        "outputId": "f162698d-0b90-48f4-f96a-359c5805796b"
      },
      "execution_count": 40,
      "outputs": [
        {
          "output_type": "execute_result",
          "data": {
            "text/plain": [
              "     1  2  3  4  5  6  7  8  9  10  ...  23  24  25  26  27  28  29  30  \\\n",
              "0    2  2  3  3  1  2  2  1  1   1  ...   1   1   3   2   1   2   1   1   \n",
              "1    2  2  3  3  1  2  2  1  1   1  ...   1   1   3   2   3   2   2   3   \n",
              "2    2  2  2  3  2  2  2  2  4   2  ...   1   1   2   2   1   1   2   2   \n",
              "3    1  1  1  3  1  2  1  2  1   2  ...   1   2   3   2   2   1   3   2   \n",
              "4    2  2  1  3  2  2  1  3  1   4  ...   2   1   2   2   2   1   2   2   \n",
              "..  .. .. .. .. .. .. .. .. ..  ..  ...  ..  ..  ..  ..  ..  ..  ..  ..   \n",
              "140  2  1  2  3  1  1  2  1  1   2  ...   1   1   2   1   2   1   3   3   \n",
              "141  1  1  2  4  2  2  2  1  4   2  ...   1   1   3   2   2   1   5   3   \n",
              "142  1  1  1  4  2  2  2  1  1   1  ...   1   1   3   3   2   1   4   3   \n",
              "143  2  1  2  4  1  1  1  5  2   3  ...   2   1   2   1   2   1   5   3   \n",
              "144  1  1  1  5  2  2  2  3  1   1  ...   2   1   3   2   3   1   5   4   \n",
              "\n",
              "     COURSE ID  GRADE  \n",
              "0            1      1  \n",
              "1            1      1  \n",
              "2            1      1  \n",
              "3            1      1  \n",
              "4            1      1  \n",
              "..         ...    ...  \n",
              "140          9      5  \n",
              "141          9      5  \n",
              "142          9      1  \n",
              "143          9      4  \n",
              "144          9      3  \n",
              "\n",
              "[145 rows x 32 columns]"
            ],
            "text/html": [
              "\n",
              "  <div id=\"df-86422e6d-434e-487f-b70c-a7dc1832da22\">\n",
              "    <div class=\"colab-df-container\">\n",
              "      <div>\n",
              "<style scoped>\n",
              "    .dataframe tbody tr th:only-of-type {\n",
              "        vertical-align: middle;\n",
              "    }\n",
              "\n",
              "    .dataframe tbody tr th {\n",
              "        vertical-align: top;\n",
              "    }\n",
              "\n",
              "    .dataframe thead th {\n",
              "        text-align: right;\n",
              "    }\n",
              "</style>\n",
              "<table border=\"1\" class=\"dataframe\">\n",
              "  <thead>\n",
              "    <tr style=\"text-align: right;\">\n",
              "      <th></th>\n",
              "      <th>1</th>\n",
              "      <th>2</th>\n",
              "      <th>3</th>\n",
              "      <th>4</th>\n",
              "      <th>5</th>\n",
              "      <th>6</th>\n",
              "      <th>7</th>\n",
              "      <th>8</th>\n",
              "      <th>9</th>\n",
              "      <th>10</th>\n",
              "      <th>...</th>\n",
              "      <th>23</th>\n",
              "      <th>24</th>\n",
              "      <th>25</th>\n",
              "      <th>26</th>\n",
              "      <th>27</th>\n",
              "      <th>28</th>\n",
              "      <th>29</th>\n",
              "      <th>30</th>\n",
              "      <th>COURSE ID</th>\n",
              "      <th>GRADE</th>\n",
              "    </tr>\n",
              "  </thead>\n",
              "  <tbody>\n",
              "    <tr>\n",
              "      <th>0</th>\n",
              "      <td>2</td>\n",
              "      <td>2</td>\n",
              "      <td>3</td>\n",
              "      <td>3</td>\n",
              "      <td>1</td>\n",
              "      <td>2</td>\n",
              "      <td>2</td>\n",
              "      <td>1</td>\n",
              "      <td>1</td>\n",
              "      <td>1</td>\n",
              "      <td>...</td>\n",
              "      <td>1</td>\n",
              "      <td>1</td>\n",
              "      <td>3</td>\n",
              "      <td>2</td>\n",
              "      <td>1</td>\n",
              "      <td>2</td>\n",
              "      <td>1</td>\n",
              "      <td>1</td>\n",
              "      <td>1</td>\n",
              "      <td>1</td>\n",
              "    </tr>\n",
              "    <tr>\n",
              "      <th>1</th>\n",
              "      <td>2</td>\n",
              "      <td>2</td>\n",
              "      <td>3</td>\n",
              "      <td>3</td>\n",
              "      <td>1</td>\n",
              "      <td>2</td>\n",
              "      <td>2</td>\n",
              "      <td>1</td>\n",
              "      <td>1</td>\n",
              "      <td>1</td>\n",
              "      <td>...</td>\n",
              "      <td>1</td>\n",
              "      <td>1</td>\n",
              "      <td>3</td>\n",
              "      <td>2</td>\n",
              "      <td>3</td>\n",
              "      <td>2</td>\n",
              "      <td>2</td>\n",
              "      <td>3</td>\n",
              "      <td>1</td>\n",
              "      <td>1</td>\n",
              "    </tr>\n",
              "    <tr>\n",
              "      <th>2</th>\n",
              "      <td>2</td>\n",
              "      <td>2</td>\n",
              "      <td>2</td>\n",
              "      <td>3</td>\n",
              "      <td>2</td>\n",
              "      <td>2</td>\n",
              "      <td>2</td>\n",
              "      <td>2</td>\n",
              "      <td>4</td>\n",
              "      <td>2</td>\n",
              "      <td>...</td>\n",
              "      <td>1</td>\n",
              "      <td>1</td>\n",
              "      <td>2</td>\n",
              "      <td>2</td>\n",
              "      <td>1</td>\n",
              "      <td>1</td>\n",
              "      <td>2</td>\n",
              "      <td>2</td>\n",
              "      <td>1</td>\n",
              "      <td>1</td>\n",
              "    </tr>\n",
              "    <tr>\n",
              "      <th>3</th>\n",
              "      <td>1</td>\n",
              "      <td>1</td>\n",
              "      <td>1</td>\n",
              "      <td>3</td>\n",
              "      <td>1</td>\n",
              "      <td>2</td>\n",
              "      <td>1</td>\n",
              "      <td>2</td>\n",
              "      <td>1</td>\n",
              "      <td>2</td>\n",
              "      <td>...</td>\n",
              "      <td>1</td>\n",
              "      <td>2</td>\n",
              "      <td>3</td>\n",
              "      <td>2</td>\n",
              "      <td>2</td>\n",
              "      <td>1</td>\n",
              "      <td>3</td>\n",
              "      <td>2</td>\n",
              "      <td>1</td>\n",
              "      <td>1</td>\n",
              "    </tr>\n",
              "    <tr>\n",
              "      <th>4</th>\n",
              "      <td>2</td>\n",
              "      <td>2</td>\n",
              "      <td>1</td>\n",
              "      <td>3</td>\n",
              "      <td>2</td>\n",
              "      <td>2</td>\n",
              "      <td>1</td>\n",
              "      <td>3</td>\n",
              "      <td>1</td>\n",
              "      <td>4</td>\n",
              "      <td>...</td>\n",
              "      <td>2</td>\n",
              "      <td>1</td>\n",
              "      <td>2</td>\n",
              "      <td>2</td>\n",
              "      <td>2</td>\n",
              "      <td>1</td>\n",
              "      <td>2</td>\n",
              "      <td>2</td>\n",
              "      <td>1</td>\n",
              "      <td>1</td>\n",
              "    </tr>\n",
              "    <tr>\n",
              "      <th>...</th>\n",
              "      <td>...</td>\n",
              "      <td>...</td>\n",
              "      <td>...</td>\n",
              "      <td>...</td>\n",
              "      <td>...</td>\n",
              "      <td>...</td>\n",
              "      <td>...</td>\n",
              "      <td>...</td>\n",
              "      <td>...</td>\n",
              "      <td>...</td>\n",
              "      <td>...</td>\n",
              "      <td>...</td>\n",
              "      <td>...</td>\n",
              "      <td>...</td>\n",
              "      <td>...</td>\n",
              "      <td>...</td>\n",
              "      <td>...</td>\n",
              "      <td>...</td>\n",
              "      <td>...</td>\n",
              "      <td>...</td>\n",
              "      <td>...</td>\n",
              "    </tr>\n",
              "    <tr>\n",
              "      <th>140</th>\n",
              "      <td>2</td>\n",
              "      <td>1</td>\n",
              "      <td>2</td>\n",
              "      <td>3</td>\n",
              "      <td>1</td>\n",
              "      <td>1</td>\n",
              "      <td>2</td>\n",
              "      <td>1</td>\n",
              "      <td>1</td>\n",
              "      <td>2</td>\n",
              "      <td>...</td>\n",
              "      <td>1</td>\n",
              "      <td>1</td>\n",
              "      <td>2</td>\n",
              "      <td>1</td>\n",
              "      <td>2</td>\n",
              "      <td>1</td>\n",
              "      <td>3</td>\n",
              "      <td>3</td>\n",
              "      <td>9</td>\n",
              "      <td>5</td>\n",
              "    </tr>\n",
              "    <tr>\n",
              "      <th>141</th>\n",
              "      <td>1</td>\n",
              "      <td>1</td>\n",
              "      <td>2</td>\n",
              "      <td>4</td>\n",
              "      <td>2</td>\n",
              "      <td>2</td>\n",
              "      <td>2</td>\n",
              "      <td>1</td>\n",
              "      <td>4</td>\n",
              "      <td>2</td>\n",
              "      <td>...</td>\n",
              "      <td>1</td>\n",
              "      <td>1</td>\n",
              "      <td>3</td>\n",
              "      <td>2</td>\n",
              "      <td>2</td>\n",
              "      <td>1</td>\n",
              "      <td>5</td>\n",
              "      <td>3</td>\n",
              "      <td>9</td>\n",
              "      <td>5</td>\n",
              "    </tr>\n",
              "    <tr>\n",
              "      <th>142</th>\n",
              "      <td>1</td>\n",
              "      <td>1</td>\n",
              "      <td>1</td>\n",
              "      <td>4</td>\n",
              "      <td>2</td>\n",
              "      <td>2</td>\n",
              "      <td>2</td>\n",
              "      <td>1</td>\n",
              "      <td>1</td>\n",
              "      <td>1</td>\n",
              "      <td>...</td>\n",
              "      <td>1</td>\n",
              "      <td>1</td>\n",
              "      <td>3</td>\n",
              "      <td>3</td>\n",
              "      <td>2</td>\n",
              "      <td>1</td>\n",
              "      <td>4</td>\n",
              "      <td>3</td>\n",
              "      <td>9</td>\n",
              "      <td>1</td>\n",
              "    </tr>\n",
              "    <tr>\n",
              "      <th>143</th>\n",
              "      <td>2</td>\n",
              "      <td>1</td>\n",
              "      <td>2</td>\n",
              "      <td>4</td>\n",
              "      <td>1</td>\n",
              "      <td>1</td>\n",
              "      <td>1</td>\n",
              "      <td>5</td>\n",
              "      <td>2</td>\n",
              "      <td>3</td>\n",
              "      <td>...</td>\n",
              "      <td>2</td>\n",
              "      <td>1</td>\n",
              "      <td>2</td>\n",
              "      <td>1</td>\n",
              "      <td>2</td>\n",
              "      <td>1</td>\n",
              "      <td>5</td>\n",
              "      <td>3</td>\n",
              "      <td>9</td>\n",
              "      <td>4</td>\n",
              "    </tr>\n",
              "    <tr>\n",
              "      <th>144</th>\n",
              "      <td>1</td>\n",
              "      <td>1</td>\n",
              "      <td>1</td>\n",
              "      <td>5</td>\n",
              "      <td>2</td>\n",
              "      <td>2</td>\n",
              "      <td>2</td>\n",
              "      <td>3</td>\n",
              "      <td>1</td>\n",
              "      <td>1</td>\n",
              "      <td>...</td>\n",
              "      <td>2</td>\n",
              "      <td>1</td>\n",
              "      <td>3</td>\n",
              "      <td>2</td>\n",
              "      <td>3</td>\n",
              "      <td>1</td>\n",
              "      <td>5</td>\n",
              "      <td>4</td>\n",
              "      <td>9</td>\n",
              "      <td>3</td>\n",
              "    </tr>\n",
              "  </tbody>\n",
              "</table>\n",
              "<p>145 rows × 32 columns</p>\n",
              "</div>\n",
              "      <button class=\"colab-df-convert\" onclick=\"convertToInteractive('df-86422e6d-434e-487f-b70c-a7dc1832da22')\"\n",
              "              title=\"Convert this dataframe to an interactive table.\"\n",
              "              style=\"display:none;\">\n",
              "        \n",
              "  <svg xmlns=\"http://www.w3.org/2000/svg\" height=\"24px\"viewBox=\"0 0 24 24\"\n",
              "       width=\"24px\">\n",
              "    <path d=\"M0 0h24v24H0V0z\" fill=\"none\"/>\n",
              "    <path d=\"M18.56 5.44l.94 2.06.94-2.06 2.06-.94-2.06-.94-.94-2.06-.94 2.06-2.06.94zm-11 1L8.5 8.5l.94-2.06 2.06-.94-2.06-.94L8.5 2.5l-.94 2.06-2.06.94zm10 10l.94 2.06.94-2.06 2.06-.94-2.06-.94-.94-2.06-.94 2.06-2.06.94z\"/><path d=\"M17.41 7.96l-1.37-1.37c-.4-.4-.92-.59-1.43-.59-.52 0-1.04.2-1.43.59L10.3 9.45l-7.72 7.72c-.78.78-.78 2.05 0 2.83L4 21.41c.39.39.9.59 1.41.59.51 0 1.02-.2 1.41-.59l7.78-7.78 2.81-2.81c.8-.78.8-2.07 0-2.86zM5.41 20L4 18.59l7.72-7.72 1.47 1.35L5.41 20z\"/>\n",
              "  </svg>\n",
              "      </button>\n",
              "      \n",
              "  <style>\n",
              "    .colab-df-container {\n",
              "      display:flex;\n",
              "      flex-wrap:wrap;\n",
              "      gap: 12px;\n",
              "    }\n",
              "\n",
              "    .colab-df-convert {\n",
              "      background-color: #E8F0FE;\n",
              "      border: none;\n",
              "      border-radius: 50%;\n",
              "      cursor: pointer;\n",
              "      display: none;\n",
              "      fill: #1967D2;\n",
              "      height: 32px;\n",
              "      padding: 0 0 0 0;\n",
              "      width: 32px;\n",
              "    }\n",
              "\n",
              "    .colab-df-convert:hover {\n",
              "      background-color: #E2EBFA;\n",
              "      box-shadow: 0px 1px 2px rgba(60, 64, 67, 0.3), 0px 1px 3px 1px rgba(60, 64, 67, 0.15);\n",
              "      fill: #174EA6;\n",
              "    }\n",
              "\n",
              "    [theme=dark] .colab-df-convert {\n",
              "      background-color: #3B4455;\n",
              "      fill: #D2E3FC;\n",
              "    }\n",
              "\n",
              "    [theme=dark] .colab-df-convert:hover {\n",
              "      background-color: #434B5C;\n",
              "      box-shadow: 0px 1px 3px 1px rgba(0, 0, 0, 0.15);\n",
              "      filter: drop-shadow(0px 1px 2px rgba(0, 0, 0, 0.3));\n",
              "      fill: #FFFFFF;\n",
              "    }\n",
              "  </style>\n",
              "\n",
              "      <script>\n",
              "        const buttonEl =\n",
              "          document.querySelector('#df-86422e6d-434e-487f-b70c-a7dc1832da22 button.colab-df-convert');\n",
              "        buttonEl.style.display =\n",
              "          google.colab.kernel.accessAllowed ? 'block' : 'none';\n",
              "\n",
              "        async function convertToInteractive(key) {\n",
              "          const element = document.querySelector('#df-86422e6d-434e-487f-b70c-a7dc1832da22');\n",
              "          const dataTable =\n",
              "            await google.colab.kernel.invokeFunction('convertToInteractive',\n",
              "                                                     [key], {});\n",
              "          if (!dataTable) return;\n",
              "\n",
              "          const docLinkHtml = 'Like what you see? Visit the ' +\n",
              "            '<a target=\"_blank\" href=https://colab.research.google.com/notebooks/data_table.ipynb>data table notebook</a>'\n",
              "            + ' to learn more about interactive tables.';\n",
              "          element.innerHTML = '';\n",
              "          dataTable['output_type'] = 'display_data';\n",
              "          await google.colab.output.renderOutput(dataTable, element);\n",
              "          const docLink = document.createElement('div');\n",
              "          docLink.innerHTML = docLinkHtml;\n",
              "          element.appendChild(docLink);\n",
              "        }\n",
              "      </script>\n",
              "    </div>\n",
              "  </div>\n",
              "  "
            ]
          },
          "metadata": {},
          "execution_count": 40
        }
      ]
    },
    {
      "cell_type": "markdown",
      "source": [
        "##Section 2: Model Training\n",
        "\n"
      ],
      "metadata": {
        "id": "pXBxF3MUYBiD"
      }
    },
    {
      "cell_type": "markdown",
      "source": [
        "### Use all the features to create a training set and test set."
      ],
      "metadata": {
        "id": "Kyq256ZdpihU"
      }
    },
    {
      "cell_type": "code",
      "source": [
        "PredSP2_y = PredSP2.pop('GRADE')\n",
        "PredSP2_X = PredSP2"
      ],
      "metadata": {
        "id": "g34q5LyLr4Ic"
      },
      "execution_count": 41,
      "outputs": []
    },
    {
      "cell_type": "code",
      "source": [
        "from sklearn.model_selection import train_test_split\n",
        "p_X_train, p_X_test, p_y_train, p_y_test = train_test_split(\n",
        "    PredSP2_X, PredSP2_y, test_size=0.3, random_state=200\n",
        ")"
      ],
      "metadata": {
        "id": "cS7v6jUgd4ai"
      },
      "execution_count": 42,
      "outputs": []
    },
    {
      "cell_type": "markdown",
      "source": [
        "### Implement each model using python libraries (e.g., Scikit-Learn), train the model, and predict the final grade in the test set.\n"
      ],
      "metadata": {
        "id": "yslXZ-PgqSRA"
      }
    },
    {
      "cell_type": "code",
      "source": [
        "#Model1 - Support Vector Classificationfrom sklearn.preprocessing import StandardScaler\n",
        "from sklearn.preprocessing import StandardScaler\n",
        "from sklearn import svm\n",
        "from sklearn.pipeline import make_pipeline\n",
        "\n",
        "pipe1 = make_pipeline(StandardScaler(),                    \n",
        "                      svm.SVC(decision_function_shape='ovo', kernel='linear', C=1,random_state=200))\n",
        "\n",
        "pipe1.fit(p_X_train, p_y_train)\n",
        "y1_pred = pipe1.predict(p_X_test)\n",
        "print('Support Vector Classification Test Accuracy: %.3f' % pipe1.score(p_X_test, p_y_test))"
      ],
      "metadata": {
        "colab": {
          "base_uri": "https://localhost:8080/"
        },
        "id": "Dp3B3trA1htB",
        "outputId": "dc55056d-3d0f-40c6-dee2-699289e435b3"
      },
      "execution_count": 43,
      "outputs": [
        {
          "output_type": "stream",
          "name": "stdout",
          "text": [
            "Support Vector Classification Test Accuracy: 0.341\n"
          ]
        }
      ]
    },
    {
      "cell_type": "code",
      "source": [
        "#Model2 - Stochastic Gradient Descent\n",
        "import numpy as np\n",
        "np.ceil(10**6 / p_X_test.size) #find the most appropriate max_iter value using the method introduced on Scikit-learn"
      ],
      "metadata": {
        "colab": {
          "base_uri": "https://localhost:8080/"
        },
        "id": "uZjH0CNP9VYB",
        "outputId": "473c0d20-2bed-4d83-cb7b-7ba81870f7ff"
      },
      "execution_count": 44,
      "outputs": [
        {
          "output_type": "execute_result",
          "data": {
            "text/plain": [
              "734.0"
            ]
          },
          "metadata": {},
          "execution_count": 44
        }
      ]
    },
    {
      "cell_type": "code",
      "source": [
        "from sklearn.linear_model import SGDClassifier\n",
        "pipe2 = make_pipeline(StandardScaler(),                     \n",
        "                      SGDClassifier(loss=\"hinge\", penalty=\"l2\", max_iter = 734, random_state=200))\n",
        "\n",
        "pipe2.fit(p_X_train, p_y_train)\n",
        "y2_pred = pipe2.predict(p_X_test)\n",
        "print('Stochastic Gradient Descent Test Accuracy: %.3f' % pipe2.score(p_X_test, p_y_test))"
      ],
      "metadata": {
        "colab": {
          "base_uri": "https://localhost:8080/"
        },
        "id": "9JO1YKrzrzod",
        "outputId": "0bb39e73-cb75-44f0-f0d2-1967abd990e5"
      },
      "execution_count": 45,
      "outputs": [
        {
          "output_type": "stream",
          "name": "stdout",
          "text": [
            "Stochastic Gradient Descent Test Accuracy: 0.295\n"
          ]
        }
      ]
    },
    {
      "cell_type": "code",
      "source": [
        "#Model3 - Decision Trees\n",
        "from sklearn import tree\n",
        "pipe3 = make_pipeline(StandardScaler(),                     \n",
        "                      tree.DecisionTreeClassifier(max_depth=1,\n",
        "                              random_state=200,\n",
        "                              criterion='entropy'))\n",
        "\n",
        "pipe3.fit(p_X_train, p_y_train)\n",
        "y3_pred = pipe3.predict(p_X_test)\n",
        "print('Decision Trees Test Accuracy: %.3f' % pipe3.score(p_X_test, p_y_test))"
      ],
      "metadata": {
        "colab": {
          "base_uri": "https://localhost:8080/"
        },
        "id": "1fBSJMqc3sGJ",
        "outputId": "8e186360-5bac-4bdf-f6a1-a184bc37e89a"
      },
      "execution_count": 46,
      "outputs": [
        {
          "output_type": "stream",
          "name": "stdout",
          "text": [
            "Decision Trees Test Accuracy: 0.318\n"
          ]
        }
      ]
    },
    {
      "cell_type": "code",
      "source": [
        "#Model4 - Random Forest\n",
        "from sklearn.ensemble import RandomForestClassifier\n",
        "pipe4 = make_pipeline(StandardScaler(),                     \n",
        "                      RandomForestClassifier(n_estimators=100, random_state=200))\n",
        "\n",
        "pipe4.fit(p_X_train, p_y_train)\n",
        "y4_pred = pipe4.predict(p_X_test)\n",
        "print('Random Forest Test Accuracy: %.3f' % pipe4.score(p_X_test, p_y_test))"
      ],
      "metadata": {
        "colab": {
          "base_uri": "https://localhost:8080/"
        },
        "id": "WlRgp5bUAPeF",
        "outputId": "db961f7a-1df2-4166-f567-ce3400914113"
      },
      "execution_count": 47,
      "outputs": [
        {
          "output_type": "stream",
          "name": "stdout",
          "text": [
            "Random Forest Test Accuracy: 0.432\n"
          ]
        }
      ]
    },
    {
      "cell_type": "markdown",
      "source": [
        "### Build a table comparing the performance of each model."
      ],
      "metadata": {
        "id": "oTg6u0-Ue5Vl"
      }
    },
    {
      "cell_type": "code",
      "source": [
        "from sklearn.model_selection import StratifiedKFold\n",
        "from sklearn.model_selection import cross_val_score\n",
        "kfold = StratifiedKFold(n_splits=3).split(p_X_train, p_y_train)\n",
        "scores_SVC = cross_val_score(estimator=pipe1,\n",
        "                         X=p_X_train,\n",
        "                         y=p_y_train,\n",
        "                         cv=kfold,\n",
        "                         n_jobs=1)\n",
        "print('SVC CV accuracy scores: %s' % scores_SVC)\n",
        "print('SVC CV accuracy: %.3f +/- %.3f' % (np.mean(scores_SVC), np.std(scores_SVC)))"
      ],
      "metadata": {
        "colab": {
          "base_uri": "https://localhost:8080/"
        },
        "id": "OArnu8StrFw0",
        "outputId": "c0052f8d-fccc-4875-a53f-5486310b8192"
      },
      "execution_count": 48,
      "outputs": [
        {
          "output_type": "stream",
          "name": "stdout",
          "text": [
            "SVC CV accuracy scores: [0.26470588 0.26470588 0.27272727]\n",
            "SVC CV accuracy: 0.267 +/- 0.004\n"
          ]
        }
      ]
    },
    {
      "cell_type": "code",
      "source": [
        "kfold = StratifiedKFold(n_splits=3).split(p_X_train, p_y_train)\n",
        "scores_SGD = cross_val_score(estimator=pipe2,\n",
        "                         X=p_X_train,\n",
        "                         y=p_y_train,\n",
        "                         cv=kfold,\n",
        "                         n_jobs=1)\n",
        "print('SGD CV accuracy scores: %s' % scores_SGD)\n",
        "print('SGD CV accuracy: %.3f +/- %.3f' % (np.mean(scores_SGD), np.std(scores_SGD)))"
      ],
      "metadata": {
        "colab": {
          "base_uri": "https://localhost:8080/"
        },
        "id": "VqDOF7lGr6KM",
        "outputId": "5cd757d3-1eab-4eff-a4cf-cd5c33eafc30"
      },
      "execution_count": 49,
      "outputs": [
        {
          "output_type": "stream",
          "name": "stdout",
          "text": [
            "SGD CV accuracy scores: [0.14705882 0.23529412 0.18181818]\n",
            "SGD CV accuracy: 0.188 +/- 0.036\n"
          ]
        }
      ]
    },
    {
      "cell_type": "code",
      "source": [
        "kfold = StratifiedKFold(n_splits=3).split(p_X_train, p_y_train)\n",
        "scores_DT = cross_val_score(estimator=pipe3,\n",
        "                         X=p_X_train,\n",
        "                         y=p_y_train,\n",
        "                         cv=kfold,\n",
        "                         n_jobs=1)\n",
        "print('Decision Trees CV accuracy scores: %s' % scores_DT)\n",
        "print('Decision Trees CV accuracy: %.3f +/- %.3f' % (np.mean(scores_DT), np.std(scores_DT)))"
      ],
      "metadata": {
        "colab": {
          "base_uri": "https://localhost:8080/"
        },
        "id": "y0pAiXBlr9tO",
        "outputId": "28e01df4-0f00-43bd-e89c-fa0bcc5cc231"
      },
      "execution_count": 50,
      "outputs": [
        {
          "output_type": "stream",
          "name": "stdout",
          "text": [
            "Decision Trees CV accuracy scores: [0.17647059 0.20588235 0.27272727]\n",
            "Decision Trees CV accuracy: 0.218 +/- 0.040\n"
          ]
        }
      ]
    },
    {
      "cell_type": "code",
      "source": [
        "kfold = StratifiedKFold(n_splits=3).split(p_X_train, p_y_train)\n",
        "scores_RF = cross_val_score(estimator=pipe4,\n",
        "                         X=p_X_train,\n",
        "                         y=p_y_train,\n",
        "                         cv=kfold,\n",
        "                         n_jobs=1)\n",
        "print('Random Forest CV accuracy scores: %s' % scores_RF)\n",
        "print('Random Forest CV accuracy: %.3f +/- %.3f' % (np.mean(scores_RF), np.std(scores_RF)))"
      ],
      "metadata": {
        "colab": {
          "base_uri": "https://localhost:8080/"
        },
        "id": "7hg-U6HJtAei",
        "outputId": "a52c5275-bae2-4119-b8ae-648884726ddc"
      },
      "execution_count": 51,
      "outputs": [
        {
          "output_type": "stream",
          "name": "stdout",
          "text": [
            "Random Forest CV accuracy scores: [0.29411765 0.26470588 0.18181818]\n",
            "Random Forest CV accuracy: 0.247 +/- 0.048\n"
          ]
        }
      ]
    },
    {
      "cell_type": "markdown",
      "source": [
        "### Explain why you selected one model over another.\n",
        "The table (for the previous step) and detailed explanation of selection are provided in Part 3 writeup."
      ],
      "metadata": {
        "id": "fZBp7LI6u6Si"
      }
    },
    {
      "cell_type": "markdown",
      "source": [
        "### Run Random Forest Importance option to determine the most important features."
      ],
      "metadata": {
        "id": "Tdv6QUnwvCy5"
      }
    },
    {
      "cell_type": "code",
      "source": [
        "PredSP3 = PredSP.drop(columns = 'STUDENT ID')"
      ],
      "metadata": {
        "id": "JunXRt_8xa0-"
      },
      "execution_count": 52,
      "outputs": []
    },
    {
      "cell_type": "code",
      "source": [
        "PredSP3.columns"
      ],
      "metadata": {
        "colab": {
          "base_uri": "https://localhost:8080/"
        },
        "id": "0pN7P6Qfx2bW",
        "outputId": "ac809589-ee4c-4073-fc57-c2479edc4df5"
      },
      "execution_count": 53,
      "outputs": [
        {
          "output_type": "execute_result",
          "data": {
            "text/plain": [
              "Index(['1', '2', '3', '4', '5', '6', '7', '8', '9', '10', '11', '12', '13',\n",
              "       '14', '15', '16', '17', '18', '19', '20', '21', '22', '23', '24', '25',\n",
              "       '26', '27', '28', '29', '30', 'COURSE ID', 'GRADE'],\n",
              "      dtype='object')"
            ]
          },
          "metadata": {},
          "execution_count": 53
        }
      ]
    },
    {
      "cell_type": "code",
      "source": [
        "rf = RandomForestClassifier(n_estimators=100, random_state=200)\n",
        "pipe_rf = make_pipeline(StandardScaler(),                     \n",
        "                      rf)\n",
        "\n",
        "pipe_rf.fit(p_X_train, p_y_train)\n",
        "y4_pred = pipe_rf.predict(p_X_test)\n",
        "print('Random Forest Test Accuracy: %.3f' % pipe_rf.score(p_X_test, p_y_test))\n",
        "#here only to prove that pipe_rf is the same thing as pipe4, since we need rf to determine feature importance"
      ],
      "metadata": {
        "colab": {
          "base_uri": "https://localhost:8080/"
        },
        "id": "gPeVDNbyyY2G",
        "outputId": "5cd105e8-4472-4c58-f3e1-b6d02c74ab93"
      },
      "execution_count": 54,
      "outputs": [
        {
          "output_type": "stream",
          "name": "stdout",
          "text": [
            "Random Forest Test Accuracy: 0.432\n"
          ]
        }
      ]
    },
    {
      "cell_type": "code",
      "source": [
        "sort = rf.feature_importances_.argsort()\n",
        "fig = plt.figure(figsize = (5, 8))    \n",
        "x=PredSP2.columns[sort]\n",
        "y=rf.feature_importances_[sort]\n",
        "plt.barh(x,y)\n",
        "plt.title('Feature Importance Listed in Descending Order')\n",
        "plt.xlabel('Random Forest Importance')\n",
        "plt.ylabel('Feature')"
      ],
      "metadata": {
        "colab": {
          "base_uri": "https://localhost:8080/",
          "height": 530
        },
        "id": "zdGivTN2x9WM",
        "outputId": "b0690f90-73ca-4209-cae3-2dfc1a61422a"
      },
      "execution_count": 55,
      "outputs": [
        {
          "output_type": "execute_result",
          "data": {
            "text/plain": [
              "Text(0, 0.5, 'Feature')"
            ]
          },
          "metadata": {},
          "execution_count": 55
        },
        {
          "output_type": "display_data",
          "data": {
            "text/plain": [
              "<Figure size 360x576 with 1 Axes>"
            ],
            "image/png": "[encoded data removed]"
          },
          "metadata": {
            "needs_background": "light"
          }
        }
      ]
    },
    {
      "cell_type": "code",
      "source": [
        "rf.feature_importances_[sort]"
      ],
      "metadata": {
        "colab": {
          "base_uri": "https://localhost:8080/"
        },
        "id": "8SpRj2HtwT79",
        "outputId": "028386ad-55ee-4560-cfe5-806712ea899b"
      },
      "execution_count": 56,
      "outputs": [
        {
          "output_type": "execute_result",
          "data": {
            "text/plain": [
              "array([0.01296462, 0.01554006, 0.01663152, 0.01711564, 0.0196791 ,\n",
              "       0.0199005 , 0.0207689 , 0.02154089, 0.02251466, 0.0241836 ,\n",
              "       0.02504993, 0.02523531, 0.02605641, 0.02726794, 0.02727179,\n",
              "       0.02809867, 0.02844107, 0.02992279, 0.02994794, 0.03128072,\n",
              "       0.0334018 , 0.03664788, 0.03684382, 0.039337  , 0.04024489,\n",
              "       0.04284865, 0.04950228, 0.05217545, 0.05497402, 0.06982787,\n",
              "       0.07478429])"
            ]
          },
          "metadata": {},
          "execution_count": 56
        }
      ]
    },
    {
      "cell_type": "code",
      "source": [
        "# I cross-checked with the detailed descriptions of features and decide to select the more important features for a retrain and retest\n",
        "# the reason for such a selection will be explained in Part 3 writeup\n",
        "SP_ImpFea = PredSP[['COURSE ID','29','11','13','16','12','17','30','28','26']]"
      ],
      "metadata": {
        "id": "p63EPkAg1fv_"
      },
      "execution_count": 57,
      "outputs": []
    },
    {
      "cell_type": "code",
      "source": [
        "SP_ImpFea"
      ],
      "metadata": {
        "colab": {
          "base_uri": "https://localhost:8080/",
          "height": 423
        },
        "id": "KVeyrhB25uKR",
        "outputId": "8430acfd-4611-44fb-e1f4-473e1f3fd5dd"
      },
      "execution_count": 58,
      "outputs": [
        {
          "output_type": "execute_result",
          "data": {
            "text/plain": [
              "     COURSE ID  29  11  13  16  12  17  30  28  26\n",
              "0            1   1   1   3   5   2   3   1   2   2\n",
              "1            1   2   2   2   1   3   2   3   2   2\n",
              "2            1   2   2   2   1   2   2   2   1   2\n",
              "3            1   3   1   5   1   2   3   2   1   2\n",
              "4            1   2   3   2   4   3   2   2   1   2\n",
              "..         ...  ..  ..  ..  ..  ..  ..  ..  ..  ..\n",
              "140          9   3   1   2   4   2   3   3   1   1\n",
              "141          9   5   1   5   1   1   3   3   1   2\n",
              "142          9   4   3   4   4   4   2   3   1   3\n",
              "143          9   5   4   1   3   4   2   3   1   1\n",
              "144          9   5   3   5   4   1   3   4   1   2\n",
              "\n",
              "[145 rows x 10 columns]"
            ],
            "text/html": [
              "\n",
              "  <div id=\"df-e4cb10d1-ae02-454c-a666-5249cc56f9e1\">\n",
              "    <div class=\"colab-df-container\">\n",
              "      <div>\n",
              "<style scoped>\n",
              "    .dataframe tbody tr th:only-of-type {\n",
              "        vertical-align: middle;\n",
              "    }\n",
              "\n",
              "    .dataframe tbody tr th {\n",
              "        vertical-align: top;\n",
              "    }\n",
              "\n",
              "    .dataframe thead th {\n",
              "        text-align: right;\n",
              "    }\n",
              "</style>\n",
              "<table border=\"1\" class=\"dataframe\">\n",
              "  <thead>\n",
              "    <tr style=\"text-align: right;\">\n",
              "      <th></th>\n",
              "      <th>COURSE ID</th>\n",
              "      <th>29</th>\n",
              "      <th>11</th>\n",
              "      <th>13</th>\n",
              "      <th>16</th>\n",
              "      <th>12</th>\n",
              "      <th>17</th>\n",
              "      <th>30</th>\n",
              "      <th>28</th>\n",
              "      <th>26</th>\n",
              "    </tr>\n",
              "  </thead>\n",
              "  <tbody>\n",
              "    <tr>\n",
              "      <th>0</th>\n",
              "      <td>1</td>\n",
              "      <td>1</td>\n",
              "      <td>1</td>\n",
              "      <td>3</td>\n",
              "      <td>5</td>\n",
              "      <td>2</td>\n",
              "      <td>3</td>\n",
              "      <td>1</td>\n",
              "      <td>2</td>\n",
              "      <td>2</td>\n",
              "    </tr>\n",
              "    <tr>\n",
              "      <th>1</th>\n",
              "      <td>1</td>\n",
              "      <td>2</td>\n",
              "      <td>2</td>\n",
              "      <td>2</td>\n",
              "      <td>1</td>\n",
              "      <td>3</td>\n",
              "      <td>2</td>\n",
              "      <td>3</td>\n",
              "      <td>2</td>\n",
              "      <td>2</td>\n",
              "    </tr>\n",
              "    <tr>\n",
              "      <th>2</th>\n",
              "      <td>1</td>\n",
              "      <td>2</td>\n",
              "      <td>2</td>\n",
              "      <td>2</td>\n",
              "      <td>1</td>\n",
              "      <td>2</td>\n",
              "      <td>2</td>\n",
              "      <td>2</td>\n",
              "      <td>1</td>\n",
              "      <td>2</td>\n",
              "    </tr>\n",
              "    <tr>\n",
              "      <th>3</th>\n",
              "      <td>1</td>\n",
              "      <td>3</td>\n",
              "      <td>1</td>\n",
              "      <td>5</td>\n",
              "      <td>1</td>\n",
              "      <td>2</td>\n",
              "      <td>3</td>\n",
              "      <td>2</td>\n",
              "      <td>1</td>\n",
              "      <td>2</td>\n",
              "    </tr>\n",
              "    <tr>\n",
              "      <th>4</th>\n",
              "      <td>1</td>\n",
              "      <td>2</td>\n",
              "      <td>3</td>\n",
              "      <td>2</td>\n",
              "      <td>4</td>\n",
              "      <td>3</td>\n",
              "      <td>2</td>\n",
              "      <td>2</td>\n",
              "      <td>1</td>\n",
              "      <td>2</td>\n",
              "    </tr>\n",
              "    <tr>\n",
              "      <th>...</th>\n",
              "      <td>...</td>\n",
              "      <td>...</td>\n",
              "      <td>...</td>\n",
              "      <td>...</td>\n",
              "      <td>...</td>\n",
              "      <td>...</td>\n",
              "      <td>...</td>\n",
              "      <td>...</td>\n",
              "      <td>...</td>\n",
              "      <td>...</td>\n",
              "    </tr>\n",
              "    <tr>\n",
              "      <th>140</th>\n",
              "      <td>9</td>\n",
              "      <td>3</td>\n",
              "      <td>1</td>\n",
              "      <td>2</td>\n",
              "      <td>4</td>\n",
              "      <td>2</td>\n",
              "      <td>3</td>\n",
              "      <td>3</td>\n",
              "      <td>1</td>\n",
              "      <td>1</td>\n",
              "    </tr>\n",
              "    <tr>\n",
              "      <th>141</th>\n",
              "      <td>9</td>\n",
              "      <td>5</td>\n",
              "      <td>1</td>\n",
              "      <td>5</td>\n",
              "      <td>1</td>\n",
              "      <td>1</td>\n",
              "      <td>3</td>\n",
              "      <td>3</td>\n",
              "      <td>1</td>\n",
              "      <td>2</td>\n",
              "    </tr>\n",
              "    <tr>\n",
              "      <th>142</th>\n",
              "      <td>9</td>\n",
              "      <td>4</td>\n",
              "      <td>3</td>\n",
              "      <td>4</td>\n",
              "      <td>4</td>\n",
              "      <td>4</td>\n",
              "      <td>2</td>\n",
              "      <td>3</td>\n",
              "      <td>1</td>\n",
              "      <td>3</td>\n",
              "    </tr>\n",
              "    <tr>\n",
              "      <th>143</th>\n",
              "      <td>9</td>\n",
              "      <td>5</td>\n",
              "      <td>4</td>\n",
              "      <td>1</td>\n",
              "      <td>3</td>\n",
              "      <td>4</td>\n",
              "      <td>2</td>\n",
              "      <td>3</td>\n",
              "      <td>1</td>\n",
              "      <td>1</td>\n",
              "    </tr>\n",
              "    <tr>\n",
              "      <th>144</th>\n",
              "      <td>9</td>\n",
              "      <td>5</td>\n",
              "      <td>3</td>\n",
              "      <td>5</td>\n",
              "      <td>4</td>\n",
              "      <td>1</td>\n",
              "      <td>3</td>\n",
              "      <td>4</td>\n",
              "      <td>1</td>\n",
              "      <td>2</td>\n",
              "    </tr>\n",
              "  </tbody>\n",
              "</table>\n",
              "<p>145 rows × 10 columns</p>\n",
              "</div>\n",
              "      <button class=\"colab-df-convert\" onclick=\"convertToInteractive('df-e4cb10d1-ae02-454c-a666-5249cc56f9e1')\"\n",
              "              title=\"Convert this dataframe to an interactive table.\"\n",
              "              style=\"display:none;\">\n",
              "        \n",
              "  <svg xmlns=\"http://www.w3.org/2000/svg\" height=\"24px\"viewBox=\"0 0 24 24\"\n",
              "       width=\"24px\">\n",
              "    <path d=\"M0 0h24v24H0V0z\" fill=\"none\"/>\n",
              "    <path d=\"M18.56 5.44l.94 2.06.94-2.06 2.06-.94-2.06-.94-.94-2.06-.94 2.06-2.06.94zm-11 1L8.5 8.5l.94-2.06 2.06-.94-2.06-.94L8.5 2.5l-.94 2.06-2.06.94zm10 10l.94 2.06.94-2.06 2.06-.94-2.06-.94-.94-2.06-.94 2.06-2.06.94z\"/><path d=\"M17.41 7.96l-1.37-1.37c-.4-.4-.92-.59-1.43-.59-.52 0-1.04.2-1.43.59L10.3 9.45l-7.72 7.72c-.78.78-.78 2.05 0 2.83L4 21.41c.39.39.9.59 1.41.59.51 0 1.02-.2 1.41-.59l7.78-7.78 2.81-2.81c.8-.78.8-2.07 0-2.86zM5.41 20L4 18.59l7.72-7.72 1.47 1.35L5.41 20z\"/>\n",
              "  </svg>\n",
              "      </button>\n",
              "      \n",
              "  <style>\n",
              "    .colab-df-container {\n",
              "      display:flex;\n",
              "      flex-wrap:wrap;\n",
              "      gap: 12px;\n",
              "    }\n",
              "\n",
              "    .colab-df-convert {\n",
              "      background-color: #E8F0FE;\n",
              "      border: none;\n",
              "      border-radius: 50%;\n",
              "      cursor: pointer;\n",
              "      display: none;\n",
              "      fill: #1967D2;\n",
              "      height: 32px;\n",
              "      padding: 0 0 0 0;\n",
              "      width: 32px;\n",
              "    }\n",
              "\n",
              "    .colab-df-convert:hover {\n",
              "      background-color: #E2EBFA;\n",
              "      box-shadow: 0px 1px 2px rgba(60, 64, 67, 0.3), 0px 1px 3px 1px rgba(60, 64, 67, 0.15);\n",
              "      fill: #174EA6;\n",
              "    }\n",
              "\n",
              "    [theme=dark] .colab-df-convert {\n",
              "      background-color: #3B4455;\n",
              "      fill: #D2E3FC;\n",
              "    }\n",
              "\n",
              "    [theme=dark] .colab-df-convert:hover {\n",
              "      background-color: #434B5C;\n",
              "      box-shadow: 0px 1px 3px 1px rgba(0, 0, 0, 0.15);\n",
              "      filter: drop-shadow(0px 1px 2px rgba(0, 0, 0, 0.3));\n",
              "      fill: #FFFFFF;\n",
              "    }\n",
              "  </style>\n",
              "\n",
              "      <script>\n",
              "        const buttonEl =\n",
              "          document.querySelector('#df-e4cb10d1-ae02-454c-a666-5249cc56f9e1 button.colab-df-convert');\n",
              "        buttonEl.style.display =\n",
              "          google.colab.kernel.accessAllowed ? 'block' : 'none';\n",
              "\n",
              "        async function convertToInteractive(key) {\n",
              "          const element = document.querySelector('#df-e4cb10d1-ae02-454c-a666-5249cc56f9e1');\n",
              "          const dataTable =\n",
              "            await google.colab.kernel.invokeFunction('convertToInteractive',\n",
              "                                                     [key], {});\n",
              "          if (!dataTable) return;\n",
              "\n",
              "          const docLinkHtml = 'Like what you see? Visit the ' +\n",
              "            '<a target=\"_blank\" href=https://colab.research.google.com/notebooks/data_table.ipynb>data table notebook</a>'\n",
              "            + ' to learn more about interactive tables.';\n",
              "          element.innerHTML = '';\n",
              "          dataTable['output_type'] = 'display_data';\n",
              "          await google.colab.output.renderOutput(dataTable, element);\n",
              "          const docLink = document.createElement('div');\n",
              "          docLink.innerHTML = docLinkHtml;\n",
              "          element.appendChild(docLink);\n",
              "        }\n",
              "      </script>\n",
              "    </div>\n",
              "  </div>\n",
              "  "
            ]
          },
          "metadata": {},
          "execution_count": 58
        }
      ]
    },
    {
      "cell_type": "markdown",
      "source": [
        "### Retrain and retest using the reduced feature set, and compare the results. Explain the differences."
      ],
      "metadata": {
        "id": "RjPETQIl7WqD"
      }
    },
    {
      "cell_type": "code",
      "source": [
        "N_y = PredSP['GRADE']\n",
        "N_X = PredSP3"
      ],
      "metadata": {
        "id": "kSS2KTcR6_x2"
      },
      "execution_count": 59,
      "outputs": []
    },
    {
      "cell_type": "code",
      "source": [
        "from sklearn.model_selection import train_test_split\n",
        "N_X_train, N_X_test, N_y_train, N_y_test = train_test_split(\n",
        "    N_X, N_y, test_size=0.3, random_state=200\n",
        ")"
      ],
      "metadata": {
        "id": "R0ydxiCB5vN0"
      },
      "execution_count": 60,
      "outputs": []
    },
    {
      "cell_type": "code",
      "source": [
        "#Model1 - Support Vector Classification\n",
        "from sklearn.preprocessing import StandardScaler\n",
        "pipe1_N = make_pipeline(StandardScaler(),                    \n",
        "                      svm.SVC(decision_function_shape='ovo', kernel='linear', C=1,random_state=200))\n",
        "\n",
        "pipe1_N.fit(N_X_train, N_y_train)\n",
        "y1N_pred = pipe1_N.predict(N_X_test)\n",
        "print('New Support Vector Classification Test Accuracy: %.3f' % pipe1_N.score(N_X_test, N_y_test))"
      ],
      "metadata": {
        "colab": {
          "base_uri": "https://localhost:8080/"
        },
        "id": "flijQIof7T5J",
        "outputId": "3205da60-0795-4c44-f4e0-7ba4e33a56d3"
      },
      "execution_count": 61,
      "outputs": [
        {
          "output_type": "stream",
          "name": "stdout",
          "text": [
            "New Support Vector Classification Test Accuracy: 0.455\n"
          ]
        }
      ]
    },
    {
      "cell_type": "code",
      "source": [
        "#Model2 - Stochastic Gradient Descent\n",
        "np.ceil(10**6 / N_X_test.size)"
      ],
      "metadata": {
        "colab": {
          "base_uri": "https://localhost:8080/"
        },
        "id": "ThIMFfHg7vd4",
        "outputId": "e5529d9e-7749-4abd-811b-2c5a52a419d5"
      },
      "execution_count": 62,
      "outputs": [
        {
          "output_type": "execute_result",
          "data": {
            "text/plain": [
              "711.0"
            ]
          },
          "metadata": {},
          "execution_count": 62
        }
      ]
    },
    {
      "cell_type": "code",
      "source": [
        "pipe2_N = make_pipeline(StandardScaler(),                     \n",
        "                      SGDClassifier(loss=\"hinge\", penalty=\"l2\", max_iter = 711, random_state=200))\n",
        "\n",
        "pipe2_N.fit(N_X_train, N_y_train)\n",
        "y2N_pred = pipe2_N.predict(N_X_test)\n",
        "print('New Stochastic Gradient Descent Test Accuracy: %.3f' % pipe2_N.score(N_X_test, N_y_test))"
      ],
      "metadata": {
        "colab": {
          "base_uri": "https://localhost:8080/"
        },
        "id": "pYeTM6Vy72yz",
        "outputId": "f7725012-844b-485f-cec7-c213770a4565"
      },
      "execution_count": 63,
      "outputs": [
        {
          "output_type": "stream",
          "name": "stdout",
          "text": [
            "New Stochastic Gradient Descent Test Accuracy: 0.318\n"
          ]
        }
      ]
    },
    {
      "cell_type": "code",
      "source": [
        "#Model3 - Decision Trees\n",
        "pipe3_N = make_pipeline(StandardScaler(),                     \n",
        "                      tree.DecisionTreeClassifier(max_depth=1,\n",
        "                              random_state=200,\n",
        "                              criterion='entropy'))\n",
        "\n",
        "pipe3_N.fit(N_X_train, N_y_train)\n",
        "y3N_pred = pipe3_N.predict(N_X_test)\n",
        "print('New Decision Trees Test Accuracy: %.3f' % pipe3_N.score(N_X_test, N_y_test))"
      ],
      "metadata": {
        "colab": {
          "base_uri": "https://localhost:8080/"
        },
        "id": "qNvCtHSt8G8n",
        "outputId": "38bc4d8a-0b95-47df-c3d7-a943abd57b00"
      },
      "execution_count": 64,
      "outputs": [
        {
          "output_type": "stream",
          "name": "stdout",
          "text": [
            "New Decision Trees Test Accuracy: 0.386\n"
          ]
        }
      ]
    },
    {
      "cell_type": "code",
      "source": [
        "#Model4 - Random Forest\n",
        "pipe4_N = make_pipeline(StandardScaler(),                     \n",
        "                      RandomForestClassifier(n_estimators=100, random_state=200))\n",
        "\n",
        "pipe4_N.fit(N_X_train, N_y_train)\n",
        "y4N_pred = pipe4_N.predict(N_X_test)\n",
        "print('Random Forest Test Accuracy: %.3f' % pipe4_N.score(N_X_test, N_y_test))"
      ],
      "metadata": {
        "colab": {
          "base_uri": "https://localhost:8080/"
        },
        "id": "Yr4AmCwG8kR9",
        "outputId": "f8866266-2f3e-4f16-8674-b1db92939259"
      },
      "execution_count": 65,
      "outputs": [
        {
          "output_type": "stream",
          "name": "stdout",
          "text": [
            "Random Forest Test Accuracy: 0.636\n"
          ]
        }
      ]
    },
    {
      "cell_type": "code",
      "source": [
        "kfold = StratifiedKFold(n_splits=3).split(N_X_train, N_y_train)\n",
        "scores_SVC_N = cross_val_score(estimator=pipe1_N,\n",
        "                         X=N_X_train,\n",
        "                         y=N_y_train,\n",
        "                         cv=kfold,\n",
        "                         n_jobs=1)\n",
        "print('New SVC CV accuracy scores: %s' % scores_SVC_N)\n",
        "print('New SVC CV accuracy: %.3f +/- %.3f' % (np.mean(scores_SVC_N), np.std(scores_SVC_N)))"
      ],
      "metadata": {
        "colab": {
          "base_uri": "https://localhost:8080/"
        },
        "id": "dgMzlOiN81J9",
        "outputId": "674336ad-0410-49d4-aa40-df64e670cb0f"
      },
      "execution_count": 66,
      "outputs": [
        {
          "output_type": "stream",
          "name": "stdout",
          "text": [
            "New SVC CV accuracy scores: [0.35294118 0.32352941 0.48484848]\n",
            "New SVC CV accuracy: 0.387 +/- 0.070\n"
          ]
        }
      ]
    },
    {
      "cell_type": "code",
      "source": [
        "kfold = StratifiedKFold(n_splits=3).split(N_X_train, N_y_train)\n",
        "scores_SGD_N = cross_val_score(estimator=pipe2_N,\n",
        "                         X=N_X_train,\n",
        "                         y=N_y_train,\n",
        "                         cv=kfold,\n",
        "                         n_jobs=1)\n",
        "print('New SGD CV accuracy scores: %s' % scores_SGD_N)\n",
        "print('New SGD CV accuracy: %.3f +/- %.3f' % (np.mean(scores_SGD_N), np.std(scores_SGD_N)))"
      ],
      "metadata": {
        "colab": {
          "base_uri": "https://localhost:8080/"
        },
        "id": "ovf4CLM49GYy",
        "outputId": "86e5215d-e066-4996-bcba-c74272f426fe"
      },
      "execution_count": 67,
      "outputs": [
        {
          "output_type": "stream",
          "name": "stdout",
          "text": [
            "New SGD CV accuracy scores: [0.23529412 0.35294118 0.21212121]\n",
            "New SGD CV accuracy: 0.267 +/- 0.062\n"
          ]
        }
      ]
    },
    {
      "cell_type": "code",
      "source": [
        "kfold = StratifiedKFold(n_splits=3).split(N_X_train, N_y_train)\n",
        "scores_DT_N = cross_val_score(estimator=pipe3_N,\n",
        "                         X=N_X_train,\n",
        "                         y=N_y_train,\n",
        "                         cv=kfold,\n",
        "                         n_jobs=1)\n",
        "print('New Decision Trees CV accuracy scores: %s' % scores_DT_N)\n",
        "print('New Decision Trees CV accuracy: %.3f +/- %.3f' % (np.mean(scores_DT_N), np.std(scores_DT_N)))"
      ],
      "metadata": {
        "colab": {
          "base_uri": "https://localhost:8080/"
        },
        "id": "_sQOGopa9LD4",
        "outputId": "92205005-6fac-4b8a-9175-dfebb1169103"
      },
      "execution_count": 68,
      "outputs": [
        {
          "output_type": "stream",
          "name": "stdout",
          "text": [
            "New Decision Trees CV accuracy scores: [0.41176471 0.38235294 0.36363636]\n",
            "New Decision Trees CV accuracy: 0.386 +/- 0.020\n"
          ]
        }
      ]
    },
    {
      "cell_type": "code",
      "source": [
        "kfold = StratifiedKFold(n_splits=3).split(N_X_train, N_y_train)\n",
        "scores_RF_N = cross_val_score(estimator=pipe4_N,\n",
        "                         X=N_X_train,\n",
        "                         y=N_y_train,\n",
        "                         cv=kfold,\n",
        "                         n_jobs=1)\n",
        "print('New Random Forest CV accuracy scores: %s' % scores_RF_N)\n",
        "print('New Random Forest CV accuracy: %.3f +/- %.3f' % (np.mean(scores_RF_N), np.std(scores_RF_N)))"
      ],
      "metadata": {
        "colab": {
          "base_uri": "https://localhost:8080/"
        },
        "id": "20Xr4xgK9N_u",
        "outputId": "c6185d86-ad72-426f-cb1b-645d4a9c9cee"
      },
      "execution_count": 69,
      "outputs": [
        {
          "output_type": "stream",
          "name": "stdout",
          "text": [
            "New Random Forest CV accuracy scores: [0.55882353 0.70588235 0.81818182]\n",
            "New Random Forest CV accuracy: 0.694 +/- 0.106\n"
          ]
        }
      ]
    },
    {
      "cell_type": "markdown",
      "source": [
        "It is very obvious that, from our new selection of more important features, the accuracies of all four models (whether before or after the application of k-fold CV) have increased. Retaining the same methods, we are able to conclude that the choices of which features to select made the difference."
      ],
      "metadata": {
        "id": "R1yUg_-i-Nx4"
      }
    }
  ]
}